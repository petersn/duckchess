{
 "cells": [
  {
   "cell_type": "code",
   "execution_count": 1,
   "id": "b2b749da",
   "metadata": {},
   "outputs": [],
   "source": [
    "import sys\n",
    "sys.path.append(\"./ml/\")\n",
    "import glob\n",
    "import json\n",
    "import struct\n",
    "import numpy as np\n",
    "import torch\n",
    "import matplotlib.pyplot as plt"
   ]
  },
  {
   "cell_type": "code",
   "execution_count": 2,
   "id": "83701b77",
   "metadata": {},
   "outputs": [],
   "source": [
    "import train_nnue"
   ]
  },
  {
   "cell_type": "code",
   "execution_count": 3,
   "id": "14de3981",
   "metadata": {},
   "outputs": [],
   "source": [
    "model = train_nnue.Nnue()\n",
    "model.load_state_dict(torch.load(\"nnue.pt\"))\n",
    "model.adjust_leak(0)"
   ]
  },
  {
   "cell_type": "code",
   "execution_count": 4,
   "id": "8f0ed75a",
   "metadata": {},
   "outputs": [
    {
     "data": {
      "text/plain": [
       "['./run-011-duck-chess/step-091/games/games-mcts-801d9b63846d6733-nnue-data.npz',\n",
       " './run-011-duck-chess/step-066/games/games-mcts-1060499d6c37ec40-nnue-data.npz',\n",
       " './run-011-duck-chess/step-066/games/games-mcts-14f2d4a43d9e5dd9-nnue-data.npz',\n",
       " './run-011-duck-chess/step-075/games/games-mcts-fb530bceb09373bc-nnue-data.npz',\n",
       " './run-011-duck-chess/step-075/games/games-mcts-86bf3b09ec0916c0-nnue-data.npz']"
      ]
     },
     "execution_count": 4,
     "metadata": {},
     "output_type": "execute_result"
    }
   ],
   "source": [
    "data_files = glob.glob(\"./run-011-duck-chess/step-*/games/*.npz\")[-5:]\n",
    "data_files"
   ]
  },
  {
   "cell_type": "code",
   "execution_count": 5,
   "id": "cf37fd6d",
   "metadata": {},
   "outputs": [
    {
     "name": "stderr",
     "output_type": "stream",
     "text": [
      "100%|███████████████████████████████████████████████████████████████████████████████████████████████████████████████████████████████████████████████████████████████████████████| 5/5 [00:01<00:00,  3.66it/s]"
     ]
    },
    {
     "name": "stdout",
     "output_type": "stream",
     "text": [
      "Total examples: 3641764\n",
      "Constant model loss: 0.44617455699141884\n"
     ]
    },
    {
     "name": "stderr",
     "output_type": "stream",
     "text": [
      "\n"
     ]
    }
   ],
   "source": [
    "make_batch = train_nnue.get_make_batch(data_files, \"cpu\")"
   ]
  },
  {
   "cell_type": "code",
   "execution_count": 6,
   "id": "b6529c2a",
   "metadata": {},
   "outputs": [],
   "source": [
    "indices, offsets, which_model, lengths, targets = make_batch(1024 * 1024)"
   ]
  },
  {
   "cell_type": "code",
   "execution_count": 7,
   "id": "9c0b65d6",
   "metadata": {},
   "outputs": [],
   "source": [
    "def estimate_loss():\n",
    "    outputs = model(indices, offsets, which_model, lengths)\n",
    "    return torch.mean((outputs - targets)**2)"
   ]
  },
  {
   "cell_type": "code",
   "execution_count": 8,
   "id": "9305d1d5",
   "metadata": {},
   "outputs": [
    {
     "data": {
      "text/plain": [
       "tensor(0.3419, grad_fn=<MeanBackward0>)"
      ]
     },
     "execution_count": 8,
     "metadata": {},
     "output_type": "execute_result"
    }
   ],
   "source": [
    "estimate_loss()"
   ]
  },
  {
   "cell_type": "raw",
   "id": "a189cc9e",
   "metadata": {},
   "source": [
    "def hook(comp, inp, out):\n",
    "    overall_min = float(\"inf\")\n",
    "    overall_max = -float(\"inf\")\n",
    "    for thing in inp:\n",
    "        overall_min = min(overall_min, thing.min().item())\n",
    "        overall_max = max(overall_max, thing.max().item())\n",
    "    first = inp[0]\n",
    "    print(f\"{comp.__class__.__name__:30} inp range: {overall_min:.3f} . {first.float().var()**0.5:.3f} . {overall_max:.3f}  out range: {out.min().item():.3f} . {out.var()**0.5:.3f} . {out.max().item():.3f}\")\n",
    "    #print(\"GOT:\", comp) #inp, out)\n",
    "    #if isinstance(comp, train_nnue.AnnealedLeakyClippedRelu):   \n",
    "    #    print(\n",
    "\n",
    "if \"module_to_handle\" in globals():\n",
    "    for handle in module_to_handle.values():\n",
    "        handle.remove()\n",
    "\n",
    "module_to_handle = {}\n",
    "def apply_hooks(m):\n",
    "    if m in module_to_handle:\n",
    "        return\n",
    "    module_to_handle[m] = m.register_forward_hook(hook)\n",
    "    for k, v in m._modules.items():\n",
    "        apply_hooks(v)\n",
    "\n",
    "apply_hooks(model)"
   ]
  },
  {
   "cell_type": "code",
   "execution_count": 9,
   "id": "0e26dd28",
   "metadata": {
    "scrolled": false
   },
   "outputs": [],
   "source": [
    "outputs = model(indices, offsets, which_model, lengths)\n",
    "lose = outputs[targets == -1]\n",
    "draw = outputs[targets == 0]\n",
    "win = outputs[targets == 1]"
   ]
  },
  {
   "cell_type": "code",
   "execution_count": 10,
   "id": "1f48425f",
   "metadata": {},
   "outputs": [],
   "source": [
    "# Each clipped relu wants inputs from -128 to +127 for its active range.\n",
    "# If the largest intermediates we care to represent are -2.0 to +2.0,\n",
    "# then this means that -2.0 should map to -32768, and +1.99... should map to +32767.\n",
    "# Therefore we scale down inputs by 128 before passing them in to the clipped relu.\n",
    "# Therefore, 128 * 128 = 1684 represents 1.0 as an input to relu.\n",
    "# This means that a quantized weight of 128 represents the weight 1.0 in the original.\n",
    "# There is one exception to this, in the original embedding layer, and all biases,\n",
    "# where 16384 represents 1.0."
   ]
  },
  {
   "cell_type": "code",
   "execution_count": 11,
   "id": "1dd02609",
   "metadata": {},
   "outputs": [
    {
     "name": "stdout",
     "output_type": "stream",
     "text": [
      "main_bias            (256,)          -0.015 0.016 zero=0.391%\n",
      "main_embed.weight    (106496, 256)   -0.361 0.388 zero=0.213%\n",
      "networks.0.0.weight  (16, 256)       -0.229 0.214 zero=13.232%\n",
      "networks.0.0.bias    (16,)           -0.094 0.067 zero=0.000%\n",
      "networks.0.2.weight  (32, 16)        -0.267 0.265 zero=2.734%\n",
      "networks.0.2.bias    (32,)           -0.228 0.242 zero=0.000%\n",
      "networks.0.4.weight  (1, 32)         -0.121 0.147 zero=25.000%\n",
      "networks.0.4.bias    (1,)            -0.084 -0.084 zero=0.000%\n",
      "networks.1.0.weight  (16, 256)       -0.215 0.220 zero=12.939%\n",
      "networks.1.0.bias    (16,)           -0.034 0.048 zero=0.000%\n",
      "networks.1.2.weight  (32, 16)        -0.278 0.275 zero=3.320%\n",
      "networks.1.2.bias    (32,)           -0.237 0.222 zero=0.000%\n",
      "networks.1.4.weight  (1, 32)         -0.133 0.142 zero=15.625%\n",
      "networks.1.4.bias    (1,)            0.014 0.014 zero=0.000%\n",
      "networks.2.0.weight  (16, 256)       -0.216 0.275 zero=13.281%\n",
      "networks.2.0.bias    (16,)           -0.035 0.062 zero=0.000%\n",
      "networks.2.2.weight  (32, 16)        -0.262 0.281 zero=3.711%\n",
      "networks.2.2.bias    (32,)           -0.238 0.231 zero=0.000%\n",
      "networks.2.4.weight  (1, 32)         -0.135 0.139 zero=18.750%\n",
      "networks.2.4.bias    (1,)            -0.014 -0.014 zero=0.000%\n",
      "networks.3.0.weight  (16, 256)       -0.231 0.200 zero=13.281%\n",
      "networks.3.0.bias    (16,)           -0.045 0.061 zero=6.250%\n",
      "networks.3.2.weight  (32, 16)        -0.268 0.270 zero=3.516%\n",
      "networks.3.2.bias    (32,)           -0.238 0.219 zero=0.000%\n",
      "networks.3.4.weight  (1, 32)         -0.121 0.139 zero=28.125%\n",
      "networks.3.4.bias    (1,)            0.098 0.098 zero=0.000%\n",
      "networks.4.0.weight  (16, 256)       -0.189 0.204 zero=12.524%\n",
      "networks.4.0.bias    (16,)           -0.048 0.084 zero=0.000%\n",
      "networks.4.2.weight  (32, 16)        -0.256 0.267 zero=4.102%\n",
      "networks.4.2.bias    (32,)           -0.215 0.222 zero=0.000%\n",
      "networks.4.4.weight  (1, 32)         -0.138 0.153 zero=25.000%\n",
      "networks.4.4.bias    (1,)            -0.120 -0.120 zero=0.000%\n",
      "networks.5.0.weight  (16, 256)       -0.212 0.231 zero=12.695%\n",
      "networks.5.0.bias    (16,)           -0.029 0.050 zero=0.000%\n",
      "networks.5.2.weight  (32, 16)        -0.289 0.293 zero=4.102%\n",
      "networks.5.2.bias    (32,)           -0.203 0.195 zero=0.000%\n",
      "networks.5.4.weight  (1, 32)         -0.154 0.129 zero=21.875%\n",
      "networks.5.4.bias    (1,)            0.051 0.051 zero=0.000%\n",
      "networks.6.0.weight  (16, 256)       -0.244 0.231 zero=12.842%\n",
      "networks.6.0.bias    (16,)           -0.021 0.067 zero=0.000%\n",
      "networks.6.2.weight  (32, 16)        -0.305 0.283 zero=3.320%\n",
      "networks.6.2.bias    (32,)           -0.242 0.213 zero=0.000%\n",
      "networks.6.4.weight  (1, 32)         -0.159 0.151 zero=18.750%\n",
      "networks.6.4.bias    (1,)            -0.103 -0.103 zero=0.000%\n",
      "networks.7.0.weight  (16, 256)       -0.198 0.221 zero=13.232%\n",
      "networks.7.0.bias    (16,)           -0.041 0.049 zero=0.000%\n",
      "networks.7.2.weight  (32, 16)        -0.261 0.267 zero=4.102%\n",
      "networks.7.2.bias    (32,)           -0.221 0.225 zero=0.000%\n",
      "networks.7.4.weight  (1, 32)         -0.137 0.135 zero=18.750%\n",
      "networks.7.4.bias    (1,)            -0.073 -0.073 zero=0.000%\n",
      "networks.8.0.weight  (16, 256)       -0.141 0.149 zero=14.526%\n",
      "networks.8.0.bias    (16,)           -0.048 0.068 zero=0.000%\n",
      "networks.8.2.weight  (32, 16)        -0.296 0.316 zero=3.906%\n",
      "networks.8.2.bias    (32,)           -0.249 0.266 zero=0.000%\n",
      "networks.8.4.weight  (1, 32)         -0.170 0.177 zero=18.750%\n",
      "networks.8.4.bias    (1,)            0.052 0.052 zero=0.000%\n",
      "networks.9.0.weight  (16, 256)       -0.163 0.132 zero=13.721%\n",
      "networks.9.0.bias    (16,)           -0.058 0.063 zero=0.000%\n",
      "networks.9.2.weight  (32, 16)        -0.341 0.342 zero=1.758%\n",
      "networks.9.2.bias    (32,)           -0.221 0.256 zero=0.000%\n",
      "networks.9.4.weight  (1, 32)         -0.144 0.138 zero=25.000%\n",
      "networks.9.4.bias    (1,)            -0.042 -0.042 zero=0.000%\n",
      "networks.10.0.weight (16, 256)       -0.143 0.149 zero=13.135%\n",
      "networks.10.0.bias   (16,)           -0.053 0.039 zero=0.000%\n",
      "networks.10.2.weight (32, 16)        -0.299 0.329 zero=4.883%\n",
      "networks.10.2.bias   (32,)           -0.227 0.227 zero=0.000%\n",
      "networks.10.4.weight (1, 32)         -0.145 0.149 zero=28.125%\n",
      "networks.10.4.bias   (1,)            0.006 0.006 zero=0.000%\n",
      "networks.11.0.weight (16, 256)       -0.135 0.137 zero=13.525%\n",
      "networks.11.0.bias   (16,)           -0.042 0.052 zero=0.000%\n",
      "networks.11.2.weight (32, 16)        -0.272 0.264 zero=3.906%\n",
      "networks.11.2.bias   (32,)           -0.245 0.248 zero=0.000%\n",
      "networks.11.4.weight (1, 32)         -0.159 0.116 zero=28.125%\n",
      "networks.11.4.bias   (1,)            -0.165 -0.165 zero=0.000%\n",
      "networks.12.0.weight (16, 256)       -0.260 0.262 zero=14.697%\n",
      "networks.12.0.bias   (16,)           -0.059 0.042 zero=0.000%\n",
      "networks.12.2.weight (32, 16)        -0.280 0.271 zero=2.539%\n",
      "networks.12.2.bias   (32,)           -0.191 0.249 zero=0.000%\n",
      "networks.12.4.weight (1, 32)         -0.126 0.122 zero=21.875%\n",
      "networks.12.4.bias   (1,)            -0.099 -0.099 zero=0.000%\n",
      "networks.13.0.weight (16, 256)       -0.196 0.221 zero=15.698%\n",
      "networks.13.0.bias   (16,)           -0.014 0.040 zero=0.000%\n",
      "networks.13.2.weight (32, 16)        -0.280 0.274 zero=2.734%\n",
      "networks.13.2.bias   (32,)           -0.224 0.239 zero=0.000%\n",
      "networks.13.4.weight (1, 32)         -0.165 0.122 zero=25.000%\n",
      "networks.13.4.bias   (1,)            0.093 0.093 zero=0.000%\n",
      "networks.14.0.weight (16, 256)       -0.246 0.225 zero=15.503%\n",
      "networks.14.0.bias   (16,)           -0.049 0.050 zero=0.000%\n",
      "networks.14.2.weight (32, 16)        -0.336 0.294 zero=3.320%\n",
      "networks.14.2.bias   (32,)           -0.239 0.222 zero=0.000%\n",
      "networks.14.4.weight (1, 32)         -0.143 0.122 zero=12.500%\n",
      "networks.14.4.bias   (1,)            0.053 0.053 zero=0.000%\n",
      "networks.15.0.weight (16, 256)       -0.258 0.260 zero=14.404%\n",
      "networks.15.0.bias   (16,)           -0.078 0.076 zero=0.000%\n",
      "networks.15.2.weight (32, 16)        -0.272 0.284 zero=3.125%\n",
      "networks.15.2.bias   (32,)           -0.161 0.267 zero=0.000%\n",
      "networks.15.4.weight (1, 32)         -0.167 0.105 zero=28.125%\n",
      "networks.15.4.bias   (1,)            0.129 0.129 zero=0.000%\n"
     ]
    }
   ],
   "source": [
    "new_values = {}\n",
    "quantized_weights = {}\n",
    "output_right_shift = {}\n",
    "for k, v in model.named_parameters():\n",
    "    output_right_shift[k] = 0\n",
    "    if \"main_embed\" in k or \"bias\" in k:\n",
    "        quantized = (v * 16384).to(torch.int16)\n",
    "        f = quantized.float().detach() / 16384\n",
    "        output_right_shift[k] = 14\n",
    "    else:\n",
    "        quantized = (v * 128).to(torch.int8)\n",
    "        f = quantized.float().detach() / 128\n",
    "        output_right_shift[k] = 7\n",
    "    zero_fraction = (quantized == 0).sum() / v.numel()\n",
    "    new_values[k] = f\n",
    "    quantized_weights[k] = quantized\n",
    "    print(f\"{k:20} {str(tuple(v.shape)):15} {v.min().item():.3f} {v.max().item():.3f} zero={100 * zero_fraction:.3f}%\")"
   ]
  },
  {
   "cell_type": "code",
   "execution_count": 12,
   "id": "ea8f1433",
   "metadata": {},
   "outputs": [
    {
     "data": {
      "text/plain": [
       "<All keys matched successfully>"
      ]
     },
     "execution_count": 12,
     "metadata": {},
     "output_type": "execute_result"
    }
   ],
   "source": [
    "model.load_state_dict(new_values)"
   ]
  },
  {
   "cell_type": "code",
   "execution_count": 13,
   "id": "107a6484",
   "metadata": {},
   "outputs": [
    {
     "data": {
      "text/plain": [
       "tensor(0.3420, grad_fn=<MeanBackward0>)"
      ]
     },
     "execution_count": 13,
     "metadata": {},
     "output_type": "execute_result"
    }
   ],
   "source": [
    "estimate_loss()"
   ]
  },
  {
   "cell_type": "code",
   "execution_count": null,
   "id": "11365488",
   "metadata": {},
   "outputs": [],
   "source": []
  },
  {
   "cell_type": "code",
   "execution_count": 14,
   "id": "9ade2999",
   "metadata": {},
   "outputs": [],
   "source": [
    "def pack_i32(i32):\n",
    "    return struct.pack(\"<i\", i32)"
   ]
  },
  {
   "cell_type": "code",
   "execution_count": 15,
   "id": "eb597db9",
   "metadata": {},
   "outputs": [
    {
     "data": {
      "text/plain": [
       "7610"
      ]
     },
     "execution_count": 15,
     "metadata": {},
     "output_type": "execute_result"
    }
   ],
   "source": [
    "header_alloc = 7808\n",
    "aligned_storage = bytearray(header_alloc)\n",
    "\n",
    "def add_bytes(b):\n",
    "    # Align to the nearest 32-byte boundary.\n",
    "    padding = (32 - len(aligned_storage)) % 32\n",
    "    aligned_storage.extend(b'\\0' * padding)\n",
    "    offset = len(aligned_storage)\n",
    "    aligned_storage.extend(b)\n",
    "    return offset\n",
    "\n",
    "weights = {}\n",
    "for k, v in quantized_weights.items():\n",
    "    shift = output_right_shift[k]\n",
    "    v = v.detach().cpu().numpy()\n",
    "    k = k.replace(\"networks.\", \"n\")\n",
    "    k = k.replace(\"0.weight\", \"0.w\")\n",
    "    k = k.replace(\"2.weight\", \"1.w\")\n",
    "    k = k.replace(\"4.weight\", \"2.w\")\n",
    "    k = k.replace(\"0.bias\", \"0.b\")\n",
    "    k = k.replace(\"2.bias\", \"1.b\")\n",
    "    k = k.replace(\"4.bias\", \"2.b\")\n",
    "    offset = add_bytes(v.tobytes())\n",
    "    assert offset % 32 == 0\n",
    "    weights[k] = {\n",
    "        \"shape\": tuple(v.shape),\n",
    "        \"dtype\": {\"int8\": \"i8\", \"int16\": \"i16\"}[str(v.dtype)],\n",
    "        \"offset\": offset,\n",
    "        \"shift\": shift,\n",
    "    }\n",
    "message = {\n",
    "    \"version\": \"v1\",\n",
    "    \"weights\": weights,\n",
    "}\n",
    "\n",
    "message_bytes = json.dumps(message).encode()\n",
    "assert len(message_bytes) < header_alloc\n",
    "aligned_storage[:len(message_bytes)] = message_bytes\n",
    "len(message_bytes)"
   ]
  },
  {
   "cell_type": "code",
   "execution_count": 16,
   "id": "a6a04644",
   "metadata": {},
   "outputs": [],
   "source": [
    "with open(\"src/nnue-data.bin\", \"wb\") as f:\n",
    "    f.write(aligned_storage)"
   ]
  },
  {
   "cell_type": "code",
   "execution_count": 17,
   "id": "48736e7c",
   "metadata": {
    "scrolled": false
   },
   "outputs": [
    {
     "data": {
      "text/plain": [
       "{'version': 'v1',\n",
       " 'weights': {'main_bias': {'shape': (256,),\n",
       "   'dtype': 'i16',\n",
       "   'offset': 7808,\n",
       "   'shift': 14},\n",
       "  'main_embed.weight': {'shape': (106496, 256),\n",
       "   'dtype': 'i16',\n",
       "   'offset': 8320,\n",
       "   'shift': 14},\n",
       "  'n0.0.w': {'shape': (16, 256),\n",
       "   'dtype': 'i8',\n",
       "   'offset': 54534272,\n",
       "   'shift': 7},\n",
       "  'n0.0.b': {'shape': (16,), 'dtype': 'i16', 'offset': 54538368, 'shift': 14},\n",
       "  'n0.1.w': {'shape': (32, 16), 'dtype': 'i8', 'offset': 54538400, 'shift': 7},\n",
       "  'n0.1.b': {'shape': (32,), 'dtype': 'i16', 'offset': 54538912, 'shift': 14},\n",
       "  'n0.2.w': {'shape': (1, 32), 'dtype': 'i8', 'offset': 54538976, 'shift': 7},\n",
       "  'n0.2.b': {'shape': (1,), 'dtype': 'i16', 'offset': 54539008, 'shift': 14},\n",
       "  'n1.0.w': {'shape': (16, 256),\n",
       "   'dtype': 'i8',\n",
       "   'offset': 54539040,\n",
       "   'shift': 7},\n",
       "  'n1.0.b': {'shape': (16,), 'dtype': 'i16', 'offset': 54543136, 'shift': 14},\n",
       "  'n1.1.w': {'shape': (32, 16), 'dtype': 'i8', 'offset': 54543168, 'shift': 7},\n",
       "  'n1.1.b': {'shape': (32,), 'dtype': 'i16', 'offset': 54543680, 'shift': 14},\n",
       "  'n1.2.w': {'shape': (1, 32), 'dtype': 'i8', 'offset': 54543744, 'shift': 7},\n",
       "  'n1.2.b': {'shape': (1,), 'dtype': 'i16', 'offset': 54543776, 'shift': 14},\n",
       "  'n2.0.w': {'shape': (16, 256),\n",
       "   'dtype': 'i8',\n",
       "   'offset': 54543808,\n",
       "   'shift': 7},\n",
       "  'n2.0.b': {'shape': (16,), 'dtype': 'i16', 'offset': 54547904, 'shift': 14},\n",
       "  'n2.1.w': {'shape': (32, 16), 'dtype': 'i8', 'offset': 54547936, 'shift': 7},\n",
       "  'n2.1.b': {'shape': (32,), 'dtype': 'i16', 'offset': 54548448, 'shift': 14},\n",
       "  'n2.2.w': {'shape': (1, 32), 'dtype': 'i8', 'offset': 54548512, 'shift': 7},\n",
       "  'n2.2.b': {'shape': (1,), 'dtype': 'i16', 'offset': 54548544, 'shift': 14},\n",
       "  'n3.0.w': {'shape': (16, 256),\n",
       "   'dtype': 'i8',\n",
       "   'offset': 54548576,\n",
       "   'shift': 7},\n",
       "  'n3.0.b': {'shape': (16,), 'dtype': 'i16', 'offset': 54552672, 'shift': 14},\n",
       "  'n3.1.w': {'shape': (32, 16), 'dtype': 'i8', 'offset': 54552704, 'shift': 7},\n",
       "  'n3.1.b': {'shape': (32,), 'dtype': 'i16', 'offset': 54553216, 'shift': 14},\n",
       "  'n3.2.w': {'shape': (1, 32), 'dtype': 'i8', 'offset': 54553280, 'shift': 7},\n",
       "  'n3.2.b': {'shape': (1,), 'dtype': 'i16', 'offset': 54553312, 'shift': 14},\n",
       "  'n4.0.w': {'shape': (16, 256),\n",
       "   'dtype': 'i8',\n",
       "   'offset': 54553344,\n",
       "   'shift': 7},\n",
       "  'n4.0.b': {'shape': (16,), 'dtype': 'i16', 'offset': 54557440, 'shift': 14},\n",
       "  'n4.1.w': {'shape': (32, 16), 'dtype': 'i8', 'offset': 54557472, 'shift': 7},\n",
       "  'n4.1.b': {'shape': (32,), 'dtype': 'i16', 'offset': 54557984, 'shift': 14},\n",
       "  'n4.2.w': {'shape': (1, 32), 'dtype': 'i8', 'offset': 54558048, 'shift': 7},\n",
       "  'n4.2.b': {'shape': (1,), 'dtype': 'i16', 'offset': 54558080, 'shift': 14},\n",
       "  'n5.0.w': {'shape': (16, 256),\n",
       "   'dtype': 'i8',\n",
       "   'offset': 54558112,\n",
       "   'shift': 7},\n",
       "  'n5.0.b': {'shape': (16,), 'dtype': 'i16', 'offset': 54562208, 'shift': 14},\n",
       "  'n5.1.w': {'shape': (32, 16), 'dtype': 'i8', 'offset': 54562240, 'shift': 7},\n",
       "  'n5.1.b': {'shape': (32,), 'dtype': 'i16', 'offset': 54562752, 'shift': 14},\n",
       "  'n5.2.w': {'shape': (1, 32), 'dtype': 'i8', 'offset': 54562816, 'shift': 7},\n",
       "  'n5.2.b': {'shape': (1,), 'dtype': 'i16', 'offset': 54562848, 'shift': 14},\n",
       "  'n6.0.w': {'shape': (16, 256),\n",
       "   'dtype': 'i8',\n",
       "   'offset': 54562880,\n",
       "   'shift': 7},\n",
       "  'n6.0.b': {'shape': (16,), 'dtype': 'i16', 'offset': 54566976, 'shift': 14},\n",
       "  'n6.1.w': {'shape': (32, 16), 'dtype': 'i8', 'offset': 54567008, 'shift': 7},\n",
       "  'n6.1.b': {'shape': (32,), 'dtype': 'i16', 'offset': 54567520, 'shift': 14},\n",
       "  'n6.2.w': {'shape': (1, 32), 'dtype': 'i8', 'offset': 54567584, 'shift': 7},\n",
       "  'n6.2.b': {'shape': (1,), 'dtype': 'i16', 'offset': 54567616, 'shift': 14},\n",
       "  'n7.0.w': {'shape': (16, 256),\n",
       "   'dtype': 'i8',\n",
       "   'offset': 54567648,\n",
       "   'shift': 7},\n",
       "  'n7.0.b': {'shape': (16,), 'dtype': 'i16', 'offset': 54571744, 'shift': 14},\n",
       "  'n7.1.w': {'shape': (32, 16), 'dtype': 'i8', 'offset': 54571776, 'shift': 7},\n",
       "  'n7.1.b': {'shape': (32,), 'dtype': 'i16', 'offset': 54572288, 'shift': 14},\n",
       "  'n7.2.w': {'shape': (1, 32), 'dtype': 'i8', 'offset': 54572352, 'shift': 7},\n",
       "  'n7.2.b': {'shape': (1,), 'dtype': 'i16', 'offset': 54572384, 'shift': 14},\n",
       "  'n8.0.w': {'shape': (16, 256),\n",
       "   'dtype': 'i8',\n",
       "   'offset': 54572416,\n",
       "   'shift': 7},\n",
       "  'n8.0.b': {'shape': (16,), 'dtype': 'i16', 'offset': 54576512, 'shift': 14},\n",
       "  'n8.1.w': {'shape': (32, 16), 'dtype': 'i8', 'offset': 54576544, 'shift': 7},\n",
       "  'n8.1.b': {'shape': (32,), 'dtype': 'i16', 'offset': 54577056, 'shift': 14},\n",
       "  'n8.2.w': {'shape': (1, 32), 'dtype': 'i8', 'offset': 54577120, 'shift': 7},\n",
       "  'n8.2.b': {'shape': (1,), 'dtype': 'i16', 'offset': 54577152, 'shift': 14},\n",
       "  'n9.0.w': {'shape': (16, 256),\n",
       "   'dtype': 'i8',\n",
       "   'offset': 54577184,\n",
       "   'shift': 7},\n",
       "  'n9.0.b': {'shape': (16,), 'dtype': 'i16', 'offset': 54581280, 'shift': 14},\n",
       "  'n9.1.w': {'shape': (32, 16), 'dtype': 'i8', 'offset': 54581312, 'shift': 7},\n",
       "  'n9.1.b': {'shape': (32,), 'dtype': 'i16', 'offset': 54581824, 'shift': 14},\n",
       "  'n9.2.w': {'shape': (1, 32), 'dtype': 'i8', 'offset': 54581888, 'shift': 7},\n",
       "  'n9.2.b': {'shape': (1,), 'dtype': 'i16', 'offset': 54581920, 'shift': 14},\n",
       "  'n10.0.w': {'shape': (16, 256),\n",
       "   'dtype': 'i8',\n",
       "   'offset': 54581952,\n",
       "   'shift': 7},\n",
       "  'n10.0.b': {'shape': (16,), 'dtype': 'i16', 'offset': 54586048, 'shift': 14},\n",
       "  'n10.1.w': {'shape': (32, 16),\n",
       "   'dtype': 'i8',\n",
       "   'offset': 54586080,\n",
       "   'shift': 7},\n",
       "  'n10.1.b': {'shape': (32,), 'dtype': 'i16', 'offset': 54586592, 'shift': 14},\n",
       "  'n10.2.w': {'shape': (1, 32), 'dtype': 'i8', 'offset': 54586656, 'shift': 7},\n",
       "  'n10.2.b': {'shape': (1,), 'dtype': 'i16', 'offset': 54586688, 'shift': 14},\n",
       "  'n11.0.w': {'shape': (16, 256),\n",
       "   'dtype': 'i8',\n",
       "   'offset': 54586720,\n",
       "   'shift': 7},\n",
       "  'n11.0.b': {'shape': (16,), 'dtype': 'i16', 'offset': 54590816, 'shift': 14},\n",
       "  'n11.1.w': {'shape': (32, 16),\n",
       "   'dtype': 'i8',\n",
       "   'offset': 54590848,\n",
       "   'shift': 7},\n",
       "  'n11.1.b': {'shape': (32,), 'dtype': 'i16', 'offset': 54591360, 'shift': 14},\n",
       "  'n11.2.w': {'shape': (1, 32), 'dtype': 'i8', 'offset': 54591424, 'shift': 7},\n",
       "  'n11.2.b': {'shape': (1,), 'dtype': 'i16', 'offset': 54591456, 'shift': 14},\n",
       "  'n12.0.w': {'shape': (16, 256),\n",
       "   'dtype': 'i8',\n",
       "   'offset': 54591488,\n",
       "   'shift': 7},\n",
       "  'n12.0.b': {'shape': (16,), 'dtype': 'i16', 'offset': 54595584, 'shift': 14},\n",
       "  'n12.1.w': {'shape': (32, 16),\n",
       "   'dtype': 'i8',\n",
       "   'offset': 54595616,\n",
       "   'shift': 7},\n",
       "  'n12.1.b': {'shape': (32,), 'dtype': 'i16', 'offset': 54596128, 'shift': 14},\n",
       "  'n12.2.w': {'shape': (1, 32), 'dtype': 'i8', 'offset': 54596192, 'shift': 7},\n",
       "  'n12.2.b': {'shape': (1,), 'dtype': 'i16', 'offset': 54596224, 'shift': 14},\n",
       "  'n13.0.w': {'shape': (16, 256),\n",
       "   'dtype': 'i8',\n",
       "   'offset': 54596256,\n",
       "   'shift': 7},\n",
       "  'n13.0.b': {'shape': (16,), 'dtype': 'i16', 'offset': 54600352, 'shift': 14},\n",
       "  'n13.1.w': {'shape': (32, 16),\n",
       "   'dtype': 'i8',\n",
       "   'offset': 54600384,\n",
       "   'shift': 7},\n",
       "  'n13.1.b': {'shape': (32,), 'dtype': 'i16', 'offset': 54600896, 'shift': 14},\n",
       "  'n13.2.w': {'shape': (1, 32), 'dtype': 'i8', 'offset': 54600960, 'shift': 7},\n",
       "  'n13.2.b': {'shape': (1,), 'dtype': 'i16', 'offset': 54600992, 'shift': 14},\n",
       "  'n14.0.w': {'shape': (16, 256),\n",
       "   'dtype': 'i8',\n",
       "   'offset': 54601024,\n",
       "   'shift': 7},\n",
       "  'n14.0.b': {'shape': (16,), 'dtype': 'i16', 'offset': 54605120, 'shift': 14},\n",
       "  'n14.1.w': {'shape': (32, 16),\n",
       "   'dtype': 'i8',\n",
       "   'offset': 54605152,\n",
       "   'shift': 7},\n",
       "  'n14.1.b': {'shape': (32,), 'dtype': 'i16', 'offset': 54605664, 'shift': 14},\n",
       "  'n14.2.w': {'shape': (1, 32), 'dtype': 'i8', 'offset': 54605728, 'shift': 7},\n",
       "  'n14.2.b': {'shape': (1,), 'dtype': 'i16', 'offset': 54605760, 'shift': 14},\n",
       "  'n15.0.w': {'shape': (16, 256),\n",
       "   'dtype': 'i8',\n",
       "   'offset': 54605792,\n",
       "   'shift': 7},\n",
       "  'n15.0.b': {'shape': (16,), 'dtype': 'i16', 'offset': 54609888, 'shift': 14},\n",
       "  'n15.1.w': {'shape': (32, 16),\n",
       "   'dtype': 'i8',\n",
       "   'offset': 54609920,\n",
       "   'shift': 7},\n",
       "  'n15.1.b': {'shape': (32,), 'dtype': 'i16', 'offset': 54610432, 'shift': 14},\n",
       "  'n15.2.w': {'shape': (1, 32), 'dtype': 'i8', 'offset': 54610496, 'shift': 7},\n",
       "  'n15.2.b': {'shape': (1,), 'dtype': 'i16', 'offset': 54610528, 'shift': 14}}}"
      ]
     },
     "execution_count": 17,
     "metadata": {},
     "output_type": "execute_result"
    }
   ],
   "source": [
    "message"
   ]
  },
  {
   "cell_type": "code",
   "execution_count": 34,
   "id": "98b4079e",
   "metadata": {},
   "outputs": [],
   "source": [
    "import zlib\n",
    "import bz2"
   ]
  },
  {
   "cell_type": "code",
   "execution_count": 36,
   "id": "88eb76d9",
   "metadata": {},
   "outputs": [],
   "source": [
    "x = zlib.compress(bytes(aligned_storage), level=9)"
   ]
  },
  {
   "cell_type": "code",
   "execution_count": 38,
   "id": "c2d9de1d",
   "metadata": {},
   "outputs": [
    {
     "data": {
      "text/plain": [
       "44.387080999999995"
      ]
     },
     "execution_count": 38,
     "metadata": {},
     "output_type": "execute_result"
    }
   ],
   "source": [
    "len(x) * 1e-6"
   ]
  },
  {
   "cell_type": "code",
   "execution_count": 43,
   "id": "3dac9a8c",
   "metadata": {},
   "outputs": [],
   "source": [
    "x = bz2.compress(bytes(aligned_storage))"
   ]
  },
  {
   "cell_type": "code",
   "execution_count": 44,
   "id": "9d06d33f",
   "metadata": {},
   "outputs": [
    {
     "data": {
      "text/plain": [
       "40.349599999999995"
      ]
     },
     "execution_count": 44,
     "metadata": {},
     "output_type": "execute_result"
    }
   ],
   "source": [
    "len(x) * 1e-6"
   ]
  },
  {
   "cell_type": "code",
   "execution_count": 46,
   "id": "db3e49ad",
   "metadata": {},
   "outputs": [
    {
     "data": {
      "text/plain": [
       "54.815265999999994"
      ]
     },
     "execution_count": 46,
     "metadata": {},
     "output_type": "execute_result"
    }
   ],
   "source": [
    "len(aligned_storage) * 1e-6"
   ]
  },
  {
   "cell_type": "code",
   "execution_count": 20,
   "id": "c6e2c71b",
   "metadata": {},
   "outputs": [],
   "source": [
    "b = bytearray()\n",
    "b.extend(b\"v1\")\n",
    "b.extend(pack_i32(len(quantized_weights)))\n",
    "\n",
    "def \n",
    "\n",
    "for k, v in quantized_weights.items():\n",
    "    "
   ]
  },
  {
   "cell_type": "code",
   "execution_count": null,
   "id": "317938a6",
   "metadata": {},
   "outputs": [],
   "source": [
    "output = open(\"network.bin\", \"wb\")\n",
    "output.write(\"v1\")"
   ]
  },
  {
   "cell_type": "code",
   "execution_count": 115,
   "id": "a3332a91",
   "metadata": {},
   "outputs": [
    {
     "data": {
      "text/plain": [
       "{'version': 'v1',\n",
       " 'weights': {'main_bias': {'shape': (257,),\n",
       "   'dtype': 'i16',\n",
       "   'offset': 7808,\n",
       "   'shift': 7},\n",
       "  'main_embed.weight': {'shape': (106496, 257),\n",
       "   'dtype': 'i16',\n",
       "   'offset': 8352,\n",
       "   'shift': 7},\n",
       "  'n0.0.w': {'shape': (16, 256),\n",
       "   'dtype': 'i8',\n",
       "   'offset': 54747296,\n",
       "   'shift': 0},\n",
       "  'n0.0.b': {'shape': (16,), 'dtype': 'i16', 'offset': 54751392, 'shift': 7},\n",
       "  'n0.1.w': {'shape': (32, 16), 'dtype': 'i8', 'offset': 54751424, 'shift': 0},\n",
       "  'n0.1.b': {'shape': (32,), 'dtype': 'i16', 'offset': 54751936, 'shift': 7},\n",
       "  'n0.2.w': {'shape': (1, 32), 'dtype': 'i8', 'offset': 54752000, 'shift': 0},\n",
       "  'n0.2.b': {'shape': (1,), 'dtype': 'i16', 'offset': 54752032, 'shift': 7},\n",
       "  'n1.0.w': {'shape': (16, 256),\n",
       "   'dtype': 'i8',\n",
       "   'offset': 54752064,\n",
       "   'shift': 0},\n",
       "  'n1.0.b': {'shape': (16,), 'dtype': 'i16', 'offset': 54756160, 'shift': 7},\n",
       "  'n1.1.w': {'shape': (32, 16), 'dtype': 'i8', 'offset': 54756192, 'shift': 0},\n",
       "  'n1.1.b': {'shape': (32,), 'dtype': 'i16', 'offset': 54756704, 'shift': 7},\n",
       "  'n1.2.w': {'shape': (1, 32), 'dtype': 'i8', 'offset': 54756768, 'shift': 0},\n",
       "  'n1.2.b': {'shape': (1,), 'dtype': 'i16', 'offset': 54756800, 'shift': 7},\n",
       "  'n2.0.w': {'shape': (16, 256),\n",
       "   'dtype': 'i8',\n",
       "   'offset': 54756832,\n",
       "   'shift': 0},\n",
       "  'n2.0.b': {'shape': (16,), 'dtype': 'i16', 'offset': 54760928, 'shift': 7},\n",
       "  'n2.1.w': {'shape': (32, 16), 'dtype': 'i8', 'offset': 54760960, 'shift': 0},\n",
       "  'n2.1.b': {'shape': (32,), 'dtype': 'i16', 'offset': 54761472, 'shift': 7},\n",
       "  'n2.2.w': {'shape': (1, 32), 'dtype': 'i8', 'offset': 54761536, 'shift': 0},\n",
       "  'n2.2.b': {'shape': (1,), 'dtype': 'i16', 'offset': 54761568, 'shift': 7},\n",
       "  'n3.0.w': {'shape': (16, 256),\n",
       "   'dtype': 'i8',\n",
       "   'offset': 54761600,\n",
       "   'shift': 0},\n",
       "  'n3.0.b': {'shape': (16,), 'dtype': 'i16', 'offset': 54765696, 'shift': 7},\n",
       "  'n3.1.w': {'shape': (32, 16), 'dtype': 'i8', 'offset': 54765728, 'shift': 0},\n",
       "  'n3.1.b': {'shape': (32,), 'dtype': 'i16', 'offset': 54766240, 'shift': 7},\n",
       "  'n3.2.w': {'shape': (1, 32), 'dtype': 'i8', 'offset': 54766304, 'shift': 0},\n",
       "  'n3.2.b': {'shape': (1,), 'dtype': 'i16', 'offset': 54766336, 'shift': 7},\n",
       "  'n4.0.w': {'shape': (16, 256),\n",
       "   'dtype': 'i8',\n",
       "   'offset': 54766368,\n",
       "   'shift': 0},\n",
       "  'n4.0.b': {'shape': (16,), 'dtype': 'i16', 'offset': 54770464, 'shift': 7},\n",
       "  'n4.1.w': {'shape': (32, 16), 'dtype': 'i8', 'offset': 54770496, 'shift': 0},\n",
       "  'n4.1.b': {'shape': (32,), 'dtype': 'i16', 'offset': 54771008, 'shift': 7},\n",
       "  'n4.2.w': {'shape': (1, 32), 'dtype': 'i8', 'offset': 54771072, 'shift': 0},\n",
       "  'n4.2.b': {'shape': (1,), 'dtype': 'i16', 'offset': 54771104, 'shift': 7},\n",
       "  'n5.0.w': {'shape': (16, 256),\n",
       "   'dtype': 'i8',\n",
       "   'offset': 54771136,\n",
       "   'shift': 0},\n",
       "  'n5.0.b': {'shape': (16,), 'dtype': 'i16', 'offset': 54775232, 'shift': 7},\n",
       "  'n5.1.w': {'shape': (32, 16), 'dtype': 'i8', 'offset': 54775264, 'shift': 0},\n",
       "  'n5.1.b': {'shape': (32,), 'dtype': 'i16', 'offset': 54775776, 'shift': 7},\n",
       "  'n5.2.w': {'shape': (1, 32), 'dtype': 'i8', 'offset': 54775840, 'shift': 0},\n",
       "  'n5.2.b': {'shape': (1,), 'dtype': 'i16', 'offset': 54775872, 'shift': 7},\n",
       "  'n6.0.w': {'shape': (16, 256),\n",
       "   'dtype': 'i8',\n",
       "   'offset': 54775904,\n",
       "   'shift': 0},\n",
       "  'n6.0.b': {'shape': (16,), 'dtype': 'i16', 'offset': 54780000, 'shift': 7},\n",
       "  'n6.1.w': {'shape': (32, 16), 'dtype': 'i8', 'offset': 54780032, 'shift': 0},\n",
       "  'n6.1.b': {'shape': (32,), 'dtype': 'i16', 'offset': 54780544, 'shift': 7},\n",
       "  'n6.2.w': {'shape': (1, 32), 'dtype': 'i8', 'offset': 54780608, 'shift': 0},\n",
       "  'n6.2.b': {'shape': (1,), 'dtype': 'i16', 'offset': 54780640, 'shift': 7},\n",
       "  'n7.0.w': {'shape': (16, 256),\n",
       "   'dtype': 'i8',\n",
       "   'offset': 54780672,\n",
       "   'shift': 0},\n",
       "  'n7.0.b': {'shape': (16,), 'dtype': 'i16', 'offset': 54784768, 'shift': 7},\n",
       "  'n7.1.w': {'shape': (32, 16), 'dtype': 'i8', 'offset': 54784800, 'shift': 0},\n",
       "  'n7.1.b': {'shape': (32,), 'dtype': 'i16', 'offset': 54785312, 'shift': 7},\n",
       "  'n7.2.w': {'shape': (1, 32), 'dtype': 'i8', 'offset': 54785376, 'shift': 0},\n",
       "  'n7.2.b': {'shape': (1,), 'dtype': 'i16', 'offset': 54785408, 'shift': 7},\n",
       "  'n8.0.w': {'shape': (16, 256),\n",
       "   'dtype': 'i8',\n",
       "   'offset': 54785440,\n",
       "   'shift': 0},\n",
       "  'n8.0.b': {'shape': (16,), 'dtype': 'i16', 'offset': 54789536, 'shift': 7},\n",
       "  'n8.1.w': {'shape': (32, 16), 'dtype': 'i8', 'offset': 54789568, 'shift': 0},\n",
       "  'n8.1.b': {'shape': (32,), 'dtype': 'i16', 'offset': 54790080, 'shift': 7},\n",
       "  'n8.2.w': {'shape': (1, 32), 'dtype': 'i8', 'offset': 54790144, 'shift': 0},\n",
       "  'n8.2.b': {'shape': (1,), 'dtype': 'i16', 'offset': 54790176, 'shift': 7},\n",
       "  'n9.0.w': {'shape': (16, 256),\n",
       "   'dtype': 'i8',\n",
       "   'offset': 54790208,\n",
       "   'shift': 0},\n",
       "  'n9.0.b': {'shape': (16,), 'dtype': 'i16', 'offset': 54794304, 'shift': 7},\n",
       "  'n9.1.w': {'shape': (32, 16), 'dtype': 'i8', 'offset': 54794336, 'shift': 0},\n",
       "  'n9.1.b': {'shape': (32,), 'dtype': 'i16', 'offset': 54794848, 'shift': 7},\n",
       "  'n9.2.w': {'shape': (1, 32), 'dtype': 'i8', 'offset': 54794912, 'shift': 0},\n",
       "  'n9.2.b': {'shape': (1,), 'dtype': 'i16', 'offset': 54794944, 'shift': 7},\n",
       "  'n10.0.w': {'shape': (16, 256),\n",
       "   'dtype': 'i8',\n",
       "   'offset': 54794976,\n",
       "   'shift': 0},\n",
       "  'n10.0.b': {'shape': (16,), 'dtype': 'i16', 'offset': 54799072, 'shift': 7},\n",
       "  'n10.1.w': {'shape': (32, 16),\n",
       "   'dtype': 'i8',\n",
       "   'offset': 54799104,\n",
       "   'shift': 0},\n",
       "  'n10.1.b': {'shape': (32,), 'dtype': 'i16', 'offset': 54799616, 'shift': 7},\n",
       "  'n10.2.w': {'shape': (1, 32), 'dtype': 'i8', 'offset': 54799680, 'shift': 0},\n",
       "  'n10.2.b': {'shape': (1,), 'dtype': 'i16', 'offset': 54799712, 'shift': 7},\n",
       "  'n11.0.w': {'shape': (16, 256),\n",
       "   'dtype': 'i8',\n",
       "   'offset': 54799744,\n",
       "   'shift': 0},\n",
       "  'n11.0.b': {'shape': (16,), 'dtype': 'i16', 'offset': 54803840, 'shift': 7},\n",
       "  'n11.1.w': {'shape': (32, 16),\n",
       "   'dtype': 'i8',\n",
       "   'offset': 54803872,\n",
       "   'shift': 0},\n",
       "  'n11.1.b': {'shape': (32,), 'dtype': 'i16', 'offset': 54804384, 'shift': 7},\n",
       "  'n11.2.w': {'shape': (1, 32), 'dtype': 'i8', 'offset': 54804448, 'shift': 0},\n",
       "  'n11.2.b': {'shape': (1,), 'dtype': 'i16', 'offset': 54804480, 'shift': 7},\n",
       "  'n12.0.w': {'shape': (16, 256),\n",
       "   'dtype': 'i8',\n",
       "   'offset': 54804512,\n",
       "   'shift': 0},\n",
       "  'n12.0.b': {'shape': (16,), 'dtype': 'i16', 'offset': 54808608, 'shift': 7},\n",
       "  'n12.1.w': {'shape': (32, 16),\n",
       "   'dtype': 'i8',\n",
       "   'offset': 54808640,\n",
       "   'shift': 0},\n",
       "  'n12.1.b': {'shape': (32,), 'dtype': 'i16', 'offset': 54809152, 'shift': 7},\n",
       "  'n12.2.w': {'shape': (1, 32), 'dtype': 'i8', 'offset': 54809216, 'shift': 0},\n",
       "  'n12.2.b': {'shape': (1,), 'dtype': 'i16', 'offset': 54809248, 'shift': 7},\n",
       "  'n13.0.w': {'shape': (16, 256),\n",
       "   'dtype': 'i8',\n",
       "   'offset': 54809280,\n",
       "   'shift': 0},\n",
       "  'n13.0.b': {'shape': (16,), 'dtype': 'i16', 'offset': 54813376, 'shift': 7},\n",
       "  'n13.1.w': {'shape': (32, 16),\n",
       "   'dtype': 'i8',\n",
       "   'offset': 54813408,\n",
       "   'shift': 0},\n",
       "  'n13.1.b': {'shape': (32,), 'dtype': 'i16', 'offset': 54813920, 'shift': 7},\n",
       "  'n13.2.w': {'shape': (1, 32), 'dtype': 'i8', 'offset': 54813984, 'shift': 0},\n",
       "  'n13.2.b': {'shape': (1,), 'dtype': 'i16', 'offset': 54814016, 'shift': 7},\n",
       "  'n14.0.w': {'shape': (16, 256),\n",
       "   'dtype': 'i8',\n",
       "   'offset': 54814048,\n",
       "   'shift': 0},\n",
       "  'n14.0.b': {'shape': (16,), 'dtype': 'i16', 'offset': 54818144, 'shift': 7},\n",
       "  'n14.1.w': {'shape': (32, 16),\n",
       "   'dtype': 'i8',\n",
       "   'offset': 54818176,\n",
       "   'shift': 0},\n",
       "  'n14.1.b': {'shape': (32,), 'dtype': 'i16', 'offset': 54818688, 'shift': 7},\n",
       "  'n14.2.w': {'shape': (1, 32), 'dtype': 'i8', 'offset': 54818752, 'shift': 0},\n",
       "  'n14.2.b': {'shape': (1,), 'dtype': 'i16', 'offset': 54818784, 'shift': 7},\n",
       "  'n15.0.w': {'shape': (16, 256),\n",
       "   'dtype': 'i8',\n",
       "   'offset': 54818816,\n",
       "   'shift': 0},\n",
       "  'n15.0.b': {'shape': (16,), 'dtype': 'i16', 'offset': 54822912, 'shift': 7},\n",
       "  'n15.1.w': {'shape': (32, 16),\n",
       "   'dtype': 'i8',\n",
       "   'offset': 54822944,\n",
       "   'shift': 0},\n",
       "  'n15.1.b': {'shape': (32,), 'dtype': 'i16', 'offset': 54823456, 'shift': 7},\n",
       "  'n15.2.w': {'shape': (1, 32), 'dtype': 'i8', 'offset': 54823520, 'shift': 0},\n",
       "  'n15.2.b': {'shape': (1,), 'dtype': 'i16', 'offset': 54823552, 'shift': 7}}}"
      ]
     },
     "execution_count": 115,
     "metadata": {},
     "output_type": "execute_result"
    }
   ],
   "source": [
    "message"
   ]
  },
  {
   "cell_type": "code",
   "execution_count": 16,
   "id": "e49a7d98",
   "metadata": {},
   "outputs": [
    {
     "name": "stdout",
     "output_type": "stream",
     "text": [
      "main_bias (257,) int16\n",
      "main_embed.weight (106496, 257) int16\n",
      "networks.0.0.weight (16, 256) int8\n",
      "networks.0.0.bias (16,) int16\n",
      "networks.0.2.weight (32, 16) int8\n",
      "networks.0.2.bias (32,) int16\n",
      "networks.0.4.weight (1, 32) int8\n",
      "networks.0.4.bias (1,) int16\n",
      "networks.1.0.weight (16, 256) int8\n",
      "networks.1.0.bias (16,) int16\n",
      "networks.1.2.weight (32, 16) int8\n",
      "networks.1.2.bias (32,) int16\n",
      "networks.1.4.weight (1, 32) int8\n",
      "networks.1.4.bias (1,) int16\n",
      "networks.2.0.weight (16, 256) int8\n",
      "networks.2.0.bias (16,) int16\n",
      "networks.2.2.weight (32, 16) int8\n",
      "networks.2.2.bias (32,) int16\n",
      "networks.2.4.weight (1, 32) int8\n",
      "networks.2.4.bias (1,) int16\n",
      "networks.3.0.weight (16, 256) int8\n",
      "networks.3.0.bias (16,) int16\n",
      "networks.3.2.weight (32, 16) int8\n",
      "networks.3.2.bias (32,) int16\n",
      "networks.3.4.weight (1, 32) int8\n",
      "networks.3.4.bias (1,) int16\n",
      "networks.4.0.weight (16, 256) int8\n",
      "networks.4.0.bias (16,) int16\n",
      "networks.4.2.weight (32, 16) int8\n",
      "networks.4.2.bias (32,) int16\n",
      "networks.4.4.weight (1, 32) int8\n",
      "networks.4.4.bias (1,) int16\n",
      "networks.5.0.weight (16, 256) int8\n",
      "networks.5.0.bias (16,) int16\n",
      "networks.5.2.weight (32, 16) int8\n",
      "networks.5.2.bias (32,) int16\n",
      "networks.5.4.weight (1, 32) int8\n",
      "networks.5.4.bias (1,) int16\n",
      "networks.6.0.weight (16, 256) int8\n",
      "networks.6.0.bias (16,) int16\n",
      "networks.6.2.weight (32, 16) int8\n",
      "networks.6.2.bias (32,) int16\n",
      "networks.6.4.weight (1, 32) int8\n",
      "networks.6.4.bias (1,) int16\n",
      "networks.7.0.weight (16, 256) int8\n",
      "networks.7.0.bias (16,) int16\n",
      "networks.7.2.weight (32, 16) int8\n",
      "networks.7.2.bias (32,) int16\n",
      "networks.7.4.weight (1, 32) int8\n",
      "networks.7.4.bias (1,) int16\n",
      "networks.8.0.weight (16, 256) int8\n",
      "networks.8.0.bias (16,) int16\n",
      "networks.8.2.weight (32, 16) int8\n",
      "networks.8.2.bias (32,) int16\n",
      "networks.8.4.weight (1, 32) int8\n",
      "networks.8.4.bias (1,) int16\n",
      "networks.9.0.weight (16, 256) int8\n",
      "networks.9.0.bias (16,) int16\n",
      "networks.9.2.weight (32, 16) int8\n",
      "networks.9.2.bias (32,) int16\n",
      "networks.9.4.weight (1, 32) int8\n",
      "networks.9.4.bias (1,) int16\n",
      "networks.10.0.weight (16, 256) int8\n",
      "networks.10.0.bias (16,) int16\n",
      "networks.10.2.weight (32, 16) int8\n",
      "networks.10.2.bias (32,) int16\n",
      "networks.10.4.weight (1, 32) int8\n",
      "networks.10.4.bias (1,) int16\n",
      "networks.11.0.weight (16, 256) int8\n",
      "networks.11.0.bias (16,) int16\n",
      "networks.11.2.weight (32, 16) int8\n",
      "networks.11.2.bias (32,) int16\n",
      "networks.11.4.weight (1, 32) int8\n",
      "networks.11.4.bias (1,) int16\n",
      "networks.12.0.weight (16, 256) int8\n",
      "networks.12.0.bias (16,) int16\n",
      "networks.12.2.weight (32, 16) int8\n",
      "networks.12.2.bias (32,) int16\n",
      "networks.12.4.weight (1, 32) int8\n",
      "networks.12.4.bias (1,) int16\n",
      "networks.13.0.weight (16, 256) int8\n",
      "networks.13.0.bias (16,) int16\n",
      "networks.13.2.weight (32, 16) int8\n",
      "networks.13.2.bias (32,) int16\n",
      "networks.13.4.weight (1, 32) int8\n",
      "networks.13.4.bias (1,) int16\n",
      "networks.14.0.weight (16, 256) int8\n",
      "networks.14.0.bias (16,) int16\n",
      "networks.14.2.weight (32, 16) int8\n",
      "networks.14.2.bias (32,) int16\n",
      "networks.14.4.weight (1, 32) int8\n",
      "networks.14.4.bias (1,) int16\n",
      "networks.15.0.weight (16, 256) int8\n",
      "networks.15.0.bias (16,) int16\n",
      "networks.15.2.weight (32, 16) int8\n",
      "networks.15.2.bias (32,) int16\n",
      "networks.15.4.weight (1, 32) int8\n",
      "networks.15.4.bias (1,) int16\n"
     ]
    }
   ],
   "source": [
    "for k, v in quantized_weights.items():\n",
    "    v = v.detach().cpu().numpy()\n",
    "    #print(k, v.shape, v.dtype)"
   ]
  },
  {
   "cell_type": "code",
   "execution_count": null,
   "id": "807bf16b",
   "metadata": {},
   "outputs": [],
   "source": [
    "output.close()"
   ]
  }
 ],
 "metadata": {
  "kernelspec": {
   "display_name": "Python 3 (ipykernel)",
   "language": "python",
   "name": "python3"
  },
  "language_info": {
   "codemirror_mode": {
    "name": "ipython",
    "version": 3
   },
   "file_extension": ".py",
   "mimetype": "text/x-python",
   "name": "python",
   "nbconvert_exporter": "python",
   "pygments_lexer": "ipython3",
   "version": "3.10.6"
  }
 },
 "nbformat": 4,
 "nbformat_minor": 5
}
