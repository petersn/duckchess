{
 "cells": [
  {
   "cell_type": "code",
   "execution_count": 1,
   "id": "fbbd8cc2",
   "metadata": {},
   "outputs": [],
   "source": [
    "import sys\n",
    "sys.path.append(\"./ml/\")\n",
    "import glob\n",
    "import json\n",
    "import struct\n",
    "import numpy as np\n",
    "import torch\n",
    "import matplotlib.pyplot as plt"
   ]
  },
  {
   "cell_type": "code",
   "execution_count": 2,
   "id": "169cf132",
   "metadata": {},
   "outputs": [],
   "source": [
    "import train_nnue"
   ]
  },
  {
   "cell_type": "code",
   "execution_count": 3,
   "id": "0a70fc97",
   "metadata": {},
   "outputs": [],
   "source": [
    "model = train_nnue.Nnue()\n",
    "model.load_state_dict(torch.load(\"nnue.pt\"))\n",
    "model.adjust_leak(0)"
   ]
  },
  {
   "cell_type": "code",
   "execution_count": 4,
   "id": "c0242ef0",
   "metadata": {},
   "outputs": [
    {
     "data": {
      "text/plain": [
       "['./run-011-duck-chess/step-101/games/games-mcts-88652de431071378-nnue-data.npz',\n",
       " './run-011-duck-chess/step-075/games/games-mcts-fb530bceb09373bc-nnue-data.npz',\n",
       " './run-011-duck-chess/step-075/games/games-mcts-86bf3b09ec0916c0-nnue-data.npz',\n",
       " './run-011-duck-chess/step-103/games/games-mcts-eb86a507f6c85730-nnue-data.npz',\n",
       " './run-011-duck-chess/step-103/games/games-mcts-63029b2183c92bcd-nnue-data.npz']"
      ]
     },
     "execution_count": 4,
     "metadata": {},
     "output_type": "execute_result"
    }
   ],
   "source": [
    "data_files = glob.glob(\"./run-011-duck-chess/step-*/games/*.npz\")[-5:]\n",
    "data_files"
   ]
  },
  {
   "cell_type": "code",
   "execution_count": 5,
   "id": "50bc328b",
   "metadata": {},
   "outputs": [
    {
     "name": "stderr",
     "output_type": "stream",
     "text": [
      "100%|███████████████████████████████████████████████████████████████████████████████████████████████████████████████████████████████████████████████████████████████████████████| 5/5 [00:01<00:00,  3.29it/s]"
     ]
    },
    {
     "name": "stdout",
     "output_type": "stream",
     "text": [
      "Total examples: 3785384\n",
      "Constant model loss: 0.6828318840027551\n"
     ]
    },
    {
     "name": "stderr",
     "output_type": "stream",
     "text": [
      "\n"
     ]
    }
   ],
   "source": [
    "make_batch = train_nnue.get_make_batch(data_files, \"cpu\")"
   ]
  },
  {
   "cell_type": "code",
   "execution_count": 6,
   "id": "26d39976",
   "metadata": {},
   "outputs": [],
   "source": [
    "indices, offsets, which_model, lengths, targets = make_batch(1024)# * 1024)"
   ]
  },
  {
   "cell_type": "code",
   "execution_count": 7,
   "id": "001ee7ff",
   "metadata": {},
   "outputs": [],
   "source": [
    "def estimate_loss():\n",
    "    outputs = model(indices, offsets, which_model, lengths)\n",
    "    return torch.mean((outputs - targets)**2)"
   ]
  },
  {
   "cell_type": "code",
   "execution_count": 8,
   "id": "62b17711",
   "metadata": {},
   "outputs": [
    {
     "data": {
      "text/plain": [
       "tensor(0.5231, grad_fn=<MeanBackward0>)"
      ]
     },
     "execution_count": 8,
     "metadata": {},
     "output_type": "execute_result"
    }
   ],
   "source": [
    "estimate_loss()"
   ]
  },
  {
   "cell_type": "code",
   "execution_count": 9,
   "id": "972f4c03",
   "metadata": {},
   "outputs": [],
   "source": [
    "all_interm = []\n",
    "\n",
    "def hook(comp, inp, out):\n",
    "    all_interm.append((comp, tuple(x.clone() for x in inp), out.clone()))\n",
    "    overall_min = float(\"inf\")\n",
    "    overall_max = -float(\"inf\")\n",
    "    for thing in inp:\n",
    "        overall_min = min(overall_min, thing.min().item())\n",
    "        overall_max = max(overall_max, thing.max().item())\n",
    "    first = inp[0]\n",
    "    print(f\"{comp.__class__.__name__:30} inp range: {overall_min:.3f} . {first.float().var()**0.5:.3f} . {overall_max:.3f}  out range: {out.min().item():.3f} . {out.var()**0.5:.3f} . {out.max().item():.3f}\")\n",
    "    #print(\"GOT:\", comp) #inp, out)\n",
    "    #if isinstance(comp, train_nnue.AnnealedLeakyClippedRelu):   \n",
    "    #    print(\n",
    "\n",
    "if \"module_to_handle\" in globals():\n",
    "    for handle in module_to_handle.values():\n",
    "        handle.remove()\n",
    "\n",
    "module_to_handle = {}\n",
    "def apply_hooks(m):\n",
    "    if m in module_to_handle:\n",
    "        return\n",
    "    module_to_handle[m] = m.register_forward_hook(hook)\n",
    "    for k, v in m._modules.items():\n",
    "        apply_hooks(v)\n",
    "\n",
    "apply_hooks(model)"
   ]
  },
  {
   "cell_type": "code",
   "execution_count": 10,
   "id": "b2c2b63c",
   "metadata": {
    "scrolled": false
   },
   "outputs": [
    {
     "name": "stdout",
     "output_type": "stream",
     "text": [
      "EmbeddingBag                   inp range: 0.000 . 8907.040 . 105654.000  out range: -2.569 . 0.451 . 1.417\n",
      "AnnealedLeakyClippedRelu       inp range: -2.696 . 0.462 . 1.313  out range: 0.000 . 0.114 . 0.992\n",
      "Linear                         inp range: 0.000 . 0.114 . 0.992  out range: -2.498 . 0.376 . 3.713\n",
      "AnnealedLeakyClippedRelu       inp range: -2.498 . 0.376 . 3.713  out range: 0.000 . 0.202 . 0.992\n",
      "Linear                         inp range: 0.000 . 0.202 . 0.992  out range: -1.543 . 0.258 . 1.925\n",
      "AnnealedLeakyClippedRelu       inp range: -1.543 . 0.258 . 1.925  out range: 0.000 . 0.156 . 0.992\n",
      "Linear                         inp range: 0.000 . 0.156 . 0.992  out range: -1.236 . 0.417 . 1.504\n",
      "Sequential                     inp range: 0.000 . 0.114 . 0.992  out range: -1.236 . 0.417 . 1.504\n",
      "Linear                         inp range: 0.000 . 0.114 . 0.992  out range: -2.777 . 0.365 . 2.923\n",
      "AnnealedLeakyClippedRelu       inp range: -2.777 . 0.365 . 2.923  out range: 0.000 . 0.191 . 0.992\n",
      "Linear                         inp range: 0.000 . 0.191 . 0.992  out range: -1.987 . 0.251 . 1.502\n",
      "AnnealedLeakyClippedRelu       inp range: -1.987 . 0.251 . 1.502  out range: 0.000 . 0.144 . 0.992\n",
      "Linear                         inp range: 0.000 . 0.144 . 0.992  out range: -1.286 . 0.379 . 1.077\n",
      "Sequential                     inp range: 0.000 . 0.114 . 0.992  out range: -1.286 . 0.379 . 1.077\n",
      "Linear                         inp range: 0.000 . 0.114 . 0.992  out range: -3.658 . 0.383 . 2.395\n",
      "AnnealedLeakyClippedRelu       inp range: -3.658 . 0.383 . 2.395  out range: 0.000 . 0.186 . 0.992\n",
      "Linear                         inp range: 0.000 . 0.186 . 0.992  out range: -1.846 . 0.246 . 1.712\n",
      "AnnealedLeakyClippedRelu       inp range: -1.846 . 0.246 . 1.712  out range: 0.000 . 0.139 . 0.992\n",
      "Linear                         inp range: 0.000 . 0.139 . 0.992  out range: -1.336 . 0.332 . 1.061\n",
      "Sequential                     inp range: 0.000 . 0.114 . 0.992  out range: -1.336 . 0.332 . 1.061\n",
      "Linear                         inp range: 0.000 . 0.114 . 0.992  out range: -3.346 . 0.392 . 2.871\n",
      "AnnealedLeakyClippedRelu       inp range: -3.346 . 0.392 . 2.871  out range: 0.000 . 0.196 . 0.992\n",
      "Linear                         inp range: 0.000 . 0.196 . 0.992  out range: -1.719 . 0.220 . 1.278\n",
      "AnnealedLeakyClippedRelu       inp range: -1.719 . 0.220 . 1.278  out range: 0.000 . 0.128 . 0.992\n",
      "Linear                         inp range: 0.000 . 0.128 . 0.992  out range: -1.098 . 0.334 . 1.081\n",
      "Sequential                     inp range: 0.000 . 0.114 . 0.992  out range: -1.098 . 0.334 . 1.081\n",
      "Linear                         inp range: 0.000 . 0.114 . 0.992  out range: -2.506 . 0.350 . 2.781\n",
      "AnnealedLeakyClippedRelu       inp range: -2.506 . 0.350 . 2.781  out range: 0.000 . 0.201 . 0.992\n",
      "Linear                         inp range: 0.000 . 0.201 . 0.992  out range: -1.223 . 0.226 . 1.238\n",
      "AnnealedLeakyClippedRelu       inp range: -1.223 . 0.226 . 1.238  out range: 0.000 . 0.150 . 0.992\n",
      "Linear                         inp range: 0.000 . 0.150 . 0.992  out range: -1.279 . 0.336 . 1.062\n",
      "Sequential                     inp range: 0.000 . 0.114 . 0.992  out range: -1.279 . 0.336 . 1.062\n",
      "Linear                         inp range: 0.000 . 0.114 . 0.992  out range: -2.905 . 0.362 . 2.854\n",
      "AnnealedLeakyClippedRelu       inp range: -2.905 . 0.362 . 2.854  out range: 0.000 . 0.190 . 0.992\n",
      "Linear                         inp range: 0.000 . 0.190 . 0.992  out range: -1.332 . 0.234 . 1.196\n",
      "AnnealedLeakyClippedRelu       inp range: -1.332 . 0.234 . 1.196  out range: 0.000 . 0.142 . 0.992\n",
      "Linear                         inp range: 0.000 . 0.142 . 0.992  out range: -1.006 . 0.299 . 1.032\n",
      "Sequential                     inp range: 0.000 . 0.114 . 0.992  out range: -1.006 . 0.299 . 1.032\n",
      "Linear                         inp range: 0.000 . 0.114 . 0.992  out range: -2.048 . 0.334 . 2.902\n",
      "AnnealedLeakyClippedRelu       inp range: -2.048 . 0.334 . 2.902  out range: 0.000 . 0.192 . 0.992\n",
      "Linear                         inp range: 0.000 . 0.192 . 0.992  out range: -1.405 . 0.235 . 1.452\n",
      "AnnealedLeakyClippedRelu       inp range: -1.405 . 0.235 . 1.452  out range: 0.000 . 0.139 . 0.992\n",
      "Linear                         inp range: 0.000 . 0.139 . 0.992  out range: -1.050 . 0.311 . 1.026\n",
      "Sequential                     inp range: 0.000 . 0.114 . 0.992  out range: -1.050 . 0.311 . 1.026\n",
      "Linear                         inp range: 0.000 . 0.114 . 0.992  out range: -2.639 . 0.338 . 2.370\n",
      "AnnealedLeakyClippedRelu       inp range: -2.639 . 0.338 . 2.370  out range: 0.000 . 0.199 . 0.992\n",
      "Linear                         inp range: 0.000 . 0.199 . 0.992  out range: -1.579 . 0.241 . 1.124\n",
      "AnnealedLeakyClippedRelu       inp range: -1.579 . 0.241 . 1.124  out range: 0.000 . 0.143 . 0.992\n",
      "Linear                         inp range: 0.000 . 0.143 . 0.992  out range: -1.051 . 0.312 . 1.108\n",
      "Sequential                     inp range: 0.000 . 0.114 . 0.992  out range: -1.051 . 0.312 . 1.108\n",
      "Linear                         inp range: 0.000 . 0.114 . 0.992  out range: -2.776 . 0.404 . 3.039\n",
      "AnnealedLeakyClippedRelu       inp range: -2.776 . 0.404 . 3.039  out range: 0.000 . 0.223 . 0.992\n",
      "Linear                         inp range: 0.000 . 0.223 . 0.992  out range: -1.916 . 0.285 . 1.263\n",
      "AnnealedLeakyClippedRelu       inp range: -1.916 . 0.285 . 1.263  out range: 0.000 . 0.162 . 0.992\n",
      "Linear                         inp range: 0.000 . 0.162 . 0.992  out range: -1.184 . 0.362 . 1.026\n",
      "Sequential                     inp range: 0.000 . 0.114 . 0.992  out range: -1.184 . 0.362 . 1.026\n",
      "Linear                         inp range: 0.000 . 0.114 . 0.992  out range: -2.791 . 0.382 . 3.096\n",
      "AnnealedLeakyClippedRelu       inp range: -2.791 . 0.382 . 3.096  out range: 0.000 . 0.217 . 0.992\n",
      "Linear                         inp range: 0.000 . 0.217 . 0.992  out range: -1.768 . 0.291 . 1.005\n",
      "AnnealedLeakyClippedRelu       inp range: -1.768 . 0.291 . 1.005  out range: 0.000 . 0.147 . 0.992\n",
      "Linear                         inp range: 0.000 . 0.147 . 0.992  out range: -1.058 . 0.340 . 1.007\n",
      "Sequential                     inp range: 0.000 . 0.114 . 0.992  out range: -1.058 . 0.340 . 1.007\n",
      "Linear                         inp range: 0.000 . 0.114 . 0.992  out range: -2.900 . 0.379 . 2.589\n",
      "AnnealedLeakyClippedRelu       inp range: -2.900 . 0.379 . 2.589  out range: 0.000 . 0.205 . 0.992\n",
      "Linear                         inp range: 0.000 . 0.205 . 0.992  out range: -1.677 . 0.275 . 1.379\n",
      "AnnealedLeakyClippedRelu       inp range: -1.677 . 0.275 . 1.379  out range: 0.000 . 0.161 . 0.992\n",
      "Linear                         inp range: 0.000 . 0.161 . 0.992  out range: -1.062 . 0.372 . 1.225\n",
      "Sequential                     inp range: 0.000 . 0.114 . 0.992  out range: -1.062 . 0.372 . 1.225\n",
      "Linear                         inp range: 0.000 . 0.114 . 0.992  out range: -3.177 . 0.382 . 2.734\n",
      "AnnealedLeakyClippedRelu       inp range: -3.177 . 0.382 . 2.734  out range: 0.000 . 0.216 . 0.992\n",
      "Linear                         inp range: 0.000 . 0.216 . 0.992  out range: -2.211 . 0.296 . 1.133\n",
      "AnnealedLeakyClippedRelu       inp range: -2.211 . 0.296 . 1.133  out range: 0.000 . 0.148 . 0.992\n",
      "Linear                         inp range: 0.000 . 0.148 . 0.992  out range: -0.999 . 0.362 . 1.074\n",
      "Sequential                     inp range: 0.000 . 0.114 . 0.992  out range: -0.999 . 0.362 . 1.074\n",
      "Linear                         inp range: 0.000 . 0.114 . 0.992  out range: -3.272 . 0.425 . 2.907\n",
      "AnnealedLeakyClippedRelu       inp range: -3.272 . 0.425 . 2.907  out range: 0.000 . 0.231 . 0.992\n",
      "Linear                         inp range: 0.000 . 0.231 . 0.992  out range: -1.980 . 0.299 . 1.134\n",
      "AnnealedLeakyClippedRelu       inp range: -1.980 . 0.299 . 1.134  out range: 0.000 . 0.164 . 0.992\n",
      "Linear                         inp range: 0.000 . 0.164 . 0.992  out range: -1.239 . 0.406 . 1.030\n",
      "Sequential                     inp range: 0.000 . 0.114 . 0.992  out range: -1.239 . 0.406 . 1.030\n",
      "Linear                         inp range: 0.000 . 0.114 . 0.992  out range: -2.904 . 0.405 . 3.004\n",
      "AnnealedLeakyClippedRelu       inp range: -2.904 . 0.405 . 3.004  out range: 0.000 . 0.220 . 0.992\n",
      "Linear                         inp range: 0.000 . 0.220 . 0.992  out range: -1.960 . 0.291 . 1.112\n",
      "AnnealedLeakyClippedRelu       inp range: -1.960 . 0.291 . 1.112  out range: 0.000 . 0.152 . 0.992\n",
      "Linear                         inp range: 0.000 . 0.152 . 0.992  out range: -0.924 . 0.382 . 1.205\n",
      "Sequential                     inp range: 0.000 . 0.114 . 0.992  out range: -0.924 . 0.382 . 1.205\n",
      "Linear                         inp range: 0.000 . 0.114 . 0.992  out range: -2.713 . 0.414 . 2.483\n",
      "AnnealedLeakyClippedRelu       inp range: -2.713 . 0.414 . 2.483  out range: 0.000 . 0.223 . 0.992\n",
      "Linear                         inp range: 0.000 . 0.223 . 0.992  out range: -2.116 . 0.330 . 1.247\n",
      "AnnealedLeakyClippedRelu       inp range: -2.116 . 0.330 . 1.247  out range: 0.000 . 0.166 . 0.992\n",
      "Linear                         inp range: 0.000 . 0.166 . 0.992  out range: -1.026 . 0.400 . 1.131\n",
      "Sequential                     inp range: 0.000 . 0.114 . 0.992  out range: -1.026 . 0.400 . 1.131\n",
      "Linear                         inp range: 0.000 . 0.114 . 0.992  out range: -2.788 . 0.408 . 3.205\n",
      "AnnealedLeakyClippedRelu       inp range: -2.788 . 0.408 . 3.205  out range: 0.000 . 0.219 . 0.992\n",
      "Linear                         inp range: 0.000 . 0.219 . 0.992  out range: -1.997 . 0.285 . 1.144\n",
      "AnnealedLeakyClippedRelu       inp range: -1.997 . 0.285 . 1.144  out range: 0.000 . 0.173 . 0.992\n",
      "Linear                         inp range: 0.000 . 0.173 . 0.992  out range: -1.136 . 0.407 . 1.062\n",
      "Sequential                     inp range: 0.000 . 0.114 . 0.992  out range: -1.136 . 0.407 . 1.062\n",
      "Linear                         inp range: 0.000 . 0.114 . 0.992  out range: -2.564 . 0.414 . 3.128\n",
      "AnnealedLeakyClippedRelu       inp range: -2.564 . 0.414 . 3.128  out range: 0.000 . 0.219 . 0.992\n",
      "Linear                         inp range: 0.000 . 0.219 . 0.992  out range: -1.779 . 0.292 . 1.520\n",
      "AnnealedLeakyClippedRelu       inp range: -1.779 . 0.292 . 1.520  out range: 0.000 . 0.168 . 0.992\n",
      "Linear                         inp range: 0.000 . 0.168 . 0.992  out range: -1.050 . 0.402 . 0.971\n",
      "Sequential                     inp range: 0.000 . 0.114 . 0.992  out range: -1.050 . 0.402 . 0.971\n",
      "Linear                         inp range: 0.000 . 0.114 . 0.992  out range: -2.380 . 0.398 . 3.346\n",
      "AnnealedLeakyClippedRelu       inp range: -2.380 . 0.398 . 3.346  out range: 0.000 . 0.238 . 0.992\n",
      "Linear                         inp range: 0.000 . 0.238 . 0.992  out range: -1.389 . 0.300 . 1.275\n",
      "AnnealedLeakyClippedRelu       inp range: -1.389 . 0.300 . 1.275  out range: 0.000 . 0.175 . 0.992\n",
      "Linear                         inp range: 0.000 . 0.175 . 0.992  out range: -0.938 . 0.438 . 1.256\n",
      "Sequential                     inp range: 0.000 . 0.114 . 0.992  out range: -0.938 . 0.438 . 1.256\n",
      "Linear                         inp range: 0.000 . 0.114 . 0.992  out range: -3.544 . 0.453 . 2.930\n",
      "AnnealedLeakyClippedRelu       inp range: -3.544 . 0.453 . 2.930  out range: 0.000 . 0.247 . 0.992\n",
      "Linear                         inp range: 0.000 . 0.247 . 0.992  out range: -1.457 . 0.340 . 1.154\n",
      "AnnealedLeakyClippedRelu       inp range: -1.457 . 0.340 . 1.154  out range: 0.000 . 0.186 . 0.992\n",
      "Linear                         inp range: 0.000 . 0.186 . 0.992  out range: -0.880 . 0.411 . 1.262\n",
      "Sequential                     inp range: 0.000 . 0.114 . 0.992  out range: -0.880 . 0.411 . 1.262\n",
      "Linear                         inp range: 0.000 . 0.114 . 0.992  out range: -3.096 . 0.452 . 2.833\n",
      "AnnealedLeakyClippedRelu       inp range: -3.096 . 0.452 . 2.833  out range: 0.000 . 0.237 . 0.992\n",
      "Linear                         inp range: 0.000 . 0.237 . 0.992  out range: -1.710 . 0.299 . 1.773\n",
      "AnnealedLeakyClippedRelu       inp range: -1.710 . 0.299 . 1.773  out range: 0.000 . 0.174 . 0.992\n",
      "Linear                         inp range: 0.000 . 0.174 . 0.992  out range: -0.996 . 0.400 . 1.032\n",
      "Sequential                     inp range: 0.000 . 0.114 . 0.992  out range: -0.996 . 0.400 . 1.032\n",
      "Linear                         inp range: 0.000 . 0.114 . 0.992  out range: -3.595 . 0.415 . 3.615\n",
      "AnnealedLeakyClippedRelu       inp range: -3.595 . 0.415 . 3.615  out range: 0.000 . 0.211 . 0.992\n",
      "Linear                         inp range: 0.000 . 0.211 . 0.992  out range: -1.243 . 0.265 . 1.257\n",
      "AnnealedLeakyClippedRelu       inp range: -1.243 . 0.265 . 1.257  out range: 0.000 . 0.167 . 0.992\n",
      "Linear                         inp range: 0.000 . 0.167 . 0.992  out range: -0.891 . 0.332 . 0.781\n",
      "Sequential                     inp range: 0.000 . 0.114 . 0.992  out range: -0.891 . 0.332 . 0.781\n",
      "Linear                         inp range: 0.000 . 0.114 . 0.992  out range: -3.255 . 0.428 . 3.077\n",
      "AnnealedLeakyClippedRelu       inp range: -3.255 . 0.428 . 3.077  out range: 0.000 . 0.221 . 0.992\n",
      "Linear                         inp range: 0.000 . 0.221 . 0.992  out range: -1.107 . 0.257 . 1.468\n",
      "AnnealedLeakyClippedRelu       inp range: -1.107 . 0.257 . 1.468  out range: 0.000 . 0.173 . 0.992\n",
      "Linear                         inp range: 0.000 . 0.173 . 0.992  out range: -0.804 . 0.359 . 1.050\n",
      "Sequential                     inp range: 0.000 . 0.114 . 0.992  out range: -0.804 . 0.359 . 1.050\n",
      "Linear                         inp range: 0.000 . 0.114 . 0.992  out range: -2.761 . 0.386 . 2.725\n",
      "AnnealedLeakyClippedRelu       inp range: -2.761 . 0.386 . 2.725  out range: 0.000 . 0.221 . 0.992\n",
      "Linear                         inp range: 0.000 . 0.221 . 0.992  out range: -1.604 . 0.274 . 1.352\n",
      "AnnealedLeakyClippedRelu       inp range: -1.604 . 0.274 . 1.352  out range: 0.000 . 0.159 . 0.992\n",
      "Linear                         inp range: 0.000 . 0.159 . 0.992  out range: -0.780 . 0.372 . 1.124\n",
      "Sequential                     inp range: 0.000 . 0.114 . 0.992  out range: -0.780 . 0.372 . 1.124\n",
      "Linear                         inp range: 0.000 . 0.114 . 0.992  out range: -2.838 . 0.445 . 3.520\n",
      "AnnealedLeakyClippedRelu       inp range: -2.838 . 0.445 . 3.520  out range: 0.000 . 0.246 . 0.992\n",
      "Linear                         inp range: 0.000 . 0.246 . 0.992  out range: -1.944 . 0.321 . 1.705\n",
      "AnnealedLeakyClippedRelu       inp range: -1.944 . 0.321 . 1.705  out range: 0.000 . 0.170 . 0.992\n",
      "Linear                         inp range: 0.000 . 0.170 . 0.992  out range: -0.827 . 0.342 . 0.775\n",
      "Sequential                     inp range: 0.000 . 0.114 . 0.992  out range: -0.827 . 0.342 . 0.775\n",
      "Linear                         inp range: 0.000 . 0.114 . 0.992  out range: -2.736 . 0.369 . 2.831\n",
      "AnnealedLeakyClippedRelu       inp range: -2.736 . 0.369 . 2.831  out range: 0.000 . 0.194 . 0.992\n",
      "Linear                         inp range: 0.000 . 0.194 . 0.992  out range: -1.634 . 0.255 . 1.137\n",
      "AnnealedLeakyClippedRelu       inp range: -1.634 . 0.255 . 1.137  out range: 0.000 . 0.137 . 0.992\n",
      "Linear                         inp range: 0.000 . 0.137 . 0.992  out range: -0.472 . 0.209 . 0.919\n",
      "Sequential                     inp range: 0.000 . 0.114 . 0.992  out range: -0.472 . 0.209 . 0.919\n",
      "Linear                         inp range: 0.000 . 0.114 . 0.992  out range: -2.608 . 0.358 . 3.213\n",
      "AnnealedLeakyClippedRelu       inp range: -2.608 . 0.358 . 3.213  out range: 0.000 . 0.219 . 0.992\n",
      "Linear                         inp range: 0.000 . 0.219 . 0.992  out range: -1.198 . 0.226 . 1.154\n",
      "AnnealedLeakyClippedRelu       inp range: -1.198 . 0.226 . 1.154  out range: 0.000 . 0.140 . 0.992\n",
      "Linear                         inp range: 0.000 . 0.140 . 0.992  out range: -0.443 . 0.203 . 0.668\n",
      "Sequential                     inp range: 0.000 . 0.114 . 0.992  out range: -0.443 . 0.203 . 0.668\n",
      "Linear                         inp range: 0.000 . 0.114 . 0.992  out range: -2.722 . 0.356 . 2.864\n",
      "AnnealedLeakyClippedRelu       inp range: -2.722 . 0.356 . 2.864  out range: 0.000 . 0.199 . 0.992\n",
      "Linear                         inp range: 0.000 . 0.199 . 0.992  out range: -1.538 . 0.228 . 1.209\n",
      "AnnealedLeakyClippedRelu       inp range: -1.538 . 0.228 . 1.209  out range: 0.000 . 0.122 . 0.992\n",
      "Linear                         inp range: 0.000 . 0.122 . 0.992  out range: -0.388 . 0.227 . 0.963\n",
      "Sequential                     inp range: 0.000 . 0.114 . 0.992  out range: -0.388 . 0.227 . 0.963\n",
      "Linear                         inp range: 0.000 . 0.114 . 0.992  out range: -2.200 . 0.359 . 2.883\n",
      "AnnealedLeakyClippedRelu       inp range: -2.200 . 0.359 . 2.883  out range: 0.000 . 0.215 . 0.992\n",
      "Linear                         inp range: 0.000 . 0.215 . 0.992  out range: -1.350 . 0.238 . 1.064\n",
      "AnnealedLeakyClippedRelu       inp range: -1.350 . 0.238 . 1.064  out range: 0.000 . 0.133 . 0.992\n",
      "Linear                         inp range: 0.000 . 0.133 . 0.992  out range: -0.605 . 0.223 . 0.616\n",
      "Sequential                     inp range: 0.000 . 0.114 . 0.992  out range: -0.605 . 0.223 . 0.616\n",
      "Linear                         inp range: 0.000 . 0.114 . 0.992  out range: -1.294 . 0.207 . 2.016\n",
      "AnnealedLeakyClippedRelu       inp range: -1.294 . 0.207 . 2.016  out range: 0.000 . 0.119 . 0.992\n",
      "Linear                         inp range: 0.000 . 0.119 . 0.992  out range: -0.575 . 0.159 . 0.634\n",
      "AnnealedLeakyClippedRelu       inp range: -0.575 . 0.159 . 0.634  out range: 0.000 . 0.098 . 0.634\n",
      "Linear                         inp range: 0.000 . 0.098 . 0.634  out range: -0.180 . 0.029 . 0.034\n",
      "Sequential                     inp range: 0.000 . 0.114 . 0.992  out range: -0.180 . 0.029 . 0.034\n",
      "Linear                         inp range: 0.000 . 0.114 . 0.992  out range: -1.127 . 0.208 . 1.792\n",
      "AnnealedLeakyClippedRelu       inp range: -1.127 . 0.208 . 1.792  out range: 0.000 . 0.130 . 0.992\n",
      "Linear                         inp range: 0.000 . 0.130 . 0.992  out range: -0.718 . 0.170 . 1.123\n",
      "AnnealedLeakyClippedRelu       inp range: -0.718 . 0.170 . 1.123  out range: 0.000 . 0.105 . 0.992\n",
      "Linear                         inp range: 0.000 . 0.105 . 0.992  out range: -0.173 . 0.035 . 0.150\n",
      "Sequential                     inp range: 0.000 . 0.114 . 0.992  out range: -0.173 . 0.035 . 0.150\n",
      "Linear                         inp range: 0.000 . 0.114 . 0.992  out range: -1.020 . 0.208 . 1.823\n",
      "AnnealedLeakyClippedRelu       inp range: -1.020 . 0.208 . 1.823  out range: 0.000 . 0.140 . 0.992\n",
      "Linear                         inp range: 0.000 . 0.140 . 0.992  out range: -0.852 . 0.156 . 0.734\n",
      "AnnealedLeakyClippedRelu       inp range: -0.852 . 0.156 . 0.734  out range: 0.000 . 0.092 . 0.734\n",
      "Linear                         inp range: 0.000 . 0.092 . 0.734  out range: -0.085 . 0.058 . 0.283\n",
      "Sequential                     inp range: 0.000 . 0.114 . 0.992  out range: -0.085 . 0.058 . 0.283\n",
      "Linear                         inp range: 0.000 . 0.114 . 0.992  out range: -1.024 . 0.181 . 1.790\n",
      "AnnealedLeakyClippedRelu       inp range: -1.024 . 0.181 . 1.790  out range: 0.000 . 0.120 . 0.992\n",
      "Linear                         inp range: 0.000 . 0.120 . 0.992  out range: -0.934 . 0.157 . 0.720\n",
      "AnnealedLeakyClippedRelu       inp range: -0.934 . 0.157 . 0.720  out range: 0.000 . 0.090 . 0.720\n",
      "Linear                         inp range: 0.000 . 0.090 . 0.720  out range: -0.071 . 0.030 . 0.092\n",
      "Sequential                     inp range: 0.000 . 0.114 . 0.992  out range: -0.071 . 0.030 . 0.092\n",
      "Tanh                           inp range: -2.100 . 0.531 . 1.817  out range: -0.970 . 0.397 . 0.949\n",
      "Nnue                           inp range: 0.000 . 8907.040 . 105654.000  out range: -0.970 . 0.397 . 0.949\n"
     ]
    }
   ],
   "source": [
    "outputs = model(indices, offsets, which_model, lengths)\n",
    "lose = outputs[targets == -1]\n",
    "draw = outputs[targets == 0]\n",
    "win = outputs[targets == 1]"
   ]
  },
  {
   "cell_type": "code",
   "execution_count": 11,
   "id": "5ca029ec",
   "metadata": {},
   "outputs": [],
   "source": [
    "# Each clipped relu wants inputs from -128 to +127 for its active range.\n",
    "# If the largest intermediates we care to represent are -2.0 to +2.0,\n",
    "# then this means that -2.0 should map to -32768, and +1.99... should map to +32767.\n",
    "# Therefore we scale down inputs by 128 before passing them in to the clipped relu.\n",
    "# Therefore, 128 * 128 = 1684 represents 1.0 as an input to relu.\n",
    "# This means that a quantized weight of 128 represents the weight 1.0 in the original.\n",
    "# There is one exception to this, in the original embedding layer, and all biases,\n",
    "# where 16384 represents 1.0."
   ]
  },
  {
   "cell_type": "code",
   "execution_count": 12,
   "id": "a42f294a",
   "metadata": {},
   "outputs": [
    {
     "name": "stdout",
     "output_type": "stream",
     "text": [
      "main_bias            (256,)          -0.211 0.031 zero=0.000%\n",
      "main_embed.weight    (106496, 256)   -0.334 0.356 zero=0.719%\n",
      "main_net.0.weight    (16, 256)       -0.062 0.062 zero=6.519%\n",
      "main_net.0.bias      (16,)           -0.060 0.061 zero=0.000%\n",
      "main_net.2.weight    (32, 16)        -0.250 0.249 zero=0.195%\n",
      "main_net.2.bias      (32,)           -0.249 0.244 zero=0.000%\n",
      "main_net.4.weight    (1, 32)         -0.173 0.171 zero=3.125%\n",
      "main_net.4.bias      (1,)            -0.125 -0.125 zero=0.000%\n",
      "networks.0.0.weight  (16, 256)       -0.231 0.222 zero=3.931%\n",
      "networks.0.0.bias    (16,)           -0.109 0.069 zero=0.000%\n",
      "networks.0.2.weight  (32, 16)        -0.398 0.412 zero=1.367%\n",
      "networks.0.2.bias    (32,)           -0.208 0.250 zero=0.000%\n",
      "networks.0.4.weight  (1, 32)         -0.235 0.218 zero=3.125%\n",
      "networks.0.4.bias    (1,)            -0.105 -0.105 zero=0.000%\n",
      "networks.1.0.weight  (16, 256)       -0.206 0.239 zero=4.150%\n",
      "networks.1.0.bias    (16,)           -0.099 0.034 zero=0.000%\n",
      "networks.1.2.weight  (32, 16)        -0.346 0.348 zero=0.977%\n",
      "networks.1.2.bias    (32,)           -0.237 0.234 zero=0.000%\n",
      "networks.1.4.weight  (1, 32)         -0.231 0.246 zero=0.000%\n",
      "networks.1.4.bias    (1,)            0.038 0.038 zero=0.000%\n",
      "networks.2.0.weight  (16, 256)       -0.253 0.240 zero=4.175%\n",
      "networks.2.0.bias    (16,)           -0.098 0.080 zero=0.000%\n",
      "networks.2.2.weight  (32, 16)        -0.334 0.360 zero=1.562%\n",
      "networks.2.2.bias    (32,)           -0.199 0.244 zero=0.000%\n",
      "networks.2.4.weight  (1, 32)         -0.216 0.235 zero=6.250%\n",
      "networks.2.4.bias    (1,)            -0.013 -0.013 zero=0.000%\n",
      "networks.3.0.weight  (16, 256)       -0.224 0.250 zero=4.224%\n",
      "networks.3.0.bias    (16,)           -0.133 0.043 zero=0.000%\n",
      "networks.3.2.weight  (32, 16)        -0.379 0.377 zero=2.344%\n",
      "networks.3.2.bias    (32,)           -0.234 0.183 zero=0.000%\n",
      "networks.3.4.weight  (1, 32)         -0.228 0.242 zero=0.000%\n",
      "networks.3.4.bias    (1,)            0.013 0.013 zero=0.000%\n",
      "networks.4.0.weight  (16, 256)       -0.214 0.198 zero=4.663%\n",
      "networks.4.0.bias    (16,)           -0.146 0.043 zero=0.000%\n",
      "networks.4.2.weight  (32, 16)        -0.345 0.379 zero=2.148%\n",
      "networks.4.2.bias    (32,)           -0.262 0.255 zero=0.000%\n",
      "networks.4.4.weight  (1, 32)         -0.202 0.223 zero=6.250%\n",
      "networks.4.4.bias    (1,)            -0.108 -0.108 zero=0.000%\n",
      "networks.5.0.weight  (16, 256)       -0.227 0.302 zero=4.541%\n",
      "networks.5.0.bias    (16,)           -0.114 0.122 zero=0.000%\n",
      "networks.5.2.weight  (32, 16)        -0.339 0.383 zero=2.344%\n",
      "networks.5.2.bias    (32,)           -0.283 0.234 zero=0.000%\n",
      "networks.5.4.weight  (1, 32)         -0.223 0.180 zero=6.250%\n",
      "networks.5.4.bias    (1,)            -0.124 -0.124 zero=0.000%\n",
      "networks.6.0.weight  (16, 256)       -0.216 0.199 zero=4.907%\n",
      "networks.6.0.bias    (16,)           -0.099 0.044 zero=0.000%\n",
      "networks.6.2.weight  (32, 16)        -0.328 0.338 zero=2.148%\n",
      "networks.6.2.bias    (32,)           -0.221 0.205 zero=0.000%\n",
      "networks.6.4.weight  (1, 32)         -0.221 0.176 zero=0.000%\n",
      "networks.6.4.bias    (1,)            -0.036 -0.036 zero=0.000%\n",
      "networks.7.0.weight  (16, 256)       -0.227 0.190 zero=4.419%\n",
      "networks.7.0.bias    (16,)           -0.155 0.030 zero=0.000%\n",
      "networks.7.2.weight  (32, 16)        -0.333 0.324 zero=1.367%\n",
      "networks.7.2.bias    (32,)           -0.243 0.175 zero=0.000%\n",
      "networks.7.4.weight  (1, 32)         -0.213 0.218 zero=3.125%\n",
      "networks.7.4.bias    (1,)            0.112 0.112 zero=0.000%\n",
      "networks.8.0.weight  (16, 256)       -0.225 0.176 zero=3.906%\n",
      "networks.8.0.bias    (16,)           -0.081 0.033 zero=0.000%\n",
      "networks.8.2.weight  (32, 16)        -0.376 0.324 zero=2.344%\n",
      "networks.8.2.bias    (32,)           -0.203 0.211 zero=0.000%\n",
      "networks.8.4.weight  (1, 32)         -0.213 0.193 zero=0.000%\n",
      "networks.8.4.bias    (1,)            0.053 0.053 zero=0.000%\n",
      "networks.9.0.weight  (16, 256)       -0.218 0.216 zero=5.078%\n",
      "networks.9.0.bias    (16,)           -0.083 0.050 zero=0.000%\n",
      "networks.9.2.weight  (32, 16)        -0.363 0.336 zero=1.172%\n",
      "networks.9.2.bias    (32,)           -0.260 0.241 zero=0.000%\n",
      "networks.9.4.weight  (1, 32)         -0.171 0.183 zero=0.000%\n",
      "networks.9.4.bias    (1,)            -0.004 -0.004 zero=0.000%\n",
      "networks.10.0.weight (16, 256)       -0.203 0.184 zero=4.614%\n",
      "networks.10.0.bias   (16,)           -0.106 0.044 zero=0.000%\n",
      "networks.10.2.weight (32, 16)        -0.362 0.402 zero=1.367%\n",
      "networks.10.2.bias   (32,)           -0.265 0.238 zero=0.000%\n",
      "networks.10.4.weight (1, 32)         -0.225 0.172 zero=0.000%\n",
      "networks.10.4.bias   (1,)            0.085 0.085 zero=0.000%\n",
      "networks.11.0.weight (16, 256)       -0.219 0.192 zero=4.175%\n",
      "networks.11.0.bias   (16,)           -0.077 0.099 zero=0.000%\n",
      "networks.11.2.weight (32, 16)        -0.379 0.337 zero=0.391%\n",
      "networks.11.2.bias   (32,)           -0.226 0.233 zero=0.000%\n",
      "networks.11.4.weight (1, 32)         -0.232 0.173 zero=3.125%\n",
      "networks.11.4.bias   (1,)            0.015 0.015 zero=0.000%\n",
      "networks.12.0.weight (16, 256)       -0.284 0.185 zero=5.225%\n",
      "networks.12.0.bias   (16,)           -0.078 0.078 zero=0.000%\n",
      "networks.12.2.weight (32, 16)        -0.393 0.346 zero=0.977%\n",
      "networks.12.2.bias   (32,)           -0.192 0.202 zero=0.000%\n",
      "networks.12.4.weight (1, 32)         -0.199 0.199 zero=0.000%\n",
      "networks.12.4.bias   (1,)            0.113 0.113 zero=0.000%\n",
      "networks.13.0.weight (16, 256)       -0.213 0.205 zero=4.150%\n",
      "networks.13.0.bias   (16,)           -0.113 0.104 zero=0.000%\n",
      "networks.13.2.weight (32, 16)        -0.397 0.365 zero=1.367%\n",
      "networks.13.2.bias   (32,)           -0.229 0.237 zero=0.000%\n",
      "networks.13.4.weight (1, 32)         -0.217 0.210 zero=0.000%\n",
      "networks.13.4.bias   (1,)            -0.129 -0.129 zero=0.000%\n",
      "networks.14.0.weight (16, 256)       -0.229 0.192 zero=4.712%\n",
      "networks.14.0.bias   (16,)           -0.077 0.047 zero=0.000%\n",
      "networks.14.2.weight (32, 16)        -0.401 0.327 zero=1.758%\n",
      "networks.14.2.bias   (32,)           -0.222 0.248 zero=0.000%\n",
      "networks.14.4.weight (1, 32)         -0.185 0.201 zero=0.000%\n",
      "networks.14.4.bias   (1,)            -0.072 -0.072 zero=0.000%\n",
      "networks.15.0.weight (16, 256)       -0.220 0.203 zero=4.858%\n",
      "networks.15.0.bias   (16,)           -0.090 0.063 zero=0.000%\n",
      "networks.15.2.weight (32, 16)        -0.403 0.323 zero=1.562%\n",
      "networks.15.2.bias   (32,)           -0.221 0.241 zero=0.000%\n",
      "networks.15.4.weight (1, 32)         -0.250 0.217 zero=0.000%\n",
      "networks.15.4.bias   (1,)            -0.026 -0.026 zero=0.000%\n",
      "networks.16.0.weight (16, 256)       -0.276 0.227 zero=3.882%\n",
      "networks.16.0.bias   (16,)           -0.064 0.073 zero=0.000%\n",
      "networks.16.2.weight (32, 16)        -0.381 0.424 zero=1.562%\n",
      "networks.16.2.bias   (32,)           -0.238 0.201 zero=0.000%\n",
      "networks.16.4.weight (1, 32)         -0.264 0.174 zero=9.375%\n",
      "networks.16.4.bias   (1,)            -0.111 -0.111 zero=0.000%\n",
      "networks.17.0.weight (16, 256)       -0.200 0.200 zero=4.443%\n",
      "networks.17.0.bias   (16,)           -0.109 0.091 zero=0.000%\n",
      "networks.17.2.weight (32, 16)        -0.393 0.371 zero=1.953%\n",
      "networks.17.2.bias   (32,)           -0.216 0.219 zero=0.000%\n",
      "networks.17.4.weight (1, 32)         -0.219 0.234 zero=9.375%\n",
      "networks.17.4.bias   (1,)            0.158 0.158 zero=0.000%\n",
      "networks.18.0.weight (16, 256)       -0.224 0.204 zero=4.004%\n",
      "networks.18.0.bias   (16,)           -0.063 0.057 zero=0.000%\n",
      "networks.18.2.weight (32, 16)        -0.366 0.373 zero=1.562%\n",
      "networks.18.2.bias   (32,)           -0.294 0.245 zero=0.000%\n",
      "networks.18.4.weight (1, 32)         -0.204 0.182 zero=3.125%\n",
      "networks.18.4.bias   (1,)            0.118 0.118 zero=0.000%\n",
      "networks.19.0.weight (16, 256)       -0.219 0.195 zero=4.224%\n",
      "networks.19.0.bias   (16,)           -0.099 0.029 zero=0.000%\n",
      "networks.19.2.weight (32, 16)        -0.371 0.365 zero=1.367%\n",
      "networks.19.2.bias   (32,)           -0.253 0.241 zero=0.000%\n",
      "networks.19.4.weight (1, 32)         -0.233 0.161 zero=6.250%\n",
      "networks.19.4.bias   (1,)            0.100 0.100 zero=0.000%\n",
      "networks.20.0.weight (16, 256)       -0.274 0.199 zero=5.151%\n",
      "networks.20.0.bias   (16,)           -0.097 0.068 zero=0.000%\n",
      "networks.20.2.weight (32, 16)        -0.385 0.411 zero=0.977%\n",
      "networks.20.2.bias   (32,)           -0.192 0.222 zero=0.000%\n",
      "networks.20.4.weight (1, 32)         -0.276 0.165 zero=0.000%\n",
      "networks.20.4.bias   (1,)            0.058 0.058 zero=0.000%\n",
      "networks.21.0.weight (16, 256)       -0.240 0.177 zero=4.272%\n",
      "networks.21.0.bias   (16,)           -0.107 0.078 zero=0.000%\n",
      "networks.21.2.weight (32, 16)        -0.440 0.322 zero=2.148%\n",
      "networks.21.2.bias   (32,)           -0.236 0.227 zero=0.000%\n",
      "networks.21.4.weight (1, 32)         -0.180 0.181 zero=3.125%\n",
      "networks.21.4.bias   (1,)            0.048 0.048 zero=0.000%\n",
      "networks.22.0.weight (16, 256)       -0.198 0.214 zero=4.688%\n",
      "networks.22.0.bias   (16,)           -0.117 0.054 zero=0.000%\n",
      "networks.22.2.weight (32, 16)        -0.360 0.383 zero=1.562%\n",
      "networks.22.2.bias   (32,)           -0.214 0.263 zero=0.000%\n",
      "networks.22.4.weight (1, 32)         -0.188 0.245 zero=0.000%\n",
      "networks.22.4.bias   (1,)            -0.022 -0.022 zero=0.000%\n",
      "networks.23.0.weight (16, 256)       -0.227 0.209 zero=4.102%\n",
      "networks.23.0.bias   (16,)           -0.112 0.075 zero=0.000%\n",
      "networks.23.2.weight (32, 16)        -0.448 0.398 zero=1.367%\n",
      "networks.23.2.bias   (32,)           -0.208 0.180 zero=0.000%\n",
      "networks.23.4.weight (1, 32)         -0.229 0.158 zero=3.125%\n",
      "networks.23.4.bias   (1,)            0.014 0.014 zero=0.000%\n",
      "networks.24.0.weight (16, 256)       -0.255 0.225 zero=4.199%\n",
      "networks.24.0.bias   (16,)           -0.068 0.060 zero=0.000%\n",
      "networks.24.2.weight (32, 16)        -0.384 0.333 zero=1.758%\n",
      "networks.24.2.bias   (32,)           -0.265 0.222 zero=0.000%\n",
      "networks.24.4.weight (1, 32)         -0.152 0.169 zero=6.250%\n",
      "networks.24.4.bias   (1,)            0.026 0.026 zero=0.000%\n",
      "networks.25.0.weight (16, 256)       -0.216 0.211 zero=5.005%\n",
      "networks.25.0.bias   (16,)           -0.060 0.091 zero=0.000%\n",
      "networks.25.2.weight (32, 16)        -0.377 0.319 zero=1.562%\n",
      "networks.25.2.bias   (32,)           -0.260 0.198 zero=0.000%\n",
      "networks.25.4.weight (1, 32)         -0.192 0.173 zero=3.125%\n",
      "networks.25.4.bias   (1,)            0.118 0.118 zero=0.000%\n",
      "networks.26.0.weight (16, 256)       -0.226 0.231 zero=4.785%\n",
      "networks.26.0.bias   (16,)           -0.134 0.101 zero=0.000%\n",
      "networks.26.2.weight (32, 16)        -0.374 0.348 zero=1.953%\n",
      "networks.26.2.bias   (32,)           -0.230 0.225 zero=0.000%\n",
      "networks.26.4.weight (1, 32)         -0.204 0.192 zero=3.125%\n",
      "networks.26.4.bias   (1,)            -0.024 -0.024 zero=0.000%\n",
      "networks.27.0.weight (16, 256)       -0.236 0.229 zero=4.907%\n",
      "networks.27.0.bias   (16,)           -0.112 0.057 zero=0.000%\n",
      "networks.27.2.weight (32, 16)        -0.382 0.367 zero=1.758%\n",
      "networks.27.2.bias   (32,)           -0.220 0.192 zero=0.000%\n",
      "networks.27.4.weight (1, 32)         -0.217 0.186 zero=3.125%\n",
      "networks.27.4.bias   (1,)            0.109 0.109 zero=0.000%\n",
      "networks.28.0.weight (16, 256)       -0.496 0.571 zero=6.055%\n",
      "networks.28.0.bias   (16,)           -0.085 0.027 zero=0.000%\n",
      "networks.28.2.weight (32, 16)        -0.272 0.310 zero=1.758%\n",
      "networks.28.2.bias   (32,)           -0.222 0.237 zero=0.000%\n",
      "networks.28.4.weight (1, 32)         -0.132 0.123 zero=3.125%\n",
      "networks.28.4.bias   (1,)            0.058 0.058 zero=0.000%\n",
      "networks.29.0.weight (16, 256)       -0.387 0.500 zero=5.713%\n",
      "networks.29.0.bias   (16,)           -0.098 0.038 zero=0.000%\n",
      "networks.29.2.weight (32, 16)        -0.328 0.326 zero=2.734%\n",
      "networks.29.2.bias   (32,)           -0.228 0.242 zero=0.000%\n",
      "networks.29.4.weight (1, 32)         -0.199 0.156 zero=6.250%\n",
      "networks.29.4.bias   (1,)            -0.036 -0.036 zero=0.000%\n",
      "networks.30.0.weight (16, 256)       -0.278 0.405 zero=6.177%\n",
      "networks.30.0.bias   (16,)           -0.072 0.047 zero=0.000%\n",
      "networks.30.2.weight (32, 16)        -0.306 0.301 zero=1.562%\n",
      "networks.30.2.bias   (32,)           -0.181 0.228 zero=0.000%\n",
      "networks.30.4.weight (1, 32)         -0.142 0.172 zero=0.000%\n",
      "networks.30.4.bias   (1,)            -0.080 -0.080 zero=0.000%\n",
      "networks.31.0.weight (16, 256)       -0.457 0.410 zero=5.884%\n",
      "networks.31.0.bias   (16,)           -0.114 0.026 zero=0.000%\n",
      "networks.31.2.weight (32, 16)        -0.284 0.325 zero=1.367%\n",
      "networks.31.2.bias   (32,)           -0.227 0.223 zero=0.000%\n",
      "networks.31.4.weight (1, 32)         -0.152 0.137 zero=6.250%\n",
      "networks.31.4.bias   (1,)            0.035 0.035 zero=0.000%\n"
     ]
    }
   ],
   "source": [
    "new_values = {}\n",
    "quantized_weights = {}\n",
    "output_right_shift = {}\n",
    "for k, v in model.named_parameters():\n",
    "    output_right_shift[k] = 0\n",
    "    if \"main_embed\" in k or k == \"main_bias\":\n",
    "        quantized = torch.round(v * 2048).to(torch.int16)\n",
    "        f = quantized.float().detach() / 2048\n",
    "        output_right_shift[k] = 11\n",
    "    elif \"bias\" in k:\n",
    "        quantized = torch.round(v * 16384).to(torch.int16)\n",
    "        f = quantized.float().detach() / 16384\n",
    "        output_right_shift[k] = 14\n",
    "    else:\n",
    "        quantized = torch.round(v * 128).to(torch.int8)\n",
    "        f = quantized.float().detach() / 128\n",
    "        output_right_shift[k] = 7\n",
    "    zero_fraction = (quantized == 0).sum() / v.numel()\n",
    "    new_values[k] = f\n",
    "    quantized_weights[k] = quantized\n",
    "    print(f\"{k:20} {str(tuple(v.shape)):15} {v.min().item():.3f} {v.max().item():.3f} zero={100 * zero_fraction:.3f}%\")"
   ]
  },
  {
   "cell_type": "code",
   "execution_count": 13,
   "id": "cf63997a",
   "metadata": {},
   "outputs": [
    {
     "data": {
      "text/plain": [
       "<All keys matched successfully>"
      ]
     },
     "execution_count": 13,
     "metadata": {},
     "output_type": "execute_result"
    }
   ],
   "source": [
    "model.load_state_dict(new_values)"
   ]
  },
  {
   "cell_type": "code",
   "execution_count": 14,
   "id": "c71344b2",
   "metadata": {},
   "outputs": [
    {
     "name": "stdout",
     "output_type": "stream",
     "text": [
      "EmbeddingBag                   inp range: 0.000 . 8907.040 . 105654.000  out range: -2.568 . 0.451 . 1.418\n",
      "AnnealedLeakyClippedRelu       inp range: -2.695 . 0.462 . 1.313  out range: 0.000 . 0.114 . 0.992\n",
      "Linear                         inp range: 0.000 . 0.114 . 0.992  out range: -2.512 . 0.376 . 3.697\n",
      "AnnealedLeakyClippedRelu       inp range: -2.512 . 0.376 . 3.697  out range: 0.000 . 0.201 . 0.992\n",
      "Linear                         inp range: 0.000 . 0.201 . 0.992  out range: -1.534 . 0.257 . 1.923\n",
      "AnnealedLeakyClippedRelu       inp range: -1.534 . 0.257 . 1.923  out range: 0.000 . 0.156 . 0.992\n",
      "Linear                         inp range: 0.000 . 0.156 . 0.992  out range: -1.237 . 0.417 . 1.508\n",
      "Sequential                     inp range: 0.000 . 0.114 . 0.992  out range: -1.237 . 0.417 . 1.508\n",
      "Linear                         inp range: 0.000 . 0.114 . 0.992  out range: -2.781 . 0.365 . 2.933\n",
      "AnnealedLeakyClippedRelu       inp range: -2.781 . 0.365 . 2.933  out range: 0.000 . 0.191 . 0.992\n",
      "Linear                         inp range: 0.000 . 0.191 . 0.992  out range: -1.986 . 0.251 . 1.509\n",
      "AnnealedLeakyClippedRelu       inp range: -1.986 . 0.251 . 1.509  out range: 0.000 . 0.144 . 0.992\n",
      "Linear                         inp range: 0.000 . 0.144 . 0.992  out range: -1.288 . 0.379 . 1.079\n",
      "Sequential                     inp range: 0.000 . 0.114 . 0.992  out range: -1.288 . 0.379 . 1.079\n",
      "Linear                         inp range: 0.000 . 0.114 . 0.992  out range: -3.658 . 0.382 . 2.395\n",
      "AnnealedLeakyClippedRelu       inp range: -3.658 . 0.382 . 2.395  out range: 0.000 . 0.187 . 0.992\n",
      "Linear                         inp range: 0.000 . 0.187 . 0.992  out range: -1.845 . 0.246 . 1.705\n",
      "AnnealedLeakyClippedRelu       inp range: -1.845 . 0.246 . 1.705  out range: 0.000 . 0.139 . 0.992\n",
      "Linear                         inp range: 0.000 . 0.139 . 0.992  out range: -1.351 . 0.334 . 1.058\n",
      "Sequential                     inp range: 0.000 . 0.114 . 0.992  out range: -1.351 . 0.334 . 1.058\n",
      "Linear                         inp range: 0.000 . 0.114 . 0.992  out range: -3.338 . 0.392 . 2.861\n",
      "AnnealedLeakyClippedRelu       inp range: -3.338 . 0.392 . 2.861  out range: 0.000 . 0.196 . 0.992\n",
      "Linear                         inp range: 0.000 . 0.196 . 0.992  out range: -1.722 . 0.220 . 1.279\n",
      "AnnealedLeakyClippedRelu       inp range: -1.722 . 0.220 . 1.279  out range: 0.000 . 0.128 . 0.992\n",
      "Linear                         inp range: 0.000 . 0.128 . 0.992  out range: -1.096 . 0.333 . 1.081\n",
      "Sequential                     inp range: 0.000 . 0.114 . 0.992  out range: -1.096 . 0.333 . 1.081\n",
      "Linear                         inp range: 0.000 . 0.114 . 0.992  out range: -2.512 . 0.350 . 2.791\n",
      "AnnealedLeakyClippedRelu       inp range: -2.512 . 0.350 . 2.791  out range: 0.000 . 0.201 . 0.992\n",
      "Linear                         inp range: 0.000 . 0.201 . 0.992  out range: -1.235 . 0.226 . 1.237\n",
      "AnnealedLeakyClippedRelu       inp range: -1.235 . 0.226 . 1.237  out range: 0.000 . 0.150 . 0.992\n",
      "Linear                         inp range: 0.000 . 0.150 . 0.992  out range: -1.288 . 0.336 . 1.056\n",
      "Sequential                     inp range: 0.000 . 0.114 . 0.992  out range: -1.288 . 0.336 . 1.056\n",
      "Linear                         inp range: 0.000 . 0.114 . 0.992  out range: -2.931 . 0.363 . 2.858\n",
      "AnnealedLeakyClippedRelu       inp range: -2.931 . 0.363 . 2.858  out range: 0.000 . 0.190 . 0.992\n",
      "Linear                         inp range: 0.000 . 0.190 . 0.992  out range: -1.334 . 0.235 . 1.193\n",
      "AnnealedLeakyClippedRelu       inp range: -1.334 . 0.235 . 1.193  out range: 0.000 . 0.142 . 0.992\n",
      "Linear                         inp range: 0.000 . 0.142 . 0.992  out range: -1.005 . 0.299 . 1.029\n",
      "Sequential                     inp range: 0.000 . 0.114 . 0.992  out range: -1.005 . 0.299 . 1.029\n",
      "Linear                         inp range: 0.000 . 0.114 . 0.992  out range: -2.047 . 0.335 . 2.914\n",
      "AnnealedLeakyClippedRelu       inp range: -2.047 . 0.335 . 2.914  out range: 0.000 . 0.192 . 0.992\n",
      "Linear                         inp range: 0.000 . 0.192 . 0.992  out range: -1.401 . 0.236 . 1.458\n",
      "AnnealedLeakyClippedRelu       inp range: -1.401 . 0.236 . 1.458  out range: 0.000 . 0.139 . 0.992\n",
      "Linear                         inp range: 0.000 . 0.139 . 0.992  out range: -1.050 . 0.311 . 1.022\n",
      "Sequential                     inp range: 0.000 . 0.114 . 0.992  out range: -1.050 . 0.311 . 1.022\n",
      "Linear                         inp range: 0.000 . 0.114 . 0.992  out range: -2.648 . 0.339 . 2.352\n",
      "AnnealedLeakyClippedRelu       inp range: -2.648 . 0.339 . 2.352  out range: 0.000 . 0.199 . 0.992\n",
      "Linear                         inp range: 0.000 . 0.199 . 0.992  out range: -1.572 . 0.240 . 1.121\n",
      "AnnealedLeakyClippedRelu       inp range: -1.572 . 0.240 . 1.121  out range: 0.000 . 0.143 . 0.992\n",
      "Linear                         inp range: 0.000 . 0.143 . 0.992  out range: -1.034 . 0.310 . 1.117\n",
      "Sequential                     inp range: 0.000 . 0.114 . 0.992  out range: -1.034 . 0.310 . 1.117\n",
      "Linear                         inp range: 0.000 . 0.114 . 0.992  out range: -2.786 . 0.404 . 3.022\n",
      "AnnealedLeakyClippedRelu       inp range: -2.786 . 0.404 . 3.022  out range: 0.000 . 0.224 . 0.992\n",
      "Linear                         inp range: 0.000 . 0.224 . 0.992  out range: -1.918 . 0.285 . 1.272\n",
      "AnnealedLeakyClippedRelu       inp range: -1.918 . 0.285 . 1.272  out range: 0.000 . 0.162 . 0.992\n",
      "Linear                         inp range: 0.000 . 0.162 . 0.992  out range: -1.195 . 0.363 . 1.021\n",
      "Sequential                     inp range: 0.000 . 0.114 . 0.992  out range: -1.195 . 0.363 . 1.021\n",
      "Linear                         inp range: 0.000 . 0.114 . 0.992  out range: -2.777 . 0.381 . 3.108\n",
      "AnnealedLeakyClippedRelu       inp range: -2.777 . 0.381 . 3.108  out range: 0.000 . 0.217 . 0.992\n",
      "Linear                         inp range: 0.000 . 0.217 . 0.992  out range: -1.764 . 0.291 . 1.006\n",
      "AnnealedLeakyClippedRelu       inp range: -1.764 . 0.291 . 1.006  out range: 0.000 . 0.147 . 0.992\n",
      "Linear                         inp range: 0.000 . 0.147 . 0.992  out range: -1.060 . 0.339 . 1.004\n",
      "Sequential                     inp range: 0.000 . 0.114 . 0.992  out range: -1.060 . 0.339 . 1.004\n",
      "Linear                         inp range: 0.000 . 0.114 . 0.992  out range: -2.921 . 0.379 . 2.593\n",
      "AnnealedLeakyClippedRelu       inp range: -2.921 . 0.379 . 2.593  out range: 0.000 . 0.205 . 0.992\n",
      "Linear                         inp range: 0.000 . 0.205 . 0.992  out range: -1.673 . 0.275 . 1.385\n",
      "AnnealedLeakyClippedRelu       inp range: -1.673 . 0.275 . 1.385  out range: 0.000 . 0.161 . 0.992\n",
      "Linear                         inp range: 0.000 . 0.161 . 0.992  out range: -1.059 . 0.372 . 1.227\n",
      "Sequential                     inp range: 0.000 . 0.114 . 0.992  out range: -1.059 . 0.372 . 1.227\n",
      "Linear                         inp range: 0.000 . 0.114 . 0.992  out range: -3.175 . 0.381 . 2.733\n",
      "AnnealedLeakyClippedRelu       inp range: -3.175 . 0.381 . 2.733  out range: 0.000 . 0.216 . 0.992\n",
      "Linear                         inp range: 0.000 . 0.216 . 0.992  out range: -2.228 . 0.297 . 1.123\n",
      "AnnealedLeakyClippedRelu       inp range: -2.228 . 0.297 . 1.123  out range: 0.000 . 0.148 . 0.992\n",
      "Linear                         inp range: 0.000 . 0.148 . 0.992  out range: -1.002 . 0.366 . 1.095\n",
      "Sequential                     inp range: 0.000 . 0.114 . 0.992  out range: -1.002 . 0.366 . 1.095\n",
      "Linear                         inp range: 0.000 . 0.114 . 0.992  out range: -3.272 . 0.425 . 2.893\n",
      "AnnealedLeakyClippedRelu       inp range: -3.272 . 0.425 . 2.893  out range: 0.000 . 0.231 . 0.992\n",
      "Linear                         inp range: 0.000 . 0.231 . 0.992  out range: -1.975 . 0.298 . 1.132\n",
      "AnnealedLeakyClippedRelu       inp range: -1.975 . 0.298 . 1.132  out range: 0.000 . 0.164 . 0.992\n",
      "Linear                         inp range: 0.000 . 0.164 . 0.992  out range: -1.250 . 0.407 . 1.029\n",
      "Sequential                     inp range: 0.000 . 0.114 . 0.992  out range: -1.250 . 0.407 . 1.029\n",
      "Linear                         inp range: 0.000 . 0.114 . 0.992  out range: -2.907 . 0.405 . 3.004\n",
      "AnnealedLeakyClippedRelu       inp range: -2.907 . 0.405 . 3.004  out range: 0.000 . 0.220 . 0.992\n",
      "Linear                         inp range: 0.000 . 0.220 . 0.992  out range: -1.958 . 0.291 . 1.114\n",
      "AnnealedLeakyClippedRelu       inp range: -1.958 . 0.291 . 1.114  out range: 0.000 . 0.152 . 0.992\n",
      "Linear                         inp range: 0.000 . 0.152 . 0.992  out range: -0.916 . 0.382 . 1.210\n",
      "Sequential                     inp range: 0.000 . 0.114 . 0.992  out range: -0.916 . 0.382 . 1.210\n",
      "Linear                         inp range: 0.000 . 0.114 . 0.992  out range: -2.710 . 0.414 . 2.483\n",
      "AnnealedLeakyClippedRelu       inp range: -2.710 . 0.414 . 2.483  out range: 0.000 . 0.224 . 0.992\n",
      "Linear                         inp range: 0.000 . 0.224 . 0.992  out range: -2.119 . 0.331 . 1.249\n",
      "AnnealedLeakyClippedRelu       inp range: -2.119 . 0.331 . 1.249  out range: 0.000 . 0.165 . 0.992\n",
      "Linear                         inp range: 0.000 . 0.165 . 0.992  out range: -1.027 . 0.399 . 1.127\n",
      "Sequential                     inp range: 0.000 . 0.114 . 0.992  out range: -1.027 . 0.399 . 1.127\n",
      "Linear                         inp range: 0.000 . 0.114 . 0.992  out range: -2.772 . 0.407 . 3.184\n",
      "AnnealedLeakyClippedRelu       inp range: -2.772 . 0.407 . 3.184  out range: 0.000 . 0.219 . 0.992\n",
      "Linear                         inp range: 0.000 . 0.219 . 0.992  out range: -2.001 . 0.284 . 1.152\n",
      "AnnealedLeakyClippedRelu       inp range: -2.001 . 0.284 . 1.152  out range: 0.000 . 0.173 . 0.992\n",
      "Linear                         inp range: 0.000 . 0.173 . 0.992  out range: -1.139 . 0.410 . 1.076\n",
      "Sequential                     inp range: 0.000 . 0.114 . 0.992  out range: -1.139 . 0.410 . 1.076\n",
      "Linear                         inp range: 0.000 . 0.114 . 0.992  out range: -2.558 . 0.414 . 3.165\n",
      "AnnealedLeakyClippedRelu       inp range: -2.558 . 0.414 . 3.165  out range: 0.000 . 0.219 . 0.992\n",
      "Linear                         inp range: 0.000 . 0.219 . 0.992  out range: -1.787 . 0.292 . 1.516\n",
      "AnnealedLeakyClippedRelu       inp range: -1.787 . 0.292 . 1.516  out range: 0.000 . 0.168 . 0.992\n",
      "Linear                         inp range: 0.000 . 0.168 . 0.992  out range: -1.055 . 0.402 . 0.965\n",
      "Sequential                     inp range: 0.000 . 0.114 . 0.992  out range: -1.055 . 0.402 . 0.965\n",
      "Linear                         inp range: 0.000 . 0.114 . 0.992  out range: -2.383 . 0.398 . 3.351\n",
      "AnnealedLeakyClippedRelu       inp range: -2.383 . 0.398 . 3.351  out range: 0.000 . 0.238 . 0.992\n",
      "Linear                         inp range: 0.000 . 0.238 . 0.992  out range: -1.382 . 0.299 . 1.265\n",
      "AnnealedLeakyClippedRelu       inp range: -1.382 . 0.299 . 1.265  out range: 0.000 . 0.175 . 0.992\n",
      "Linear                         inp range: 0.000 . 0.175 . 0.992  out range: -0.933 . 0.435 . 1.248\n",
      "Sequential                     inp range: 0.000 . 0.114 . 0.992  out range: -0.933 . 0.435 . 1.248\n",
      "Linear                         inp range: 0.000 . 0.114 . 0.992  out range: -3.530 . 0.453 . 2.932\n",
      "AnnealedLeakyClippedRelu       inp range: -3.530 . 0.453 . 2.932  out range: 0.000 . 0.247 . 0.992\n",
      "Linear                         inp range: 0.000 . 0.247 . 0.992  out range: -1.455 . 0.340 . 1.159\n",
      "AnnealedLeakyClippedRelu       inp range: -1.455 . 0.340 . 1.159  out range: 0.000 . 0.186 . 0.992\n",
      "Linear                         inp range: 0.000 . 0.186 . 0.992  out range: -0.878 . 0.411 . 1.261\n",
      "Sequential                     inp range: 0.000 . 0.114 . 0.992  out range: -0.878 . 0.411 . 1.261\n",
      "Linear                         inp range: 0.000 . 0.114 . 0.992  out range: -3.088 . 0.452 . 2.824\n",
      "AnnealedLeakyClippedRelu       inp range: -3.088 . 0.452 . 2.824  out range: 0.000 . 0.237 . 0.992\n",
      "Linear                         inp range: 0.000 . 0.237 . 0.992  out range: -1.707 . 0.298 . 1.771\n",
      "AnnealedLeakyClippedRelu       inp range: -1.707 . 0.298 . 1.771  out range: 0.000 . 0.174 . 0.992\n",
      "Linear                         inp range: 0.000 . 0.174 . 0.992  out range: -0.984 . 0.398 . 1.036\n",
      "Sequential                     inp range: 0.000 . 0.114 . 0.992  out range: -0.984 . 0.398 . 1.036\n",
      "Linear                         inp range: 0.000 . 0.114 . 0.992  out range: -3.604 . 0.416 . 3.608\n",
      "AnnealedLeakyClippedRelu       inp range: -3.604 . 0.416 . 3.608  out range: 0.000 . 0.211 . 0.992\n",
      "Linear                         inp range: 0.000 . 0.211 . 0.992  out range: -1.239 . 0.265 . 1.255\n",
      "AnnealedLeakyClippedRelu       inp range: -1.239 . 0.265 . 1.255  out range: 0.000 . 0.167 . 0.992\n",
      "Linear                         inp range: 0.000 . 0.167 . 0.992  out range: -0.888 . 0.331 . 0.781\n",
      "Sequential                     inp range: 0.000 . 0.114 . 0.992  out range: -0.888 . 0.331 . 0.781\n",
      "Linear                         inp range: 0.000 . 0.114 . 0.992  out range: -3.275 . 0.428 . 3.088\n",
      "AnnealedLeakyClippedRelu       inp range: -3.275 . 0.428 . 3.088  out range: 0.000 . 0.221 . 0.992\n",
      "Linear                         inp range: 0.000 . 0.221 . 0.992  out range: -1.095 . 0.257 . 1.468\n",
      "AnnealedLeakyClippedRelu       inp range: -1.095 . 0.257 . 1.468  out range: 0.000 . 0.173 . 0.992\n",
      "Linear                         inp range: 0.000 . 0.173 . 0.992  out range: -0.816 . 0.361 . 1.048\n",
      "Sequential                     inp range: 0.000 . 0.114 . 0.992  out range: -0.816 . 0.361 . 1.048\n",
      "Linear                         inp range: 0.000 . 0.114 . 0.992  out range: -2.769 . 0.385 . 2.708\n",
      "AnnealedLeakyClippedRelu       inp range: -2.769 . 0.385 . 2.708  out range: 0.000 . 0.220 . 0.992\n",
      "Linear                         inp range: 0.000 . 0.220 . 0.992  out range: -1.607 . 0.273 . 1.349\n",
      "AnnealedLeakyClippedRelu       inp range: -1.607 . 0.273 . 1.349  out range: 0.000 . 0.158 . 0.992\n",
      "Linear                         inp range: 0.000 . 0.158 . 0.992  out range: -0.784 . 0.373 . 1.127\n",
      "Sequential                     inp range: 0.000 . 0.114 . 0.992  out range: -0.784 . 0.373 . 1.127\n",
      "Linear                         inp range: 0.000 . 0.114 . 0.992  out range: -2.852 . 0.445 . 3.516\n",
      "AnnealedLeakyClippedRelu       inp range: -2.852 . 0.445 . 3.516  out range: 0.000 . 0.246 . 0.992\n",
      "Linear                         inp range: 0.000 . 0.246 . 0.992  out range: -1.939 . 0.321 . 1.710\n",
      "AnnealedLeakyClippedRelu       inp range: -1.939 . 0.321 . 1.710  out range: 0.000 . 0.170 . 0.992\n",
      "Linear                         inp range: 0.000 . 0.170 . 0.992  out range: -0.825 . 0.342 . 0.781\n",
      "Sequential                     inp range: 0.000 . 0.114 . 0.992  out range: -0.825 . 0.342 . 0.781\n",
      "Linear                         inp range: 0.000 . 0.114 . 0.992  out range: -2.729 . 0.370 . 2.818\n",
      "AnnealedLeakyClippedRelu       inp range: -2.729 . 0.370 . 2.818  out range: 0.000 . 0.194 . 0.992\n",
      "Linear                         inp range: 0.000 . 0.194 . 0.992  out range: -1.622 . 0.255 . 1.134\n",
      "AnnealedLeakyClippedRelu       inp range: -1.622 . 0.255 . 1.134  out range: 0.000 . 0.137 . 0.992\n",
      "Linear                         inp range: 0.000 . 0.137 . 0.992  out range: -0.481 . 0.210 . 0.913\n",
      "Sequential                     inp range: 0.000 . 0.114 . 0.992  out range: -0.481 . 0.210 . 0.913\n",
      "Linear                         inp range: 0.000 . 0.114 . 0.992  out range: -2.607 . 0.358 . 3.206\n",
      "AnnealedLeakyClippedRelu       inp range: -2.607 . 0.358 . 3.206  out range: 0.000 . 0.219 . 0.992\n",
      "Linear                         inp range: 0.000 . 0.219 . 0.992  out range: -1.204 . 0.226 . 1.159\n",
      "AnnealedLeakyClippedRelu       inp range: -1.204 . 0.226 . 1.159  out range: 0.000 . 0.141 . 0.992\n",
      "Linear                         inp range: 0.000 . 0.141 . 0.992  out range: -0.443 . 0.203 . 0.664\n",
      "Sequential                     inp range: 0.000 . 0.114 . 0.992  out range: -0.443 . 0.203 . 0.664\n",
      "Linear                         inp range: 0.000 . 0.114 . 0.992  out range: -2.709 . 0.356 . 2.851\n",
      "AnnealedLeakyClippedRelu       inp range: -2.709 . 0.356 . 2.851  out range: 0.000 . 0.199 . 0.992\n",
      "Linear                         inp range: 0.000 . 0.199 . 0.992  out range: -1.540 . 0.228 . 1.203\n",
      "AnnealedLeakyClippedRelu       inp range: -1.540 . 0.228 . 1.203  out range: 0.000 . 0.122 . 0.992\n",
      "Linear                         inp range: 0.000 . 0.122 . 0.992  out range: -0.394 . 0.230 . 0.973\n",
      "Sequential                     inp range: 0.000 . 0.114 . 0.992  out range: -0.394 . 0.230 . 0.973\n",
      "Linear                         inp range: 0.000 . 0.114 . 0.992  out range: -2.197 . 0.359 . 2.879\n",
      "AnnealedLeakyClippedRelu       inp range: -2.197 . 0.359 . 2.879  out range: 0.000 . 0.215 . 0.992\n",
      "Linear                         inp range: 0.000 . 0.215 . 0.992  out range: -1.369 . 0.238 . 1.058\n",
      "AnnealedLeakyClippedRelu       inp range: -1.369 . 0.238 . 1.058  out range: 0.000 . 0.132 . 0.992\n",
      "Linear                         inp range: 0.000 . 0.132 . 0.992  out range: -0.604 . 0.222 . 0.619\n",
      "Sequential                     inp range: 0.000 . 0.114 . 0.992  out range: -0.604 . 0.222 . 0.619\n",
      "Linear                         inp range: 0.000 . 0.114 . 0.992  out range: -1.286 . 0.206 . 2.010\n",
      "AnnealedLeakyClippedRelu       inp range: -1.286 . 0.206 . 2.010  out range: 0.000 . 0.119 . 0.992\n",
      "Linear                         inp range: 0.000 . 0.119 . 0.992  out range: -0.575 . 0.159 . 0.631\n",
      "AnnealedLeakyClippedRelu       inp range: -0.575 . 0.159 . 0.631  out range: 0.000 . 0.098 . 0.631\n",
      "Linear                         inp range: 0.000 . 0.098 . 0.631  out range: -0.179 . 0.029 . 0.035\n",
      "Sequential                     inp range: 0.000 . 0.114 . 0.992  out range: -0.179 . 0.029 . 0.035\n",
      "Linear                         inp range: 0.000 . 0.114 . 0.992  out range: -1.132 . 0.208 . 1.776\n",
      "AnnealedLeakyClippedRelu       inp range: -1.132 . 0.208 . 1.776  out range: 0.000 . 0.130 . 0.992\n",
      "Linear                         inp range: 0.000 . 0.130 . 0.992  out range: -0.726 . 0.169 . 1.116\n",
      "AnnealedLeakyClippedRelu       inp range: -0.726 . 0.169 . 1.116  out range: 0.000 . 0.105 . 0.992\n",
      "Linear                         inp range: 0.000 . 0.105 . 0.992  out range: -0.176 . 0.035 . 0.146\n",
      "Sequential                     inp range: 0.000 . 0.114 . 0.992  out range: -0.176 . 0.035 . 0.146\n",
      "Linear                         inp range: 0.000 . 0.114 . 0.992  out range: -1.040 . 0.208 . 1.825\n",
      "AnnealedLeakyClippedRelu       inp range: -1.040 . 0.208 . 1.825  out range: 0.000 . 0.139 . 0.992\n",
      "Linear                         inp range: 0.000 . 0.139 . 0.992  out range: -0.845 . 0.155 . 0.745\n",
      "AnnealedLeakyClippedRelu       inp range: -0.845 . 0.155 . 0.745  out range: 0.000 . 0.092 . 0.745\n",
      "Linear                         inp range: 0.000 . 0.092 . 0.745  out range: -0.084 . 0.058 . 0.282\n",
      "Sequential                     inp range: 0.000 . 0.114 . 0.992  out range: -0.084 . 0.058 . 0.282\n",
      "Linear                         inp range: 0.000 . 0.114 . 0.992  out range: -1.034 . 0.182 . 1.810\n",
      "AnnealedLeakyClippedRelu       inp range: -1.034 . 0.182 . 1.810  out range: 0.000 . 0.121 . 0.992\n",
      "Linear                         inp range: 0.000 . 0.121 . 0.992  out range: -0.930 . 0.157 . 0.721\n",
      "AnnealedLeakyClippedRelu       inp range: -0.930 . 0.157 . 0.721  out range: 0.000 . 0.090 . 0.721\n",
      "Linear                         inp range: 0.000 . 0.090 . 0.721  out range: -0.068 . 0.029 . 0.094\n",
      "Sequential                     inp range: 0.000 . 0.114 . 0.992  out range: -0.068 . 0.029 . 0.094\n",
      "Tanh                           inp range: -2.107 . 0.531 . 1.821  out range: -0.971 . 0.397 . 0.949\n",
      "Nnue                           inp range: 0.000 . 8907.040 . 105654.000  out range: -0.971 . 0.397 . 0.949\n"
     ]
    },
    {
     "data": {
      "text/plain": [
       "tensor(0.5232, grad_fn=<MeanBackward0>)"
      ]
     },
     "execution_count": 14,
     "metadata": {},
     "output_type": "execute_result"
    }
   ],
   "source": [
    "estimate_loss()"
   ]
  },
  {
   "cell_type": "code",
   "execution_count": 23,
   "id": "ee1bb3fe",
   "metadata": {},
   "outputs": [
    {
     "data": {
      "text/plain": [
       "10"
      ]
     },
     "execution_count": 23,
     "metadata": {},
     "output_type": "execute_result"
    }
   ],
   "source": [
    "len(message_bytes) % 32"
   ]
  },
  {
   "cell_type": "code",
   "execution_count": 15,
   "id": "9ddeb1be",
   "metadata": {},
   "outputs": [],
   "source": [
    "def pack_i32(i32):\n",
    "    return struct.pack(\"<i\", i32)"
   ]
  },
  {
   "cell_type": "code",
   "execution_count": 24,
   "id": "8c84aa7b",
   "metadata": {},
   "outputs": [
    {
     "data": {
      "text/plain": [
       "15084"
      ]
     },
     "execution_count": 24,
     "metadata": {},
     "output_type": "execute_result"
    }
   ],
   "source": [
    "header_alloc = 15090 #768\n",
    "aligned_storage = bytearray(header_alloc)\n",
    "\n",
    "def add_bytes(b):\n",
    "    # Align to the nearest 32-byte boundary.\n",
    "    padding = (32 - len(aligned_storage)) % 32\n",
    "    aligned_storage.extend(b'\\0' * padding)\n",
    "    offset = len(aligned_storage)\n",
    "    aligned_storage.extend(b)\n",
    "    return offset\n",
    "\n",
    "weights = {}\n",
    "for k, v in quantized_weights.items():\n",
    "    shift = output_right_shift[k]\n",
    "    v = v.detach().cpu().numpy()\n",
    "    k = k.replace(\"networks.\", \"n\")\n",
    "    k = k.replace(\"0.weight\", \"0.w\")\n",
    "    k = k.replace(\"2.weight\", \"1.w\")\n",
    "    k = k.replace(\"4.weight\", \"2.w\")\n",
    "    k = k.replace(\"0.bias\", \"0.b\")\n",
    "    k = k.replace(\"2.bias\", \"1.b\")\n",
    "    k = k.replace(\"4.bias\", \"2.b\")\n",
    "    k = k.replace(\"main_net.\", \"n0.\")\n",
    "    offset = add_bytes(v.tobytes())\n",
    "    assert offset % 32 == 0\n",
    "    weights[k] = {\n",
    "        \"shape\": tuple(v.shape),\n",
    "        \"dtype\": {\"int8\": \"i8\", \"int16\": \"i16\"}[str(v.dtype)],\n",
    "        \"offset\": offset,\n",
    "        \"shift\": shift,\n",
    "    }\n",
    "message = {\n",
    "    \"version\": \"v1\",\n",
    "    \"weights\": weights,\n",
    "}\n",
    "\n",
    "message_bytes = json.dumps(message).encode()\n",
    "assert len(message_bytes) < header_alloc\n",
    "aligned_storage[:len(message_bytes)] = message_bytes\n",
    "len(message_bytes)"
   ]
  },
  {
   "cell_type": "code",
   "execution_count": 25,
   "id": "9995532d",
   "metadata": {},
   "outputs": [],
   "source": [
    "with open(\"src/nnue-data.bin\", \"wb\") as f:\n",
    "    f.write(aligned_storage)"
   ]
  },
  {
   "cell_type": "code",
   "execution_count": 26,
   "id": "e4bee1a7",
   "metadata": {
    "scrolled": true
   },
   "outputs": [
    {
     "data": {
      "text/plain": [
       "{'version': 'v1',\n",
       " 'weights': {'main_bias': {'shape': (256,),\n",
       "   'dtype': 'i16',\n",
       "   'offset': 15104,\n",
       "   'shift': 11},\n",
       "  'main_embed.weight': {'shape': (106496, 256),\n",
       "   'dtype': 'i16',\n",
       "   'offset': 15616,\n",
       "   'shift': 11},\n",
       "  'n0.0.w': {'shape': (16, 256),\n",
       "   'dtype': 'i8',\n",
       "   'offset': 54546336,\n",
       "   'shift': 7},\n",
       "  'n0.0.b': {'shape': (16,), 'dtype': 'i16', 'offset': 54550432, 'shift': 14},\n",
       "  'n0.1.w': {'shape': (32, 16), 'dtype': 'i8', 'offset': 54550464, 'shift': 7},\n",
       "  'n0.1.b': {'shape': (32,), 'dtype': 'i16', 'offset': 54550976, 'shift': 14},\n",
       "  'n0.2.w': {'shape': (1, 32), 'dtype': 'i8', 'offset': 54551040, 'shift': 7},\n",
       "  'n0.2.b': {'shape': (1,), 'dtype': 'i16', 'offset': 54551072, 'shift': 14},\n",
       "  'n1.0.w': {'shape': (16, 256),\n",
       "   'dtype': 'i8',\n",
       "   'offset': 54551104,\n",
       "   'shift': 7},\n",
       "  'n1.0.b': {'shape': (16,), 'dtype': 'i16', 'offset': 54555200, 'shift': 14},\n",
       "  'n1.1.w': {'shape': (32, 16), 'dtype': 'i8', 'offset': 54555232, 'shift': 7},\n",
       "  'n1.1.b': {'shape': (32,), 'dtype': 'i16', 'offset': 54555744, 'shift': 14},\n",
       "  'n1.2.w': {'shape': (1, 32), 'dtype': 'i8', 'offset': 54555808, 'shift': 7},\n",
       "  'n1.2.b': {'shape': (1,), 'dtype': 'i16', 'offset': 54555840, 'shift': 14},\n",
       "  'n2.0.w': {'shape': (16, 256),\n",
       "   'dtype': 'i8',\n",
       "   'offset': 54555872,\n",
       "   'shift': 7},\n",
       "  'n2.0.b': {'shape': (16,), 'dtype': 'i16', 'offset': 54559968, 'shift': 14},\n",
       "  'n2.1.w': {'shape': (32, 16), 'dtype': 'i8', 'offset': 54560000, 'shift': 7},\n",
       "  'n2.1.b': {'shape': (32,), 'dtype': 'i16', 'offset': 54560512, 'shift': 14},\n",
       "  'n2.2.w': {'shape': (1, 32), 'dtype': 'i8', 'offset': 54560576, 'shift': 7},\n",
       "  'n2.2.b': {'shape': (1,), 'dtype': 'i16', 'offset': 54560608, 'shift': 14},\n",
       "  'n3.0.w': {'shape': (16, 256),\n",
       "   'dtype': 'i8',\n",
       "   'offset': 54560640,\n",
       "   'shift': 7},\n",
       "  'n3.0.b': {'shape': (16,), 'dtype': 'i16', 'offset': 54564736, 'shift': 14},\n",
       "  'n3.1.w': {'shape': (32, 16), 'dtype': 'i8', 'offset': 54564768, 'shift': 7},\n",
       "  'n3.1.b': {'shape': (32,), 'dtype': 'i16', 'offset': 54565280, 'shift': 14},\n",
       "  'n3.2.w': {'shape': (1, 32), 'dtype': 'i8', 'offset': 54565344, 'shift': 7},\n",
       "  'n3.2.b': {'shape': (1,), 'dtype': 'i16', 'offset': 54565376, 'shift': 14},\n",
       "  'n4.0.w': {'shape': (16, 256),\n",
       "   'dtype': 'i8',\n",
       "   'offset': 54565408,\n",
       "   'shift': 7},\n",
       "  'n4.0.b': {'shape': (16,), 'dtype': 'i16', 'offset': 54569504, 'shift': 14},\n",
       "  'n4.1.w': {'shape': (32, 16), 'dtype': 'i8', 'offset': 54569536, 'shift': 7},\n",
       "  'n4.1.b': {'shape': (32,), 'dtype': 'i16', 'offset': 54570048, 'shift': 14},\n",
       "  'n4.2.w': {'shape': (1, 32), 'dtype': 'i8', 'offset': 54570112, 'shift': 7},\n",
       "  'n4.2.b': {'shape': (1,), 'dtype': 'i16', 'offset': 54570144, 'shift': 14},\n",
       "  'n5.0.w': {'shape': (16, 256),\n",
       "   'dtype': 'i8',\n",
       "   'offset': 54570176,\n",
       "   'shift': 7},\n",
       "  'n5.0.b': {'shape': (16,), 'dtype': 'i16', 'offset': 54574272, 'shift': 14},\n",
       "  'n5.1.w': {'shape': (32, 16), 'dtype': 'i8', 'offset': 54574304, 'shift': 7},\n",
       "  'n5.1.b': {'shape': (32,), 'dtype': 'i16', 'offset': 54574816, 'shift': 14},\n",
       "  'n5.2.w': {'shape': (1, 32), 'dtype': 'i8', 'offset': 54574880, 'shift': 7},\n",
       "  'n5.2.b': {'shape': (1,), 'dtype': 'i16', 'offset': 54574912, 'shift': 14},\n",
       "  'n6.0.w': {'shape': (16, 256),\n",
       "   'dtype': 'i8',\n",
       "   'offset': 54574944,\n",
       "   'shift': 7},\n",
       "  'n6.0.b': {'shape': (16,), 'dtype': 'i16', 'offset': 54579040, 'shift': 14},\n",
       "  'n6.1.w': {'shape': (32, 16), 'dtype': 'i8', 'offset': 54579072, 'shift': 7},\n",
       "  'n6.1.b': {'shape': (32,), 'dtype': 'i16', 'offset': 54579584, 'shift': 14},\n",
       "  'n6.2.w': {'shape': (1, 32), 'dtype': 'i8', 'offset': 54579648, 'shift': 7},\n",
       "  'n6.2.b': {'shape': (1,), 'dtype': 'i16', 'offset': 54579680, 'shift': 14},\n",
       "  'n7.0.w': {'shape': (16, 256),\n",
       "   'dtype': 'i8',\n",
       "   'offset': 54579712,\n",
       "   'shift': 7},\n",
       "  'n7.0.b': {'shape': (16,), 'dtype': 'i16', 'offset': 54583808, 'shift': 14},\n",
       "  'n7.1.w': {'shape': (32, 16), 'dtype': 'i8', 'offset': 54583840, 'shift': 7},\n",
       "  'n7.1.b': {'shape': (32,), 'dtype': 'i16', 'offset': 54584352, 'shift': 14},\n",
       "  'n7.2.w': {'shape': (1, 32), 'dtype': 'i8', 'offset': 54584416, 'shift': 7},\n",
       "  'n7.2.b': {'shape': (1,), 'dtype': 'i16', 'offset': 54584448, 'shift': 14},\n",
       "  'n8.0.w': {'shape': (16, 256),\n",
       "   'dtype': 'i8',\n",
       "   'offset': 54584480,\n",
       "   'shift': 7},\n",
       "  'n8.0.b': {'shape': (16,), 'dtype': 'i16', 'offset': 54588576, 'shift': 14},\n",
       "  'n8.1.w': {'shape': (32, 16), 'dtype': 'i8', 'offset': 54588608, 'shift': 7},\n",
       "  'n8.1.b': {'shape': (32,), 'dtype': 'i16', 'offset': 54589120, 'shift': 14},\n",
       "  'n8.2.w': {'shape': (1, 32), 'dtype': 'i8', 'offset': 54589184, 'shift': 7},\n",
       "  'n8.2.b': {'shape': (1,), 'dtype': 'i16', 'offset': 54589216, 'shift': 14},\n",
       "  'n9.0.w': {'shape': (16, 256),\n",
       "   'dtype': 'i8',\n",
       "   'offset': 54589248,\n",
       "   'shift': 7},\n",
       "  'n9.0.b': {'shape': (16,), 'dtype': 'i16', 'offset': 54593344, 'shift': 14},\n",
       "  'n9.1.w': {'shape': (32, 16), 'dtype': 'i8', 'offset': 54593376, 'shift': 7},\n",
       "  'n9.1.b': {'shape': (32,), 'dtype': 'i16', 'offset': 54593888, 'shift': 14},\n",
       "  'n9.2.w': {'shape': (1, 32), 'dtype': 'i8', 'offset': 54593952, 'shift': 7},\n",
       "  'n9.2.b': {'shape': (1,), 'dtype': 'i16', 'offset': 54593984, 'shift': 14},\n",
       "  'n10.0.w': {'shape': (16, 256),\n",
       "   'dtype': 'i8',\n",
       "   'offset': 54594016,\n",
       "   'shift': 7},\n",
       "  'n10.0.b': {'shape': (16,), 'dtype': 'i16', 'offset': 54598112, 'shift': 14},\n",
       "  'n10.1.w': {'shape': (32, 16),\n",
       "   'dtype': 'i8',\n",
       "   'offset': 54598144,\n",
       "   'shift': 7},\n",
       "  'n10.1.b': {'shape': (32,), 'dtype': 'i16', 'offset': 54598656, 'shift': 14},\n",
       "  'n10.2.w': {'shape': (1, 32), 'dtype': 'i8', 'offset': 54598720, 'shift': 7},\n",
       "  'n10.2.b': {'shape': (1,), 'dtype': 'i16', 'offset': 54598752, 'shift': 14},\n",
       "  'n11.0.w': {'shape': (16, 256),\n",
       "   'dtype': 'i8',\n",
       "   'offset': 54598784,\n",
       "   'shift': 7},\n",
       "  'n11.0.b': {'shape': (16,), 'dtype': 'i16', 'offset': 54602880, 'shift': 14},\n",
       "  'n11.1.w': {'shape': (32, 16),\n",
       "   'dtype': 'i8',\n",
       "   'offset': 54602912,\n",
       "   'shift': 7},\n",
       "  'n11.1.b': {'shape': (32,), 'dtype': 'i16', 'offset': 54603424, 'shift': 14},\n",
       "  'n11.2.w': {'shape': (1, 32), 'dtype': 'i8', 'offset': 54603488, 'shift': 7},\n",
       "  'n11.2.b': {'shape': (1,), 'dtype': 'i16', 'offset': 54603520, 'shift': 14},\n",
       "  'n12.0.w': {'shape': (16, 256),\n",
       "   'dtype': 'i8',\n",
       "   'offset': 54603552,\n",
       "   'shift': 7},\n",
       "  'n12.0.b': {'shape': (16,), 'dtype': 'i16', 'offset': 54607648, 'shift': 14},\n",
       "  'n12.1.w': {'shape': (32, 16),\n",
       "   'dtype': 'i8',\n",
       "   'offset': 54607680,\n",
       "   'shift': 7},\n",
       "  'n12.1.b': {'shape': (32,), 'dtype': 'i16', 'offset': 54608192, 'shift': 14},\n",
       "  'n12.2.w': {'shape': (1, 32), 'dtype': 'i8', 'offset': 54608256, 'shift': 7},\n",
       "  'n12.2.b': {'shape': (1,), 'dtype': 'i16', 'offset': 54608288, 'shift': 14},\n",
       "  'n13.0.w': {'shape': (16, 256),\n",
       "   'dtype': 'i8',\n",
       "   'offset': 54608320,\n",
       "   'shift': 7},\n",
       "  'n13.0.b': {'shape': (16,), 'dtype': 'i16', 'offset': 54612416, 'shift': 14},\n",
       "  'n13.1.w': {'shape': (32, 16),\n",
       "   'dtype': 'i8',\n",
       "   'offset': 54612448,\n",
       "   'shift': 7},\n",
       "  'n13.1.b': {'shape': (32,), 'dtype': 'i16', 'offset': 54612960, 'shift': 14},\n",
       "  'n13.2.w': {'shape': (1, 32), 'dtype': 'i8', 'offset': 54613024, 'shift': 7},\n",
       "  'n13.2.b': {'shape': (1,), 'dtype': 'i16', 'offset': 54613056, 'shift': 14},\n",
       "  'n14.0.w': {'shape': (16, 256),\n",
       "   'dtype': 'i8',\n",
       "   'offset': 54613088,\n",
       "   'shift': 7},\n",
       "  'n14.0.b': {'shape': (16,), 'dtype': 'i16', 'offset': 54617184, 'shift': 14},\n",
       "  'n14.1.w': {'shape': (32, 16),\n",
       "   'dtype': 'i8',\n",
       "   'offset': 54617216,\n",
       "   'shift': 7},\n",
       "  'n14.1.b': {'shape': (32,), 'dtype': 'i16', 'offset': 54617728, 'shift': 14},\n",
       "  'n14.2.w': {'shape': (1, 32), 'dtype': 'i8', 'offset': 54617792, 'shift': 7},\n",
       "  'n14.2.b': {'shape': (1,), 'dtype': 'i16', 'offset': 54617824, 'shift': 14},\n",
       "  'n15.0.w': {'shape': (16, 256),\n",
       "   'dtype': 'i8',\n",
       "   'offset': 54617856,\n",
       "   'shift': 7},\n",
       "  'n15.0.b': {'shape': (16,), 'dtype': 'i16', 'offset': 54621952, 'shift': 14},\n",
       "  'n15.1.w': {'shape': (32, 16),\n",
       "   'dtype': 'i8',\n",
       "   'offset': 54621984,\n",
       "   'shift': 7},\n",
       "  'n15.1.b': {'shape': (32,), 'dtype': 'i16', 'offset': 54622496, 'shift': 14},\n",
       "  'n15.2.w': {'shape': (1, 32), 'dtype': 'i8', 'offset': 54622560, 'shift': 7},\n",
       "  'n15.2.b': {'shape': (1,), 'dtype': 'i16', 'offset': 54622592, 'shift': 14},\n",
       "  'n16.0.w': {'shape': (16, 256),\n",
       "   'dtype': 'i8',\n",
       "   'offset': 54622624,\n",
       "   'shift': 7},\n",
       "  'n16.0.b': {'shape': (16,), 'dtype': 'i16', 'offset': 54626720, 'shift': 14},\n",
       "  'n16.1.w': {'shape': (32, 16),\n",
       "   'dtype': 'i8',\n",
       "   'offset': 54626752,\n",
       "   'shift': 7},\n",
       "  'n16.1.b': {'shape': (32,), 'dtype': 'i16', 'offset': 54627264, 'shift': 14},\n",
       "  'n16.2.w': {'shape': (1, 32), 'dtype': 'i8', 'offset': 54627328, 'shift': 7},\n",
       "  'n16.2.b': {'shape': (1,), 'dtype': 'i16', 'offset': 54627360, 'shift': 14},\n",
       "  'n17.0.w': {'shape': (16, 256),\n",
       "   'dtype': 'i8',\n",
       "   'offset': 54627392,\n",
       "   'shift': 7},\n",
       "  'n17.0.b': {'shape': (16,), 'dtype': 'i16', 'offset': 54631488, 'shift': 14},\n",
       "  'n17.1.w': {'shape': (32, 16),\n",
       "   'dtype': 'i8',\n",
       "   'offset': 54631520,\n",
       "   'shift': 7},\n",
       "  'n17.1.b': {'shape': (32,), 'dtype': 'i16', 'offset': 54632032, 'shift': 14},\n",
       "  'n17.2.w': {'shape': (1, 32), 'dtype': 'i8', 'offset': 54632096, 'shift': 7},\n",
       "  'n17.2.b': {'shape': (1,), 'dtype': 'i16', 'offset': 54632128, 'shift': 14},\n",
       "  'n18.0.w': {'shape': (16, 256),\n",
       "   'dtype': 'i8',\n",
       "   'offset': 54632160,\n",
       "   'shift': 7},\n",
       "  'n18.0.b': {'shape': (16,), 'dtype': 'i16', 'offset': 54636256, 'shift': 14},\n",
       "  'n18.1.w': {'shape': (32, 16),\n",
       "   'dtype': 'i8',\n",
       "   'offset': 54636288,\n",
       "   'shift': 7},\n",
       "  'n18.1.b': {'shape': (32,), 'dtype': 'i16', 'offset': 54636800, 'shift': 14},\n",
       "  'n18.2.w': {'shape': (1, 32), 'dtype': 'i8', 'offset': 54636864, 'shift': 7},\n",
       "  'n18.2.b': {'shape': (1,), 'dtype': 'i16', 'offset': 54636896, 'shift': 14},\n",
       "  'n19.0.w': {'shape': (16, 256),\n",
       "   'dtype': 'i8',\n",
       "   'offset': 54636928,\n",
       "   'shift': 7},\n",
       "  'n19.0.b': {'shape': (16,), 'dtype': 'i16', 'offset': 54641024, 'shift': 14},\n",
       "  'n19.1.w': {'shape': (32, 16),\n",
       "   'dtype': 'i8',\n",
       "   'offset': 54641056,\n",
       "   'shift': 7},\n",
       "  'n19.1.b': {'shape': (32,), 'dtype': 'i16', 'offset': 54641568, 'shift': 14},\n",
       "  'n19.2.w': {'shape': (1, 32), 'dtype': 'i8', 'offset': 54641632, 'shift': 7},\n",
       "  'n19.2.b': {'shape': (1,), 'dtype': 'i16', 'offset': 54641664, 'shift': 14},\n",
       "  'n20.0.w': {'shape': (16, 256),\n",
       "   'dtype': 'i8',\n",
       "   'offset': 54641696,\n",
       "   'shift': 7},\n",
       "  'n20.0.b': {'shape': (16,), 'dtype': 'i16', 'offset': 54645792, 'shift': 14},\n",
       "  'n20.1.w': {'shape': (32, 16),\n",
       "   'dtype': 'i8',\n",
       "   'offset': 54645824,\n",
       "   'shift': 7},\n",
       "  'n20.1.b': {'shape': (32,), 'dtype': 'i16', 'offset': 54646336, 'shift': 14},\n",
       "  'n20.2.w': {'shape': (1, 32), 'dtype': 'i8', 'offset': 54646400, 'shift': 7},\n",
       "  'n20.2.b': {'shape': (1,), 'dtype': 'i16', 'offset': 54646432, 'shift': 14},\n",
       "  'n21.0.w': {'shape': (16, 256),\n",
       "   'dtype': 'i8',\n",
       "   'offset': 54646464,\n",
       "   'shift': 7},\n",
       "  'n21.0.b': {'shape': (16,), 'dtype': 'i16', 'offset': 54650560, 'shift': 14},\n",
       "  'n21.1.w': {'shape': (32, 16),\n",
       "   'dtype': 'i8',\n",
       "   'offset': 54650592,\n",
       "   'shift': 7},\n",
       "  'n21.1.b': {'shape': (32,), 'dtype': 'i16', 'offset': 54651104, 'shift': 14},\n",
       "  'n21.2.w': {'shape': (1, 32), 'dtype': 'i8', 'offset': 54651168, 'shift': 7},\n",
       "  'n21.2.b': {'shape': (1,), 'dtype': 'i16', 'offset': 54651200, 'shift': 14},\n",
       "  'n22.0.w': {'shape': (16, 256),\n",
       "   'dtype': 'i8',\n",
       "   'offset': 54651232,\n",
       "   'shift': 7},\n",
       "  'n22.0.b': {'shape': (16,), 'dtype': 'i16', 'offset': 54655328, 'shift': 14},\n",
       "  'n22.1.w': {'shape': (32, 16),\n",
       "   'dtype': 'i8',\n",
       "   'offset': 54655360,\n",
       "   'shift': 7},\n",
       "  'n22.1.b': {'shape': (32,), 'dtype': 'i16', 'offset': 54655872, 'shift': 14},\n",
       "  'n22.2.w': {'shape': (1, 32), 'dtype': 'i8', 'offset': 54655936, 'shift': 7},\n",
       "  'n22.2.b': {'shape': (1,), 'dtype': 'i16', 'offset': 54655968, 'shift': 14},\n",
       "  'n23.0.w': {'shape': (16, 256),\n",
       "   'dtype': 'i8',\n",
       "   'offset': 54656000,\n",
       "   'shift': 7},\n",
       "  'n23.0.b': {'shape': (16,), 'dtype': 'i16', 'offset': 54660096, 'shift': 14},\n",
       "  'n23.1.w': {'shape': (32, 16),\n",
       "   'dtype': 'i8',\n",
       "   'offset': 54660128,\n",
       "   'shift': 7},\n",
       "  'n23.1.b': {'shape': (32,), 'dtype': 'i16', 'offset': 54660640, 'shift': 14},\n",
       "  'n23.2.w': {'shape': (1, 32), 'dtype': 'i8', 'offset': 54660704, 'shift': 7},\n",
       "  'n23.2.b': {'shape': (1,), 'dtype': 'i16', 'offset': 54660736, 'shift': 14},\n",
       "  'n24.0.w': {'shape': (16, 256),\n",
       "   'dtype': 'i8',\n",
       "   'offset': 54660768,\n",
       "   'shift': 7},\n",
       "  'n24.0.b': {'shape': (16,), 'dtype': 'i16', 'offset': 54664864, 'shift': 14},\n",
       "  'n24.1.w': {'shape': (32, 16),\n",
       "   'dtype': 'i8',\n",
       "   'offset': 54664896,\n",
       "   'shift': 7},\n",
       "  'n24.1.b': {'shape': (32,), 'dtype': 'i16', 'offset': 54665408, 'shift': 14},\n",
       "  'n24.2.w': {'shape': (1, 32), 'dtype': 'i8', 'offset': 54665472, 'shift': 7},\n",
       "  'n24.2.b': {'shape': (1,), 'dtype': 'i16', 'offset': 54665504, 'shift': 14},\n",
       "  'n25.0.w': {'shape': (16, 256),\n",
       "   'dtype': 'i8',\n",
       "   'offset': 54665536,\n",
       "   'shift': 7},\n",
       "  'n25.0.b': {'shape': (16,), 'dtype': 'i16', 'offset': 54669632, 'shift': 14},\n",
       "  'n25.1.w': {'shape': (32, 16),\n",
       "   'dtype': 'i8',\n",
       "   'offset': 54669664,\n",
       "   'shift': 7},\n",
       "  'n25.1.b': {'shape': (32,), 'dtype': 'i16', 'offset': 54670176, 'shift': 14},\n",
       "  'n25.2.w': {'shape': (1, 32), 'dtype': 'i8', 'offset': 54670240, 'shift': 7},\n",
       "  'n25.2.b': {'shape': (1,), 'dtype': 'i16', 'offset': 54670272, 'shift': 14},\n",
       "  'n26.0.w': {'shape': (16, 256),\n",
       "   'dtype': 'i8',\n",
       "   'offset': 54670304,\n",
       "   'shift': 7},\n",
       "  'n26.0.b': {'shape': (16,), 'dtype': 'i16', 'offset': 54674400, 'shift': 14},\n",
       "  'n26.1.w': {'shape': (32, 16),\n",
       "   'dtype': 'i8',\n",
       "   'offset': 54674432,\n",
       "   'shift': 7},\n",
       "  'n26.1.b': {'shape': (32,), 'dtype': 'i16', 'offset': 54674944, 'shift': 14},\n",
       "  'n26.2.w': {'shape': (1, 32), 'dtype': 'i8', 'offset': 54675008, 'shift': 7},\n",
       "  'n26.2.b': {'shape': (1,), 'dtype': 'i16', 'offset': 54675040, 'shift': 14},\n",
       "  'n27.0.w': {'shape': (16, 256),\n",
       "   'dtype': 'i8',\n",
       "   'offset': 54675072,\n",
       "   'shift': 7},\n",
       "  'n27.0.b': {'shape': (16,), 'dtype': 'i16', 'offset': 54679168, 'shift': 14},\n",
       "  'n27.1.w': {'shape': (32, 16),\n",
       "   'dtype': 'i8',\n",
       "   'offset': 54679200,\n",
       "   'shift': 7},\n",
       "  'n27.1.b': {'shape': (32,), 'dtype': 'i16', 'offset': 54679712, 'shift': 14},\n",
       "  'n27.2.w': {'shape': (1, 32), 'dtype': 'i8', 'offset': 54679776, 'shift': 7},\n",
       "  'n27.2.b': {'shape': (1,), 'dtype': 'i16', 'offset': 54679808, 'shift': 14},\n",
       "  'n28.0.w': {'shape': (16, 256),\n",
       "   'dtype': 'i8',\n",
       "   'offset': 54679840,\n",
       "   'shift': 7},\n",
       "  'n28.0.b': {'shape': (16,), 'dtype': 'i16', 'offset': 54683936, 'shift': 14},\n",
       "  'n28.1.w': {'shape': (32, 16),\n",
       "   'dtype': 'i8',\n",
       "   'offset': 54683968,\n",
       "   'shift': 7},\n",
       "  'n28.1.b': {'shape': (32,), 'dtype': 'i16', 'offset': 54684480, 'shift': 14},\n",
       "  'n28.2.w': {'shape': (1, 32), 'dtype': 'i8', 'offset': 54684544, 'shift': 7},\n",
       "  'n28.2.b': {'shape': (1,), 'dtype': 'i16', 'offset': 54684576, 'shift': 14},\n",
       "  'n29.0.w': {'shape': (16, 256),\n",
       "   'dtype': 'i8',\n",
       "   'offset': 54684608,\n",
       "   'shift': 7},\n",
       "  'n29.0.b': {'shape': (16,), 'dtype': 'i16', 'offset': 54688704, 'shift': 14},\n",
       "  'n29.1.w': {'shape': (32, 16),\n",
       "   'dtype': 'i8',\n",
       "   'offset': 54688736,\n",
       "   'shift': 7},\n",
       "  'n29.1.b': {'shape': (32,), 'dtype': 'i16', 'offset': 54689248, 'shift': 14},\n",
       "  'n29.2.w': {'shape': (1, 32), 'dtype': 'i8', 'offset': 54689312, 'shift': 7},\n",
       "  'n29.2.b': {'shape': (1,), 'dtype': 'i16', 'offset': 54689344, 'shift': 14},\n",
       "  'n30.0.w': {'shape': (16, 256),\n",
       "   'dtype': 'i8',\n",
       "   'offset': 54689376,\n",
       "   'shift': 7},\n",
       "  'n30.0.b': {'shape': (16,), 'dtype': 'i16', 'offset': 54693472, 'shift': 14},\n",
       "  'n30.1.w': {'shape': (32, 16),\n",
       "   'dtype': 'i8',\n",
       "   'offset': 54693504,\n",
       "   'shift': 7},\n",
       "  'n30.1.b': {'shape': (32,), 'dtype': 'i16', 'offset': 54694016, 'shift': 14},\n",
       "  'n30.2.w': {'shape': (1, 32), 'dtype': 'i8', 'offset': 54694080, 'shift': 7},\n",
       "  'n30.2.b': {'shape': (1,), 'dtype': 'i16', 'offset': 54694112, 'shift': 14},\n",
       "  'n31.0.w': {'shape': (16, 256),\n",
       "   'dtype': 'i8',\n",
       "   'offset': 54694144,\n",
       "   'shift': 7},\n",
       "  'n31.0.b': {'shape': (16,), 'dtype': 'i16', 'offset': 54698240, 'shift': 14},\n",
       "  'n31.1.w': {'shape': (32, 16),\n",
       "   'dtype': 'i8',\n",
       "   'offset': 54698272,\n",
       "   'shift': 7},\n",
       "  'n31.1.b': {'shape': (32,), 'dtype': 'i16', 'offset': 54698784, 'shift': 14},\n",
       "  'n31.2.w': {'shape': (1, 32), 'dtype': 'i8', 'offset': 54698848, 'shift': 7},\n",
       "  'n31.2.b': {'shape': (1,), 'dtype': 'i16', 'offset': 54698880, 'shift': 14}}}"
      ]
     },
     "execution_count": 26,
     "metadata": {},
     "output_type": "execute_result"
    }
   ],
   "source": [
    "message"
   ]
  },
  {
   "cell_type": "raw",
   "id": "e4aaa15a",
   "metadata": {},
   "source": [
    "import zlib\n",
    "import bz2"
   ]
  },
  {
   "cell_type": "raw",
   "id": "db46d9b8",
   "metadata": {},
   "source": [
    "x = zlib.compress(bytes(aligned_storage), level=9)"
   ]
  },
  {
   "cell_type": "raw",
   "id": "8786369e",
   "metadata": {},
   "source": [
    "len(x) * 1e-6"
   ]
  },
  {
   "cell_type": "raw",
   "id": "5aabe469",
   "metadata": {},
   "source": [
    "x = bz2.compress(bytes(aligned_storage))"
   ]
  },
  {
   "cell_type": "raw",
   "id": "cc27bdd2",
   "metadata": {},
   "source": [
    "len(x) * 1e-6"
   ]
  },
  {
   "cell_type": "raw",
   "id": "fc51a435",
   "metadata": {},
   "source": [
    "len(aligned_storage) * 1e-6"
   ]
  },
  {
   "cell_type": "markdown",
   "id": "b8faaa42",
   "metadata": {},
   "source": [
    "# Debug network eval"
   ]
  },
  {
   "cell_type": "code",
   "execution_count": null,
   "id": "1a4bd6c8",
   "metadata": {},
   "outputs": [],
   "source": [
    "moves = [\n",
    "    {\"from\":12,\"to\":28},\n",
    "    {\"from\":16,\"to\":16},\n",
    "    {\"from\":52,\"to\":36},\n",
    "    {\"from\":16,\"to\":24},\n",
    "    {\"from\":3,\"to\":39},\n",
    "    {\"from\":24,\"to\":16},\n",
    "    {\"from\":54,\"to\":46},\n",
    "    {\"from\":16,\"to\":24},\n",
    "    {\"from\":4,\"to\":12},\n",
    "    {\"from\":24,\"to\":16},\n",
    "    #{\"from\":46,\"to\":39},\n",
    "]"
   ]
  },
  {
   "cell_type": "code",
   "execution_count": null,
   "id": "a3fce58c",
   "metadata": {},
   "outputs": [],
   "source": [
    "import engine"
   ]
  },
  {
   "cell_type": "code",
   "execution_count": null,
   "id": "f71470cf",
   "metadata": {},
   "outputs": [],
   "source": [
    "e = engine.Engine(0)\n",
    "for m in moves:\n",
    "    print(e.apply_move(json.dumps(m)))\n",
    "feat_indices = e.get_nnue_feature_indices()"
   ]
  },
  {
   "cell_type": "code",
   "execution_count": null,
   "id": "5234ce30",
   "metadata": {},
   "outputs": [],
   "source": [
    "all_interm.clear()"
   ]
  },
  {
   "cell_type": "code",
   "execution_count": null,
   "id": "6c9e0c7a",
   "metadata": {},
   "outputs": [],
   "source": [
    "out = model(\n",
    "    torch.LongTensor(feat_indices),\n",
    "    torch.LongTensor([0]), # offset = 0\n",
    "    torch.LongTensor([1]), # which_model = 1 (white, non-duck turn)\n",
    "    torch.LongTensor([len(feat_indices)]),\n",
    ")"
   ]
  },
  {
   "cell_type": "code",
   "execution_count": null,
   "id": "1ccc4e84",
   "metadata": {},
   "outputs": [],
   "source": [
    "len(all_interm)"
   ]
  },
  {
   "cell_type": "code",
   "execution_count": null,
   "id": "20bd8406",
   "metadata": {},
   "outputs": [],
   "source": [
    "for i, (k, _, _) in enumerate(all_interm): print(i, \"->\", k)"
   ]
  },
  {
   "cell_type": "code",
   "execution_count": null,
   "id": "ceed195e",
   "metadata": {},
   "outputs": [],
   "source": [
    "named_params = dict(model.named_parameters())"
   ]
  },
  {
   "cell_type": "code",
   "execution_count": null,
   "id": "3852d22e",
   "metadata": {},
   "outputs": [],
   "source": [
    "actualW = (named_params[\"main_net.4.weight\"] * 128).to(torch.int16).numpy()"
   ]
  },
  {
   "cell_type": "code",
   "execution_count": null,
   "id": "b0612c43",
   "metadata": {},
   "outputs": [],
   "source": [
    "actualB = (named_params[\"main_net.4.bias\"] * (1 << 14)).to(torch.int16).numpy()"
   ]
  },
  {
   "cell_type": "code",
   "execution_count": null,
   "id": "b72e5546",
   "metadata": {},
   "outputs": [],
   "source": [
    "actualB"
   ]
  },
  {
   "cell_type": "code",
   "execution_count": null,
   "id": "36748a15",
   "metadata": {},
   "outputs": [],
   "source": [
    "(all_interm[7][1][0] * (2 ** 11)).to(torch.int32)"
   ]
  },
  {
   "cell_type": "code",
   "execution_count": null,
   "id": "1e1a56d2",
   "metadata": {},
   "outputs": [],
   "source": []
  },
  {
   "cell_type": "code",
   "execution_count": null,
   "id": "8bf728e6",
   "metadata": {},
   "outputs": [],
   "source": [
    "22406 - 23263"
   ]
  },
  {
   "cell_type": "code",
   "execution_count": null,
   "id": "209229b7",
   "metadata": {},
   "outputs": [],
   "source": [
    "all_interm[8][1][0] * (1 << 14)"
   ]
  },
  {
   "cell_type": "code",
   "execution_count": null,
   "id": "986dd558",
   "metadata": {},
   "outputs": [],
   "source": [
    "all_interm[6][2] * (1 << 14)"
   ]
  },
  {
   "cell_type": "code",
   "execution_count": null,
   "id": "95c66621",
   "metadata": {},
   "outputs": [],
   "source": [
    "actual_inp = all_interm[6][1][0] * (1 << 7)"
   ]
  },
  {
   "cell_type": "code",
   "execution_count": null,
   "id": "895d7c9c",
   "metadata": {},
   "outputs": [],
   "source": [
    "actual_inp"
   ]
  },
  {
   "cell_type": "code",
   "execution_count": null,
   "id": "0ea45f05",
   "metadata": {},
   "outputs": [],
   "source": [
    "(actual_inp.detach().numpy() @ actualW.T) + actualB"
   ]
  },
  {
   "cell_type": "code",
   "execution_count": null,
   "id": "82738f98",
   "metadata": {},
   "outputs": [],
   "source": [
    "((all_interm[6][1][0] * (1 << 7)).to(torch.int16) - final_out) @ actualW.T"
   ]
  },
  {
   "cell_type": "code",
   "execution_count": null,
   "id": "0ef5a121",
   "metadata": {},
   "outputs": [],
   "source": [
    "final_out = np.array([0, 0, 0, 33, 32, 0, 2, 4, 13, 27, 4, 0, 0, 0, 24, 0, 0, 0, 17, 0, 35, 0, 0, 0, 22, 0, 0, 0, 41, 0, 0, 1, ])\n",
    "l2_weights = np.array([-58, -44, -25, -29, -33, 44, 10, -35, -25, -22, -37, -61, -34, 50, 31, 54, 41, 33, -25, -39, -36, 41, -30, -75, 36, 7, 44, 45, -32, 55, 7, -42, ])\n",
    "#final_out = np.array([0, 0, 0, 32, 32, 0, 1, 3, 13, 27, 5, 0, 0, 0, 25, 0, 0, 0, 17, 0, 34, 0, 0, 0, 22, 0, 0, 0, 40, 0, 0, 1, ])\n",
    "#l2_weights = np.array([-58, -44, -25, -29, -32, 44, 10, -35, -24, -22, -37, -60, -33, 49, 30, 53, 41, 33, -24, -39, -35, 41, -29, -74, 35, 7, 43, 45, -31, 55, 7, -41, ])"
   ]
  },
  {
   "cell_type": "code",
   "execution_count": null,
   "id": "c2f8a22d",
   "metadata": {},
   "outputs": [],
   "source": [
    "final_out @ l2_weights + actualB"
   ]
  },
  {
   "cell_type": "code",
   "execution_count": null,
   "id": "f2830f56",
   "metadata": {},
   "outputs": [],
   "source": []
  },
  {
   "cell_type": "code",
   "execution_count": null,
   "id": "b1e80140",
   "metadata": {},
   "outputs": [],
   "source": [
    "(all_interm[6][1][0] * (1 << 7)).to(torch.int16)"
   ]
  },
  {
   "cell_type": "code",
   "execution_count": null,
   "id": "4f5c29be",
   "metadata": {},
   "outputs": [],
   "source": [
    "all_interm[6][2] * (1 << 14)"
   ]
  },
  {
   "cell_type": "code",
   "execution_count": null,
   "id": "e6b902c4",
   "metadata": {},
   "outputs": [],
   "source": [
    "all_interm[7]"
   ]
  },
  {
   "cell_type": "code",
   "execution_count": null,
   "id": "62b38e46",
   "metadata": {},
   "outputs": [],
   "source": [
    "0.2458 * 2**14"
   ]
  },
  {
   "cell_type": "code",
   "execution_count": null,
   "id": "f8706e19",
   "metadata": {},
   "outputs": [],
   "source": []
  },
  {
   "cell_type": "code",
   "execution_count": null,
   "id": "6b3ebbc9",
   "metadata": {},
   "outputs": [],
   "source": []
  },
  {
   "cell_type": "code",
   "execution_count": null,
   "id": "facc633d",
   "metadata": {},
   "outputs": [],
   "source": []
  },
  {
   "cell_type": "code",
   "execution_count": null,
   "id": "23a1a0d0",
   "metadata": {},
   "outputs": [],
   "source": [
    "0.0057 * (1<<14)"
   ]
  },
  {
   "cell_type": "code",
   "execution_count": null,
   "id": "d87a3983",
   "metadata": {},
   "outputs": [],
   "source": [
    "W, B = list(all_interm[6][0].parameters())\n",
    "print(W)\n",
    "print(B)"
   ]
  },
  {
   "cell_type": "code",
   "execution_count": null,
   "id": "6352be41",
   "metadata": {},
   "outputs": [],
   "source": [
    "inp = (all_interm[6][1][0] * (1 << 7)).to(torch.int16)"
   ]
  },
  {
   "cell_type": "code",
   "execution_count": null,
   "id": "03760fb5",
   "metadata": {},
   "outputs": [],
   "source": [
    "all_interm[6][1][0] * (1 << 7)"
   ]
  },
  {
   "cell_type": "code",
   "execution_count": null,
   "id": "90d52f81",
   "metadata": {},
   "outputs": [],
   "source": [
    "(W * (1<<7)).to(torch.int16)"
   ]
  },
  {
   "cell_type": "code",
   "execution_count": null,
   "id": "2a834ad2",
   "metadata": {},
   "outputs": [],
   "source": [
    "inp"
   ]
  },
  {
   "cell_type": "code",
   "execution_count": null,
   "id": "bcd4d3d8",
   "metadata": {},
   "outputs": [],
   "source": [
    "discW = (W * (1<<7))\n",
    "discW"
   ]
  },
  {
   "cell_type": "code",
   "execution_count": null,
   "id": "275915a2",
   "metadata": {},
   "outputs": [],
   "source": [
    "discW @ inp.T"
   ]
  },
  {
   "cell_type": "code",
   "execution_count": null,
   "id": "d0f4aa71",
   "metadata": {},
   "outputs": [],
   "source": [
    "discW * inp"
   ]
  },
  {
   "cell_type": "code",
   "execution_count": null,
   "id": "cfc6bb5c",
   "metadata": {},
   "outputs": [],
   "source": [
    "layer1_out @ l2_weights"
   ]
  },
  {
   "cell_type": "code",
   "execution_count": null,
   "id": "6327750e",
   "metadata": {},
   "outputs": [],
   "source": [
    "(layer1_out - inp.numpy()) @ discW.numpy().T"
   ]
  },
  {
   "cell_type": "code",
   "execution_count": null,
   "id": "4557d665",
   "metadata": {},
   "outputs": [],
   "source": [
    "l2_weights - discW.numpy()"
   ]
  },
  {
   "cell_type": "code",
   "execution_count": null,
   "id": "a73c5618",
   "metadata": {},
   "outputs": [],
   "source": [
    "B * (1 << 14)"
   ]
  },
  {
   "cell_type": "code",
   "execution_count": null,
   "id": "f40bc059",
   "metadata": {},
   "outputs": [],
   "source": [
    "W @ all_interm[6][1][0].T + B"
   ]
  },
  {
   "cell_type": "code",
   "execution_count": null,
   "id": "e8a7de1f",
   "metadata": {},
   "outputs": [],
   "source": [
    "(W @ all_interm[6][1][0].T) * (1 << 14)"
   ]
  },
  {
   "cell_type": "code",
   "execution_count": null,
   "id": "f23ffc15",
   "metadata": {},
   "outputs": [],
   "source": [
    "B * (1 << 14)"
   ]
  },
  {
   "cell_type": "code",
   "execution_count": null,
   "id": "a2674134",
   "metadata": {},
   "outputs": [],
   "source": [
    "-0.2458 * (1 << 14)"
   ]
  },
  {
   "cell_type": "code",
   "execution_count": null,
   "id": "861a5559",
   "metadata": {},
   "outputs": [],
   "source": [
    "final_out @ l2_weights + 658"
   ]
  },
  {
   "cell_type": "code",
   "execution_count": null,
   "id": "a68f97e2",
   "metadata": {},
   "outputs": [],
   "source": [
    "named_params[\"main_net.4.bias\"] * (1 << 14)"
   ]
  },
  {
   "cell_type": "code",
   "execution_count": null,
   "id": "7481a7e0",
   "metadata": {},
   "outputs": [],
   "source": [
    "# final linear: 6\n",
    "# tanh: 8\n",
    "all_interm[6][2] * (1 << 14)"
   ]
  },
  {
   "cell_type": "code",
   "execution_count": null,
   "id": "e21c0959",
   "metadata": {},
   "outputs": [],
   "source": [
    "all"
   ]
  },
  {
   "cell_type": "code",
   "execution_count": null,
   "id": "134f3cd7",
   "metadata": {},
   "outputs": [],
   "source": [
    "all_interm[8][1][0] * (1 << 14)"
   ]
  },
  {
   "cell_type": "code",
   "execution_count": null,
   "id": "4a07db5f",
   "metadata": {},
   "outputs": [],
   "source": [
    "# This is the value of the accumulator after the bias.\n",
    "actual_bias_accum = (all_interm[1][1][0] * (1 << 14)).to(torch.int16).flatten().detach().cpu().numpy()"
   ]
  },
  {
   "cell_type": "code",
   "execution_count": null,
   "id": "1c731320",
   "metadata": {},
   "outputs": [],
   "source": [
    "actual_bias_accum >> 7"
   ]
  },
  {
   "cell_type": "code",
   "execution_count": null,
   "id": "d91bb415",
   "metadata": {},
   "outputs": [],
   "source": [
    "named_params[\"main_net.0.bias\"] * (1<<14)"
   ]
  },
  {
   "cell_type": "code",
   "execution_count": null,
   "id": "34803667",
   "metadata": {},
   "outputs": [],
   "source": [
    "named_params.keys()"
   ]
  },
  {
   "cell_type": "code",
   "execution_count": null,
   "id": "cd89971a",
   "metadata": {},
   "outputs": [],
   "source": [
    "actual_bias_accum"
   ]
  },
  {
   "cell_type": "code",
   "execution_count": null,
   "id": "f26b3ba5",
   "metadata": {},
   "outputs": [],
   "source": [
    "named_params[\"main_net.0.weight\"] @ torch.tensor(actual_bias_accum, dtype=torch.float32)"
   ]
  },
  {
   "cell_type": "code",
   "execution_count": null,
   "id": "47b9811d",
   "metadata": {},
   "outputs": [],
   "source": [
    "actual_bias_accum"
   ]
  },
  {
   "cell_type": "code",
   "execution_count": null,
   "id": "f12220ad",
   "metadata": {},
   "outputs": [],
   "source": []
  },
  {
   "cell_type": "code",
   "execution_count": null,
   "id": "0cd2aeb1",
   "metadata": {},
   "outputs": [],
   "source": [
    "net15_layer0_relu_out = all_interm[-7][2]"
   ]
  },
  {
   "cell_type": "code",
   "execution_count": null,
   "id": "d6aa0845",
   "metadata": {},
   "outputs": [],
   "source": [
    "all_interm[-8]"
   ]
  },
  {
   "cell_type": "code",
   "execution_count": null,
   "id": "8561f691",
   "metadata": {},
   "outputs": [],
   "source": [
    "all_interm[-7]"
   ]
  },
  {
   "cell_type": "code",
   "execution_count": null,
   "id": "af1070b2",
   "metadata": {},
   "outputs": [],
   "source": [
    "(net15_layer0_relu_out * 128)"
   ]
  },
  {
   "cell_type": "code",
   "execution_count": null,
   "id": "0c404d73",
   "metadata": {},
   "outputs": [],
   "source": [
    "[-37, 58, -128, -128, -111, 127, -128, 127, 7, 127, 86, -71, 4, 18, 59, -33, ]"
   ]
  },
  {
   "cell_type": "code",
   "execution_count": null,
   "id": "405d4358",
   "metadata": {},
   "outputs": [],
   "source": [
    "# This is the value after the output of the first "
   ]
  },
  {
   "cell_type": "code",
   "execution_count": null,
   "id": "2aa9c9f9",
   "metadata": {},
   "outputs": [],
   "source": [
    "got_bias_accum = [-519, -2097, 562, -935, -997, -865, -987, 173, -129, -171, 1882, -374, -2370, -2726, -1761, 1660, -1485, -864, 35, 1272, -1144, -236, 111, -721, 1092, -682, 78, -629, 534, -1210, 460, 2297, 1448, 430, 380, 653, 2503, 3478, 2327, -802, -1461, -1176, 2011, -57, -2465, 951, -2316, 282, -1075, -1156, 764, -2629, 1007, 1007, -1518, 282, -958, -979, 1722, -1216, 70, 967, -1257, 257, -1530, 1152, -781, -1637, 2012, 350, 394, 591, -1985, -1174, -571, -1077, 688, 426, -2330, 1147, 2871, 195, 734, -1578, 2591, -913, 854, 99, 791, 946, -169, 502, 341, 853, -605, 905, 1086, 197, 1830, 1066, -1152, 581, -379, -1033, 2337, 2633, -907, -1041, 2413, -1487, 97, -583, -665, 2397, -789, 1610, -247, -1253, 1132, 1023, 2142, 577, 2226, 474, 1253, -822, 464, 937, -308, 1133, 1918, 1586, -61, 1667, 152, 2451, -2310, -350, -263, 2936, -931, -1699, 226, 2023, 2052, 3179, 708, -1076, -56, 18, -770, -616, 1128, 795, 661, 1224, 698, -500, 303, -2285, 399, 726, -1000, -495, -1726, 9, 3, 2023, 1206, 1785, -1451, -150, 1919, -454, -206, 866, -1221, 1666, 3826, 96, 754, -949, -1907, 1779, 115, 1250, -2197, -1081, 2082, -249, 393, 153, 505, 1045, 1317, 1034, -530, 617, -1590, -797, 830, -956, 152, 1824, -2101, -185, -2641, -977, -771, -1098, -4271, 935, -793, -1011, -1523, -81, -139, 24, 834, 86, -1014, -154, -275, 2687, -45, 1453, 411, 2, -1469, 49, -515, -1821, -1520, -3629, -847, -614, 402, 2753, -1172, -791, 648, -2406, 516, -294, 103, 529, 2048, -2499, 1080, 746, 1662, 1833, -1099, -360, -1200, -63, ]"
   ]
  },
  {
   "cell_type": "code",
   "execution_count": null,
   "id": "af513ca8",
   "metadata": {},
   "outputs": [],
   "source": [
    "actual"
   ]
  },
  {
   "cell_type": "code",
   "execution_count": null,
   "id": "4c808be1",
   "metadata": {},
   "outputs": [],
   "source": [
    "plt.plot(actual)\n",
    "plt.plot(got)"
   ]
  },
  {
   "cell_type": "code",
   "execution_count": null,
   "id": "d479f5ea",
   "metadata": {},
   "outputs": [],
   "source": []
  },
  {
   "cell_type": "code",
   "execution_count": null,
   "id": "bcb4e25f",
   "metadata": {},
   "outputs": [],
   "source": [
    "out"
   ]
  },
  {
   "cell_type": "code",
   "execution_count": null,
   "id": "8df6959d",
   "metadata": {},
   "outputs": [],
   "source": []
  }
 ],
 "metadata": {
  "kernelspec": {
   "display_name": "Python 3 (ipykernel)",
   "language": "python",
   "name": "python3"
  },
  "language_info": {
   "codemirror_mode": {
    "name": "ipython",
    "version": 3
   },
   "file_extension": ".py",
   "mimetype": "text/x-python",
   "name": "python",
   "nbconvert_exporter": "python",
   "pygments_lexer": "ipython3",
   "version": "3.10.6"
  }
 },
 "nbformat": 4,
 "nbformat_minor": 5
}
