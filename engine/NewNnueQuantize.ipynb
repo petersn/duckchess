{
 "cells": [
  {
   "cell_type": "code",
   "execution_count": 1,
   "id": "fbbd8cc2",
   "metadata": {},
   "outputs": [],
   "source": [
    "import sys\n",
    "sys.path.append(\"./ml/\")\n",
    "import glob\n",
    "import json\n",
    "import struct\n",
    "import numpy as np\n",
    "import torch\n",
    "import matplotlib.pyplot as plt"
   ]
  },
  {
   "cell_type": "code",
   "execution_count": 2,
   "id": "169cf132",
   "metadata": {},
   "outputs": [],
   "source": [
    "import train_nnue"
   ]
  },
  {
   "cell_type": "code",
   "execution_count": 3,
   "id": "0a70fc97",
   "metadata": {},
   "outputs": [],
   "source": [
    "model = train_nnue.Nnue()\n",
    "model.load_state_dict(torch.load(\"nnue.pt\"))\n",
    "model.adjust_leak(0)"
   ]
  },
  {
   "cell_type": "code",
   "execution_count": 4,
   "id": "c0242ef0",
   "metadata": {},
   "outputs": [],
   "source": [
    "data_files = glob.glob(\"./run-011-duck-chess/step-1*/games/*.npz\")"
   ]
  },
  {
   "cell_type": "code",
   "execution_count": 5,
   "id": "50bc328b",
   "metadata": {},
   "outputs": [
    {
     "name": "stderr",
     "output_type": "stream",
     "text": [
      "100%|█████████████████████████████████████████████████████████████████████████████████████████████████████████████████████████████████████████████████████████████████████████| 48/48 [00:19<00:00,  2.50it/s]\n"
     ]
    },
    {
     "name": "stdout",
     "output_type": "stream",
     "text": [
      "Total examples: 37779226\n",
      "Constant model loss: 0.8349251929902353\n"
     ]
    }
   ],
   "source": [
    "make_batch = train_nnue.get_make_batch(data_files, \"cpu\")"
   ]
  },
  {
   "cell_type": "code",
   "execution_count": 6,
   "id": "26d39976",
   "metadata": {},
   "outputs": [],
   "source": [
    "indices, offsets, which_model, lengths, targets = make_batch(1024 * 1024)"
   ]
  },
  {
   "cell_type": "code",
   "execution_count": 7,
   "id": "89ce6de2",
   "metadata": {},
   "outputs": [
    {
     "data": {
      "text/plain": [
       "(array([16633., 16688., 16703., 16875., 37474., 37511., 38003., 37826.,\n",
       "        36338., 36227., 36446., 36119., 33422., 33508., 33677., 33369.,\n",
       "        28890., 28645., 28629., 28404., 28038., 28291., 28098., 28119.,\n",
       "        30450., 30580., 30716., 30558., 51019., 50264., 49361., 51695.]),\n",
       " array([ 0,  1,  2,  3,  4,  5,  6,  7,  8,  9, 10, 11, 12, 13, 14, 15, 16,\n",
       "        17, 18, 19, 20, 21, 22, 23, 24, 25, 26, 27, 28, 29, 30, 31, 32]),\n",
       " <BarContainer object of 32 artists>)"
      ]
     },
     "execution_count": 7,
     "metadata": {},
     "output_type": "execute_result"
    },
    {
     "data": {
      "image/png": "[encoded data removed]",
      "text/plain": [
       "<Figure size 432x288 with 1 Axes>"
      ]
     },
     "metadata": {
      "needs_background": "light"
     },
     "output_type": "display_data"
    }
   ],
   "source": [
    "plt.hist(which_model.detach().numpy(), bins=range(33))"
   ]
  },
  {
   "cell_type": "code",
   "execution_count": 8,
   "id": "001ee7ff",
   "metadata": {},
   "outputs": [],
   "source": [
    "def estimate_loss():\n",
    "    outputs = model(indices, offsets, which_model, lengths)\n",
    "    return torch.mean((outputs - targets)**2)"
   ]
  },
  {
   "cell_type": "code",
   "execution_count": 9,
   "id": "62b17711",
   "metadata": {},
   "outputs": [
    {
     "data": {
      "text/plain": [
       "tensor(0.5368, grad_fn=<MeanBackward0>)"
      ]
     },
     "execution_count": 9,
     "metadata": {},
     "output_type": "execute_result"
    }
   ],
   "source": [
    "estimate_loss()"
   ]
  },
  {
   "cell_type": "raw",
   "id": "961a5d71",
   "metadata": {},
   "source": [
    "all_interm = []\n",
    "\n",
    "def hook(comp, inp, out):\n",
    "    all_interm.append((comp, tuple(x.clone() for x in inp), out.clone()))\n",
    "    overall_min = float(\"inf\")\n",
    "    overall_max = -float(\"inf\")\n",
    "    for thing in inp:\n",
    "        overall_min = min(overall_min, thing.min().item())\n",
    "        overall_max = max(overall_max, thing.max().item())\n",
    "    first = inp[0]\n",
    "    print(f\"{comp.__class__.__name__:30} inp range: {overall_min:.3f} . {first.float().var()**0.5:.3f} . {overall_max:.3f}  out range: {out.min().item():.3f} . {out.var()**0.5:.3f} . {out.max().item():.3f}\")\n",
    "    #print(\"GOT:\", comp) #inp, out)\n",
    "    #if isinstance(comp, train_nnue.AnnealedLeakyClippedRelu):   \n",
    "    #    print(\n",
    "\n",
    "if \"module_to_handle\" in globals():\n",
    "    for handle in module_to_handle.values():\n",
    "        handle.remove()\n",
    "\n",
    "module_to_handle = {}\n",
    "def apply_hooks(m):\n",
    "    if m in module_to_handle:\n",
    "        return\n",
    "    module_to_handle[m] = m.register_forward_hook(hook)\n",
    "    for k, v in m._modules.items():\n",
    "        apply_hooks(v)\n",
    "\n",
    "apply_hooks(model)"
   ]
  },
  {
   "cell_type": "raw",
   "id": "f9b1fba0",
   "metadata": {
    "scrolled": false
   },
   "source": [
    "outputs = model(indices, offsets, which_model, lengths)\n",
    "lose = outputs[targets == -1]\n",
    "draw = outputs[targets == 0]\n",
    "win = outputs[targets == 1]"
   ]
  },
  {
   "cell_type": "code",
   "execution_count": 10,
   "id": "5ca029ec",
   "metadata": {},
   "outputs": [],
   "source": [
    "# Each clipped relu wants inputs from -128 to +127 for its active range.\n",
    "# If the largest intermediates we care to represent are -2.0 to +2.0,\n",
    "# then this means that -2.0 should map to -32768, and +1.99... should map to +32767.\n",
    "# Therefore we scale down inputs by 128 before passing them in to the clipped relu.\n",
    "# Therefore, 128 * 128 = 1684 represents 1.0 as an input to relu.\n",
    "# This means that a quantized weight of 128 represents the weight 1.0 in the original.\n",
    "# There is one exception to this, in the original embedding layer, and all biases,\n",
    "# where 16384 represents 1.0."
   ]
  },
  {
   "cell_type": "code",
   "execution_count": 11,
   "id": "a42f294a",
   "metadata": {},
   "outputs": [
    {
     "name": "stdout",
     "output_type": "stream",
     "text": [
      "main_bias            (256,)          -0.368 0.025 zero=0.000%\n",
      "main_embed.weight    (106496, 256)   -0.524 0.487 zero=0.618%\n",
      "main_net.0.weight    (16, 256)       -0.062 0.062 zero=6.299%\n",
      "main_net.0.bias      (16,)           -0.051 0.059 zero=0.000%\n",
      "main_net.2.weight    (32, 16)        -0.249 0.250 zero=0.977%\n",
      "main_net.2.bias      (32,)           -0.221 0.223 zero=0.000%\n",
      "main_net.4.weight    (1, 32)         -0.160 0.168 zero=3.125%\n",
      "main_net.4.bias      (1,)            -0.034 -0.034 zero=0.000%\n",
      "networks.0.0.weight  (16, 256)       -0.365 0.264 zero=2.759%\n",
      "networks.0.0.bias    (16,)           -0.060 0.088 zero=0.000%\n",
      "networks.0.2.weight  (32, 16)        -0.444 0.425 zero=1.953%\n",
      "networks.0.2.bias    (32,)           -0.191 0.223 zero=0.000%\n",
      "networks.0.4.weight  (1, 32)         -0.245 0.307 zero=0.000%\n",
      "networks.0.4.bias    (1,)            -0.151 -0.151 zero=0.000%\n",
      "networks.1.0.weight  (16, 256)       -0.375 0.275 zero=3.418%\n",
      "networks.1.0.bias    (16,)           -0.052 0.087 zero=0.000%\n",
      "networks.1.2.weight  (32, 16)        -0.434 0.459 zero=0.000%\n",
      "networks.1.2.bias    (32,)           -0.209 0.234 zero=0.000%\n",
      "networks.1.4.weight  (1, 32)         -0.276 0.259 zero=0.000%\n",
      "networks.1.4.bias    (1,)            0.063 0.063 zero=0.000%\n",
      "networks.2.0.weight  (16, 256)       -0.313 0.275 zero=3.564%\n",
      "networks.2.0.bias    (16,)           -0.057 0.070 zero=0.000%\n",
      "networks.2.2.weight  (32, 16)        -0.391 0.417 zero=1.562%\n",
      "networks.2.2.bias    (32,)           -0.196 0.227 zero=0.000%\n",
      "networks.2.4.weight  (1, 32)         -0.229 0.257 zero=0.000%\n",
      "networks.2.4.bias    (1,)            -0.068 -0.068 zero=0.000%\n",
      "networks.3.0.weight  (16, 256)       -0.283 0.255 zero=3.711%\n",
      "networks.3.0.bias    (16,)           -0.053 0.081 zero=0.000%\n",
      "networks.3.2.weight  (32, 16)        -0.424 0.489 zero=1.172%\n",
      "networks.3.2.bias    (32,)           -0.303 0.251 zero=0.000%\n",
      "networks.3.4.weight  (1, 32)         -0.260 0.261 zero=3.125%\n",
      "networks.3.4.bias    (1,)            -0.122 -0.122 zero=0.000%\n",
      "networks.4.0.weight  (16, 256)       -0.406 0.241 zero=3.589%\n",
      "networks.4.0.bias    (16,)           -0.080 0.082 zero=0.000%\n",
      "networks.4.2.weight  (32, 16)        -0.470 0.411 zero=2.148%\n",
      "networks.4.2.bias    (32,)           -0.237 0.237 zero=0.000%\n",
      "networks.4.4.weight  (1, 32)         -0.211 0.265 zero=0.000%\n",
      "networks.4.4.bias    (1,)            -0.122 -0.122 zero=0.000%\n",
      "networks.5.0.weight  (16, 256)       -0.296 0.467 zero=3.418%\n",
      "networks.5.0.bias    (16,)           -0.056 0.074 zero=0.000%\n",
      "networks.5.2.weight  (32, 16)        -0.417 0.520 zero=1.562%\n",
      "networks.5.2.bias    (32,)           -0.217 0.242 zero=0.000%\n",
      "networks.5.4.weight  (1, 32)         -0.277 0.225 zero=0.000%\n",
      "networks.5.4.bias    (1,)            -0.128 -0.128 zero=0.000%\n",
      "networks.6.0.weight  (16, 256)       -0.500 0.222 zero=3.564%\n",
      "networks.6.0.bias    (16,)           -0.059 0.066 zero=0.000%\n",
      "networks.6.2.weight  (32, 16)        -0.429 0.406 zero=2.539%\n",
      "networks.6.2.bias    (32,)           -0.256 0.268 zero=0.000%\n",
      "networks.6.4.weight  (1, 32)         -0.239 0.214 zero=3.125%\n",
      "networks.6.4.bias    (1,)            0.112 0.112 zero=0.000%\n",
      "networks.7.0.weight  (16, 256)       -0.325 0.476 zero=2.856%\n",
      "networks.7.0.bias    (16,)           -0.066 0.071 zero=0.000%\n",
      "networks.7.2.weight  (32, 16)        -0.512 0.474 zero=1.953%\n",
      "networks.7.2.bias    (32,)           -0.190 0.254 zero=0.000%\n",
      "networks.7.4.weight  (1, 32)         -0.238 0.224 zero=0.000%\n",
      "networks.7.4.bias    (1,)            0.015 0.015 zero=0.000%\n",
      "networks.8.0.weight  (16, 256)       -0.291 0.223 zero=3.345%\n",
      "networks.8.0.bias    (16,)           -0.097 0.057 zero=0.000%\n",
      "networks.8.2.weight  (32, 16)        -0.440 0.417 zero=1.953%\n",
      "networks.8.2.bias    (32,)           -0.240 0.245 zero=0.000%\n",
      "networks.8.4.weight  (1, 32)         -0.258 0.203 zero=3.125%\n",
      "networks.8.4.bias    (1,)            -0.045 -0.045 zero=0.000%\n",
      "networks.9.0.weight  (16, 256)       -0.371 0.280 zero=3.467%\n",
      "networks.9.0.bias    (16,)           -0.073 0.068 zero=0.000%\n",
      "networks.9.2.weight  (32, 16)        -0.429 0.364 zero=0.781%\n",
      "networks.9.2.bias    (32,)           -0.212 0.258 zero=0.000%\n",
      "networks.9.4.weight  (1, 32)         -0.283 0.265 zero=0.000%\n",
      "networks.9.4.bias    (1,)            -0.104 -0.104 zero=0.000%\n",
      "networks.10.0.weight (16, 256)       -0.300 0.248 zero=3.149%\n",
      "networks.10.0.bias   (16,)           -0.022 0.066 zero=0.000%\n",
      "networks.10.2.weight (32, 16)        -0.403 0.441 zero=1.367%\n",
      "networks.10.2.bias   (32,)           -0.210 0.253 zero=0.000%\n",
      "networks.10.4.weight (1, 32)         -0.223 0.235 zero=3.125%\n",
      "networks.10.4.bias   (1,)            0.160 0.160 zero=0.000%\n",
      "networks.11.0.weight (16, 256)       -0.300 0.269 zero=3.369%\n",
      "networks.11.0.bias   (16,)           -0.047 0.068 zero=0.000%\n",
      "networks.11.2.weight (32, 16)        -0.430 0.387 zero=1.562%\n",
      "networks.11.2.bias   (32,)           -0.255 0.235 zero=0.000%\n",
      "networks.11.4.weight (1, 32)         -0.210 0.238 zero=0.000%\n",
      "networks.11.4.bias   (1,)            -0.017 -0.017 zero=0.000%\n",
      "networks.12.0.weight (16, 256)       -0.265 0.250 zero=2.930%\n",
      "networks.12.0.bias   (16,)           -0.068 0.065 zero=0.000%\n",
      "networks.12.2.weight (32, 16)        -0.431 0.423 zero=0.977%\n",
      "networks.12.2.bias   (32,)           -0.228 0.214 zero=0.000%\n",
      "networks.12.4.weight (1, 32)         -0.218 0.287 zero=0.000%\n",
      "networks.12.4.bias   (1,)            -0.035 -0.035 zero=0.000%\n",
      "networks.13.0.weight (16, 256)       -0.319 0.251 zero=3.296%\n",
      "networks.13.0.bias   (16,)           -0.038 0.092 zero=0.000%\n",
      "networks.13.2.weight (32, 16)        -0.427 0.440 zero=2.148%\n",
      "networks.13.2.bias   (32,)           -0.198 0.238 zero=0.000%\n",
      "networks.13.4.weight (1, 32)         -0.224 0.247 zero=0.000%\n",
      "networks.13.4.bias   (1,)            0.120 0.120 zero=0.000%\n",
      "networks.14.0.weight (16, 256)       -0.252 0.250 zero=3.540%\n",
      "networks.14.0.bias   (16,)           -0.054 0.082 zero=0.000%\n",
      "networks.14.2.weight (32, 16)        -0.465 0.376 zero=1.367%\n",
      "networks.14.2.bias   (32,)           -0.189 0.236 zero=0.000%\n",
      "networks.14.4.weight (1, 32)         -0.249 0.293 zero=0.000%\n",
      "networks.14.4.bias   (1,)            0.086 0.086 zero=0.000%\n",
      "networks.15.0.weight (16, 256)       -0.330 0.234 zero=3.003%\n",
      "networks.15.0.bias   (16,)           -0.044 0.051 zero=0.000%\n",
      "networks.15.2.weight (32, 16)        -0.452 0.417 zero=1.562%\n",
      "networks.15.2.bias   (32,)           -0.187 0.185 zero=0.000%\n",
      "networks.15.4.weight (1, 32)         -0.285 0.246 zero=3.125%\n",
      "networks.15.4.bias   (1,)            -0.127 -0.127 zero=0.000%\n",
      "networks.16.0.weight (16, 256)       -0.339 0.243 zero=2.808%\n",
      "networks.16.0.bias   (16,)           -0.045 0.116 zero=0.000%\n",
      "networks.16.2.weight (32, 16)        -0.505 0.392 zero=2.344%\n",
      "networks.16.2.bias   (32,)           -0.315 0.233 zero=0.000%\n",
      "networks.16.4.weight (1, 32)         -0.231 0.280 zero=6.250%\n",
      "networks.16.4.bias   (1,)            -0.044 -0.044 zero=0.000%\n",
      "networks.17.0.weight (16, 256)       -0.213 0.268 zero=2.856%\n",
      "networks.17.0.bias   (16,)           -0.021 0.087 zero=0.000%\n",
      "networks.17.2.weight (32, 16)        -0.407 0.399 zero=1.562%\n",
      "networks.17.2.bias   (32,)           -0.252 0.263 zero=0.000%\n",
      "networks.17.4.weight (1, 32)         -0.214 0.228 zero=6.250%\n",
      "networks.17.4.bias   (1,)            0.103 0.103 zero=0.000%\n",
      "networks.18.0.weight (16, 256)       -0.255 0.271 zero=2.979%\n",
      "networks.18.0.bias   (16,)           -0.078 0.086 zero=0.000%\n",
      "networks.18.2.weight (32, 16)        -0.404 0.370 zero=1.562%\n",
      "networks.18.2.bias   (32,)           -0.276 0.190 zero=0.000%\n",
      "networks.18.4.weight (1, 32)         -0.275 0.275 zero=0.000%\n",
      "networks.18.4.bias   (1,)            -0.150 -0.150 zero=0.000%\n",
      "networks.19.0.weight (16, 256)       -0.301 0.272 zero=2.734%\n",
      "networks.19.0.bias   (16,)           -0.059 0.094 zero=0.000%\n",
      "networks.19.2.weight (32, 16)        -0.445 0.433 zero=1.953%\n",
      "networks.19.2.bias   (32,)           -0.180 0.243 zero=0.000%\n",
      "networks.19.4.weight (1, 32)         -0.241 0.236 zero=0.000%\n",
      "networks.19.4.bias   (1,)            0.074 0.074 zero=0.000%\n",
      "networks.20.0.weight (16, 256)       -0.281 0.246 zero=2.832%\n",
      "networks.20.0.bias   (16,)           -0.028 0.110 zero=0.000%\n",
      "networks.20.2.weight (32, 16)        -0.422 0.392 zero=2.344%\n",
      "networks.20.2.bias   (32,)           -0.229 0.217 zero=0.000%\n",
      "networks.20.4.weight (1, 32)         -0.256 0.249 zero=0.000%\n",
      "networks.20.4.bias   (1,)            0.013 0.013 zero=0.000%\n",
      "networks.21.0.weight (16, 256)       -0.222 0.311 zero=3.125%\n",
      "networks.21.0.bias   (16,)           -0.053 0.081 zero=0.000%\n",
      "networks.21.2.weight (32, 16)        -0.413 0.406 zero=1.367%\n",
      "networks.21.2.bias   (32,)           -0.318 0.199 zero=0.000%\n",
      "networks.21.4.weight (1, 32)         -0.230 0.216 zero=3.125%\n",
      "networks.21.4.bias   (1,)            -0.055 -0.055 zero=0.000%\n",
      "networks.22.0.weight (16, 256)       -0.265 0.287 zero=2.881%\n",
      "networks.22.0.bias   (16,)           -0.072 0.085 zero=0.000%\n",
      "networks.22.2.weight (32, 16)        -0.426 0.365 zero=0.781%\n",
      "networks.22.2.bias   (32,)           -0.205 0.247 zero=0.000%\n",
      "networks.22.4.weight (1, 32)         -0.267 0.236 zero=0.000%\n",
      "networks.22.4.bias   (1,)            -0.028 -0.028 zero=0.000%\n",
      "networks.23.0.weight (16, 256)       -0.287 0.244 zero=3.125%\n",
      "networks.23.0.bias   (16,)           -0.067 0.083 zero=0.000%\n",
      "networks.23.2.weight (32, 16)        -0.408 0.368 zero=0.977%\n",
      "networks.23.2.bias   (32,)           -0.173 0.221 zero=0.000%\n",
      "networks.23.4.weight (1, 32)         -0.262 0.230 zero=0.000%\n",
      "networks.23.4.bias   (1,)            0.081 0.081 zero=0.000%\n",
      "networks.24.0.weight (16, 256)       -0.236 0.289 zero=3.271%\n",
      "networks.24.0.bias   (16,)           -0.091 0.094 zero=0.000%\n",
      "networks.24.2.weight (32, 16)        -0.395 0.413 zero=2.148%\n",
      "networks.24.2.bias   (32,)           -0.171 0.196 zero=0.000%\n",
      "networks.24.4.weight (1, 32)         -0.260 0.251 zero=0.000%\n",
      "networks.24.4.bias   (1,)            0.065 0.065 zero=0.000%\n",
      "networks.25.0.weight (16, 256)       -0.253 0.314 zero=2.881%\n",
      "networks.25.0.bias   (16,)           -0.049 0.091 zero=0.000%\n",
      "networks.25.2.weight (32, 16)        -0.400 0.361 zero=1.367%\n",
      "networks.25.2.bias   (32,)           -0.187 0.231 zero=0.000%\n",
      "networks.25.4.weight (1, 32)         -0.210 0.303 zero=0.000%\n",
      "networks.25.4.bias   (1,)            0.049 0.049 zero=0.000%\n",
      "networks.26.0.weight (16, 256)       -0.246 0.302 zero=3.442%\n",
      "networks.26.0.bias   (16,)           -0.059 0.104 zero=0.000%\n",
      "networks.26.2.weight (32, 16)        -0.481 0.379 zero=1.562%\n",
      "networks.26.2.bias   (32,)           -0.200 0.247 zero=0.000%\n",
      "networks.26.4.weight (1, 32)         -0.250 0.270 zero=3.125%\n",
      "networks.26.4.bias   (1,)            0.091 0.091 zero=0.000%\n",
      "networks.27.0.weight (16, 256)       -0.308 0.259 zero=3.760%\n",
      "networks.27.0.bias   (16,)           -0.095 0.094 zero=0.000%\n",
      "networks.27.2.weight (32, 16)        -0.397 0.397 zero=1.367%\n",
      "networks.27.2.bias   (32,)           -0.166 0.265 zero=0.000%\n",
      "networks.27.4.weight (1, 32)         -0.208 0.248 zero=0.000%\n",
      "networks.27.4.bias   (1,)            0.143 0.143 zero=0.000%\n",
      "networks.28.0.weight (16, 256)       -0.403 0.503 zero=4.980%\n",
      "networks.28.0.bias   (16,)           -0.160 0.120 zero=0.000%\n",
      "networks.28.2.weight (32, 16)        -0.348 0.365 zero=1.562%\n",
      "networks.28.2.bias   (32,)           -0.270 0.124 zero=0.000%\n",
      "networks.28.4.weight (1, 32)         -0.200 0.227 zero=0.000%\n",
      "networks.28.4.bias   (1,)            0.061 0.061 zero=0.000%\n",
      "networks.29.0.weight (16, 256)       -0.208 0.396 zero=3.979%\n",
      "networks.29.0.bias   (16,)           -0.081 0.074 zero=0.000%\n",
      "networks.29.2.weight (32, 16)        -0.375 0.347 zero=1.758%\n",
      "networks.29.2.bias   (32,)           -0.135 0.230 zero=0.000%\n",
      "networks.29.4.weight (1, 32)         -0.155 0.216 zero=3.125%\n",
      "networks.29.4.bias   (1,)            0.043 0.043 zero=0.000%\n",
      "networks.30.0.weight (16, 256)       -0.340 0.489 zero=4.077%\n",
      "networks.30.0.bias   (16,)           -0.104 0.059 zero=0.000%\n",
      "networks.30.2.weight (32, 16)        -0.354 0.394 zero=1.953%\n",
      "networks.30.2.bias   (32,)           -0.243 0.204 zero=0.000%\n",
      "networks.30.4.weight (1, 32)         -0.158 0.194 zero=3.125%\n",
      "networks.30.4.bias   (1,)            -0.009 -0.009 zero=0.000%\n",
      "networks.31.0.weight (16, 256)       -0.400 0.508 zero=3.735%\n",
      "networks.31.0.bias   (16,)           -0.166 0.073 zero=0.000%\n",
      "networks.31.2.weight (32, 16)        -0.346 0.363 zero=1.367%\n",
      "networks.31.2.bias   (32,)           -0.209 0.212 zero=0.000%\n",
      "networks.31.4.weight (1, 32)         -0.181 0.223 zero=0.000%\n",
      "networks.31.4.bias   (1,)            0.124 0.124 zero=0.000%\n"
     ]
    }
   ],
   "source": [
    "new_values = {}\n",
    "quantized_weights = {}\n",
    "output_right_shift = {}\n",
    "for k, v in model.named_parameters():\n",
    "    output_right_shift[k] = 0\n",
    "    if \"main_embed\" in k or k == \"main_bias\":\n",
    "        quantized = torch.round(v * 2048).to(torch.int16)\n",
    "        f = quantized.float().detach() / 2048\n",
    "        output_right_shift[k] = 11\n",
    "    elif \"bias\" in k:\n",
    "        quantized = torch.round(v * 16384).to(torch.int16)\n",
    "        f = quantized.float().detach() / 16384\n",
    "        output_right_shift[k] = 14\n",
    "    else:\n",
    "        quantized = torch.round(v * 128).to(torch.int8)\n",
    "        f = quantized.float().detach() / 128\n",
    "        output_right_shift[k] = 7\n",
    "    zero_fraction = (quantized == 0).sum() / v.numel()\n",
    "    new_values[k] = f\n",
    "    quantized_weights[k] = quantized\n",
    "    print(f\"{k:20} {str(tuple(v.shape)):15} {v.min().item():.3f} {v.max().item():.3f} zero={100 * zero_fraction:.3f}%\")"
   ]
  },
  {
   "cell_type": "code",
   "execution_count": 12,
   "id": "cf63997a",
   "metadata": {},
   "outputs": [
    {
     "data": {
      "text/plain": [
       "<All keys matched successfully>"
      ]
     },
     "execution_count": 12,
     "metadata": {},
     "output_type": "execute_result"
    }
   ],
   "source": [
    "model.load_state_dict(new_values)"
   ]
  },
  {
   "cell_type": "code",
   "execution_count": 13,
   "id": "c71344b2",
   "metadata": {},
   "outputs": [
    {
     "data": {
      "text/plain": [
       "tensor(0.5368, grad_fn=<MeanBackward0>)"
      ]
     },
     "execution_count": 13,
     "metadata": {},
     "output_type": "execute_result"
    }
   ],
   "source": [
    "estimate_loss()"
   ]
  },
  {
   "cell_type": "code",
   "execution_count": 14,
   "id": "ee1bb3fe",
   "metadata": {},
   "outputs": [
    {
     "ename": "NameError",
     "evalue": "name 'message_bytes' is not defined",
     "output_type": "error",
     "traceback": [
      "\u001b[0;31m---------------------------------------------------------------------------\u001b[0m",
      "\u001b[0;31mNameError\u001b[0m                                 Traceback (most recent call last)",
      "\u001b[0;32m/tmp/ipykernel_2044085/4166594961.py\u001b[0m in \u001b[0;36m<module>\u001b[0;34m\u001b[0m\n\u001b[0;32m----> 1\u001b[0;31m \u001b[0mlen\u001b[0m\u001b[0;34m(\u001b[0m\u001b[0mmessage_bytes\u001b[0m\u001b[0;34m)\u001b[0m \u001b[0;34m%\u001b[0m \u001b[0;36m32\u001b[0m\u001b[0;34m\u001b[0m\u001b[0;34m\u001b[0m\u001b[0m\n\u001b[0m",
      "\u001b[0;31mNameError\u001b[0m: name 'message_bytes' is not defined"
     ]
    }
   ],
   "source": [
    "len(message_bytes) % 32"
   ]
  },
  {
   "cell_type": "code",
   "execution_count": null,
   "id": "9ddeb1be",
   "metadata": {},
   "outputs": [],
   "source": [
    "def pack_i32(i32):\n",
    "    return struct.pack(\"<i\", i32)"
   ]
  },
  {
   "cell_type": "code",
   "execution_count": 15,
   "id": "8c84aa7b",
   "metadata": {},
   "outputs": [
    {
     "data": {
      "text/plain": [
       "15084"
      ]
     },
     "execution_count": 15,
     "metadata": {},
     "output_type": "execute_result"
    }
   ],
   "source": [
    "header_alloc = 15090 #768\n",
    "aligned_storage = bytearray(header_alloc)\n",
    "\n",
    "def add_bytes(b):\n",
    "    # Align to the nearest 32-byte boundary.\n",
    "    padding = (32 - len(aligned_storage)) % 32\n",
    "    aligned_storage.extend(b'\\0' * padding)\n",
    "    offset = len(aligned_storage)\n",
    "    aligned_storage.extend(b)\n",
    "    return offset\n",
    "\n",
    "weights = {}\n",
    "for k, v in quantized_weights.items():\n",
    "    shift = output_right_shift[k]\n",
    "    v = v.detach().cpu().numpy()\n",
    "    k = k.replace(\"networks.\", \"n\")\n",
    "    k = k.replace(\"0.weight\", \"0.w\")\n",
    "    k = k.replace(\"2.weight\", \"1.w\")\n",
    "    k = k.replace(\"4.weight\", \"2.w\")\n",
    "    k = k.replace(\"0.bias\", \"0.b\")\n",
    "    k = k.replace(\"2.bias\", \"1.b\")\n",
    "    k = k.replace(\"4.bias\", \"2.b\")\n",
    "    k = k.replace(\"main_net.\", \"n0.\")\n",
    "    offset = add_bytes(v.tobytes())\n",
    "    assert offset % 32 == 0\n",
    "    weights[k] = {\n",
    "        \"shape\": tuple(v.shape),\n",
    "        \"dtype\": {\"int8\": \"i8\", \"int16\": \"i16\"}[str(v.dtype)],\n",
    "        \"offset\": offset,\n",
    "        \"shift\": shift,\n",
    "    }\n",
    "message = {\n",
    "    \"version\": \"v1\",\n",
    "    \"weights\": weights,\n",
    "}\n",
    "\n",
    "message_bytes = json.dumps(message).encode()\n",
    "assert len(message_bytes) < header_alloc\n",
    "aligned_storage[:len(message_bytes)] = message_bytes\n",
    "len(message_bytes)"
   ]
  },
  {
   "cell_type": "code",
   "execution_count": 16,
   "id": "9995532d",
   "metadata": {},
   "outputs": [],
   "source": [
    "with open(\"src/nnue-data.bin\", \"wb\") as f:\n",
    "    f.write(aligned_storage)"
   ]
  },
  {
   "cell_type": "code",
   "execution_count": 17,
   "id": "e4bee1a7",
   "metadata": {
    "scrolled": true
   },
   "outputs": [
    {
     "data": {
      "text/plain": [
       "{'version': 'v1',\n",
       " 'weights': {'main_bias': {'shape': (256,),\n",
       "   'dtype': 'i16',\n",
       "   'offset': 15104,\n",
       "   'shift': 11},\n",
       "  'main_embed.weight': {'shape': (106496, 256),\n",
       "   'dtype': 'i16',\n",
       "   'offset': 15616,\n",
       "   'shift': 11},\n",
       "  'n0.0.w': {'shape': (16, 256),\n",
       "   'dtype': 'i8',\n",
       "   'offset': 54546336,\n",
       "   'shift': 7},\n",
       "  'n0.0.b': {'shape': (16,), 'dtype': 'i16', 'offset': 54550432, 'shift': 14},\n",
       "  'n0.1.w': {'shape': (32, 16), 'dtype': 'i8', 'offset': 54550464, 'shift': 7},\n",
       "  'n0.1.b': {'shape': (32,), 'dtype': 'i16', 'offset': 54550976, 'shift': 14},\n",
       "  'n0.2.w': {'shape': (1, 32), 'dtype': 'i8', 'offset': 54551040, 'shift': 7},\n",
       "  'n0.2.b': {'shape': (1,), 'dtype': 'i16', 'offset': 54551072, 'shift': 14},\n",
       "  'n1.0.w': {'shape': (16, 256),\n",
       "   'dtype': 'i8',\n",
       "   'offset': 54551104,\n",
       "   'shift': 7},\n",
       "  'n1.0.b': {'shape': (16,), 'dtype': 'i16', 'offset': 54555200, 'shift': 14},\n",
       "  'n1.1.w': {'shape': (32, 16), 'dtype': 'i8', 'offset': 54555232, 'shift': 7},\n",
       "  'n1.1.b': {'shape': (32,), 'dtype': 'i16', 'offset': 54555744, 'shift': 14},\n",
       "  'n1.2.w': {'shape': (1, 32), 'dtype': 'i8', 'offset': 54555808, 'shift': 7},\n",
       "  'n1.2.b': {'shape': (1,), 'dtype': 'i16', 'offset': 54555840, 'shift': 14},\n",
       "  'n2.0.w': {'shape': (16, 256),\n",
       "   'dtype': 'i8',\n",
       "   'offset': 54555872,\n",
       "   'shift': 7},\n",
       "  'n2.0.b': {'shape': (16,), 'dtype': 'i16', 'offset': 54559968, 'shift': 14},\n",
       "  'n2.1.w': {'shape': (32, 16), 'dtype': 'i8', 'offset': 54560000, 'shift': 7},\n",
       "  'n2.1.b': {'shape': (32,), 'dtype': 'i16', 'offset': 54560512, 'shift': 14},\n",
       "  'n2.2.w': {'shape': (1, 32), 'dtype': 'i8', 'offset': 54560576, 'shift': 7},\n",
       "  'n2.2.b': {'shape': (1,), 'dtype': 'i16', 'offset': 54560608, 'shift': 14},\n",
       "  'n3.0.w': {'shape': (16, 256),\n",
       "   'dtype': 'i8',\n",
       "   'offset': 54560640,\n",
       "   'shift': 7},\n",
       "  'n3.0.b': {'shape': (16,), 'dtype': 'i16', 'offset': 54564736, 'shift': 14},\n",
       "  'n3.1.w': {'shape': (32, 16), 'dtype': 'i8', 'offset': 54564768, 'shift': 7},\n",
       "  'n3.1.b': {'shape': (32,), 'dtype': 'i16', 'offset': 54565280, 'shift': 14},\n",
       "  'n3.2.w': {'shape': (1, 32), 'dtype': 'i8', 'offset': 54565344, 'shift': 7},\n",
       "  'n3.2.b': {'shape': (1,), 'dtype': 'i16', 'offset': 54565376, 'shift': 14},\n",
       "  'n4.0.w': {'shape': (16, 256),\n",
       "   'dtype': 'i8',\n",
       "   'offset': 54565408,\n",
       "   'shift': 7},\n",
       "  'n4.0.b': {'shape': (16,), 'dtype': 'i16', 'offset': 54569504, 'shift': 14},\n",
       "  'n4.1.w': {'shape': (32, 16), 'dtype': 'i8', 'offset': 54569536, 'shift': 7},\n",
       "  'n4.1.b': {'shape': (32,), 'dtype': 'i16', 'offset': 54570048, 'shift': 14},\n",
       "  'n4.2.w': {'shape': (1, 32), 'dtype': 'i8', 'offset': 54570112, 'shift': 7},\n",
       "  'n4.2.b': {'shape': (1,), 'dtype': 'i16', 'offset': 54570144, 'shift': 14},\n",
       "  'n5.0.w': {'shape': (16, 256),\n",
       "   'dtype': 'i8',\n",
       "   'offset': 54570176,\n",
       "   'shift': 7},\n",
       "  'n5.0.b': {'shape': (16,), 'dtype': 'i16', 'offset': 54574272, 'shift': 14},\n",
       "  'n5.1.w': {'shape': (32, 16), 'dtype': 'i8', 'offset': 54574304, 'shift': 7},\n",
       "  'n5.1.b': {'shape': (32,), 'dtype': 'i16', 'offset': 54574816, 'shift': 14},\n",
       "  'n5.2.w': {'shape': (1, 32), 'dtype': 'i8', 'offset': 54574880, 'shift': 7},\n",
       "  'n5.2.b': {'shape': (1,), 'dtype': 'i16', 'offset': 54574912, 'shift': 14},\n",
       "  'n6.0.w': {'shape': (16, 256),\n",
       "   'dtype': 'i8',\n",
       "   'offset': 54574944,\n",
       "   'shift': 7},\n",
       "  'n6.0.b': {'shape': (16,), 'dtype': 'i16', 'offset': 54579040, 'shift': 14},\n",
       "  'n6.1.w': {'shape': (32, 16), 'dtype': 'i8', 'offset': 54579072, 'shift': 7},\n",
       "  'n6.1.b': {'shape': (32,), 'dtype': 'i16', 'offset': 54579584, 'shift': 14},\n",
       "  'n6.2.w': {'shape': (1, 32), 'dtype': 'i8', 'offset': 54579648, 'shift': 7},\n",
       "  'n6.2.b': {'shape': (1,), 'dtype': 'i16', 'offset': 54579680, 'shift': 14},\n",
       "  'n7.0.w': {'shape': (16, 256),\n",
       "   'dtype': 'i8',\n",
       "   'offset': 54579712,\n",
       "   'shift': 7},\n",
       "  'n7.0.b': {'shape': (16,), 'dtype': 'i16', 'offset': 54583808, 'shift': 14},\n",
       "  'n7.1.w': {'shape': (32, 16), 'dtype': 'i8', 'offset': 54583840, 'shift': 7},\n",
       "  'n7.1.b': {'shape': (32,), 'dtype': 'i16', 'offset': 54584352, 'shift': 14},\n",
       "  'n7.2.w': {'shape': (1, 32), 'dtype': 'i8', 'offset': 54584416, 'shift': 7},\n",
       "  'n7.2.b': {'shape': (1,), 'dtype': 'i16', 'offset': 54584448, 'shift': 14},\n",
       "  'n8.0.w': {'shape': (16, 256),\n",
       "   'dtype': 'i8',\n",
       "   'offset': 54584480,\n",
       "   'shift': 7},\n",
       "  'n8.0.b': {'shape': (16,), 'dtype': 'i16', 'offset': 54588576, 'shift': 14},\n",
       "  'n8.1.w': {'shape': (32, 16), 'dtype': 'i8', 'offset': 54588608, 'shift': 7},\n",
       "  'n8.1.b': {'shape': (32,), 'dtype': 'i16', 'offset': 54589120, 'shift': 14},\n",
       "  'n8.2.w': {'shape': (1, 32), 'dtype': 'i8', 'offset': 54589184, 'shift': 7},\n",
       "  'n8.2.b': {'shape': (1,), 'dtype': 'i16', 'offset': 54589216, 'shift': 14},\n",
       "  'n9.0.w': {'shape': (16, 256),\n",
       "   'dtype': 'i8',\n",
       "   'offset': 54589248,\n",
       "   'shift': 7},\n",
       "  'n9.0.b': {'shape': (16,), 'dtype': 'i16', 'offset': 54593344, 'shift': 14},\n",
       "  'n9.1.w': {'shape': (32, 16), 'dtype': 'i8', 'offset': 54593376, 'shift': 7},\n",
       "  'n9.1.b': {'shape': (32,), 'dtype': 'i16', 'offset': 54593888, 'shift': 14},\n",
       "  'n9.2.w': {'shape': (1, 32), 'dtype': 'i8', 'offset': 54593952, 'shift': 7},\n",
       "  'n9.2.b': {'shape': (1,), 'dtype': 'i16', 'offset': 54593984, 'shift': 14},\n",
       "  'n10.0.w': {'shape': (16, 256),\n",
       "   'dtype': 'i8',\n",
       "   'offset': 54594016,\n",
       "   'shift': 7},\n",
       "  'n10.0.b': {'shape': (16,), 'dtype': 'i16', 'offset': 54598112, 'shift': 14},\n",
       "  'n10.1.w': {'shape': (32, 16),\n",
       "   'dtype': 'i8',\n",
       "   'offset': 54598144,\n",
       "   'shift': 7},\n",
       "  'n10.1.b': {'shape': (32,), 'dtype': 'i16', 'offset': 54598656, 'shift': 14},\n",
       "  'n10.2.w': {'shape': (1, 32), 'dtype': 'i8', 'offset': 54598720, 'shift': 7},\n",
       "  'n10.2.b': {'shape': (1,), 'dtype': 'i16', 'offset': 54598752, 'shift': 14},\n",
       "  'n11.0.w': {'shape': (16, 256),\n",
       "   'dtype': 'i8',\n",
       "   'offset': 54598784,\n",
       "   'shift': 7},\n",
       "  'n11.0.b': {'shape': (16,), 'dtype': 'i16', 'offset': 54602880, 'shift': 14},\n",
       "  'n11.1.w': {'shape': (32, 16),\n",
       "   'dtype': 'i8',\n",
       "   'offset': 54602912,\n",
       "   'shift': 7},\n",
       "  'n11.1.b': {'shape': (32,), 'dtype': 'i16', 'offset': 54603424, 'shift': 14},\n",
       "  'n11.2.w': {'shape': (1, 32), 'dtype': 'i8', 'offset': 54603488, 'shift': 7},\n",
       "  'n11.2.b': {'shape': (1,), 'dtype': 'i16', 'offset': 54603520, 'shift': 14},\n",
       "  'n12.0.w': {'shape': (16, 256),\n",
       "   'dtype': 'i8',\n",
       "   'offset': 54603552,\n",
       "   'shift': 7},\n",
       "  'n12.0.b': {'shape': (16,), 'dtype': 'i16', 'offset': 54607648, 'shift': 14},\n",
       "  'n12.1.w': {'shape': (32, 16),\n",
       "   'dtype': 'i8',\n",
       "   'offset': 54607680,\n",
       "   'shift': 7},\n",
       "  'n12.1.b': {'shape': (32,), 'dtype': 'i16', 'offset': 54608192, 'shift': 14},\n",
       "  'n12.2.w': {'shape': (1, 32), 'dtype': 'i8', 'offset': 54608256, 'shift': 7},\n",
       "  'n12.2.b': {'shape': (1,), 'dtype': 'i16', 'offset': 54608288, 'shift': 14},\n",
       "  'n13.0.w': {'shape': (16, 256),\n",
       "   'dtype': 'i8',\n",
       "   'offset': 54608320,\n",
       "   'shift': 7},\n",
       "  'n13.0.b': {'shape': (16,), 'dtype': 'i16', 'offset': 54612416, 'shift': 14},\n",
       "  'n13.1.w': {'shape': (32, 16),\n",
       "   'dtype': 'i8',\n",
       "   'offset': 54612448,\n",
       "   'shift': 7},\n",
       "  'n13.1.b': {'shape': (32,), 'dtype': 'i16', 'offset': 54612960, 'shift': 14},\n",
       "  'n13.2.w': {'shape': (1, 32), 'dtype': 'i8', 'offset': 54613024, 'shift': 7},\n",
       "  'n13.2.b': {'shape': (1,), 'dtype': 'i16', 'offset': 54613056, 'shift': 14},\n",
       "  'n14.0.w': {'shape': (16, 256),\n",
       "   'dtype': 'i8',\n",
       "   'offset': 54613088,\n",
       "   'shift': 7},\n",
       "  'n14.0.b': {'shape': (16,), 'dtype': 'i16', 'offset': 54617184, 'shift': 14},\n",
       "  'n14.1.w': {'shape': (32, 16),\n",
       "   'dtype': 'i8',\n",
       "   'offset': 54617216,\n",
       "   'shift': 7},\n",
       "  'n14.1.b': {'shape': (32,), 'dtype': 'i16', 'offset': 54617728, 'shift': 14},\n",
       "  'n14.2.w': {'shape': (1, 32), 'dtype': 'i8', 'offset': 54617792, 'shift': 7},\n",
       "  'n14.2.b': {'shape': (1,), 'dtype': 'i16', 'offset': 54617824, 'shift': 14},\n",
       "  'n15.0.w': {'shape': (16, 256),\n",
       "   'dtype': 'i8',\n",
       "   'offset': 54617856,\n",
       "   'shift': 7},\n",
       "  'n15.0.b': {'shape': (16,), 'dtype': 'i16', 'offset': 54621952, 'shift': 14},\n",
       "  'n15.1.w': {'shape': (32, 16),\n",
       "   'dtype': 'i8',\n",
       "   'offset': 54621984,\n",
       "   'shift': 7},\n",
       "  'n15.1.b': {'shape': (32,), 'dtype': 'i16', 'offset': 54622496, 'shift': 14},\n",
       "  'n15.2.w': {'shape': (1, 32), 'dtype': 'i8', 'offset': 54622560, 'shift': 7},\n",
       "  'n15.2.b': {'shape': (1,), 'dtype': 'i16', 'offset': 54622592, 'shift': 14},\n",
       "  'n16.0.w': {'shape': (16, 256),\n",
       "   'dtype': 'i8',\n",
       "   'offset': 54622624,\n",
       "   'shift': 7},\n",
       "  'n16.0.b': {'shape': (16,), 'dtype': 'i16', 'offset': 54626720, 'shift': 14},\n",
       "  'n16.1.w': {'shape': (32, 16),\n",
       "   'dtype': 'i8',\n",
       "   'offset': 54626752,\n",
       "   'shift': 7},\n",
       "  'n16.1.b': {'shape': (32,), 'dtype': 'i16', 'offset': 54627264, 'shift': 14},\n",
       "  'n16.2.w': {'shape': (1, 32), 'dtype': 'i8', 'offset': 54627328, 'shift': 7},\n",
       "  'n16.2.b': {'shape': (1,), 'dtype': 'i16', 'offset': 54627360, 'shift': 14},\n",
       "  'n17.0.w': {'shape': (16, 256),\n",
       "   'dtype': 'i8',\n",
       "   'offset': 54627392,\n",
       "   'shift': 7},\n",
       "  'n17.0.b': {'shape': (16,), 'dtype': 'i16', 'offset': 54631488, 'shift': 14},\n",
       "  'n17.1.w': {'shape': (32, 16),\n",
       "   'dtype': 'i8',\n",
       "   'offset': 54631520,\n",
       "   'shift': 7},\n",
       "  'n17.1.b': {'shape': (32,), 'dtype': 'i16', 'offset': 54632032, 'shift': 14},\n",
       "  'n17.2.w': {'shape': (1, 32), 'dtype': 'i8', 'offset': 54632096, 'shift': 7},\n",
       "  'n17.2.b': {'shape': (1,), 'dtype': 'i16', 'offset': 54632128, 'shift': 14},\n",
       "  'n18.0.w': {'shape': (16, 256),\n",
       "   'dtype': 'i8',\n",
       "   'offset': 54632160,\n",
       "   'shift': 7},\n",
       "  'n18.0.b': {'shape': (16,), 'dtype': 'i16', 'offset': 54636256, 'shift': 14},\n",
       "  'n18.1.w': {'shape': (32, 16),\n",
       "   'dtype': 'i8',\n",
       "   'offset': 54636288,\n",
       "   'shift': 7},\n",
       "  'n18.1.b': {'shape': (32,), 'dtype': 'i16', 'offset': 54636800, 'shift': 14},\n",
       "  'n18.2.w': {'shape': (1, 32), 'dtype': 'i8', 'offset': 54636864, 'shift': 7},\n",
       "  'n18.2.b': {'shape': (1,), 'dtype': 'i16', 'offset': 54636896, 'shift': 14},\n",
       "  'n19.0.w': {'shape': (16, 256),\n",
       "   'dtype': 'i8',\n",
       "   'offset': 54636928,\n",
       "   'shift': 7},\n",
       "  'n19.0.b': {'shape': (16,), 'dtype': 'i16', 'offset': 54641024, 'shift': 14},\n",
       "  'n19.1.w': {'shape': (32, 16),\n",
       "   'dtype': 'i8',\n",
       "   'offset': 54641056,\n",
       "   'shift': 7},\n",
       "  'n19.1.b': {'shape': (32,), 'dtype': 'i16', 'offset': 54641568, 'shift': 14},\n",
       "  'n19.2.w': {'shape': (1, 32), 'dtype': 'i8', 'offset': 54641632, 'shift': 7},\n",
       "  'n19.2.b': {'shape': (1,), 'dtype': 'i16', 'offset': 54641664, 'shift': 14},\n",
       "  'n20.0.w': {'shape': (16, 256),\n",
       "   'dtype': 'i8',\n",
       "   'offset': 54641696,\n",
       "   'shift': 7},\n",
       "  'n20.0.b': {'shape': (16,), 'dtype': 'i16', 'offset': 54645792, 'shift': 14},\n",
       "  'n20.1.w': {'shape': (32, 16),\n",
       "   'dtype': 'i8',\n",
       "   'offset': 54645824,\n",
       "   'shift': 7},\n",
       "  'n20.1.b': {'shape': (32,), 'dtype': 'i16', 'offset': 54646336, 'shift': 14},\n",
       "  'n20.2.w': {'shape': (1, 32), 'dtype': 'i8', 'offset': 54646400, 'shift': 7},\n",
       "  'n20.2.b': {'shape': (1,), 'dtype': 'i16', 'offset': 54646432, 'shift': 14},\n",
       "  'n21.0.w': {'shape': (16, 256),\n",
       "   'dtype': 'i8',\n",
       "   'offset': 54646464,\n",
       "   'shift': 7},\n",
       "  'n21.0.b': {'shape': (16,), 'dtype': 'i16', 'offset': 54650560, 'shift': 14},\n",
       "  'n21.1.w': {'shape': (32, 16),\n",
       "   'dtype': 'i8',\n",
       "   'offset': 54650592,\n",
       "   'shift': 7},\n",
       "  'n21.1.b': {'shape': (32,), 'dtype': 'i16', 'offset': 54651104, 'shift': 14},\n",
       "  'n21.2.w': {'shape': (1, 32), 'dtype': 'i8', 'offset': 54651168, 'shift': 7},\n",
       "  'n21.2.b': {'shape': (1,), 'dtype': 'i16', 'offset': 54651200, 'shift': 14},\n",
       "  'n22.0.w': {'shape': (16, 256),\n",
       "   'dtype': 'i8',\n",
       "   'offset': 54651232,\n",
       "   'shift': 7},\n",
       "  'n22.0.b': {'shape': (16,), 'dtype': 'i16', 'offset': 54655328, 'shift': 14},\n",
       "  'n22.1.w': {'shape': (32, 16),\n",
       "   'dtype': 'i8',\n",
       "   'offset': 54655360,\n",
       "   'shift': 7},\n",
       "  'n22.1.b': {'shape': (32,), 'dtype': 'i16', 'offset': 54655872, 'shift': 14},\n",
       "  'n22.2.w': {'shape': (1, 32), 'dtype': 'i8', 'offset': 54655936, 'shift': 7},\n",
       "  'n22.2.b': {'shape': (1,), 'dtype': 'i16', 'offset': 54655968, 'shift': 14},\n",
       "  'n23.0.w': {'shape': (16, 256),\n",
       "   'dtype': 'i8',\n",
       "   'offset': 54656000,\n",
       "   'shift': 7},\n",
       "  'n23.0.b': {'shape': (16,), 'dtype': 'i16', 'offset': 54660096, 'shift': 14},\n",
       "  'n23.1.w': {'shape': (32, 16),\n",
       "   'dtype': 'i8',\n",
       "   'offset': 54660128,\n",
       "   'shift': 7},\n",
       "  'n23.1.b': {'shape': (32,), 'dtype': 'i16', 'offset': 54660640, 'shift': 14},\n",
       "  'n23.2.w': {'shape': (1, 32), 'dtype': 'i8', 'offset': 54660704, 'shift': 7},\n",
       "  'n23.2.b': {'shape': (1,), 'dtype': 'i16', 'offset': 54660736, 'shift': 14},\n",
       "  'n24.0.w': {'shape': (16, 256),\n",
       "   'dtype': 'i8',\n",
       "   'offset': 54660768,\n",
       "   'shift': 7},\n",
       "  'n24.0.b': {'shape': (16,), 'dtype': 'i16', 'offset': 54664864, 'shift': 14},\n",
       "  'n24.1.w': {'shape': (32, 16),\n",
       "   'dtype': 'i8',\n",
       "   'offset': 54664896,\n",
       "   'shift': 7},\n",
       "  'n24.1.b': {'shape': (32,), 'dtype': 'i16', 'offset': 54665408, 'shift': 14},\n",
       "  'n24.2.w': {'shape': (1, 32), 'dtype': 'i8', 'offset': 54665472, 'shift': 7},\n",
       "  'n24.2.b': {'shape': (1,), 'dtype': 'i16', 'offset': 54665504, 'shift': 14},\n",
       "  'n25.0.w': {'shape': (16, 256),\n",
       "   'dtype': 'i8',\n",
       "   'offset': 54665536,\n",
       "   'shift': 7},\n",
       "  'n25.0.b': {'shape': (16,), 'dtype': 'i16', 'offset': 54669632, 'shift': 14},\n",
       "  'n25.1.w': {'shape': (32, 16),\n",
       "   'dtype': 'i8',\n",
       "   'offset': 54669664,\n",
       "   'shift': 7},\n",
       "  'n25.1.b': {'shape': (32,), 'dtype': 'i16', 'offset': 54670176, 'shift': 14},\n",
       "  'n25.2.w': {'shape': (1, 32), 'dtype': 'i8', 'offset': 54670240, 'shift': 7},\n",
       "  'n25.2.b': {'shape': (1,), 'dtype': 'i16', 'offset': 54670272, 'shift': 14},\n",
       "  'n26.0.w': {'shape': (16, 256),\n",
       "   'dtype': 'i8',\n",
       "   'offset': 54670304,\n",
       "   'shift': 7},\n",
       "  'n26.0.b': {'shape': (16,), 'dtype': 'i16', 'offset': 54674400, 'shift': 14},\n",
       "  'n26.1.w': {'shape': (32, 16),\n",
       "   'dtype': 'i8',\n",
       "   'offset': 54674432,\n",
       "   'shift': 7},\n",
       "  'n26.1.b': {'shape': (32,), 'dtype': 'i16', 'offset': 54674944, 'shift': 14},\n",
       "  'n26.2.w': {'shape': (1, 32), 'dtype': 'i8', 'offset': 54675008, 'shift': 7},\n",
       "  'n26.2.b': {'shape': (1,), 'dtype': 'i16', 'offset': 54675040, 'shift': 14},\n",
       "  'n27.0.w': {'shape': (16, 256),\n",
       "   'dtype': 'i8',\n",
       "   'offset': 54675072,\n",
       "   'shift': 7},\n",
       "  'n27.0.b': {'shape': (16,), 'dtype': 'i16', 'offset': 54679168, 'shift': 14},\n",
       "  'n27.1.w': {'shape': (32, 16),\n",
       "   'dtype': 'i8',\n",
       "   'offset': 54679200,\n",
       "   'shift': 7},\n",
       "  'n27.1.b': {'shape': (32,), 'dtype': 'i16', 'offset': 54679712, 'shift': 14},\n",
       "  'n27.2.w': {'shape': (1, 32), 'dtype': 'i8', 'offset': 54679776, 'shift': 7},\n",
       "  'n27.2.b': {'shape': (1,), 'dtype': 'i16', 'offset': 54679808, 'shift': 14},\n",
       "  'n28.0.w': {'shape': (16, 256),\n",
       "   'dtype': 'i8',\n",
       "   'offset': 54679840,\n",
       "   'shift': 7},\n",
       "  'n28.0.b': {'shape': (16,), 'dtype': 'i16', 'offset': 54683936, 'shift': 14},\n",
       "  'n28.1.w': {'shape': (32, 16),\n",
       "   'dtype': 'i8',\n",
       "   'offset': 54683968,\n",
       "   'shift': 7},\n",
       "  'n28.1.b': {'shape': (32,), 'dtype': 'i16', 'offset': 54684480, 'shift': 14},\n",
       "  'n28.2.w': {'shape': (1, 32), 'dtype': 'i8', 'offset': 54684544, 'shift': 7},\n",
       "  'n28.2.b': {'shape': (1,), 'dtype': 'i16', 'offset': 54684576, 'shift': 14},\n",
       "  'n29.0.w': {'shape': (16, 256),\n",
       "   'dtype': 'i8',\n",
       "   'offset': 54684608,\n",
       "   'shift': 7},\n",
       "  'n29.0.b': {'shape': (16,), 'dtype': 'i16', 'offset': 54688704, 'shift': 14},\n",
       "  'n29.1.w': {'shape': (32, 16),\n",
       "   'dtype': 'i8',\n",
       "   'offset': 54688736,\n",
       "   'shift': 7},\n",
       "  'n29.1.b': {'shape': (32,), 'dtype': 'i16', 'offset': 54689248, 'shift': 14},\n",
       "  'n29.2.w': {'shape': (1, 32), 'dtype': 'i8', 'offset': 54689312, 'shift': 7},\n",
       "  'n29.2.b': {'shape': (1,), 'dtype': 'i16', 'offset': 54689344, 'shift': 14},\n",
       "  'n30.0.w': {'shape': (16, 256),\n",
       "   'dtype': 'i8',\n",
       "   'offset': 54689376,\n",
       "   'shift': 7},\n",
       "  'n30.0.b': {'shape': (16,), 'dtype': 'i16', 'offset': 54693472, 'shift': 14},\n",
       "  'n30.1.w': {'shape': (32, 16),\n",
       "   'dtype': 'i8',\n",
       "   'offset': 54693504,\n",
       "   'shift': 7},\n",
       "  'n30.1.b': {'shape': (32,), 'dtype': 'i16', 'offset': 54694016, 'shift': 14},\n",
       "  'n30.2.w': {'shape': (1, 32), 'dtype': 'i8', 'offset': 54694080, 'shift': 7},\n",
       "  'n30.2.b': {'shape': (1,), 'dtype': 'i16', 'offset': 54694112, 'shift': 14},\n",
       "  'n31.0.w': {'shape': (16, 256),\n",
       "   'dtype': 'i8',\n",
       "   'offset': 54694144,\n",
       "   'shift': 7},\n",
       "  'n31.0.b': {'shape': (16,), 'dtype': 'i16', 'offset': 54698240, 'shift': 14},\n",
       "  'n31.1.w': {'shape': (32, 16),\n",
       "   'dtype': 'i8',\n",
       "   'offset': 54698272,\n",
       "   'shift': 7},\n",
       "  'n31.1.b': {'shape': (32,), 'dtype': 'i16', 'offset': 54698784, 'shift': 14},\n",
       "  'n31.2.w': {'shape': (1, 32), 'dtype': 'i8', 'offset': 54698848, 'shift': 7},\n",
       "  'n31.2.b': {'shape': (1,), 'dtype': 'i16', 'offset': 54698880, 'shift': 14}}}"
      ]
     },
     "execution_count": 17,
     "metadata": {},
     "output_type": "execute_result"
    }
   ],
   "source": [
    "message"
   ]
  },
  {
   "cell_type": "raw",
   "id": "e4aaa15a",
   "metadata": {},
   "source": [
    "import zlib\n",
    "import bz2"
   ]
  },
  {
   "cell_type": "raw",
   "id": "db46d9b8",
   "metadata": {},
   "source": [
    "x = zlib.compress(bytes(aligned_storage), level=9)"
   ]
  },
  {
   "cell_type": "raw",
   "id": "8786369e",
   "metadata": {},
   "source": [
    "len(x) * 1e-6"
   ]
  },
  {
   "cell_type": "raw",
   "id": "5aabe469",
   "metadata": {},
   "source": [
    "x = bz2.compress(bytes(aligned_storage))"
   ]
  },
  {
   "cell_type": "raw",
   "id": "cc27bdd2",
   "metadata": {},
   "source": [
    "len(x) * 1e-6"
   ]
  },
  {
   "cell_type": "raw",
   "id": "fc51a435",
   "metadata": {},
   "source": [
    "len(aligned_storage) * 1e-6"
   ]
  },
  {
   "cell_type": "markdown",
   "id": "b8faaa42",
   "metadata": {},
   "source": [
    "# Debug network eval"
   ]
  },
  {
   "cell_type": "code",
   "execution_count": null,
   "id": "1a4bd6c8",
   "metadata": {},
   "outputs": [],
   "source": [
    "moves = [\n",
    "    {\"from\":12,\"to\":28},\n",
    "    {\"from\":16,\"to\":16},\n",
    "    {\"from\":52,\"to\":36},\n",
    "    {\"from\":16,\"to\":24},\n",
    "    {\"from\":3,\"to\":39},\n",
    "    {\"from\":24,\"to\":16},\n",
    "    {\"from\":54,\"to\":46},\n",
    "    {\"from\":16,\"to\":24},\n",
    "    {\"from\":4,\"to\":12},\n",
    "    {\"from\":24,\"to\":16},\n",
    "    #{\"from\":46,\"to\":39},\n",
    "]"
   ]
  },
  {
   "cell_type": "code",
   "execution_count": null,
   "id": "a3fce58c",
   "metadata": {},
   "outputs": [],
   "source": [
    "import engine"
   ]
  },
  {
   "cell_type": "code",
   "execution_count": null,
   "id": "f71470cf",
   "metadata": {},
   "outputs": [],
   "source": [
    "e = engine.Engine(0)\n",
    "for m in moves:\n",
    "    print(e.apply_move(json.dumps(m)))\n",
    "feat_indices = e.get_nnue_feature_indices()"
   ]
  },
  {
   "cell_type": "code",
   "execution_count": null,
   "id": "5234ce30",
   "metadata": {},
   "outputs": [],
   "source": [
    "all_interm.clear()"
   ]
  },
  {
   "cell_type": "code",
   "execution_count": null,
   "id": "6c9e0c7a",
   "metadata": {},
   "outputs": [],
   "source": [
    "out = model(\n",
    "    torch.LongTensor(feat_indices),\n",
    "    torch.LongTensor([0]), # offset = 0\n",
    "    torch.LongTensor([1]), # which_model = 1 (white, non-duck turn)\n",
    "    torch.LongTensor([len(feat_indices)]),\n",
    ")"
   ]
  },
  {
   "cell_type": "code",
   "execution_count": null,
   "id": "1ccc4e84",
   "metadata": {},
   "outputs": [],
   "source": [
    "len(all_interm)"
   ]
  },
  {
   "cell_type": "code",
   "execution_count": null,
   "id": "20bd8406",
   "metadata": {},
   "outputs": [],
   "source": [
    "for i, (k, _, _) in enumerate(all_interm): print(i, \"->\", k)"
   ]
  },
  {
   "cell_type": "code",
   "execution_count": null,
   "id": "ceed195e",
   "metadata": {},
   "outputs": [],
   "source": [
    "named_params = dict(model.named_parameters())"
   ]
  },
  {
   "cell_type": "code",
   "execution_count": null,
   "id": "3852d22e",
   "metadata": {},
   "outputs": [],
   "source": [
    "actualW = (named_params[\"main_net.4.weight\"] * 128).to(torch.int16).numpy()"
   ]
  },
  {
   "cell_type": "code",
   "execution_count": null,
   "id": "b0612c43",
   "metadata": {},
   "outputs": [],
   "source": [
    "actualB = (named_params[\"main_net.4.bias\"] * (1 << 14)).to(torch.int16).numpy()"
   ]
  },
  {
   "cell_type": "code",
   "execution_count": null,
   "id": "b72e5546",
   "metadata": {},
   "outputs": [],
   "source": [
    "actualB"
   ]
  },
  {
   "cell_type": "code",
   "execution_count": null,
   "id": "36748a15",
   "metadata": {},
   "outputs": [],
   "source": [
    "(all_interm[7][1][0] * (2 ** 11)).to(torch.int32)"
   ]
  },
  {
   "cell_type": "code",
   "execution_count": null,
   "id": "1e1a56d2",
   "metadata": {},
   "outputs": [],
   "source": []
  },
  {
   "cell_type": "code",
   "execution_count": null,
   "id": "8bf728e6",
   "metadata": {},
   "outputs": [],
   "source": [
    "22406 - 23263"
   ]
  },
  {
   "cell_type": "code",
   "execution_count": null,
   "id": "209229b7",
   "metadata": {},
   "outputs": [],
   "source": [
    "all_interm[8][1][0] * (1 << 14)"
   ]
  },
  {
   "cell_type": "code",
   "execution_count": null,
   "id": "986dd558",
   "metadata": {},
   "outputs": [],
   "source": [
    "all_interm[6][2] * (1 << 14)"
   ]
  },
  {
   "cell_type": "code",
   "execution_count": null,
   "id": "95c66621",
   "metadata": {},
   "outputs": [],
   "source": [
    "actual_inp = all_interm[6][1][0] * (1 << 7)"
   ]
  },
  {
   "cell_type": "code",
   "execution_count": null,
   "id": "895d7c9c",
   "metadata": {},
   "outputs": [],
   "source": [
    "actual_inp"
   ]
  },
  {
   "cell_type": "code",
   "execution_count": null,
   "id": "0ea45f05",
   "metadata": {},
   "outputs": [],
   "source": [
    "(actual_inp.detach().numpy() @ actualW.T) + actualB"
   ]
  },
  {
   "cell_type": "code",
   "execution_count": null,
   "id": "82738f98",
   "metadata": {},
   "outputs": [],
   "source": [
    "((all_interm[6][1][0] * (1 << 7)).to(torch.int16) - final_out) @ actualW.T"
   ]
  },
  {
   "cell_type": "code",
   "execution_count": null,
   "id": "0ef5a121",
   "metadata": {},
   "outputs": [],
   "source": [
    "final_out = np.array([0, 0, 0, 33, 32, 0, 2, 4, 13, 27, 4, 0, 0, 0, 24, 0, 0, 0, 17, 0, 35, 0, 0, 0, 22, 0, 0, 0, 41, 0, 0, 1, ])\n",
    "l2_weights = np.array([-58, -44, -25, -29, -33, 44, 10, -35, -25, -22, -37, -61, -34, 50, 31, 54, 41, 33, -25, -39, -36, 41, -30, -75, 36, 7, 44, 45, -32, 55, 7, -42, ])\n",
    "#final_out = np.array([0, 0, 0, 32, 32, 0, 1, 3, 13, 27, 5, 0, 0, 0, 25, 0, 0, 0, 17, 0, 34, 0, 0, 0, 22, 0, 0, 0, 40, 0, 0, 1, ])\n",
    "#l2_weights = np.array([-58, -44, -25, -29, -32, 44, 10, -35, -24, -22, -37, -60, -33, 49, 30, 53, 41, 33, -24, -39, -35, 41, -29, -74, 35, 7, 43, 45, -31, 55, 7, -41, ])"
   ]
  },
  {
   "cell_type": "code",
   "execution_count": null,
   "id": "c2f8a22d",
   "metadata": {},
   "outputs": [],
   "source": [
    "final_out @ l2_weights + actualB"
   ]
  },
  {
   "cell_type": "code",
   "execution_count": null,
   "id": "f2830f56",
   "metadata": {},
   "outputs": [],
   "source": []
  },
  {
   "cell_type": "code",
   "execution_count": null,
   "id": "b1e80140",
   "metadata": {},
   "outputs": [],
   "source": [
    "(all_interm[6][1][0] * (1 << 7)).to(torch.int16)"
   ]
  },
  {
   "cell_type": "code",
   "execution_count": null,
   "id": "4f5c29be",
   "metadata": {},
   "outputs": [],
   "source": [
    "all_interm[6][2] * (1 << 14)"
   ]
  },
  {
   "cell_type": "code",
   "execution_count": null,
   "id": "e6b902c4",
   "metadata": {},
   "outputs": [],
   "source": [
    "all_interm[7]"
   ]
  },
  {
   "cell_type": "code",
   "execution_count": null,
   "id": "62b38e46",
   "metadata": {},
   "outputs": [],
   "source": [
    "0.2458 * 2**14"
   ]
  },
  {
   "cell_type": "code",
   "execution_count": null,
   "id": "f8706e19",
   "metadata": {},
   "outputs": [],
   "source": []
  },
  {
   "cell_type": "code",
   "execution_count": null,
   "id": "6b3ebbc9",
   "metadata": {},
   "outputs": [],
   "source": []
  },
  {
   "cell_type": "code",
   "execution_count": null,
   "id": "facc633d",
   "metadata": {},
   "outputs": [],
   "source": []
  },
  {
   "cell_type": "code",
   "execution_count": null,
   "id": "23a1a0d0",
   "metadata": {},
   "outputs": [],
   "source": [
    "0.0057 * (1<<14)"
   ]
  },
  {
   "cell_type": "code",
   "execution_count": null,
   "id": "d87a3983",
   "metadata": {},
   "outputs": [],
   "source": [
    "W, B = list(all_interm[6][0].parameters())\n",
    "print(W)\n",
    "print(B)"
   ]
  },
  {
   "cell_type": "code",
   "execution_count": null,
   "id": "6352be41",
   "metadata": {},
   "outputs": [],
   "source": [
    "inp = (all_interm[6][1][0] * (1 << 7)).to(torch.int16)"
   ]
  },
  {
   "cell_type": "code",
   "execution_count": null,
   "id": "03760fb5",
   "metadata": {},
   "outputs": [],
   "source": [
    "all_interm[6][1][0] * (1 << 7)"
   ]
  },
  {
   "cell_type": "code",
   "execution_count": null,
   "id": "90d52f81",
   "metadata": {},
   "outputs": [],
   "source": [
    "(W * (1<<7)).to(torch.int16)"
   ]
  },
  {
   "cell_type": "code",
   "execution_count": null,
   "id": "2a834ad2",
   "metadata": {},
   "outputs": [],
   "source": [
    "inp"
   ]
  },
  {
   "cell_type": "code",
   "execution_count": null,
   "id": "bcd4d3d8",
   "metadata": {},
   "outputs": [],
   "source": [
    "discW = (W * (1<<7))\n",
    "discW"
   ]
  },
  {
   "cell_type": "code",
   "execution_count": null,
   "id": "275915a2",
   "metadata": {},
   "outputs": [],
   "source": [
    "discW @ inp.T"
   ]
  },
  {
   "cell_type": "code",
   "execution_count": null,
   "id": "d0f4aa71",
   "metadata": {},
   "outputs": [],
   "source": [
    "discW * inp"
   ]
  },
  {
   "cell_type": "code",
   "execution_count": null,
   "id": "cfc6bb5c",
   "metadata": {},
   "outputs": [],
   "source": [
    "layer1_out @ l2_weights"
   ]
  },
  {
   "cell_type": "code",
   "execution_count": null,
   "id": "6327750e",
   "metadata": {},
   "outputs": [],
   "source": [
    "(layer1_out - inp.numpy()) @ discW.numpy().T"
   ]
  },
  {
   "cell_type": "code",
   "execution_count": null,
   "id": "4557d665",
   "metadata": {},
   "outputs": [],
   "source": [
    "l2_weights - discW.numpy()"
   ]
  },
  {
   "cell_type": "code",
   "execution_count": null,
   "id": "a73c5618",
   "metadata": {},
   "outputs": [],
   "source": [
    "B * (1 << 14)"
   ]
  },
  {
   "cell_type": "code",
   "execution_count": null,
   "id": "f40bc059",
   "metadata": {},
   "outputs": [],
   "source": [
    "W @ all_interm[6][1][0].T + B"
   ]
  },
  {
   "cell_type": "code",
   "execution_count": null,
   "id": "e8a7de1f",
   "metadata": {},
   "outputs": [],
   "source": [
    "(W @ all_interm[6][1][0].T) * (1 << 14)"
   ]
  },
  {
   "cell_type": "code",
   "execution_count": null,
   "id": "f23ffc15",
   "metadata": {},
   "outputs": [],
   "source": [
    "B * (1 << 14)"
   ]
  },
  {
   "cell_type": "code",
   "execution_count": null,
   "id": "a2674134",
   "metadata": {},
   "outputs": [],
   "source": [
    "-0.2458 * (1 << 14)"
   ]
  },
  {
   "cell_type": "code",
   "execution_count": null,
   "id": "861a5559",
   "metadata": {},
   "outputs": [],
   "source": [
    "final_out @ l2_weights + 658"
   ]
  },
  {
   "cell_type": "code",
   "execution_count": null,
   "id": "a68f97e2",
   "metadata": {},
   "outputs": [],
   "source": [
    "named_params[\"main_net.4.bias\"] * (1 << 14)"
   ]
  },
  {
   "cell_type": "code",
   "execution_count": null,
   "id": "7481a7e0",
   "metadata": {},
   "outputs": [],
   "source": [
    "# final linear: 6\n",
    "# tanh: 8\n",
    "all_interm[6][2] * (1 << 14)"
   ]
  },
  {
   "cell_type": "code",
   "execution_count": null,
   "id": "e21c0959",
   "metadata": {},
   "outputs": [],
   "source": [
    "all"
   ]
  },
  {
   "cell_type": "code",
   "execution_count": null,
   "id": "134f3cd7",
   "metadata": {},
   "outputs": [],
   "source": [
    "all_interm[8][1][0] * (1 << 14)"
   ]
  },
  {
   "cell_type": "code",
   "execution_count": null,
   "id": "4a07db5f",
   "metadata": {},
   "outputs": [],
   "source": [
    "# This is the value of the accumulator after the bias.\n",
    "actual_bias_accum = (all_interm[1][1][0] * (1 << 14)).to(torch.int16).flatten().detach().cpu().numpy()"
   ]
  },
  {
   "cell_type": "code",
   "execution_count": null,
   "id": "1c731320",
   "metadata": {},
   "outputs": [],
   "source": [
    "actual_bias_accum >> 7"
   ]
  },
  {
   "cell_type": "code",
   "execution_count": null,
   "id": "d91bb415",
   "metadata": {},
   "outputs": [],
   "source": [
    "named_params[\"main_net.0.bias\"] * (1<<14)"
   ]
  },
  {
   "cell_type": "code",
   "execution_count": null,
   "id": "34803667",
   "metadata": {},
   "outputs": [],
   "source": [
    "named_params.keys()"
   ]
  },
  {
   "cell_type": "code",
   "execution_count": null,
   "id": "cd89971a",
   "metadata": {},
   "outputs": [],
   "source": [
    "actual_bias_accum"
   ]
  },
  {
   "cell_type": "code",
   "execution_count": null,
   "id": "f26b3ba5",
   "metadata": {},
   "outputs": [],
   "source": [
    "named_params[\"main_net.0.weight\"] @ torch.tensor(actual_bias_accum, dtype=torch.float32)"
   ]
  },
  {
   "cell_type": "code",
   "execution_count": null,
   "id": "47b9811d",
   "metadata": {},
   "outputs": [],
   "source": [
    "actual_bias_accum"
   ]
  },
  {
   "cell_type": "code",
   "execution_count": null,
   "id": "f12220ad",
   "metadata": {},
   "outputs": [],
   "source": []
  },
  {
   "cell_type": "code",
   "execution_count": null,
   "id": "0cd2aeb1",
   "metadata": {},
   "outputs": [],
   "source": [
    "net15_layer0_relu_out = all_interm[-7][2]"
   ]
  },
  {
   "cell_type": "code",
   "execution_count": null,
   "id": "d6aa0845",
   "metadata": {},
   "outputs": [],
   "source": [
    "all_interm[-8]"
   ]
  },
  {
   "cell_type": "code",
   "execution_count": null,
   "id": "8561f691",
   "metadata": {},
   "outputs": [],
   "source": [
    "all_interm[-7]"
   ]
  },
  {
   "cell_type": "code",
   "execution_count": null,
   "id": "af1070b2",
   "metadata": {},
   "outputs": [],
   "source": [
    "(net15_layer0_relu_out * 128)"
   ]
  },
  {
   "cell_type": "code",
   "execution_count": null,
   "id": "0c404d73",
   "metadata": {},
   "outputs": [],
   "source": [
    "[-37, 58, -128, -128, -111, 127, -128, 127, 7, 127, 86, -71, 4, 18, 59, -33, ]"
   ]
  },
  {
   "cell_type": "code",
   "execution_count": null,
   "id": "405d4358",
   "metadata": {},
   "outputs": [],
   "source": [
    "# This is the value after the output of the first "
   ]
  },
  {
   "cell_type": "code",
   "execution_count": null,
   "id": "2aa9c9f9",
   "metadata": {},
   "outputs": [],
   "source": [
    "got_bias_accum = [-519, -2097, 562, -935, -997, -865, -987, 173, -129, -171, 1882, -374, -2370, -2726, -1761, 1660, -1485, -864, 35, 1272, -1144, -236, 111, -721, 1092, -682, 78, -629, 534, -1210, 460, 2297, 1448, 430, 380, 653, 2503, 3478, 2327, -802, -1461, -1176, 2011, -57, -2465, 951, -2316, 282, -1075, -1156, 764, -2629, 1007, 1007, -1518, 282, -958, -979, 1722, -1216, 70, 967, -1257, 257, -1530, 1152, -781, -1637, 2012, 350, 394, 591, -1985, -1174, -571, -1077, 688, 426, -2330, 1147, 2871, 195, 734, -1578, 2591, -913, 854, 99, 791, 946, -169, 502, 341, 853, -605, 905, 1086, 197, 1830, 1066, -1152, 581, -379, -1033, 2337, 2633, -907, -1041, 2413, -1487, 97, -583, -665, 2397, -789, 1610, -247, -1253, 1132, 1023, 2142, 577, 2226, 474, 1253, -822, 464, 937, -308, 1133, 1918, 1586, -61, 1667, 152, 2451, -2310, -350, -263, 2936, -931, -1699, 226, 2023, 2052, 3179, 708, -1076, -56, 18, -770, -616, 1128, 795, 661, 1224, 698, -500, 303, -2285, 399, 726, -1000, -495, -1726, 9, 3, 2023, 1206, 1785, -1451, -150, 1919, -454, -206, 866, -1221, 1666, 3826, 96, 754, -949, -1907, 1779, 115, 1250, -2197, -1081, 2082, -249, 393, 153, 505, 1045, 1317, 1034, -530, 617, -1590, -797, 830, -956, 152, 1824, -2101, -185, -2641, -977, -771, -1098, -4271, 935, -793, -1011, -1523, -81, -139, 24, 834, 86, -1014, -154, -275, 2687, -45, 1453, 411, 2, -1469, 49, -515, -1821, -1520, -3629, -847, -614, 402, 2753, -1172, -791, 648, -2406, 516, -294, 103, 529, 2048, -2499, 1080, 746, 1662, 1833, -1099, -360, -1200, -63, ]"
   ]
  },
  {
   "cell_type": "code",
   "execution_count": null,
   "id": "af513ca8",
   "metadata": {},
   "outputs": [],
   "source": [
    "actual"
   ]
  },
  {
   "cell_type": "code",
   "execution_count": null,
   "id": "4c808be1",
   "metadata": {},
   "outputs": [],
   "source": [
    "plt.plot(actual)\n",
    "plt.plot(got)"
   ]
  },
  {
   "cell_type": "code",
   "execution_count": null,
   "id": "d479f5ea",
   "metadata": {},
   "outputs": [],
   "source": []
  },
  {
   "cell_type": "code",
   "execution_count": null,
   "id": "bcb4e25f",
   "metadata": {},
   "outputs": [],
   "source": [
    "out"
   ]
  },
  {
   "cell_type": "code",
   "execution_count": null,
   "id": "8df6959d",
   "metadata": {},
   "outputs": [],
   "source": []
  }
 ],
 "metadata": {
  "kernelspec": {
   "display_name": "Python 3 (ipykernel)",
   "language": "python",
   "name": "python3"
  },
  "language_info": {
   "codemirror_mode": {
    "name": "ipython",
    "version": 3
   },
   "file_extension": ".py",
   "mimetype": "text/x-python",
   "name": "python",
   "nbconvert_exporter": "python",
   "pygments_lexer": "ipython3",
   "version": "3.10.6"
  }
 },
 "nbformat": 4,
 "nbformat_minor": 5
}
