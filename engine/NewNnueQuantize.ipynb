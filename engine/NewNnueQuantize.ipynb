{
 "cells": [
  {
   "cell_type": "code",
   "execution_count": 1,
   "id": "d0557392",
   "metadata": {},
   "outputs": [],
   "source": [
    "import sys\n",
    "sys.path.append(\"./ml/\")\n",
    "import glob\n",
    "import json\n",
    "import struct\n",
    "import numpy as np\n",
    "import torch\n",
    "import matplotlib.pyplot as plt"
   ]
  },
  {
   "cell_type": "code",
   "execution_count": 2,
   "id": "680b2032",
   "metadata": {},
   "outputs": [],
   "source": [
    "import train_nnue"
   ]
  },
  {
   "cell_type": "code",
   "execution_count": 3,
   "id": "a7f29d59",
   "metadata": {},
   "outputs": [],
   "source": [
    "model = train_nnue.Nnue()\n",
    "model.load_state_dict(torch.load(\"nnue.pt\"))\n",
    "model.adjust_leak(0)"
   ]
  },
  {
   "cell_type": "code",
   "execution_count": 4,
   "id": "d7c6a983",
   "metadata": {},
   "outputs": [
    {
     "data": {
      "text/plain": [
       "['./run-011-duck-chess/step-101/games/games-mcts-88652de431071378-nnue-data.npz',\n",
       " './run-011-duck-chess/step-075/games/games-mcts-fb530bceb09373bc-nnue-data.npz',\n",
       " './run-011-duck-chess/step-075/games/games-mcts-86bf3b09ec0916c0-nnue-data.npz',\n",
       " './run-011-duck-chess/step-103/games/games-mcts-eb86a507f6c85730-nnue-data.npz',\n",
       " './run-011-duck-chess/step-103/games/games-mcts-63029b2183c92bcd-nnue-data.npz']"
      ]
     },
     "execution_count": 4,
     "metadata": {},
     "output_type": "execute_result"
    }
   ],
   "source": [
    "data_files = glob.glob(\"./run-011-duck-chess/step-*/games/*.npz\")[-5:]\n",
    "data_files"
   ]
  },
  {
   "cell_type": "code",
   "execution_count": 5,
   "id": "72b99810",
   "metadata": {},
   "outputs": [
    {
     "name": "stderr",
     "output_type": "stream",
     "text": [
      "100%|███████████████████████████████████████████████████████████████████████████████████████████████████████████████████████████████████████████████████████████████████████████| 5/5 [00:01<00:00,  3.48it/s]"
     ]
    },
    {
     "name": "stdout",
     "output_type": "stream",
     "text": [
      "Total examples: 3785384\n",
      "Constant model loss: 0.6828318840027551\n"
     ]
    },
    {
     "name": "stderr",
     "output_type": "stream",
     "text": [
      "\n"
     ]
    }
   ],
   "source": [
    "make_batch = train_nnue.get_make_batch(data_files, \"cpu\")"
   ]
  },
  {
   "cell_type": "code",
   "execution_count": 6,
   "id": "c194bb30",
   "metadata": {},
   "outputs": [],
   "source": [
    "indices, offsets, which_model, lengths, targets = make_batch(1024 * 1024)"
   ]
  },
  {
   "cell_type": "code",
   "execution_count": 7,
   "id": "7faeab10",
   "metadata": {},
   "outputs": [],
   "source": [
    "def estimate_loss():\n",
    "    outputs = model(indices, offsets, which_model, lengths)\n",
    "    return torch.mean((outputs - targets)**2)"
   ]
  },
  {
   "cell_type": "code",
   "execution_count": 8,
   "id": "3dce157b",
   "metadata": {},
   "outputs": [
    {
     "data": {
      "text/plain": [
       "tensor(0.4002, grad_fn=<MeanBackward0>)"
      ]
     },
     "execution_count": 8,
     "metadata": {},
     "output_type": "execute_result"
    }
   ],
   "source": [
    "estimate_loss()"
   ]
  },
  {
   "cell_type": "code",
   "execution_count": 9,
   "id": "1837656b",
   "metadata": {},
   "outputs": [],
   "source": [
    "all_interm = []\n",
    "\n",
    "def hook(comp, inp, out):\n",
    "    all_interm.append((comp, tuple(x.clone() for x in inp), out.clone()))\n",
    "    overall_min = float(\"inf\")\n",
    "    overall_max = -float(\"inf\")\n",
    "    for thing in inp:\n",
    "        overall_min = min(overall_min, thing.min().item())\n",
    "        overall_max = max(overall_max, thing.max().item())\n",
    "    first = inp[0]\n",
    "    print(f\"{comp.__class__.__name__:30} inp range: {overall_min:.3f} . {first.float().var()**0.5:.3f} . {overall_max:.3f}  out range: {out.min().item():.3f} . {out.var()**0.5:.3f} . {out.max().item():.3f}\")\n",
    "    #print(\"GOT:\", comp) #inp, out)\n",
    "    #if isinstance(comp, train_nnue.AnnealedLeakyClippedRelu):   \n",
    "    #    print(\n",
    "\n",
    "if \"module_to_handle\" in globals():\n",
    "    for handle in module_to_handle.values():\n",
    "        handle.remove()\n",
    "\n",
    "module_to_handle = {}\n",
    "def apply_hooks(m):\n",
    "    if m in module_to_handle:\n",
    "        return\n",
    "    module_to_handle[m] = m.register_forward_hook(hook)\n",
    "    for k, v in m._modules.items():\n",
    "        apply_hooks(v)\n",
    "\n",
    "apply_hooks(model)"
   ]
  },
  {
   "cell_type": "code",
   "execution_count": 10,
   "id": "044cf6d2",
   "metadata": {
    "scrolled": false
   },
   "outputs": [
    {
     "name": "stdout",
     "output_type": "stream",
     "text": [
      "EmbeddingBag                   inp range: 0.000 . 8971.383 . 40134190.000  out range: -5.122 . 0.523 . 3.544\n",
      "AnnealedLeakyClippedRelu       inp range: -5.089 . 0.501 . 3.011  out range: 0.000 . 0.114 . 0.996\n",
      "Linear                         inp range: 0.000 . 0.114 . 0.996  out range: -10.462 . 0.461 . 8.213\n",
      "AnnealedLeakyClippedRelu       inp range: -10.462 . 0.461 . 8.213  out range: 0.000 . 0.214 . 0.996\n",
      "Linear                         inp range: 0.000 . 0.214 . 0.996  out range: -1.295 . 0.234 . 1.939\n",
      "AnnealedLeakyClippedRelu       inp range: -1.295 . 0.234 . 1.939  out range: 0.000 . 0.175 . 0.996\n",
      "Linear                         inp range: 0.000 . 0.175 . 0.996  out range: -3.988 . 0.726 . 3.092\n",
      "Sequential                     inp range: 0.000 . 0.114 . 0.996  out range: -3.988 . 0.726 . 3.092\n",
      "Tanh                           inp range: -4.226 . 0.834 . 4.260  out range: -1.000 . 0.501 . 1.000\n",
      "Nnue                           inp range: 0.000 . 8971.383 . 40134190.000  out range: -1.000 . 0.501 . 1.000\n"
     ]
    }
   ],
   "source": [
    "outputs = model(indices, offsets, which_model, lengths)\n",
    "lose = outputs[targets == -1]\n",
    "draw = outputs[targets == 0]\n",
    "win = outputs[targets == 1]"
   ]
  },
  {
   "cell_type": "code",
   "execution_count": 11,
   "id": "688d07f2",
   "metadata": {},
   "outputs": [],
   "source": [
    "# Each clipped relu wants inputs from -128 to +127 for its active range.\n",
    "# If the largest intermediates we care to represent are -2.0 to +2.0,\n",
    "# then this means that -2.0 should map to -32768, and +1.99... should map to +32767.\n",
    "# Therefore we scale down inputs by 128 before passing them in to the clipped relu.\n",
    "# Therefore, 128 * 128 = 1684 represents 1.0 as an input to relu.\n",
    "# This means that a quantized weight of 128 represents the weight 1.0 in the original.\n",
    "# There is one exception to this, in the original embedding layer, and all biases,\n",
    "# where 16384 represents 1.0."
   ]
  },
  {
   "cell_type": "code",
   "execution_count": 12,
   "id": "971f443f",
   "metadata": {},
   "outputs": [
    {
     "name": "stdout",
     "output_type": "stream",
     "text": [
      "main_bias            (256,)          -0.605 0.285 zero=0.391%\n",
      "main_embed.weight    (106496, 256)   -0.446 0.494 zero=0.607%\n",
      "main_net.0.weight    (16, 256)       -0.460 0.745 zero=3.052%\n",
      "main_net.0.bias      (16,)           -0.197 0.185 zero=0.000%\n",
      "main_net.2.weight    (32, 16)        -0.479 0.545 zero=0.977%\n",
      "main_net.2.bias      (32,)           -0.172 0.234 zero=0.000%\n",
      "main_net.4.weight    (1, 32)         -0.584 0.431 zero=0.000%\n",
      "main_net.4.bias      (1,)            0.040 0.040 zero=0.000%\n"
     ]
    }
   ],
   "source": [
    "new_values = {}\n",
    "quantized_weights = {}\n",
    "output_right_shift = {}\n",
    "for k, v in model.named_parameters():\n",
    "    output_right_shift[k] = 0\n",
    "    if \"main_embed\" in k or k == \"main_bias\":\n",
    "        quantized = torch.round(v * 2048).to(torch.int16)\n",
    "        f = quantized.float().detach() / 2048\n",
    "        output_right_shift[k] = 11\n",
    "    elif \"bias\" in k:\n",
    "        quantized = torch.round(v * 16384).to(torch.int16)\n",
    "        f = quantized.float().detach() / 16384\n",
    "        output_right_shift[k] = 14\n",
    "    else:\n",
    "        quantized = torch.round(v * 128).to(torch.int8)\n",
    "        f = quantized.float().detach() / 128\n",
    "        output_right_shift[k] = 7\n",
    "    zero_fraction = (quantized == 0).sum() / v.numel()\n",
    "    new_values[k] = f\n",
    "    quantized_weights[k] = quantized\n",
    "    print(f\"{k:20} {str(tuple(v.shape)):15} {v.min().item():.3f} {v.max().item():.3f} zero={100 * zero_fraction:.3f}%\")"
   ]
  },
  {
   "cell_type": "code",
   "execution_count": 13,
   "id": "0427b669",
   "metadata": {},
   "outputs": [
    {
     "data": {
      "text/plain": [
       "<All keys matched successfully>"
      ]
     },
     "execution_count": 13,
     "metadata": {},
     "output_type": "execute_result"
    }
   ],
   "source": [
    "model.load_state_dict(new_values)"
   ]
  },
  {
   "cell_type": "code",
   "execution_count": 14,
   "id": "ea49a680",
   "metadata": {},
   "outputs": [
    {
     "name": "stdout",
     "output_type": "stream",
     "text": [
      "EmbeddingBag                   inp range: 0.000 . 8971.383 . 40134190.000  out range: -5.123 . 0.523 . 3.545\n",
      "AnnealedLeakyClippedRelu       inp range: -5.089 . 0.501 . 3.011  out range: 0.000 . 0.114 . 0.996\n",
      "Linear                         inp range: 0.000 . 0.114 . 0.996  out range: -10.488 . 0.461 . 8.228\n",
      "AnnealedLeakyClippedRelu       inp range: -10.488 . 0.461 . 8.228  out range: 0.000 . 0.214 . 0.996\n",
      "Linear                         inp range: 0.000 . 0.214 . 0.996  out range: -1.293 . 0.234 . 1.943\n",
      "AnnealedLeakyClippedRelu       inp range: -1.293 . 0.234 . 1.943  out range: 0.000 . 0.175 . 0.996\n",
      "Linear                         inp range: 0.000 . 0.175 . 0.996  out range: -3.993 . 0.722 . 3.069\n",
      "Sequential                     inp range: 0.000 . 0.114 . 0.996  out range: -3.993 . 0.722 . 3.069\n",
      "Tanh                           inp range: -4.241 . 0.829 . 4.254  out range: -1.000 . 0.500 . 1.000\n",
      "Nnue                           inp range: 0.000 . 8971.383 . 40134190.000  out range: -1.000 . 0.500 . 1.000\n"
     ]
    },
    {
     "data": {
      "text/plain": [
       "tensor(0.4003, grad_fn=<MeanBackward0>)"
      ]
     },
     "execution_count": 14,
     "metadata": {},
     "output_type": "execute_result"
    }
   ],
   "source": [
    "estimate_loss()"
   ]
  },
  {
   "cell_type": "code",
   "execution_count": null,
   "id": "61a712cb",
   "metadata": {},
   "outputs": [],
   "source": []
  },
  {
   "cell_type": "code",
   "execution_count": 15,
   "id": "7f7917c9",
   "metadata": {},
   "outputs": [],
   "source": [
    "def pack_i32(i32):\n",
    "    return struct.pack(\"<i\", i32)"
   ]
  },
  {
   "cell_type": "code",
   "execution_count": 16,
   "id": "a9301274",
   "metadata": {},
   "outputs": [
    {
     "data": {
      "text/plain": [
       "658"
      ]
     },
     "execution_count": 16,
     "metadata": {},
     "output_type": "execute_result"
    }
   ],
   "source": [
    "header_alloc = 768 #7808\n",
    "aligned_storage = bytearray(header_alloc)\n",
    "\n",
    "def add_bytes(b):\n",
    "    # Align to the nearest 32-byte boundary.\n",
    "    padding = (32 - len(aligned_storage)) % 32\n",
    "    aligned_storage.extend(b'\\0' * padding)\n",
    "    offset = len(aligned_storage)\n",
    "    aligned_storage.extend(b)\n",
    "    return offset\n",
    "\n",
    "weights = {}\n",
    "for k, v in quantized_weights.items():\n",
    "    shift = output_right_shift[k]\n",
    "    v = v.detach().cpu().numpy()\n",
    "    k = k.replace(\"networks.\", \"n\")\n",
    "    k = k.replace(\"0.weight\", \"0.w\")\n",
    "    k = k.replace(\"2.weight\", \"1.w\")\n",
    "    k = k.replace(\"4.weight\", \"2.w\")\n",
    "    k = k.replace(\"0.bias\", \"0.b\")\n",
    "    k = k.replace(\"2.bias\", \"1.b\")\n",
    "    k = k.replace(\"4.bias\", \"2.b\")\n",
    "    k = k.replace(\"main_net.\", \"n0.\")\n",
    "    offset = add_bytes(v.tobytes())\n",
    "    assert offset % 32 == 0\n",
    "    weights[k] = {\n",
    "        \"shape\": tuple(v.shape),\n",
    "        \"dtype\": {\"int8\": \"i8\", \"int16\": \"i16\"}[str(v.dtype)],\n",
    "        \"offset\": offset,\n",
    "        \"shift\": shift,\n",
    "    }\n",
    "message = {\n",
    "    \"version\": \"v1\",\n",
    "    \"weights\": weights,\n",
    "}\n",
    "\n",
    "message_bytes = json.dumps(message).encode()\n",
    "assert len(message_bytes) < header_alloc\n",
    "aligned_storage[:len(message_bytes)] = message_bytes\n",
    "len(message_bytes)"
   ]
  },
  {
   "cell_type": "code",
   "execution_count": 17,
   "id": "ed92456e",
   "metadata": {},
   "outputs": [],
   "source": [
    "with open(\"src/nnue-data.bin\", \"wb\") as f:\n",
    "    f.write(aligned_storage)"
   ]
  },
  {
   "cell_type": "code",
   "execution_count": 18,
   "id": "8cc3eb78",
   "metadata": {
    "scrolled": true
   },
   "outputs": [
    {
     "data": {
      "text/plain": [
       "{'version': 'v1',\n",
       " 'weights': {'main_bias': {'shape': (256,),\n",
       "   'dtype': 'i16',\n",
       "   'offset': 768,\n",
       "   'shift': 11},\n",
       "  'main_embed.weight': {'shape': (106496, 256),\n",
       "   'dtype': 'i16',\n",
       "   'offset': 1280,\n",
       "   'shift': 11},\n",
       "  'n0.0.w': {'shape': (16, 256),\n",
       "   'dtype': 'i8',\n",
       "   'offset': 54527232,\n",
       "   'shift': 7},\n",
       "  'n0.0.b': {'shape': (16,), 'dtype': 'i16', 'offset': 54531328, 'shift': 14},\n",
       "  'n0.1.w': {'shape': (32, 16), 'dtype': 'i8', 'offset': 54531360, 'shift': 7},\n",
       "  'n0.1.b': {'shape': (32,), 'dtype': 'i16', 'offset': 54531872, 'shift': 14},\n",
       "  'n0.2.w': {'shape': (1, 32), 'dtype': 'i8', 'offset': 54531936, 'shift': 7},\n",
       "  'n0.2.b': {'shape': (1,), 'dtype': 'i16', 'offset': 54531968, 'shift': 14}}}"
      ]
     },
     "execution_count": 18,
     "metadata": {},
     "output_type": "execute_result"
    }
   ],
   "source": [
    "message"
   ]
  },
  {
   "cell_type": "raw",
   "id": "22580df5",
   "metadata": {},
   "source": [
    "import zlib\n",
    "import bz2"
   ]
  },
  {
   "cell_type": "raw",
   "id": "d7e96489",
   "metadata": {},
   "source": [
    "x = zlib.compress(bytes(aligned_storage), level=9)"
   ]
  },
  {
   "cell_type": "raw",
   "id": "fda5909e",
   "metadata": {},
   "source": [
    "len(x) * 1e-6"
   ]
  },
  {
   "cell_type": "raw",
   "id": "21e72906",
   "metadata": {},
   "source": [
    "x = bz2.compress(bytes(aligned_storage))"
   ]
  },
  {
   "cell_type": "raw",
   "id": "844e9fbe",
   "metadata": {},
   "source": [
    "len(x) * 1e-6"
   ]
  },
  {
   "cell_type": "raw",
   "id": "a6960ec6",
   "metadata": {},
   "source": [
    "len(aligned_storage) * 1e-6"
   ]
  },
  {
   "cell_type": "markdown",
   "id": "0f4432cb",
   "metadata": {},
   "source": [
    "# Debug network eval"
   ]
  },
  {
   "cell_type": "code",
   "execution_count": 71,
   "id": "36d945c6",
   "metadata": {},
   "outputs": [],
   "source": [
    "moves = [\n",
    "    {\"from\":12,\"to\":28},\n",
    "    {\"from\":16,\"to\":16},\n",
    "    {\"from\":52,\"to\":36},\n",
    "    {\"from\":16,\"to\":24},\n",
    "    {\"from\":3,\"to\":39},\n",
    "    {\"from\":24,\"to\":16},\n",
    "    {\"from\":54,\"to\":46},\n",
    "    {\"from\":16,\"to\":24},\n",
    "    {\"from\":4,\"to\":12},\n",
    "    {\"from\":24,\"to\":16},\n",
    "    #{\"from\":46,\"to\":39},\n",
    "]"
   ]
  },
  {
   "cell_type": "code",
   "execution_count": 72,
   "id": "46af76cb",
   "metadata": {},
   "outputs": [],
   "source": [
    "import engine"
   ]
  },
  {
   "cell_type": "code",
   "execution_count": 73,
   "id": "8cbe6891",
   "metadata": {},
   "outputs": [
    {
     "name": "stdout",
     "output_type": "stream",
     "text": [
      "None\n",
      "None\n",
      "None\n",
      "None\n",
      "None\n",
      "None\n",
      "None\n",
      "None\n",
      "None\n",
      "None\n"
     ]
    }
   ],
   "source": [
    "e = engine.Engine(0)\n",
    "for m in moves:\n",
    "    print(e.apply_move(json.dumps(m)))\n",
    "feat_indices = e.get_nnue_feature_indices()"
   ]
  },
  {
   "cell_type": "code",
   "execution_count": 74,
   "id": "f867858e",
   "metadata": {},
   "outputs": [],
   "source": [
    "all_interm.clear()"
   ]
  },
  {
   "cell_type": "code",
   "execution_count": 75,
   "id": "8c879b0b",
   "metadata": {},
   "outputs": [
    {
     "name": "stdout",
     "output_type": "stream",
     "text": [
      "EmbeddingBag                   inp range: 0.000 . 6710.563 . 64016.000  out range: -3.067 . 0.809 . 2.175\n",
      "AnnealedLeakyClippedRelu       inp range: -2.837 . 0.747 . 1.621  out range: 0.000 . 0.149 . 0.996\n",
      "Linear                         inp range: 0.000 . 0.149 . 0.996  out range: -0.692 . 0.366 . 0.483\n",
      "AnnealedLeakyClippedRelu       inp range: -0.692 . 0.366 . 0.483  out range: 0.000 . 0.154 . 0.483\n",
      "Linear                         inp range: 0.000 . 0.154 . 0.483  out range: -0.213 . 0.186 . 0.552\n",
      "AnnealedLeakyClippedRelu       inp range: -0.213 . 0.186 . 0.552  out range: 0.000 . 0.145 . 0.552\n",
      "Linear                         inp range: 0.000 . 0.145 . 0.552  out range: -0.538 . nan . -0.538\n",
      "Sequential                     inp range: 0.000 . 0.149 . 0.996  out range: -0.538 . nan . -0.538\n",
      "Tanh                           inp range: -0.257 . nan . -0.257  out range: -0.251 . nan . -0.251\n",
      "Nnue                           inp range: 0.000 . 6710.563 . 64016.000  out range: -0.251 . nan . -0.251\n"
     ]
    }
   ],
   "source": [
    "out = model(\n",
    "    torch.LongTensor(feat_indices),\n",
    "    torch.LongTensor([0]), # offset = 0\n",
    "    torch.LongTensor([1]), # which_model = 1 (white, non-duck turn)\n",
    "    torch.LongTensor([len(feat_indices)]),\n",
    ")"
   ]
  },
  {
   "cell_type": "code",
   "execution_count": 76,
   "id": "32c1c9a6",
   "metadata": {},
   "outputs": [
    {
     "data": {
      "text/plain": [
       "10"
      ]
     },
     "execution_count": 76,
     "metadata": {},
     "output_type": "execute_result"
    }
   ],
   "source": [
    "len(all_interm)"
   ]
  },
  {
   "cell_type": "code",
   "execution_count": 77,
   "id": "1cafd4ba",
   "metadata": {},
   "outputs": [
    {
     "name": "stdout",
     "output_type": "stream",
     "text": [
      "0 -> EmbeddingBag(106496, 256, mode=sum)\n",
      "1 -> AnnealedLeakyClippedRelu()\n",
      "2 -> Linear(in_features=256, out_features=16, bias=True)\n",
      "3 -> AnnealedLeakyClippedRelu()\n",
      "4 -> Linear(in_features=16, out_features=32, bias=True)\n",
      "5 -> AnnealedLeakyClippedRelu()\n",
      "6 -> Linear(in_features=32, out_features=1, bias=True)\n",
      "7 -> Sequential(\n",
      "  (0): Linear(in_features=256, out_features=16, bias=True)\n",
      "  (1): AnnealedLeakyClippedRelu()\n",
      "  (2): Linear(in_features=16, out_features=32, bias=True)\n",
      "  (3): AnnealedLeakyClippedRelu()\n",
      "  (4): Linear(in_features=32, out_features=1, bias=True)\n",
      ")\n",
      "8 -> Tanh()\n",
      "9 -> Nnue(\n",
      "  (main_embed): EmbeddingBag(106496, 256, mode=sum)\n",
      "  (clipped_relu): AnnealedLeakyClippedRelu()\n",
      "  (tanh): Tanh()\n",
      "  (main_net): Sequential(\n",
      "    (0): Linear(in_features=256, out_features=16, bias=True)\n",
      "    (1): AnnealedLeakyClippedRelu()\n",
      "    (2): Linear(in_features=16, out_features=32, bias=True)\n",
      "    (3): AnnealedLeakyClippedRelu()\n",
      "    (4): Linear(in_features=32, out_features=1, bias=True)\n",
      "  )\n",
      ")\n"
     ]
    }
   ],
   "source": [
    "for i, (k, _, _) in enumerate(all_interm): print(i, \"->\", k)"
   ]
  },
  {
   "cell_type": "code",
   "execution_count": 78,
   "id": "458566e5",
   "metadata": {},
   "outputs": [],
   "source": [
    "named_params = dict(model.named_parameters())"
   ]
  },
  {
   "cell_type": "code",
   "execution_count": 79,
   "id": "e34e0218",
   "metadata": {},
   "outputs": [],
   "source": [
    "actualW = (named_params[\"main_net.4.weight\"] * 128).to(torch.int16).numpy()"
   ]
  },
  {
   "cell_type": "code",
   "execution_count": 80,
   "id": "6985a6a6",
   "metadata": {},
   "outputs": [],
   "source": [
    "actualB = (named_params[\"main_net.4.bias\"] * (1 << 14)).to(torch.int16).numpy()"
   ]
  },
  {
   "cell_type": "code",
   "execution_count": 81,
   "id": "86f301e4",
   "metadata": {},
   "outputs": [
    {
     "data": {
      "text/plain": [
       "array([658], dtype=int16)"
      ]
     },
     "execution_count": 81,
     "metadata": {},
     "output_type": "execute_result"
    }
   ],
   "source": [
    "actualB"
   ]
  },
  {
   "cell_type": "code",
   "execution_count": 92,
   "id": "fd37598c",
   "metadata": {},
   "outputs": [
    {
     "data": {
      "text/plain": [
       "tensor([[ 576,    0,    0,    0,    0,    0,   61, 2040,    0,    0, 1160,    0,\n",
       "          127,    0,    0,    0,    0,    0,    0,  305,    0,    0,    0,    0,\n",
       "            0,    0,    0, 1035,  535,    0,    0,    0,    0,    0,  181,    0,\n",
       "            0,    0,  140,   28,    0,    0,    0,    0,    0,    0,    0,    0,\n",
       "          103,  529,    0,    0,    0,    0,    0,    0,    0,    0,    0,    0,\n",
       "            0,  613,    0,    0, 1172,  108,    0,    0,    0,    0,    0,    0,\n",
       "            0,    0,    0,    0,    0,   90,    0,    0,  444,    0,    0,    0,\n",
       "            0,    0,    0,    0,    0,    0,    0,    0,    0,  400,    0,    0,\n",
       "            0,    0,   65,    0,    0,    0,    0,    0,    0,    0,    0,    0,\n",
       "            0,    0,    0,    0,    0,    0,    0,    0,    0,    0,    0,    0,\n",
       "            0,    0,    0,  770,    0,    0,  351,    0,  984,  571,  499,    0,\n",
       "            0,    0,    0,    0,    0,    0,    0,    0,    0,    0,  469,    0,\n",
       "          891,    0,    0,    0,  272,    0,    0,    0,    0,    0,    0,    0,\n",
       "            0,    0,    0,    0,    0,    0,    0,   19,  681,  538, 1384,    0,\n",
       "            0,    0, 1345,    0,    0,    0,    0,    0,    0,  263,    0,    0,\n",
       "            0,    0,    0,  266,    0,    0,  601,  357,    0,    0,    0,    0,\n",
       "            0,    0,    0,    0,    0,    0,    0,    0,   76,  941,    0,    0,\n",
       "            0,    0,    0, 1499,  474,  115,    0,  410,    0,    0,  155,  284,\n",
       "            0,  362,    0,    0,    0,    0,    0,    1,    0,    0,    0,    0,\n",
       "            0,    0,  809,    0,   69,    0,    0, 1064,  664,    0,  584,    0,\n",
       "            0,    0,    0,    0, 1460,    0,    0,    0,    0,    0,  401,    0,\n",
       "            0,    0,    0,  407]], dtype=torch.int32)"
      ]
     },
     "execution_count": 92,
     "metadata": {},
     "output_type": "execute_result"
    }
   ],
   "source": [
    "(all_interm[7][1][0] * (2 ** 11)).to(torch.int32)"
   ]
  },
  {
   "cell_type": "code",
   "execution_count": null,
   "id": "272171d9",
   "metadata": {},
   "outputs": [],
   "source": []
  },
  {
   "cell_type": "code",
   "execution_count": 83,
   "id": "37349a42",
   "metadata": {},
   "outputs": [
    {
     "data": {
      "text/plain": [
       "-857"
      ]
     },
     "execution_count": 83,
     "metadata": {},
     "output_type": "execute_result"
    }
   ],
   "source": [
    "22406 - 23263"
   ]
  },
  {
   "cell_type": "code",
   "execution_count": 93,
   "id": "b530a114",
   "metadata": {},
   "outputs": [
    {
     "data": {
      "text/plain": [
       "tensor([[-4207.9287]], grad_fn=<MulBackward0>)"
      ]
     },
     "execution_count": 93,
     "metadata": {},
     "output_type": "execute_result"
    }
   ],
   "source": [
    "all_interm[8][1][0] * (1 << 14)"
   ]
  },
  {
   "cell_type": "code",
   "execution_count": 85,
   "id": "f888df3f",
   "metadata": {},
   "outputs": [
    {
     "data": {
      "text/plain": [
       "tensor([[-8815.9287]], grad_fn=<MulBackward0>)"
      ]
     },
     "execution_count": 85,
     "metadata": {},
     "output_type": "execute_result"
    }
   ],
   "source": [
    "all_interm[6][2] * (1 << 14)"
   ]
  },
  {
   "cell_type": "code",
   "execution_count": 86,
   "id": "ef495919",
   "metadata": {},
   "outputs": [],
   "source": [
    "actual_inp = all_interm[6][1][0] * (1 << 7)"
   ]
  },
  {
   "cell_type": "code",
   "execution_count": 87,
   "id": "0c958122",
   "metadata": {},
   "outputs": [
    {
     "data": {
      "text/plain": [
       "tensor([[0.0000e+00, 0.0000e+00, 0.0000e+00, 2.8050e+01, 5.0138e+01, 0.0000e+00,\n",
       "         0.0000e+00, 0.0000e+00, 1.5003e+01, 3.7425e+01, 3.1496e+01, 0.0000e+00,\n",
       "         2.0119e+01, 0.0000e+00, 1.7532e+01, 0.0000e+00, 0.0000e+00, 0.0000e+00,\n",
       "         2.2653e+01, 2.2758e+00, 4.9718e+01, 0.0000e+00, 1.0921e+01, 0.0000e+00,\n",
       "         1.4743e+01, 0.0000e+00, 0.0000e+00, 5.3364e-02, 7.0694e+01, 0.0000e+00,\n",
       "         0.0000e+00, 0.0000e+00]], grad_fn=<MulBackward0>)"
      ]
     },
     "execution_count": 87,
     "metadata": {},
     "output_type": "execute_result"
    }
   ],
   "source": [
    "actual_inp"
   ]
  },
  {
   "cell_type": "code",
   "execution_count": 88,
   "id": "4d71789c",
   "metadata": {},
   "outputs": [
    {
     "data": {
      "text/plain": [
       "array([[-8815.93]], dtype=float32)"
      ]
     },
     "execution_count": 88,
     "metadata": {},
     "output_type": "execute_result"
    }
   ],
   "source": [
    "(actual_inp.detach().numpy() @ actualW.T) + actualB"
   ]
  },
  {
   "cell_type": "code",
   "execution_count": 89,
   "id": "f8f5e825",
   "metadata": {},
   "outputs": [
    {
     "data": {
      "text/plain": [
       "tensor([[-4676]])"
      ]
     },
     "execution_count": 89,
     "metadata": {},
     "output_type": "execute_result"
    }
   ],
   "source": [
    "((all_interm[6][1][0] * (1 << 7)).to(torch.int16) - final_out) @ actualW.T"
   ]
  },
  {
   "cell_type": "code",
   "execution_count": 40,
   "id": "a81e795e",
   "metadata": {},
   "outputs": [],
   "source": [
    "final_out = np.array([0, 0, 0, 33, 32, 0, 2, 4, 13, 27, 4, 0, 0, 0, 24, 0, 0, 0, 17, 0, 35, 0, 0, 0, 22, 0, 0, 0, 41, 0, 0, 1, ])\n",
    "l2_weights = np.array([-58, -44, -25, -29, -33, 44, 10, -35, -25, -22, -37, -61, -34, 50, 31, 54, 41, 33, -25, -39, -36, 41, -30, -75, 36, 7, 44, 45, -32, 55, 7, -42, ])\n",
    "#final_out = np.array([0, 0, 0, 32, 32, 0, 1, 3, 13, 27, 5, 0, 0, 0, 25, 0, 0, 0, 17, 0, 34, 0, 0, 0, 22, 0, 0, 0, 40, 0, 0, 1, ])\n",
    "#l2_weights = np.array([-58, -44, -25, -29, -32, 44, 10, -35, -24, -22, -37, -60, -33, 49, 30, 53, 41, 33, -24, -39, -35, 41, -29, -74, 35, 7, 43, 45, -31, 55, 7, -41, ])"
   ]
  },
  {
   "cell_type": "code",
   "execution_count": 41,
   "id": "38c0680b",
   "metadata": {},
   "outputs": [
    {
     "data": {
      "text/plain": [
       "array([-4045], dtype=int16)"
      ]
     },
     "execution_count": 41,
     "metadata": {},
     "output_type": "execute_result"
    }
   ],
   "source": [
    "final_out @ l2_weights + actualB"
   ]
  },
  {
   "cell_type": "code",
   "execution_count": null,
   "id": "4a11357a",
   "metadata": {},
   "outputs": [],
   "source": []
  },
  {
   "cell_type": "code",
   "execution_count": 87,
   "id": "386c3edb",
   "metadata": {},
   "outputs": [
    {
     "data": {
      "text/plain": [
       "tensor([[ 0,  0,  0, 32, 33,  0,  1,  3, 13, 27,  5,  0,  0,  0, 25,  0,  0,  0,\n",
       "         17,  0, 35,  0,  0,  0, 22,  0,  0,  0, 41,  0,  0,  1]],\n",
       "       dtype=torch.int16)"
      ]
     },
     "execution_count": 87,
     "metadata": {},
     "output_type": "execute_result"
    }
   ],
   "source": [
    "(all_interm[6][1][0] * (1 << 7)).to(torch.int16)"
   ]
  },
  {
   "cell_type": "code",
   "execution_count": 89,
   "id": "93405f68",
   "metadata": {},
   "outputs": [
    {
     "data": {
      "text/plain": [
       "tensor([[-4026.9473]], grad_fn=<MulBackward0>)"
      ]
     },
     "execution_count": 89,
     "metadata": {},
     "output_type": "execute_result"
    }
   ],
   "source": [
    "all_interm[6][2] * (1 << 14)"
   ]
  },
  {
   "cell_type": "code",
   "execution_count": 135,
   "id": "caa33781",
   "metadata": {},
   "outputs": [
    {
     "data": {
      "text/plain": [
       "(Sequential(\n",
       "   (0): Linear(in_features=256, out_features=16, bias=True)\n",
       "   (1): AnnealedLeakyClippedRelu()\n",
       "   (2): Linear(in_features=16, out_features=32, bias=True)\n",
       "   (3): AnnealedLeakyClippedRelu()\n",
       "   (4): Linear(in_features=32, out_features=1, bias=True)\n",
       " ),\n",
       " (tensor([[0.2515, 0.0000, 0.0000, 0.0000, 0.0000, 0.0000, 0.0000, 0.0000, 0.0000,\n",
       "           0.0000, 0.0000, 0.0000, 0.0000, 0.0000, 0.0000, 0.0000, 0.0000, 0.0000,\n",
       "           0.0000, 0.0000, 0.0698, 0.0000, 0.0000, 0.0000, 0.0000, 0.0000, 0.0000,\n",
       "           0.2344, 0.0000, 0.0000, 0.2144, 0.0000, 0.0000, 0.0469, 0.0000, 0.0000,\n",
       "           0.0000, 0.0000, 0.0000, 0.3081, 0.2241, 0.0000, 0.0000, 0.0000, 0.0000,\n",
       "           0.0000, 0.0000, 0.0000, 0.2109, 0.2041, 0.0000, 0.0000, 0.0000, 0.0000,\n",
       "           0.0000, 0.0000, 0.0000, 0.0000, 0.0000, 0.0000, 0.0000, 0.6235, 0.0000,\n",
       "           0.0000, 0.0000, 0.0000, 0.0000, 0.0000, 0.0000, 0.0000, 0.0000, 0.0000,\n",
       "           0.0000, 0.0000, 0.0000, 0.0000, 0.0215, 0.0000, 0.0000, 0.0000, 0.1211,\n",
       "           0.0000, 0.0967, 0.0000, 0.0000, 0.0000, 0.0000, 0.0000, 0.0000, 0.0000,\n",
       "           0.0000, 0.0000, 0.0000, 0.0000, 0.0000, 0.0000, 0.0000, 0.0000, 0.0444,\n",
       "           0.1245, 0.0000, 0.0000, 0.0000, 0.0000, 0.0000, 0.0000, 0.0000, 0.0000,\n",
       "           0.0000, 0.0000, 0.0000, 0.0000, 0.0000, 0.0000, 0.0000, 0.0000, 0.0000,\n",
       "           0.0000, 0.0000, 0.0000, 0.0000, 0.0000, 0.0000, 0.0000, 0.0000, 0.0000,\n",
       "           0.0000, 0.0000, 0.2290, 0.0000, 0.6860, 0.4038, 0.0000, 0.0000, 0.0000,\n",
       "           0.0000, 0.0000, 0.1299, 0.0000, 0.0000, 0.0000, 0.0000, 0.0000, 0.0000,\n",
       "           0.0000, 0.0000, 0.0000, 0.0000, 0.0000, 0.0000, 0.0000, 0.0000, 0.0000,\n",
       "           0.0000, 0.0000, 0.0000, 0.0000, 0.0000, 0.0000, 0.0000, 0.0000, 0.0000,\n",
       "           0.0000, 0.0000, 0.0000, 0.0000, 0.0000, 0.0000, 0.0000, 0.0000, 0.0000,\n",
       "           0.0000, 0.0000, 0.0000, 0.0000, 0.0000, 0.0000, 0.0000, 0.0000, 0.0000,\n",
       "           0.0000, 0.0000, 0.0000, 0.0000, 0.0000, 0.0000, 0.0000, 0.0000, 0.0000,\n",
       "           0.4409, 0.0000, 0.0000, 0.0000, 0.9961, 0.0000, 0.0000, 0.0000, 0.0000,\n",
       "           0.0000, 0.0000, 0.0000, 0.0122, 0.0000, 0.0000, 0.0000, 0.0000, 0.0000,\n",
       "           0.6924, 0.0000, 0.0000, 0.0000, 0.0000, 0.0000, 0.0000, 0.0000, 0.0000,\n",
       "           0.0000, 0.0000, 0.0000, 0.0288, 0.0000, 0.0000, 0.0000, 0.0000, 0.0000,\n",
       "           0.0000, 0.0000, 0.0000, 0.0000, 0.0000, 0.9961, 0.1152, 0.0000, 0.0000,\n",
       "           0.0859, 0.0000, 0.0000, 0.0000, 0.0000, 0.0000, 0.0000, 0.4180, 0.0000,\n",
       "           0.0000, 0.0000, 0.0000, 0.0000, 0.0000, 0.0000, 0.0000, 0.0000, 0.0000,\n",
       "           0.0000, 0.0000, 0.2036, 0.0000]], grad_fn=<CloneBackward0>),),\n",
       " tensor([[-0.2458]], grad_fn=<CloneBackward0>))"
      ]
     },
     "execution_count": 135,
     "metadata": {},
     "output_type": "execute_result"
    }
   ],
   "source": [
    "all_interm[7]"
   ]
  },
  {
   "cell_type": "code",
   "execution_count": 70,
   "id": "554be43b",
   "metadata": {},
   "outputs": [
    {
     "data": {
      "text/plain": [
       "4027.1872"
      ]
     },
     "execution_count": 70,
     "metadata": {},
     "output_type": "execute_result"
    }
   ],
   "source": [
    "0.2458 * 2**14"
   ]
  },
  {
   "cell_type": "code",
   "execution_count": null,
   "id": "07fad3c0",
   "metadata": {},
   "outputs": [],
   "source": []
  },
  {
   "cell_type": "code",
   "execution_count": null,
   "id": "3c3b0664",
   "metadata": {},
   "outputs": [],
   "source": []
  },
  {
   "cell_type": "code",
   "execution_count": null,
   "id": "4f02868a",
   "metadata": {},
   "outputs": [],
   "source": []
  },
  {
   "cell_type": "code",
   "execution_count": 134,
   "id": "98a08892",
   "metadata": {},
   "outputs": [
    {
     "data": {
      "text/plain": [
       "93.3888"
      ]
     },
     "execution_count": 134,
     "metadata": {},
     "output_type": "execute_result"
    }
   ],
   "source": [
    "0.0057 * (1<<14)"
   ]
  },
  {
   "cell_type": "code",
   "execution_count": 95,
   "id": "4ae173c1",
   "metadata": {},
   "outputs": [
    {
     "name": "stdout",
     "output_type": "stream",
     "text": [
      "Parameter containing:\n",
      "tensor([[-0.4531, -0.3438, -0.1953, -0.2266, -0.2500,  0.3438,  0.0781, -0.2734,\n",
      "         -0.1875, -0.1719, -0.2891, -0.4688, -0.2578,  0.3828,  0.2344,  0.4141,\n",
      "          0.3203,  0.2578, -0.1875, -0.3047, -0.2734,  0.3203, -0.2266, -0.5781,\n",
      "          0.2734,  0.0547,  0.3359,  0.3516, -0.2422,  0.4297,  0.0547, -0.3203]],\n",
      "       requires_grad=True)\n",
      "Parameter containing:\n",
      "tensor([0.0402], requires_grad=True)\n"
     ]
    }
   ],
   "source": [
    "W, B = list(all_interm[6][0].parameters())\n",
    "print(W)\n",
    "print(B)"
   ]
  },
  {
   "cell_type": "code",
   "execution_count": 111,
   "id": "eea978cb",
   "metadata": {},
   "outputs": [],
   "source": [
    "inp = (all_interm[6][1][0] * (1 << 7)).to(torch.int16)"
   ]
  },
  {
   "cell_type": "code",
   "execution_count": 105,
   "id": "9916258f",
   "metadata": {},
   "outputs": [
    {
     "data": {
      "text/plain": [
       "tensor([[ 0.0000,  0.0000,  0.0000, 32.7432, 33.1374,  0.0000,  1.9614,  3.6874,\n",
       "         13.4592, 27.2505,  5.2270,  0.0000,  0.0000,  0.0000, 25.2502,  0.0000,\n",
       "          0.0000,  0.0000, 17.8498,  0.0000, 35.3156,  0.0000,  0.0000,  0.0000,\n",
       "         22.5445,  0.0000,  0.0000,  0.0000, 41.1000,  0.0000,  0.0000,  1.4059]],\n",
       "       grad_fn=<MulBackward0>)"
      ]
     },
     "execution_count": 105,
     "metadata": {},
     "output_type": "execute_result"
    }
   ],
   "source": [
    "all_interm[6][1][0] * (1 << 7)"
   ]
  },
  {
   "cell_type": "code",
   "execution_count": 101,
   "id": "860fa4b7",
   "metadata": {},
   "outputs": [
    {
     "data": {
      "text/plain": [
       "tensor([[-58, -44, -25, -29, -32,  44,  10, -35, -24, -22, -37, -60, -33,  49,\n",
       "          30,  53,  41,  33, -24, -39, -35,  41, -29, -74,  35,   7,  43,  45,\n",
       "         -31,  55,   7, -41]], dtype=torch.int16)"
      ]
     },
     "execution_count": 101,
     "metadata": {},
     "output_type": "execute_result"
    }
   ],
   "source": [
    "(W * (1<<7)).to(torch.int16)"
   ]
  },
  {
   "cell_type": "code",
   "execution_count": 112,
   "id": "8171e332",
   "metadata": {},
   "outputs": [
    {
     "data": {
      "text/plain": [
       "tensor([[ 0,  0,  0, 32, 33,  0,  1,  3, 13, 27,  5,  0,  0,  0, 25,  0,  0,  0,\n",
       "         17,  0, 35,  0,  0,  0, 22,  0,  0,  0, 41,  0,  0,  1]],\n",
       "       dtype=torch.int16)"
      ]
     },
     "execution_count": 112,
     "metadata": {},
     "output_type": "execute_result"
    }
   ],
   "source": [
    "inp"
   ]
  },
  {
   "cell_type": "code",
   "execution_count": 132,
   "id": "81712008",
   "metadata": {},
   "outputs": [
    {
     "data": {
      "text/plain": [
       "tensor([[-58., -44., -25., -29., -32.,  44.,  10., -35., -24., -22., -37., -60.,\n",
       "         -33.,  49.,  30.,  53.,  41.,  33., -24., -39., -35.,  41., -29., -74.,\n",
       "          35.,   7.,  43.,  45., -31.,  55.,   7., -41.]],\n",
       "       grad_fn=<MulBackward0>)"
      ]
     },
     "execution_count": 132,
     "metadata": {},
     "output_type": "execute_result"
    }
   ],
   "source": [
    "discW = (W * (1<<7))\n",
    "discW"
   ]
  },
  {
   "cell_type": "code",
   "execution_count": 116,
   "id": "df574542",
   "metadata": {},
   "outputs": [
    {
     "data": {
      "text/plain": [
       "tensor([[-4595]], dtype=torch.int16)"
      ]
     },
     "execution_count": 116,
     "metadata": {},
     "output_type": "execute_result"
    }
   ],
   "source": [
    "discW @ inp.T"
   ]
  },
  {
   "cell_type": "code",
   "execution_count": 117,
   "id": "939892a9",
   "metadata": {},
   "outputs": [
    {
     "data": {
      "text/plain": [
       "tensor([[    0,     0,     0,  -928, -1056,     0,    10,  -105,  -312,  -594,\n",
       "          -185,     0,     0,     0,   750,     0,     0,     0,  -408,     0,\n",
       "         -1225,     0,     0,     0,   770,     0,     0,     0, -1271,     0,\n",
       "             0,   -41]], dtype=torch.int16)"
      ]
     },
     "execution_count": 117,
     "metadata": {},
     "output_type": "execute_result"
    }
   ],
   "source": [
    "discW * inp"
   ]
  },
  {
   "cell_type": "code",
   "execution_count": 123,
   "id": "e6cbe999",
   "metadata": {},
   "outputs": [
    {
     "data": {
      "text/plain": [
       "-4497"
      ]
     },
     "execution_count": 123,
     "metadata": {},
     "output_type": "execute_result"
    }
   ],
   "source": [
    "layer1_out @ l2_weights"
   ]
  },
  {
   "cell_type": "code",
   "execution_count": 130,
   "id": "42d265f4",
   "metadata": {},
   "outputs": [
    {
     "data": {
      "text/plain": [
       "array([[98]])"
      ]
     },
     "execution_count": 130,
     "metadata": {},
     "output_type": "execute_result"
    }
   ],
   "source": [
    "(layer1_out - inp.numpy()) @ discW.numpy().T"
   ]
  },
  {
   "cell_type": "code",
   "execution_count": 127,
   "id": "f3adba20",
   "metadata": {},
   "outputs": [
    {
     "data": {
      "text/plain": [
       "array([[0, 0, 0, 0, 0, 0, 0, 0, 0, 0, 0, 0, 0, 0, 0, 0, 0, 0, 0, 0, 0, 0,\n",
       "        0, 0, 0, 0, 0, 0, 0, 0, 0, 0]])"
      ]
     },
     "execution_count": 127,
     "metadata": {},
     "output_type": "execute_result"
    }
   ],
   "source": [
    "l2_weights - discW.numpy()"
   ]
  },
  {
   "cell_type": "code",
   "execution_count": 103,
   "id": "8f53bdbf",
   "metadata": {},
   "outputs": [
    {
     "data": {
      "text/plain": [
       "tensor([658.], grad_fn=<MulBackward0>)"
      ]
     },
     "execution_count": 103,
     "metadata": {},
     "output_type": "execute_result"
    }
   ],
   "source": [
    "B * (1 << 14)"
   ]
  },
  {
   "cell_type": "code",
   "execution_count": 98,
   "id": "cbba3278",
   "metadata": {},
   "outputs": [
    {
     "data": {
      "text/plain": [
       "tensor([[-0.2458]], grad_fn=<AddBackward0>)"
      ]
     },
     "execution_count": 98,
     "metadata": {},
     "output_type": "execute_result"
    }
   ],
   "source": [
    "W @ all_interm[6][1][0].T + B"
   ]
  },
  {
   "cell_type": "code",
   "execution_count": 109,
   "id": "60cb2798",
   "metadata": {},
   "outputs": [
    {
     "data": {
      "text/plain": [
       "tensor([[-4684.9473]], grad_fn=<MulBackward0>)"
      ]
     },
     "execution_count": 109,
     "metadata": {},
     "output_type": "execute_result"
    }
   ],
   "source": [
    "(W @ all_interm[6][1][0].T) * (1 << 14)"
   ]
  },
  {
   "cell_type": "code",
   "execution_count": 110,
   "id": "7f4bc6ca",
   "metadata": {},
   "outputs": [
    {
     "data": {
      "text/plain": [
       "tensor([658.], grad_fn=<MulBackward0>)"
      ]
     },
     "execution_count": 110,
     "metadata": {},
     "output_type": "execute_result"
    }
   ],
   "source": [
    "B * (1 << 14)"
   ]
  },
  {
   "cell_type": "code",
   "execution_count": 108,
   "id": "ccef6edc",
   "metadata": {},
   "outputs": [
    {
     "data": {
      "text/plain": [
       "-4027.1872"
      ]
     },
     "execution_count": 108,
     "metadata": {},
     "output_type": "execute_result"
    }
   ],
   "source": [
    "-0.2458 * (1 << 14)"
   ]
  },
  {
   "cell_type": "code",
   "execution_count": 83,
   "id": "4bfbf311",
   "metadata": {},
   "outputs": [
    {
     "data": {
      "text/plain": [
       "-3839"
      ]
     },
     "execution_count": 83,
     "metadata": {},
     "output_type": "execute_result"
    }
   ],
   "source": [
    "final_out @ l2_weights + 658"
   ]
  },
  {
   "cell_type": "code",
   "execution_count": 82,
   "id": "9c21eacc",
   "metadata": {},
   "outputs": [
    {
     "data": {
      "text/plain": [
       "tensor([658.], grad_fn=<MulBackward0>)"
      ]
     },
     "execution_count": 82,
     "metadata": {},
     "output_type": "execute_result"
    }
   ],
   "source": [
    "named_params[\"main_net.4.bias\"] * (1 << 14)"
   ]
  },
  {
   "cell_type": "code",
   "execution_count": 80,
   "id": "0603561f",
   "metadata": {},
   "outputs": [
    {
     "data": {
      "text/plain": [
       "tensor([[-4026.9473]], grad_fn=<MulBackward0>)"
      ]
     },
     "execution_count": 80,
     "metadata": {},
     "output_type": "execute_result"
    }
   ],
   "source": [
    "# final linear: 6\n",
    "# tanh: 8\n",
    "all_interm[6][2] * (1 << 14)"
   ]
  },
  {
   "cell_type": "code",
   "execution_count": null,
   "id": "4985942b",
   "metadata": {},
   "outputs": [],
   "source": [
    "all"
   ]
  },
  {
   "cell_type": "code",
   "execution_count": 64,
   "id": "d70156df",
   "metadata": {},
   "outputs": [
    {
     "data": {
      "text/plain": [
       "tensor([[93.0527]], grad_fn=<MulBackward0>)"
      ]
     },
     "execution_count": 64,
     "metadata": {},
     "output_type": "execute_result"
    }
   ],
   "source": [
    "all_interm[8][1][0] * (1 << 14)"
   ]
  },
  {
   "cell_type": "code",
   "execution_count": 33,
   "id": "3bdb40a2",
   "metadata": {},
   "outputs": [],
   "source": [
    "# This is the value of the accumulator after the bias.\n",
    "actual_bias_accum = (all_interm[1][1][0] * (1 << 14)).to(torch.int16).flatten().detach().cpu().numpy()"
   ]
  },
  {
   "cell_type": "code",
   "execution_count": 34,
   "id": "8d91123f",
   "metadata": {},
   "outputs": [
    {
     "data": {
      "text/plain": [
       "array([  32,  194,  -74,  -97, -172,  -56, -111,  -57,  -89,  -40,   -4,\n",
       "        -94,  -24,  215, -190, -250, -173, -210,  -44, -105,    8,  -55,\n",
       "        -80, -101,  -58,  -89, -150,   30,  -85,   -9,   27,  -75,  -64,\n",
       "          6,  -12,   -4, -145,  -29, -225,   39,   28,  -51, -183,  -82,\n",
       "        -85, -158, -183, -134,   27,   26, -125,  -14,  -99,  -48,  -88,\n",
       "        -52, -185, -101, -145, -182,  -65,   79, -121, -193,  -43,  -35,\n",
       "        -96,  -26,  -73, -105, -177,  -30,  -44, -105, -144,  -18,    2,\n",
       "       -132,  -69,  -24,   15,  -63,   12, -179,  -63, -189, -177,  -48,\n",
       "       -126, -109, -174,  -77, -117,  -42, -215, -137, -129,  -76,    5,\n",
       "         15, -123,  -84,  -74, -224,  -18, -136,  -91,  161,   -4,  -56,\n",
       "        254,  -40, -129, -137, -172, -124,  -73, -224, -117, -139, -196,\n",
       "        -43, -211,  -38,  198, -111,  -30,   -3,   29,  -85,   87,   51,\n",
       "       -211, -114, -149, -140,  -79,   16, -140,  -48,  -14, -166,  -42,\n",
       "        -67,  -88, -158, -177, -226,   -4, -124, -195, -253,  -45, -121,\n",
       "        -42,  -65, -219,  -86,  -66,  -71,  -71, -121, -152,  -91, -119,\n",
       "        -41,  -75,  -43,  -82,  118, -156, -126,  -94,   -5,  -75, -139,\n",
       "       -154,  -57,  -91, -226,  -83, -130, -196,  -93,  193, -103, -167,\n",
       "        -84, -117,   56, -155, -168,  -45,  169,  -57, -189, -151,  -38,\n",
       "        -79,  -98, -129,    1,  -28, -146,  -41, -127, -203,   88,  -15,\n",
       "        -85,  -87, -122, -110,  -64,  -82,  -81, -106, -126, -182,    3,\n",
       "       -119,  -77,  183,  -80, -111,  -68, -111, -113,  -24, -137,  185,\n",
       "         14,   -5, -226,   11,  -63, -137,  -87,  -79, -230,  -68,   53,\n",
       "       -119,    2,  -20,  232,  -31, -181,  -73, -198,  -37, -130,  -56,\n",
       "        -30,   26,  -52], dtype=int16)"
      ]
     },
     "execution_count": 34,
     "metadata": {},
     "output_type": "execute_result"
    }
   ],
   "source": [
    "actual_bias_accum >> 7"
   ]
  },
  {
   "cell_type": "code",
   "execution_count": 68,
   "id": "85291861",
   "metadata": {},
   "outputs": [
    {
     "data": {
      "text/plain": [
       "tensor([  521.,  -961.,   432.,  3037.,  1319.,  -206.,  1697.,   638., -1155.,\n",
       "         2097.,  2361.,  -399., -3235., -3089., -2442.,  2285.],\n",
       "       grad_fn=<MulBackward0>)"
      ]
     },
     "execution_count": 68,
     "metadata": {},
     "output_type": "execute_result"
    }
   ],
   "source": [
    "named_params[\"main_net.0.bias\"] * (1<<14)"
   ]
  },
  {
   "cell_type": "code",
   "execution_count": 37,
   "id": "8d091f11",
   "metadata": {},
   "outputs": [
    {
     "data": {
      "text/plain": [
       "dict_keys(['main_bias', 'main_embed.weight', 'main_net.0.weight', 'main_net.0.bias', 'main_net.2.weight', 'main_net.2.bias', 'main_net.4.weight', 'main_net.4.bias'])"
      ]
     },
     "execution_count": 37,
     "metadata": {},
     "output_type": "execute_result"
    }
   ],
   "source": [
    "named_params.keys()"
   ]
  },
  {
   "cell_type": "code",
   "execution_count": 38,
   "id": "ef2325b5",
   "metadata": {},
   "outputs": [
    {
     "data": {
      "text/plain": [
       "array([  4120,  24856,  -9400, -12344, -21896,  -7136, -14120,  -7248,\n",
       "       -11392,  -5024,   -472, -11960,  -2968,  27568, -24248, -31904,\n",
       "       -22128, -26784,  -5512, -13360,   1144,  -7016, -10136, -12888,\n",
       "        -7424, -11328, -19200,   3840, -10880,  -1120,   3512,  -9536,\n",
       "        -8152,    768,  -1424,   -504, -18520,  -3624, -28768,   5048,\n",
       "         3672,  -6528, -23368, -10384, -10872, -20152, -23392, -17120,\n",
       "         3456,   3344, -15960,  -1792, -12656,  -6072, -11144,  -6624,\n",
       "       -23592, -12856, -18536, -23296,  -8288,  10216, -15368, -24680,\n",
       "        -5456,  -4416, -12224,  -3264,  -9248, -13320, -22576,  -3768,\n",
       "        -5600, -13408, -18384,  -2216,    352, -16888,  -8768,  -3024,\n",
       "         1984,  -7984,   1584, -22816,  -8000, -24160, -22632,  -6096,\n",
       "       -16032, -13888, -22256,  -9800, -14960,  -5352, -27512, -17424,\n",
       "       -16424,  -9720,    728,   2040, -15736, -10656,  -9472, -28552,\n",
       "        -2208, -17392, -11552,  20688,   -408,  -7064,  32576,  -5072,\n",
       "       -16472, -17416, -22016, -15760,  -9280, -28616, -14944, -17744,\n",
       "       -24976,  -5480, -26952,  -4776,  25352, -14184,  -3760,   -336,\n",
       "         3752, -10864,  11240,   6616, -26888, -14496, -19032, -17840,\n",
       "       -10080,   2128, -17848,  -6128,  -1784, -21232,  -5328,  -8552,\n",
       "       -11144, -20224, -22648, -28896,   -392, -15864, -24848, -32288,\n",
       "        -5656, -15448,  -5296,  -8240, -28000, -10960,  -8392,  -8968,\n",
       "        -9032, -15480, -19432, -11648, -15176,  -5184,  -9536,  -5504,\n",
       "       -10432,  15160, -19944, -16064, -11960,   -528,  -9488, -17672,\n",
       "       -19608,  -7264, -11536, -28912, -10568, -16544, -25072, -11840,\n",
       "        24792, -13064, -21304, -10720, -14872,   7224, -19736, -21472,\n",
       "        -5680,  21640,  -7256, -24104, -19280,  -4832, -10104, -12528,\n",
       "       -16456,    200,  -3584, -18632,  -5208, -16200, -25896,  11344,\n",
       "        -1888, -10872, -11120, -15544, -13968,  -8136, -10488, -10248,\n",
       "       -13448, -16072, -23272,    472, -15136,  -9744,  23520, -10240,\n",
       "       -14136,  -8624, -14088, -14432,  -2960, -17456,  23720,   1888,\n",
       "         -640, -28888,   1408,  -7960, -17448, -11072, -10096, -29360,\n",
       "        -8664,   6848, -15160,    256,  -2496,  29760,  -3944, -23136,\n",
       "        -9296, -25272,  -4656, -16632,  -7072,  -3824,   3336,  -6656],\n",
       "      dtype=int16)"
      ]
     },
     "execution_count": 38,
     "metadata": {},
     "output_type": "execute_result"
    }
   ],
   "source": [
    "actual_bias_accum"
   ]
  },
  {
   "cell_type": "code",
   "execution_count": 39,
   "id": "1c3fa291",
   "metadata": {},
   "outputs": [
    {
     "data": {
      "text/plain": [
       "tensor([  35726.7500,  -33684.6875,   81336.2500,   59738.2500,  -59728.5625,\n",
       "         -81323.8125,  -32160.5000,  103785.6875,   99606.6250,   59840.6250,\n",
       "          96940.8750,  -46076.0000,  -51297.0625,  -20717.1875, -107383.5625,\n",
       "         -68380.3125], grad_fn=<MvBackward0>)"
      ]
     },
     "execution_count": 39,
     "metadata": {},
     "output_type": "execute_result"
    }
   ],
   "source": [
    "named_params[\"main_net.0.weight\"] @ torch.tensor(actual_bias_accum, dtype=torch.float32)"
   ]
  },
  {
   "cell_type": "code",
   "execution_count": 36,
   "id": "5cd7f9ee",
   "metadata": {},
   "outputs": [
    {
     "data": {
      "text/plain": [
       "array([ 1576,  -635,   277,   635,  2260,  -483,  -129, -1121, -1027,\n",
       "         148, -2472,   882, -1225,   198,   709, -1500,  -124,   965,\n",
       "        -819,     4,   471, -1239, -2648,   -50,   146,   345,  -104,\n",
       "        1599,  -542, -4076,   602,  1093,   408, -1248,  -788,   505,\n",
       "         876,   615,   372, -1289,   443,  1093,  1378,   -44,  2345,\n",
       "        -604,  -196,  -251,    88,  -215,  -530, -1346, -1019,  -707,\n",
       "         669,   453,  1059,   481,  1506,    15,   708,  -960,  -827,\n",
       "        -163,   167,   692,   359,  -218,  -804, -1218,    87,  -471,\n",
       "         433,  1921, -1431, -1002,    17,    13,   516,   260,  -638,\n",
       "        1377,  1829,   575,  -355,   520,  1706,  3140,    35,   600,\n",
       "         201,  -131,  1497,  -639,  2119,  -137, -1260,   -35, -1457,\n",
       "        3059,    -3,  2080,   228,  -118,  1398,   516, -1177,  -502,\n",
       "         392,   875, -1280,  -929,  -736,  1233, -2587,   578,  -333,\n",
       "       -1982,   409,   118,   347,   198,  -551,   237, -1077,  1047,\n",
       "         -67,  1526,   715,  -177,  2309,  -829, -1061, -1310,   569,\n",
       "        -163,   695,  -870, -1118,  -641,  1435,  -241,  -801, -2088,\n",
       "         180,   357,    86,  1278,   491, -1060,   363,   359,   444,\n",
       "         174, -1616,  -362,  -164,    -2,   155,  -184,  -760, -1792,\n",
       "         403,   519,  -280,   156,   731,   890,   198,  -342,   902,\n",
       "         733, -1442,  -894,  1728, -1047,   326,  -107,  -623,   289,\n",
       "       -5500,   775,  1645, -1011, -1852,  -150,  -919,  -992,   557,\n",
       "         663,  1611,    85,  -491,  -424,   707,  -695,  -314,   429,\n",
       "        -824,  2342,     4,  2047, -1189,  -340,   521, -1059, -2089,\n",
       "        -801,   476,  -514,  -585,   737,    60,   682,    38,  -536,\n",
       "       -1242,   741,   563,    75,    84,   692,   -84, -1890,  2199,\n",
       "       -1101, -1722,  2674,   678,   317,   110,  3157,  -291,   474,\n",
       "        -961,   274,  2612,   874,  1119,   806,  -358,  1333,  -143,\n",
       "        1539, -3047,  -578,  -304,  -902,   664,   -54,  1070,   295,\n",
       "        -483,   342,   619,  -525], dtype=int16)"
      ]
     },
     "execution_count": 36,
     "metadata": {},
     "output_type": "execute_result"
    }
   ],
   "source": [
    "actual_bias_accum"
   ]
  },
  {
   "cell_type": "code",
   "execution_count": null,
   "id": "c55bf451",
   "metadata": {},
   "outputs": [],
   "source": []
  },
  {
   "cell_type": "code",
   "execution_count": 81,
   "id": "c680bde3",
   "metadata": {},
   "outputs": [],
   "source": [
    "net15_layer0_relu_out = all_interm[-7][2]"
   ]
  },
  {
   "cell_type": "code",
   "execution_count": 93,
   "id": "437690f8",
   "metadata": {},
   "outputs": [
    {
     "data": {
      "text/plain": [
       "(Linear(in_features=256, out_features=16, bias=True),\n",
       " (tensor([[-3.1705e-02, -1.2796e-01,  3.4274e-02, -5.6994e-02, -6.0869e-02,\n",
       "           -5.2639e-02, -6.0121e-02,  1.0387e-02, -7.9051e-03, -1.0556e-02,\n",
       "            1.1489e-01, -2.2763e-02, -1.4487e-01, -1.6671e-01, -1.0759e-01,\n",
       "            1.0140e-01, -9.1152e-02, -5.2809e-02,  2.2734e-03,  7.7909e-02,\n",
       "           -6.9826e-02, -1.4572e-02,  6.6076e-03, -4.3905e-02,  6.6432e-02,\n",
       "           -4.1776e-02,  4.9546e-03, -3.8304e-02,  3.2452e-02, -7.3608e-02,\n",
       "            2.8404e-02,  1.4063e-01,  8.8045e-02,  2.6209e-02,  2.3313e-02,\n",
       "            4.0198e-02,  1.5283e-01,  2.1252e-01,  1.4203e-01, -4.9075e-02,\n",
       "           -8.9210e-02, -7.1824e-02,  1.2296e-01, -3.6737e-03, -1.5035e-01,\n",
       "            5.8231e-02, -1.4160e-01,  1.7159e-02, -6.5342e-02, -7.0765e-02,\n",
       "            4.6460e-02, -1.6051e-01,  6.1230e-02,  6.1420e-02, -9.2742e-02,\n",
       "            1.7233e-02, -5.8511e-02, -5.9806e-02,  1.0505e-01, -7.4496e-02,\n",
       "            4.5066e-03,  5.9203e-02, -7.6848e-02,  1.5893e-02, -9.3406e-02,\n",
       "            7.0408e-02, -4.7732e-02, -9.9646e-02,  1.2275e-01,  2.1166e-02,\n",
       "            2.4189e-02,  3.6069e-02, -1.2110e-01, -7.1508e-02, -3.4711e-02,\n",
       "           -6.5741e-02,  4.1864e-02,  2.6261e-02, -1.4246e-01,  7.0054e-02,\n",
       "            1.7509e-01,  1.1880e-02,  4.4840e-02, -9.6624e-02,  1.5839e-01,\n",
       "           -5.6011e-02,  5.2009e-02,  5.8488e-03,  4.8118e-02,  5.7737e-02,\n",
       "           -1.0775e-02,  3.0582e-02,  2.0801e-02,  5.2357e-02, -3.6921e-02,\n",
       "            5.5272e-02,  6.6241e-02,  1.1893e-02,  1.1157e-01,  6.5274e-02,\n",
       "           -7.0510e-02,  3.5476e-02, -2.3013e-02, -6.3513e-02,  1.4299e-01,\n",
       "            1.6077e-01, -5.5296e-02, -6.3520e-02,  1.4775e-01, -9.0628e-02,\n",
       "            6.0071e-03, -3.5506e-02, -4.0748e-02,  1.4642e-01, -4.7983e-02,\n",
       "            9.8272e-02, -1.5150e-02, -7.6422e-02,  6.8682e-02,  6.2069e-02,\n",
       "            1.3066e-01,  3.5089e-02,  1.3620e-01,  2.8581e-02,  7.6314e-02,\n",
       "           -5.0156e-02,  2.8304e-02,  5.6963e-02, -1.8906e-02,  6.9403e-02,\n",
       "            1.1720e-01,  9.7023e-02, -3.8516e-03,  1.0173e-01,  9.3594e-03,\n",
       "            1.4967e-01, -1.4087e-01, -2.1364e-02, -1.6215e-02,  1.7921e-01,\n",
       "           -5.6811e-02, -1.0327e-01,  1.4023e-02,  1.2320e-01,  1.2556e-01,\n",
       "            1.9455e-01,  4.3157e-02, -6.5762e-02, -3.4011e-03,  8.6481e-04,\n",
       "           -4.7193e-02, -3.7738e-02,  6.8622e-02,  4.8290e-02,  4.0222e-02,\n",
       "            7.4612e-02,  4.2743e-02, -3.0221e-02,  1.8718e-02, -1.3950e-01,\n",
       "            2.4319e-02,  4.4335e-02, -6.0976e-02, -3.0610e-02, -1.0523e-01,\n",
       "            9.6739e-04,  1.7370e-04,  1.2338e-01,  7.3679e-02,  1.0930e-01,\n",
       "           -8.8183e-02, -9.2209e-03,  1.1753e-01, -2.7505e-02, -1.2921e-02,\n",
       "            5.3071e-02, -7.4935e-02,  1.0191e-01,  2.3358e-01,  5.8135e-03,\n",
       "            4.5695e-02, -5.8059e-02, -1.1657e-01,  1.0853e-01,  6.9925e-03,\n",
       "            7.6619e-02, -1.3413e-01, -6.5712e-02,  1.2706e-01, -1.5312e-02,\n",
       "            2.4031e-02,  9.6266e-03,  3.0682e-02,  6.3533e-02,  8.0699e-02,\n",
       "            6.2945e-02, -3.2635e-02,  3.7979e-02, -9.6590e-02, -4.8390e-02,\n",
       "            5.0329e-02, -5.8660e-02,  9.0521e-03,  1.1188e-01, -1.2849e-01,\n",
       "           -1.1325e-02, -1.6136e-01, -5.9433e-02, -4.6663e-02, -6.7218e-02,\n",
       "           -2.6140e-01,  5.7318e-02, -4.8493e-02, -6.2223e-02, -9.3397e-02,\n",
       "           -4.8111e-03, -8.4258e-03,  1.2356e-03,  5.1117e-02,  5.4161e-03,\n",
       "           -6.1743e-02, -9.6356e-03, -1.7163e-02,  1.6414e-01, -2.8437e-03,\n",
       "            8.8948e-02,  2.5150e-02,  1.9275e-04, -8.9817e-02,  3.2667e-03,\n",
       "           -3.1341e-02, -1.1137e-01, -9.2644e-02, -2.2147e-01, -5.1754e-02,\n",
       "           -3.7143e-02,  2.4587e-02,  1.6820e-01, -7.1408e-02, -4.8470e-02,\n",
       "            3.9713e-02, -1.4682e-01,  3.1675e-02, -1.7689e-02,  6.3874e-03,\n",
       "            3.2420e-02,  1.2474e-01, -1.5279e-01,  6.5979e-02,  4.5420e-02,\n",
       "            1.0144e-01,  1.1186e-01, -6.7413e-02, -2.1741e-02, -7.3406e-02,\n",
       "           -4.2590e-03]], grad_fn=<CloneBackward0>),),\n",
       " tensor([[-0.0692, -0.0441,  0.0483, -0.0907,  0.0620,  0.0745, -0.0646, -0.0322,\n",
       "          -0.0282, -0.0164, -0.1164, -0.0109, -0.0437, -0.0746,  0.1470,  0.0406]],\n",
       "        grad_fn=<CloneBackward0>))"
      ]
     },
     "execution_count": 93,
     "metadata": {},
     "output_type": "execute_result"
    }
   ],
   "source": [
    "all_interm[-8]"
   ]
  },
  {
   "cell_type": "code",
   "execution_count": 92,
   "id": "8dcc53c0",
   "metadata": {},
   "outputs": [
    {
     "data": {
      "text/plain": [
       "(AnnealedLeakyClippedRelu(),\n",
       " (tensor([[-0.0692, -0.0441,  0.0483, -0.0907,  0.0620,  0.0745, -0.0646, -0.0322,\n",
       "           -0.0282, -0.0164, -0.1164, -0.0109, -0.0437, -0.0746,  0.1470,  0.0406]],\n",
       "         grad_fn=<CloneBackward0>),),\n",
       " tensor([[-0.0692, -0.0441,  0.0483, -0.0907,  0.0620,  0.0745, -0.0646, -0.0322,\n",
       "          -0.0282, -0.0164, -0.1164, -0.0109, -0.0437, -0.0746,  0.1470,  0.0406]],\n",
       "        grad_fn=<CloneBackward0>))"
      ]
     },
     "execution_count": 92,
     "metadata": {},
     "output_type": "execute_result"
    }
   ],
   "source": [
    "all_interm[-7]"
   ]
  },
  {
   "cell_type": "code",
   "execution_count": 91,
   "id": "f57adfa5",
   "metadata": {},
   "outputs": [
    {
     "data": {
      "text/plain": [
       "tensor([[ -8.8589,  -5.6485,   6.1867, -11.6049,   7.9332,   9.5392,  -8.2640,\n",
       "          -4.1219,  -3.6082,  -2.0993, -14.9031,  -1.3986,  -5.5934,  -9.5472,\n",
       "          18.8146,   5.2020]], grad_fn=<MulBackward0>)"
      ]
     },
     "execution_count": 91,
     "metadata": {},
     "output_type": "execute_result"
    }
   ],
   "source": [
    "(net15_layer0_relu_out * 128)"
   ]
  },
  {
   "cell_type": "code",
   "execution_count": null,
   "id": "04127c83",
   "metadata": {},
   "outputs": [],
   "source": [
    "[-37, 58, -128, -128, -111, 127, -128, 127, 7, 127, 86, -71, 4, 18, 59, -33, ]"
   ]
  },
  {
   "cell_type": "code",
   "execution_count": null,
   "id": "144d68d4",
   "metadata": {},
   "outputs": [],
   "source": [
    "# This is the value after the output of the first "
   ]
  },
  {
   "cell_type": "code",
   "execution_count": 62,
   "id": "ee2fcf98",
   "metadata": {},
   "outputs": [],
   "source": [
    "got_bias_accum = [-519, -2097, 562, -935, -997, -865, -987, 173, -129, -171, 1882, -374, -2370, -2726, -1761, 1660, -1485, -864, 35, 1272, -1144, -236, 111, -721, 1092, -682, 78, -629, 534, -1210, 460, 2297, 1448, 430, 380, 653, 2503, 3478, 2327, -802, -1461, -1176, 2011, -57, -2465, 951, -2316, 282, -1075, -1156, 764, -2629, 1007, 1007, -1518, 282, -958, -979, 1722, -1216, 70, 967, -1257, 257, -1530, 1152, -781, -1637, 2012, 350, 394, 591, -1985, -1174, -571, -1077, 688, 426, -2330, 1147, 2871, 195, 734, -1578, 2591, -913, 854, 99, 791, 946, -169, 502, 341, 853, -605, 905, 1086, 197, 1830, 1066, -1152, 581, -379, -1033, 2337, 2633, -907, -1041, 2413, -1487, 97, -583, -665, 2397, -789, 1610, -247, -1253, 1132, 1023, 2142, 577, 2226, 474, 1253, -822, 464, 937, -308, 1133, 1918, 1586, -61, 1667, 152, 2451, -2310, -350, -263, 2936, -931, -1699, 226, 2023, 2052, 3179, 708, -1076, -56, 18, -770, -616, 1128, 795, 661, 1224, 698, -500, 303, -2285, 399, 726, -1000, -495, -1726, 9, 3, 2023, 1206, 1785, -1451, -150, 1919, -454, -206, 866, -1221, 1666, 3826, 96, 754, -949, -1907, 1779, 115, 1250, -2197, -1081, 2082, -249, 393, 153, 505, 1045, 1317, 1034, -530, 617, -1590, -797, 830, -956, 152, 1824, -2101, -185, -2641, -977, -771, -1098, -4271, 935, -793, -1011, -1523, -81, -139, 24, 834, 86, -1014, -154, -275, 2687, -45, 1453, 411, 2, -1469, 49, -515, -1821, -1520, -3629, -847, -614, 402, 2753, -1172, -791, 648, -2406, 516, -294, 103, 529, 2048, -2499, 1080, 746, 1662, 1833, -1099, -360, -1200, -63, ]"
   ]
  },
  {
   "cell_type": "code",
   "execution_count": 64,
   "id": "f51012e7",
   "metadata": {},
   "outputs": [
    {
     "data": {
      "text/plain": [
       "array([ -519, -2096,   561,  -933,  -997,  -862,  -985,   170,  -129,\n",
       "        -172,  1882,  -372, -2373, -2731, -1762,  1661, -1493,  -865,\n",
       "          37,  1276, -1144,  -238,   108,  -719,  1088,  -684,    81,\n",
       "        -627,   531, -1205,   465,  2304,  1442,   429,   381,   658,\n",
       "        2504,  3481,  2326,  -804, -1461, -1176,  2014,   -60, -2463,\n",
       "         954, -2320,   281, -1070, -1159,   761, -2629,  1003,  1006,\n",
       "       -1519,   282,  -958,  -979,  1721, -1220,    73,   969, -1259,\n",
       "         260, -1530,  1153,  -782, -1632,  2011,   346,   396,   590,\n",
       "       -1984, -1171,  -568, -1077,   685,   430, -2334,  1147,  2868,\n",
       "         194,   734, -1583,  2595,  -917,   852,    95,   788,   945,\n",
       "        -176,   501,   340,   857,  -604,   905,  1085,   194,  1827,\n",
       "        1069, -1155,   581,  -377, -1040,  2342,  2634,  -905, -1040,\n",
       "        2420, -1484,    98,  -581,  -667,  2399,  -786,  1610,  -248,\n",
       "       -1252,  1125,  1016,  2140,   574,  2231,   468,  1250,  -821,\n",
       "         463,   933,  -309,  1137,  1920,  1589,   -63,  1666,   153,\n",
       "        2452, -2308,  -350,  -265,  2936,  -930, -1692,   229,  2018,\n",
       "        2057,  3187,   707, -1077,   -55,    14,  -773,  -618,  1124,\n",
       "         791,   659,  1222,   700,  -495,   306, -2285,   398,   726,\n",
       "        -999,  -501, -1724,    15,     2,  2021,  1207,  1790, -1444,\n",
       "        -151,  1925,  -450,  -211,   869, -1227,  1669,  3826,    95,\n",
       "         748,  -951, -1909,  1778,   114,  1255, -2197, -1076,  2081,\n",
       "        -250,   393,   157,   502,  1040,  1322,  1031,  -534,   622,\n",
       "       -1582,  -792,   824,  -961,   148,  1833, -2105,  -185, -2643,\n",
       "        -973,  -764, -1101, -4282,   939,  -794, -1019, -1530,   -78,\n",
       "        -138,    20,   837,    88, -1011,  -157,  -281,  2689,   -46,\n",
       "        1457,   412,     3, -1471,    53,  -513, -1824, -1517, -3628,\n",
       "        -847,  -608,   402,  2755, -1169,  -794,   650, -2405,   518,\n",
       "        -289,   104,   531,  2043, -2503,  1080,   744,  1661,  1832,\n",
       "       -1104,  -356, -1202,   -69], dtype=int16)"
      ]
     },
     "execution_count": 64,
     "metadata": {},
     "output_type": "execute_result"
    }
   ],
   "source": [
    "actual"
   ]
  },
  {
   "cell_type": "code",
   "execution_count": 63,
   "id": "b972d0e0",
   "metadata": {},
   "outputs": [
    {
     "data": {
      "text/plain": [
       "[<matplotlib.lines.Line2D at 0x7f897c331120>]"
      ]
     },
     "execution_count": 63,
     "metadata": {},
     "output_type": "execute_result"
    },
    {
     "data": {
      "image/png": "[encoded data removed]",
      "text/plain": [
       "<Figure size 432x288 with 1 Axes>"
      ]
     },
     "metadata": {
      "needs_background": "light"
     },
     "output_type": "display_data"
    }
   ],
   "source": [
    "plt.plot(actual)\n",
    "plt.plot(got)"
   ]
  },
  {
   "cell_type": "code",
   "execution_count": null,
   "id": "5f2c7758",
   "metadata": {},
   "outputs": [],
   "source": []
  },
  {
   "cell_type": "code",
   "execution_count": 36,
   "id": "f3f16eb0",
   "metadata": {},
   "outputs": [
    {
     "data": {
      "text/plain": [
       "tensor([[-0.0133]], grad_fn=<TanhBackward0>)"
      ]
     },
     "execution_count": 36,
     "metadata": {},
     "output_type": "execute_result"
    }
   ],
   "source": [
    "out"
   ]
  },
  {
   "cell_type": "code",
   "execution_count": null,
   "id": "c46674c8",
   "metadata": {},
   "outputs": [],
   "source": []
  }
 ],
 "metadata": {
  "kernelspec": {
   "display_name": "Python 3 (ipykernel)",
   "language": "python",
   "name": "python3"
  },
  "language_info": {
   "codemirror_mode": {
    "name": "ipython",
    "version": 3
   },
   "file_extension": ".py",
   "mimetype": "text/x-python",
   "name": "python",
   "nbconvert_exporter": "python",
   "pygments_lexer": "ipython3",
   "version": "3.10.6"
  }
 },
 "nbformat": 4,
 "nbformat_minor": 5
}
