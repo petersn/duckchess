{
 "cells": [
  {
   "cell_type": "markdown",
   "id": "4e979a8c",
   "metadata": {},
   "source": [
    "## Validate Rust\n",
    "\n",
    "We load up the predictions from `validate_nnue.rs` and check that they match what we get from pytorch."
   ]
  },
  {
   "cell_type": "code",
   "execution_count": null,
   "id": "43c2bc0d",
   "metadata": {},
   "outputs": [],
   "source": [
    "import sys\n",
    "sys.path.append(\"./ml/\")\n",
    "import numpy as np\n",
    "import torch\n",
    "import matplotlib.pyplot as plt\n",
    "import train_nnue"
   ]
  },
  {
   "cell_type": "code",
   "execution_count": null,
   "id": "e093e78c",
   "metadata": {},
   "outputs": [],
   "source": [
    "model = train_nnue.Nnue()\n",
    "model.load_state_dict(torch.load(\"nnue.pt\"))\n",
    "model.adjust_leak(0)"
   ]
  },
  {
   "cell_type": "code",
   "execution_count": null,
   "id": "a6eff2ee",
   "metadata": {},
   "outputs": [],
   "source": [
    "archive = np.load(\"rust-nnue-predictions.npz\")"
   ]
  },
  {
   "cell_type": "code",
   "execution_count": null,
   "id": "f69cc88d",
   "metadata": {},
   "outputs": [],
   "source": [
    "rust_predictions = archive[\"values\"]"
   ]
  },
  {
   "cell_type": "code",
   "execution_count": null,
   "id": "b8d6a06c",
   "metadata": {},
   "outputs": [],
   "source": [
    "archive[\"policies\"].min()"
   ]
  },
  {
   "cell_type": "code",
   "execution_count": null,
   "id": "13a27a8d",
   "metadata": {},
   "outputs": [],
   "source": [
    "plt.matshow(archive[\"policies\"][0,0].reshape((8, 8)))"
   ]
  },
  {
   "cell_type": "code",
   "execution_count": null,
   "id": "2b689a88",
   "metadata": {},
   "outputs": [],
   "source": [
    "data_file = \"run-011-duck-chess/step-100/games/games-mcts-24d42a799adffcfc-nnue-data.npz\""
   ]
  },
  {
   "cell_type": "code",
   "execution_count": null,
   "id": "2b518b65",
   "metadata": {},
   "outputs": [],
   "source": [
    "make_batch = train_nnue.get_make_batch([data_file], \"cpu\")"
   ]
  },
  {
   "cell_type": "code",
   "execution_count": null,
   "id": "a7da1b81",
   "metadata": {
    "scrolled": true
   },
   "outputs": [],
   "source": [
    "#indices, offsets, which_model, lengths, value_for_white = make_batch(1000, randomize=False)\n",
    "indices, offsets, which_model, lengths, value_for_white, moves_from, moves_to, legal_move_masks, have_quiescence_moves = make_batch(1000, randomize=False)\n",
    "value_output, policy_from, policy_to = model(indices, offsets, which_model, lengths)\n",
    "#val_loss = torch.nn.MSELoss()(value_output, value_for_white)\n"
   ]
  },
  {
   "cell_type": "code",
   "execution_count": null,
   "id": "ce97bbcb",
   "metadata": {},
   "outputs": [],
   "source": [
    "import matplotlib.pyplot as plt"
   ]
  },
  {
   "cell_type": "code",
   "execution_count": null,
   "id": "314007a8",
   "metadata": {},
   "outputs": [],
   "source": [
    "policy_from.shape"
   ]
  },
  {
   "cell_type": "code",
   "execution_count": null,
   "id": "b87744d0",
   "metadata": {},
   "outputs": [],
   "source": [
    "plt.matshow(policy_from[0].reshape((8, 8)).detach().numpy())"
   ]
  },
  {
   "cell_type": "code",
   "execution_count": null,
   "id": "d35ba8c5",
   "metadata": {},
   "outputs": [],
   "source": [
    "policy_from[0].reshape((8, 8))"
   ]
  },
  {
   "cell_type": "code",
   "execution_count": null,
   "id": "1798711f",
   "metadata": {},
   "outputs": [],
   "source": [
    "archive[\"policies\"][0,0].reshape((8, 8)) / 2**13"
   ]
  },
  {
   "cell_type": "code",
   "execution_count": null,
   "id": "4bb760b8",
   "metadata": {},
   "outputs": [],
   "source": [
    "a = rust_predictions[:1000]\n",
    "b = value_output.flatten().detach().cpu().numpy()[:1000]\n",
    "plt.plot(a)\n",
    "plt.plot(b)\n",
    "plt.plot(a - b)\n",
    "plt.legend([\"Rust\", \"PyTorch\", \"Diff\"])"
   ]
  },
  {
   "cell_type": "code",
   "execution_count": null,
   "id": "ed02caf8",
   "metadata": {},
   "outputs": [],
   "source": [
    "plt.plot(np.abs(a - b) / np.maximum(0.5, np.maximum(a, b)))"
   ]
  },
  {
   "cell_type": "code",
   "execution_count": null,
   "id": "d2e0c19e",
   "metadata": {},
   "outputs": [],
   "source": [
    "rust = [-0.026367188, 0.6855469, -10.581055, 0.99365234, -0.06738281, 0.107910156, 0.14697266, 0.7441406, 0.91308594, 0.92822266, 0.7373047, -0.49902344, 1.3066406, -0.011230469, 0.8745117, 1.0239258, -0.1484375, 0.03173828, 1.0058594, 12.312012, -0.08203125, 0.08984375, 0.9951172, 0.7138672, -0.18603516, 2.4033203, 4.1411133, 0.9560547, -2.152832, 0.05908203, -0.06933594, 3.053711]\n",
    "rust2 = [-0.04296875, 0.6953125, -10.503906, 0.95703125, -0.06640625, 0.09765625, 0.1171875, 0.73828125, 0.87890625, 0.91015625, 0.73046875, -0.51953125, 1.2851563, 0.00390625, 0.84765625, 0.98828125, -0.1171875, 0.0234375, 0.9921875, -51.597656, -0.08203125, 0.078125, 1.0039063, 0.6953125, -0.1875, -29.523438, -27.777344, 0.953125, -2.1445313, 0.04296875, -0.0546875, -28.875, ]\n",
    "\n",
    "python = [-0.02199588716030121, 0.6845449805259705, -10.594429016113281, 0.9983289837837219, -0.07030828297138214, 0.11041910946369171, 0.14891983568668365, 0.7469731569290161, 0.9151668548583984, 0.9316335916519165, 0.7408483624458313, -0.49524450302124023, 1.3086481094360352, -0.010220184922218323, 0.8767296671867371, 1.0258991718292236, -0.1514769196510315, 0.03474739193916321, 1.0084795951843262, -51.69867706298828, -0.08426901698112488, 0.09226831793785095, 0.9956939220428467, 0.7162597179412842, -0.18898600339889526, -29.60687255859375, -27.870325088500977, 0.9553431272506714, -2.1533918380737305, 0.06028661131858826, -0.0694335401058197, -28.958084106445312]\n",
    "    "
   ]
  },
  {
   "cell_type": "code",
   "execution_count": null,
   "id": "3fdcd23a",
   "metadata": {},
   "outputs": [],
   "source": [
    "#plt.plot(rust)\n",
    "plt.plot(rust2)\n",
    "plt.plot(python)"
   ]
  },
  {
   "cell_type": "code",
   "execution_count": null,
   "id": "d49cca33",
   "metadata": {},
   "outputs": [],
   "source": [
    "named_params = list(model.named_parameters())"
   ]
  },
  {
   "cell_type": "code",
   "execution_count": null,
   "id": "48f0c33f",
   "metadata": {},
   "outputs": [],
   "source": [
    "named_params[1][0]"
   ]
  },
  {
   "cell_type": "code",
   "execution_count": null,
   "id": "4c5e0dee",
   "metadata": {},
   "outputs": [],
   "source": [
    "mb = named_params[0][1]\n",
    "mw = named_params[1][1]"
   ]
  },
  {
   "cell_type": "code",
   "execution_count": null,
   "id": "3583aad1",
   "metadata": {},
   "outputs": [],
   "source": [
    "mw.shape"
   ]
  },
  {
   "cell_type": "code",
   "execution_count": null,
   "id": "97f62061",
   "metadata": {},
   "outputs": [],
   "source": [
    "torch.maximum(torch.tensor(0), mw[:, 16:48]).sum(axis=0).tolist()"
   ]
  },
  {
   "cell_type": "code",
   "execution_count": null,
   "id": "cedeb46b",
   "metadata": {},
   "outputs": [],
   "source": [
    "torch.minimum(torch.tensor(0), mw[:, 16:48]).sum(axis=0).tolist()"
   ]
  },
  {
   "cell_type": "code",
   "execution_count": null,
   "id": "14581d37",
   "metadata": {},
   "outputs": [],
   "source": [
    "for k, v in model.named_parameters():\n",
    "    if \"policy\" in k:\n",
    "        l1 = v.abs().sum(axis=-1).max().item()\n",
    "        print(\"%35s %10s %.3f %.3f l1=%.3f\" % (k, tuple(v.shape), v.min().item(), v.max().item(), l1))\n",
    "        "
   ]
  },
  {
   "cell_type": "code",
   "execution_count": null,
   "id": "b6a180c9",
   "metadata": {},
   "outputs": [],
   "source": [
    "plt.plot(rust)\n",
    "plt.plot(python)\n",
    "plt.legend([\"Rust\", \"Python\"])"
   ]
  },
  {
   "cell_type": "markdown",
   "id": "cd48d02b",
   "metadata": {},
   "source": [
    "## Examine data"
   ]
  },
  {
   "cell_type": "code",
   "execution_count": null,
   "id": "b33494c6",
   "metadata": {},
   "outputs": [],
   "source": [
    "import numpy as np"
   ]
  },
  {
   "cell_type": "code",
   "execution_count": null,
   "id": "0120e8b7",
   "metadata": {},
   "outputs": [],
   "source": [
    "!ls run-011-duck-chess/step-*/games/games-mcts-*-nnue*"
   ]
  },
  {
   "cell_type": "code",
   "execution_count": null,
   "id": "64096b37",
   "metadata": {},
   "outputs": [],
   "source": [
    "data_file = \"run-011-duck-chess/step-001/games/games-mcts-9a3432a1d5657e13-nnue-data.npz\""
   ]
  },
  {
   "cell_type": "code",
   "execution_count": null,
   "id": "935d4dbc",
   "metadata": {},
   "outputs": [],
   "source": [
    "d = np.load(data_file)"
   ]
  },
  {
   "cell_type": "code",
   "execution_count": null,
   "id": "2b4bd3fb",
   "metadata": {},
   "outputs": [],
   "source": [
    "list(d)"
   ]
  },
  {
   "cell_type": "code",
   "execution_count": null,
   "id": "544e69db",
   "metadata": {},
   "outputs": [],
   "source": [
    "d[\"meta\"].shape"
   ]
  },
  {
   "cell_type": "code",
   "execution_count": null,
   "id": "13fb86e0",
   "metadata": {},
   "outputs": [],
   "source": [
    "d[\"meta\"][0]"
   ]
  },
  {
   "cell_type": "code",
   "execution_count": null,
   "id": "4018721f",
   "metadata": {},
   "outputs": [],
   "source": [
    "d[\"meta\"][0]"
   ]
  },
  {
   "cell_type": "code",
   "execution_count": null,
   "id": "e6ff0e2e",
   "metadata": {},
   "outputs": [],
   "source": [
    "\"\".join(\".@\"[i] for i in d[\"meta\"][:1000,5])"
   ]
  },
  {
   "cell_type": "code",
   "execution_count": null,
   "id": "83b34e1b",
   "metadata": {},
   "outputs": [],
   "source": [
    "d[\"moves\"].shape"
   ]
  },
  {
   "cell_type": "code",
   "execution_count": null,
   "id": "7c8036f0",
   "metadata": {},
   "outputs": [],
   "source": [
    "d[\"legal_move_masks\"].shape"
   ]
  },
  {
   "cell_type": "code",
   "execution_count": null,
   "id": "a425d9a5",
   "metadata": {},
   "outputs": [],
   "source": [
    "ms = d[\"moves\"]\n",
    "lmm = d[\"legal_move_masks\"]"
   ]
  },
  {
   "cell_type": "code",
   "execution_count": null,
   "id": "fe281e96",
   "metadata": {},
   "outputs": [],
   "source": [
    "lmm[np.arange(len(ms)), 0, ms[:, 0]].all()"
   ]
  },
  {
   "cell_type": "code",
   "execution_count": null,
   "id": "1f58cbaa",
   "metadata": {},
   "outputs": [],
   "source": [
    "lmm[np.arange(len(ms)), 1, ms[:, 1]].all()"
   ]
  },
  {
   "cell_type": "code",
   "execution_count": null,
   "id": "c19b3d84",
   "metadata": {},
   "outputs": [],
   "source": [
    "d[\"legal_move_masks\"][3]"
   ]
  },
  {
   "cell_type": "code",
   "execution_count": null,
   "id": "9234a4f3",
   "metadata": {},
   "outputs": [],
   "source": []
  }
 ],
 "metadata": {
  "kernelspec": {
   "display_name": "Python 3 (ipykernel)",
   "language": "python",
   "name": "python3"
  },
  "language_info": {
   "codemirror_mode": {
    "name": "ipython",
    "version": 3
   },
   "file_extension": ".py",
   "mimetype": "text/x-python",
   "name": "python",
   "nbconvert_exporter": "python",
   "pygments_lexer": "ipython3",
   "version": "3.10.6"
  }
 },
 "nbformat": 4,
 "nbformat_minor": 5
}
