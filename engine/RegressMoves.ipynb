{
 "cells": [
  {
   "cell_type": "code",
   "execution_count": 1,
   "id": "49d9ab4a",
   "metadata": {},
   "outputs": [],
   "source": [
    "import sys\n",
    "sys.path.append(\"ml\")"
   ]
  },
  {
   "cell_type": "code",
   "execution_count": 2,
   "id": "a5b31d74",
   "metadata": {},
   "outputs": [],
   "source": [
    "import time\n",
    "import json\n",
    "import glob\n",
    "import random\n",
    "import numpy as np\n",
    "import torch\n",
    "import make_dataset2 as make_dataset"
   ]
  },
  {
   "cell_type": "code",
   "execution_count": 3,
   "id": "7d88041e",
   "metadata": {},
   "outputs": [],
   "source": [
    "random.seed(1234)"
   ]
  },
  {
   "cell_type": "code",
   "execution_count": 4,
   "id": "c03002db",
   "metadata": {},
   "outputs": [],
   "source": [
    "device = \"cpu\""
   ]
  },
  {
   "cell_type": "code",
   "execution_count": 5,
   "id": "98058701",
   "metadata": {},
   "outputs": [],
   "source": [
    "class EWMA:\n",
    "    def __init__(self, alpha=0.02):\n",
    "        self.alpha = alpha\n",
    "        self.value = None\n",
    "\n",
    "    def apply(self, x):\n",
    "        self.value = x if self.value is None else (1 - self.alpha) * self.value + self.alpha * x"
   ]
  },
  {
   "cell_type": "raw",
   "id": "4bcc360d",
   "metadata": {},
   "source": [
    "%%time\n",
    "\n",
    "def load_games(games):\n",
    "    features, policy, value = make_dataset.process_game_paths(games)\n",
    "\n",
    "    # Project down to just the duck moves\n",
    "    #is_duck_move = features[:, 14, 0, 0] == 1\n",
    "    dm_features = features#[is_duck_move]\n",
    "    dm_policy = policy#[is_duck_move]\n",
    "    dm_value = value\n",
    "\n",
    "    # Our features are, in order:\n",
    "    # A Six channels for our pieces: pawns, knights, bishops, rooks, queens, kings\n",
    "    # A Six channels for their pieces.\n",
    "    # A One channel for ducks.\n",
    "    # 1 One channel that's all ones if it's white to move, zeros otherwise.\n",
    "    # 0 One channel for if it's the duck subturn.\n",
    "    # 1 Two channels for our castling rights: king side, queen side\n",
    "    # 1 Two channels for their castling rights.\n",
    "    # A One channel for an en passant square.\n",
    "    # A Pairs of (from, to) channels for the history of moves.\n",
    "    # 0 One channel of all ones.\n",
    "\n",
    "    all_layer_indices = (\n",
    "        0, 1, 2, 3,  4,  5, # Our pieces\n",
    "        6, 7, 8, 9, 10, 11, # Their pieces\n",
    "        12, # Ducks\n",
    "        13,\n",
    "        14, # Is duck subturn -- too many features\n",
    "        #19, # En passant\n",
    "        #20, 21, 22, 23, 24, 25, 26, 27, # Past moves\n",
    "    )\n",
    "    all_layers = dm_features[:, all_layer_indices, :, :]\n",
    "\n",
    "    # Flatten features.\n",
    "    dm_features = all_layers.reshape((-1, 15 * 8 * 8))\n",
    "    # Find the move indices.\n",
    "    dm_policy = dm_policy.reshape((-1, 64 * 64)).argmax(axis=-1)\n",
    "    # Get just the destination square by taking %64.\n",
    "    dm_policy_to = dm_policy % 64\n",
    "    dm_policy_from = dm_policy // 64\n",
    "    return dm_features, dm_policy_to, dm_policy_from, dm_value\n",
    "\n",
    "dm_features, dm_policy_to, dm_policy_from, dm_value = load_games(random.sample(glob.glob(\"games/*.json\"), 100))\n",
    "dm_val_features, dm_val_policy_to, dm_val_policy_from, dm_val_value = load_games(glob.glob(\"val-games/*.json\"))\n",
    "#dm_val_features = torch.tensor(dm_val_features, dtype=torch.float32, device=device)\n",
    "#dm_val_policy = torch.tensor(dm_val_policy, dtype=torch.int64, device=device)\n",
    "\n",
    "print(dm_features.shape, dm_policy_to.shape)\n",
    "print(dm_val_features.shape, dm_val_policy_to.shape)"
   ]
  },
  {
   "cell_type": "raw",
   "id": "b31b01dd",
   "metadata": {},
   "source": [
    "%%time\n",
    "np.savez_compressed(\"dm_train.npz\", features=dm_features, policy_to=dm_policy_to, policy_from=dm_policy_from, value=dm_value)"
   ]
  },
  {
   "cell_type": "raw",
   "id": "8fea4e31",
   "metadata": {},
   "source": [
    "%%time\n",
    "np.savez_compressed(\"dm_val.npz\", features=dm_val_features, policy_to=dm_val_policy_to, policy_from=dm_val_policy_from, value=dm_val_value)"
   ]
  },
  {
   "cell_type": "code",
   "execution_count": 6,
   "id": "0c08a60e",
   "metadata": {},
   "outputs": [
    {
     "name": "stdout",
     "output_type": "stream",
     "text": [
      "CPU times: user 2.53 s, sys: 1.83 s, total: 4.36 s\n",
      "Wall time: 3.62 s\n"
     ]
    }
   ],
   "source": [
    "%%time\n",
    "dm_train = np.load(\"dm_train.npz\")\n",
    "dm_features = torch.tensor(dm_train[\"features\"])\n",
    "dm_policy_to = torch.tensor(dm_train[\"policy_to\"])\n",
    "dm_policy_from = torch.tensor(dm_train[\"policy_from\"])\n",
    "dm_value = torch.tensor(dm_train[\"value\"])"
   ]
  },
  {
   "cell_type": "code",
   "execution_count": 7,
   "id": "6df6bde6",
   "metadata": {},
   "outputs": [],
   "source": [
    "is_white_turn = dm_features.reshape(-1, 15, 8, 8)[:, 13, 0, 0]\n",
    "is_duck_move = dm_features.reshape(-1, 15, 8, 8)[:, 14, 0, 0]"
   ]
  },
  {
   "cell_type": "code",
   "execution_count": 8,
   "id": "0adfe4e7",
   "metadata": {},
   "outputs": [
    {
     "name": "stdout",
     "output_type": "stream",
     "text": [
      "CPU times: user 20.6 ms, sys: 19 ms, total: 39.6 ms\n",
      "Wall time: 17.3 ms\n"
     ]
    }
   ],
   "source": [
    "%%time\n",
    "dm_val = np.load(\"dm_val.npz\")\n",
    "dm_val_features = torch.tensor(dm_val[\"features\"], dtype=torch.float32, device=device)\n",
    "dm_val_policy_to = torch.tensor(dm_val[\"policy_to\"], dtype=torch.float32, device=device)\n",
    "dm_val_policy_from = torch.tensor(dm_val[\"policy_from\"], dtype=torch.float32, device=device)\n",
    "dm_val_value = torch.tensor(dm_val[\"value\"], dtype=torch.float32, device=device)"
   ]
  },
  {
   "cell_type": "code",
   "execution_count": 9,
   "id": "5a9a4a5a",
   "metadata": {},
   "outputs": [],
   "source": [
    "val_is_white_turn = dm_val_features.reshape(-1, 15, 8, 8)[:, 13, 0, 0].to(torch.int64)\n",
    "val_is_duck_move = dm_val_features.reshape(-1, 15, 8, 8)[:, 14, 0, 0].to(torch.int64)"
   ]
  },
  {
   "cell_type": "code",
   "execution_count": 10,
   "id": "de93d561",
   "metadata": {},
   "outputs": [],
   "source": [
    "# Here we make the important decision to predict\n",
    "# the target squares of moves, not source squares.\n",
    "dm_policy = dm_policy_to\n",
    "dm_val_policy = dm_val_policy_to"
   ]
  },
  {
   "cell_type": "code",
   "execution_count": 11,
   "id": "37443f54",
   "metadata": {},
   "outputs": [
    {
     "name": "stdout",
     "output_type": "stream",
     "text": [
      "Parameters: 264772\n"
     ]
    }
   ],
   "source": [
    "feature_count = dm_features.shape[1]\n",
    "\n",
    "class MultiModel(torch.nn.Module):\n",
    "    ACCUM_SIZE = 256\n",
    "    SIZE1 = 16\n",
    "    SIZE2 = 32\n",
    "    FINAL_SIZE = 1\n",
    "\n",
    "    def __init__(self):\n",
    "        super().__init__()\n",
    "        self.main_embed = torch.nn.Linear(feature_count, self.ACCUM_SIZE)\n",
    "        self.relu = torch.nn.ReLU()\n",
    "        self.tanh = torch.nn.Tanh()\n",
    "        make_net = lambda: torch.nn.Sequential(\n",
    "            torch.nn.Linear(self.ACCUM_SIZE, self.SIZE1),\n",
    "            torch.nn.ReLU(),\n",
    "            torch.nn.Linear(self.SIZE1, self.SIZE2),\n",
    "            torch.nn.ReLU(),\n",
    "            torch.nn.Linear(self.SIZE2, self.FINAL_SIZE),\n",
    "        )\n",
    "        self.white_main = make_net()\n",
    "        self.black_main = make_net()\n",
    "        self.white_duck = make_net()\n",
    "        self.black_duck = make_net()\n",
    "\n",
    "    def forward(self, inputs, which_model):\n",
    "        embedding = self.main_embed(inputs)\n",
    "        embedding = self.relu(embedding)\n",
    "        white_main = self.white_main(embedding)\n",
    "        black_main = self.black_main(embedding)\n",
    "        white_duck = self.white_duck(embedding)\n",
    "        black_duck = self.black_duck(embedding)\n",
    "        data = torch.stack([white_main, black_main, white_duck, black_duck])\n",
    "        data = data[which_model, torch.arange(len(which_model))]\n",
    "        #policy = data[:, :64]\n",
    "        #value = data[:, 64:]\n",
    "        value = data[:, :1]\n",
    "        return None, self.tanh(value)\n",
    "        #return policy, self.tanh(value)\n",
    "\n",
    "model = MultiModel()\n",
    "\n",
    "print(\"Parameters:\", sum(np.product(t.shape) for t in model.parameters()))"
   ]
  },
  {
   "cell_type": "code",
   "execution_count": 12,
   "id": "c8c070db",
   "metadata": {},
   "outputs": [],
   "source": [
    "cross_en = torch.nn.CrossEntropyLoss()\n",
    "mse_func = torch.nn.MSELoss()\n",
    "optimizer = torch.optim.AdamW(model.parameters(), lr=3e-4)\n",
    "policy_loss_ewma = EWMA()\n",
    "value_loss_ewma = EWMA()"
   ]
  },
  {
   "cell_type": "code",
   "execution_count": 14,
   "id": "844fe5c2",
   "metadata": {},
   "outputs": [],
   "source": [
    "for g in optimizer.param_groups:\n",
    "    g['lr'] = 1e-5"
   ]
  },
  {
   "cell_type": "code",
   "execution_count": 15,
   "id": "64ae5051",
   "metadata": {
    "scrolled": false
   },
   "outputs": [
    {
     "name": "stderr",
     "output_type": "stream",
     "text": [
      "/var/folders/58/_yls00m95_g6fdxcc4gznqmh0000gn/T/ipykernel_79214/2291931632.py:5: UserWarning: To copy construct from a tensor, it is recommended to use sourceTensor.clone().detach() or sourceTensor.clone().detach().requires_grad_(True), rather than torch.tensor(sourceTensor).\n",
      "  features = torch.tensor(dm_features[indices], dtype=torch.float32, device=device)\n",
      "/var/folders/58/_yls00m95_g6fdxcc4gznqmh0000gn/T/ipykernel_79214/2291931632.py:6: UserWarning: To copy construct from a tensor, it is recommended to use sourceTensor.clone().detach() or sourceTensor.clone().detach().requires_grad_(True), rather than torch.tensor(sourceTensor).\n",
      "  policy = torch.tensor(dm_policy[indices], dtype=torch.int64, device=device)\n",
      "/var/folders/58/_yls00m95_g6fdxcc4gznqmh0000gn/T/ipykernel_79214/2291931632.py:7: UserWarning: To copy construct from a tensor, it is recommended to use sourceTensor.clone().detach() or sourceTensor.clone().detach().requires_grad_(True), rather than torch.tensor(sourceTensor).\n",
      "  value = torch.tensor(dm_value[indices], dtype=torch.float32, device=device)\n",
      "/var/folders/58/_yls00m95_g6fdxcc4gznqmh0000gn/T/ipykernel_79214/2291931632.py:8: UserWarning: To copy construct from a tensor, it is recommended to use sourceTensor.clone().detach() or sourceTensor.clone().detach().requires_grad_(True), rather than torch.tensor(sourceTensor).\n",
      "  which_model = torch.tensor(\n"
     ]
    },
    {
     "name": "stdout",
     "output_type": "stream",
     "text": [
      "(    0.1) [      0] loss = 0.4349 (policy = 0.0000  value = 0.4349) (val acc:   0.0%)\n",
      "(    7.7) [   2500] loss = 0.4241 (policy = 0.0000  value = 0.4241) (val acc:   0.0%)\n",
      "(   15.4) [   5000] loss = 0.4196 (policy = 0.0000  value = 0.4196) (val acc:   0.0%)\n",
      "(   22.8) [   7500] loss = 0.4198 (policy = 0.0000  value = 0.4198) (val acc:   0.0%)\n",
      "(   30.1) [  10000] loss = 0.4172 (policy = 0.0000  value = 0.4172) (val acc:   0.0%)\n",
      "(   37.4) [  12500] loss = 0.4144 (policy = 0.0000  value = 0.4144) (val acc:   0.0%)\n",
      "(   44.9) [  15000] loss = 0.4146 (policy = 0.0000  value = 0.4146) (val acc:   0.0%)\n",
      "(   52.4) [  17500] loss = 0.4174 (policy = 0.0000  value = 0.4174) (val acc:   0.0%)\n",
      "(   59.5) [  20000] loss = 0.4179 (policy = 0.0000  value = 0.4179) (val acc:   0.0%)\n",
      "(   66.8) [  22500] loss = 0.4173 (policy = 0.0000  value = 0.4173) (val acc:   0.0%)\n",
      "(   74.1) [  25000] loss = 0.4115 (policy = 0.0000  value = 0.4115) (val acc:   0.0%)\n",
      "(   81.8) [  27500] loss = 0.4189 (policy = 0.0000  value = 0.4189) (val acc:   0.0%)\n",
      "(   89.7) [  30000] loss = 0.4159 (policy = 0.0000  value = 0.4159) (val acc:   0.0%)\n",
      "(   96.8) [  32500] loss = 0.4128 (policy = 0.0000  value = 0.4128) (val acc:   0.0%)\n",
      "(  104.1) [  35000] loss = 0.4213 (policy = 0.0000  value = 0.4213) (val acc:   0.0%)\n",
      "(  111.8) [  37500] loss = 0.4155 (policy = 0.0000  value = 0.4155) (val acc:   0.0%)\n",
      "(  119.4) [  40000] loss = 0.4134 (policy = 0.0000  value = 0.4134) (val acc:   0.0%)\n",
      "(  126.6) [  42500] loss = 0.4120 (policy = 0.0000  value = 0.4120) (val acc:   0.0%)\n",
      "(  134.2) [  45000] loss = 0.4104 (policy = 0.0000  value = 0.4104) (val acc:   0.0%)\n",
      "(  141.7) [  47500] loss = 0.4110 (policy = 0.0000  value = 0.4110) (val acc:   0.0%)\n",
      "(  149.3) [  50000] loss = 0.4136 (policy = 0.0000  value = 0.4136) (val acc:   0.0%)\n",
      "(  157.1) [  52500] loss = 0.4093 (policy = 0.0000  value = 0.4093) (val acc:   0.0%)\n",
      "(  165.0) [  55000] loss = 0.4111 (policy = 0.0000  value = 0.4111) (val acc:   0.0%)\n"
     ]
    },
    {
     "ename": "KeyboardInterrupt",
     "evalue": "",
     "output_type": "error",
     "traceback": [
      "\u001b[0;31m---------------------------------------------------------------------------\u001b[0m",
      "\u001b[0;31mKeyboardInterrupt\u001b[0m                         Traceback (most recent call last)",
      "Cell \u001b[0;32mIn [15], line 18\u001b[0m\n\u001b[1;32m     16\u001b[0m \u001b[38;5;28;01mfor\u001b[39;00m i \u001b[38;5;129;01min\u001b[39;00m \u001b[38;5;28mrange\u001b[39m(\u001b[38;5;241m1_000_000\u001b[39m):\n\u001b[1;32m     17\u001b[0m     optimizer\u001b[38;5;241m.\u001b[39mzero_grad()\n\u001b[0;32m---> 18\u001b[0m     features, target_policy, target_value, which_model \u001b[38;5;241m=\u001b[39m \u001b[43mmake_batch\u001b[49m\u001b[43m(\u001b[49m\u001b[38;5;241;43m512\u001b[39;49m\u001b[43m)\u001b[49m\n\u001b[1;32m     19\u001b[0m     policy_output, value_output \u001b[38;5;241m=\u001b[39m model(features, which_model)\n\u001b[1;32m     20\u001b[0m     \u001b[38;5;66;03m#policy_loss = cross_en(policy_output, target_policy)\u001b[39;00m\n",
      "Cell \u001b[0;32mIn [15], line 6\u001b[0m, in \u001b[0;36mmake_batch\u001b[0;34m(batch_size)\u001b[0m\n\u001b[1;32m      4\u001b[0m indices \u001b[38;5;241m=\u001b[39m np\u001b[38;5;241m.\u001b[39mrandom\u001b[38;5;241m.\u001b[39mrandint(\u001b[38;5;241m0\u001b[39m, \u001b[38;5;28mlen\u001b[39m(dm_features), size\u001b[38;5;241m=\u001b[39mbatch_size)\n\u001b[1;32m      5\u001b[0m features \u001b[38;5;241m=\u001b[39m torch\u001b[38;5;241m.\u001b[39mtensor(dm_features[indices], dtype\u001b[38;5;241m=\u001b[39mtorch\u001b[38;5;241m.\u001b[39mfloat32, device\u001b[38;5;241m=\u001b[39mdevice)\n\u001b[0;32m----> 6\u001b[0m policy \u001b[38;5;241m=\u001b[39m \u001b[43mtorch\u001b[49m\u001b[38;5;241;43m.\u001b[39;49m\u001b[43mtensor\u001b[49m\u001b[43m(\u001b[49m\u001b[43mdm_policy\u001b[49m\u001b[43m[\u001b[49m\u001b[43mindices\u001b[49m\u001b[43m]\u001b[49m\u001b[43m,\u001b[49m\u001b[43m \u001b[49m\u001b[43mdtype\u001b[49m\u001b[38;5;241;43m=\u001b[39;49m\u001b[43mtorch\u001b[49m\u001b[38;5;241;43m.\u001b[39;49m\u001b[43mint64\u001b[49m\u001b[43m,\u001b[49m\u001b[43m \u001b[49m\u001b[43mdevice\u001b[49m\u001b[38;5;241;43m=\u001b[39;49m\u001b[43mdevice\u001b[49m\u001b[43m)\u001b[49m\n\u001b[1;32m      7\u001b[0m value \u001b[38;5;241m=\u001b[39m torch\u001b[38;5;241m.\u001b[39mtensor(dm_value[indices], dtype\u001b[38;5;241m=\u001b[39mtorch\u001b[38;5;241m.\u001b[39mfloat32, device\u001b[38;5;241m=\u001b[39mdevice)\n\u001b[1;32m      8\u001b[0m which_model \u001b[38;5;241m=\u001b[39m torch\u001b[38;5;241m.\u001b[39mtensor(\n\u001b[1;32m      9\u001b[0m     \u001b[38;5;241m2\u001b[39m \u001b[38;5;241m*\u001b[39m is_duck_move[indices] \u001b[38;5;241m+\u001b[39m (\u001b[38;5;241m1\u001b[39m \u001b[38;5;241m-\u001b[39m is_white_turn[indices]),\n\u001b[1;32m     10\u001b[0m     dtype\u001b[38;5;241m=\u001b[39mtorch\u001b[38;5;241m.\u001b[39mint64,\n\u001b[1;32m     11\u001b[0m     device\u001b[38;5;241m=\u001b[39mdevice,\n\u001b[1;32m     12\u001b[0m )\n",
      "\u001b[0;31mKeyboardInterrupt\u001b[0m: "
     ]
    }
   ],
   "source": [
    "dm_val_which_model = 2 * val_is_duck_move + (1 - val_is_white_turn)\n",
    "\n",
    "def make_batch(batch_size):\n",
    "    indices = np.random.randint(0, len(dm_features), size=batch_size)\n",
    "    features = torch.tensor(dm_features[indices], dtype=torch.float32, device=device)\n",
    "    policy = torch.tensor(dm_policy[indices], dtype=torch.int64, device=device)\n",
    "    value = torch.tensor(dm_value[indices], dtype=torch.float32, device=device)\n",
    "    which_model = torch.tensor(\n",
    "        2 * is_duck_move[indices] + (1 - is_white_turn[indices]),\n",
    "        dtype=torch.int64,\n",
    "        device=device,\n",
    "    )\n",
    "    return features, policy, value, which_model\n",
    "\n",
    "start_time = time.time()\n",
    "for i in range(1_000_000):\n",
    "    optimizer.zero_grad()\n",
    "    features, target_policy, target_value, which_model = make_batch(512)\n",
    "    policy_output, value_output = model(features, which_model)\n",
    "    #policy_loss = cross_en(policy_output, target_policy)\n",
    "    policy_loss = torch.tensor(0)\n",
    "    value_loss = mse_func(value_output, target_value)\n",
    "    loss = policy_loss + value_loss\n",
    "    loss.backward()\n",
    "    optimizer.step()\n",
    "    policy_loss_ewma.apply(policy_loss.item())\n",
    "    value_loss_ewma.apply(value_loss.item())\n",
    "\n",
    "    if i % 2500 == 0:\n",
    "        # Compute the accuracy.\n",
    "        val_policy_output, val_value_output = model(dm_val_features, dm_val_which_model)\n",
    "        #correct = val_policy_output.argmax(axis=-1) == dm_val_policy\n",
    "        #accuracy = correct.mean(dtype=torch.float32).item()\n",
    "        correct = 0\n",
    "        accuracy = 0\n",
    "        print(\"(%7.1f) [%7i] loss = %.4f (policy = %.4f  value = %0.4f) (val acc: %5.1f%%)\" % (\n",
    "            time.time() - start_time,\n",
    "            i,\n",
    "            policy_loss_ewma.value + value_loss_ewma.value,\n",
    "            policy_loss_ewma.value,\n",
    "            value_loss_ewma.value,\n",
    "            100 * accuracy,\n",
    "        ))"
   ]
  },
  {
   "cell_type": "code",
   "execution_count": 20,
   "id": "57ab8fd7",
   "metadata": {},
   "outputs": [
    {
     "name": "stdout",
     "output_type": "stream",
     "text": [
      "-0.7260820865631104 0.5837364792823792 -0.00983007624745369 0.010185938328504562\n",
      "-0.12671884894371033 0.20168612897396088 -0.031262077391147614 0.0016467017121613026\n",
      "-0.2866474986076355 0.3773110806941986 0.007533641532063484 0.0064820884726941586\n",
      "-0.08844441920518875 0.0973951444029808 0.005603346973657608 0.003114188788458705\n",
      "-0.3757677376270294 0.3946602940559387 0.044660162180662155 0.029010813683271408\n",
      "-0.21163323521614075 0.22350968420505524 -0.004567259922623634 0.0158736202865839\n",
      "-0.3471893072128296 0.4810027480125427 -0.0017302734777331352 0.05096655339002609\n",
      "0.12090165168046951 0.12090165168046951 0.12090165168046951 nan\n",
      "-0.466124951839447 0.39800429344177246 0.009623588062822819 0.01152726449072361\n",
      "-0.08203448355197906 0.05473099276423454 -0.014046914875507355 0.001947498880326748\n",
      "-0.48629480600357056 0.49019327759742737 0.027976151555776596 0.03754201903939247\n",
      "-0.18395014107227325 0.2357204258441925 -0.030881259590387344 0.013331162743270397\n",
      "-0.45179426670074463 0.7725124359130859 -0.0019347919151186943 0.08047816902399063\n",
      "-0.045058973133563995 -0.045058973133563995 -0.045058973133563995 nan\n",
      "-0.2489619255065918 0.27708977460861206 0.005874361842870712 0.005128434859216213\n",
      "-0.08502707630395889 0.09529076516628265 -0.0028037168085575104 0.0031568368431180716\n",
      "-0.3973633944988251 0.5125004053115845 0.024815786629915237 0.02909824252128601\n",
      "-0.15469078719615936 0.2415488362312317 0.03967294096946716 0.01524720061570406\n",
      "-0.26354092359542847 0.30054977536201477 -0.021837901324033737 0.04027687385678291\n",
      "-0.0007719981367699802 -0.0007719981367699802 -0.0007719981367699802 nan\n",
      "-0.4949934780597687 0.4436488747596741 0.0053939782083034515 0.008996804244816303\n",
      "-0.06526102125644684 0.06566865742206573 0.003348667174577713 0.0014697341248393059\n",
      "-0.5336499810218811 0.5203095078468323 0.00021026027388870716 0.03195703774690628\n",
      "-0.2694645822048187 0.24750679731369019 0.010508261620998383 0.019445061683654785\n",
      "-0.3813016712665558 0.6291537284851074 0.042743951082229614 0.10366219282150269\n",
      "0.15366147458553314 0.15366147458553314 0.15366147458553314 nan\n"
     ]
    }
   ],
   "source": [
    "for weight in model.parameters():\n",
    "    print(weight.min().item(), weight.max().item(), weight.mean().item(), weight.var().item())"
   ]
  },
  {
   "cell_type": "code",
   "execution_count": 16,
   "id": "55bea8e8",
   "metadata": {},
   "outputs": [],
   "source": [
    "torch.save(model.state_dict(), \"multi-model-nonsense.pt\")"
   ]
  },
  {
   "cell_type": "code",
   "execution_count": 21,
   "id": "cfc68a6d",
   "metadata": {},
   "outputs": [],
   "source": [
    "#torch.save(model.state_dict(), \"move_model.pt\")"
   ]
  },
  {
   "cell_type": "code",
   "execution_count": 29,
   "id": "dd58c157",
   "metadata": {},
   "outputs": [
    {
     "name": "stdout",
     "output_type": "stream",
     "text": [
      "0.weight torch.Size([32, 1472])\n",
      "0.bias torch.Size([32])\n",
      "2.weight torch.Size([64, 32])\n",
      "2.bias torch.Size([64])\n"
     ]
    }
   ],
   "source": [
    "for k, v in model.state_dict().items():\n",
    "    print(k, v.shape)"
   ]
  },
  {
   "cell_type": "code",
   "execution_count": 32,
   "id": "77269b06",
   "metadata": {},
   "outputs": [],
   "source": [
    "W = model.state_dict()[\"0.weight\"].detach().cpu().numpy()"
   ]
  },
  {
   "cell_type": "code",
   "execution_count": 38,
   "id": "b879853c",
   "metadata": {},
   "outputs": [
    {
     "data": {
      "image/png": "[encoded data removed]",
      "text/plain": [
       "<Figure size 640x480 with 1 Axes>"
      ]
     },
     "metadata": {},
     "output_type": "display_data"
    }
   ],
   "source": [
    "_ = plt.hist(W.flatten(), bins=100)"
   ]
  },
  {
   "cell_type": "code",
   "execution_count": 40,
   "id": "2d55e264",
   "metadata": {},
   "outputs": [
    {
     "data": {
      "text/plain": [
       "1.8015668"
      ]
     },
     "execution_count": 40,
     "metadata": {},
     "output_type": "execute_result"
    }
   ],
   "source": [
    "np.abs(W).max()"
   ]
  },
  {
   "cell_type": "code",
   "execution_count": 57,
   "id": "cda2b284",
   "metadata": {},
   "outputs": [],
   "source": [
    "Wi = (W * 1000).astype(np.int32)"
   ]
  },
  {
   "cell_type": "code",
   "execution_count": 59,
   "id": "ab007449",
   "metadata": {},
   "outputs": [
    {
     "data": {
      "text/plain": [
       "array([[   2,    7,    0, ..., -625, -385, -311],\n",
       "       [ -14,   -7,  -13, ...,  326,   56, -207],\n",
       "       [  -5,   17,  -10, ..., -622, -306, -556],\n",
       "       ...,\n",
       "       [   6,    3,  -13, ...,  -70,  -71, -163],\n",
       "       [   6,  -10,    6, ..., -414, -375, -323],\n",
       "       [  13,  -17,  -16, ..., -288,   17,  -83]], dtype=int32)"
      ]
     },
     "execution_count": 59,
     "metadata": {},
     "output_type": "execute_result"
    }
   ],
   "source": [
    "Wi"
   ]
  },
  {
   "cell_type": "raw",
   "id": "f7772764",
   "metadata": {},
   "source": [
    "Performance:\n",
    "features -> 64                   --  29.5%\n",
    "features -> 64 -> 64             --  32.1%\n",
    "features -> 128 -> 64            --  35.7%\n",
    "features -> 128 -> 128 -> 64     --  35.9%\n",
    "features -> 1024 -> 64           --  40.8%\n",
    "features -> 48 -> 96 -> 96 -> 64 --  31.7%\n",
    "features -> 32 -> 64             --  27.1%\n",
    "features -> 32 -> 96 -> 64       --  29.0%\n",
    "\n",
    "New performances (four networks, both move kinds):\n",
    "features -> 64 -> 64 -> 65       --  31.5%\n",
    "features -> 64 -> 65             --  29.5%\n"
   ]
  },
  {
   "cell_type": "code",
   "execution_count": 30,
   "id": "e0dbcc71",
   "metadata": {},
   "outputs": [],
   "source": [
    "batch_size = 30\n",
    "cases = 4\n",
    "features = 64\n",
    "\n",
    "# Generate some fake data.\n",
    "data = torch.tensor(np.random.randn(cases, batch_size, features))\n",
    "idx = torch.tensor(np.random.randint(low=0, high=cases, size=batch_size))\n",
    "\n",
    "# Index into the data of shape [batch_size, cases, features], getting a result of shape [batch_size, features].\n",
    "# This is the same as:\n",
    "#   result = np.zeros((batch_size, features))\n",
    "#   for i in range(batch_size):\n",
    "#       result[i] = data[i, idx[i]]\n",
    "result = data[idx, torch.arange(batch_size)]\n"
   ]
  },
  {
   "cell_type": "code",
   "execution_count": 31,
   "id": "79a66550",
   "metadata": {},
   "outputs": [
    {
     "data": {
      "text/plain": [
       "torch.Size([30, 64])"
      ]
     },
     "execution_count": 31,
     "metadata": {},
     "output_type": "execute_result"
    }
   ],
   "source": [
    "result.shape"
   ]
  },
  {
   "cell_type": "code",
   "execution_count": 33,
   "id": "a4716e39",
   "metadata": {},
   "outputs": [
    {
     "data": {
      "text/plain": [
       "tensor([3, 1, 2, 1, 1, 1, 0, 1, 0, 3, 1, 0, 0, 0, 2, 2, 2, 1, 1, 0, 0, 3, 3, 3,\n",
       "        1, 1, 1, 3, 0, 1])"
      ]
     },
     "execution_count": 33,
     "metadata": {},
     "output_type": "execute_result"
    }
   ],
   "source": [
    "idx"
   ]
  },
  {
   "cell_type": "code",
   "execution_count": 36,
   "id": "234bf354",
   "metadata": {},
   "outputs": [
    {
     "data": {
      "text/plain": [
       "tensor([True, True, True, True, True, True, True, True, True, True, True, True,\n",
       "        True, True, True, True, True, True, True, True, True, True, True, True,\n",
       "        True, True, True, True, True, True, True, True, True, True, True, True,\n",
       "        True, True, True, True, True, True, True, True, True, True, True, True,\n",
       "        True, True, True, True, True, True, True, True, True, True, True, True,\n",
       "        True, True, True, True])"
      ]
     },
     "execution_count": 36,
     "metadata": {},
     "output_type": "execute_result"
    }
   ],
   "source": [
    "result[0] == data[3, 0]"
   ]
  },
  {
   "cell_type": "code",
   "execution_count": null,
   "id": "6b69de53",
   "metadata": {},
   "outputs": [],
   "source": []
  }
 ],
 "metadata": {
  "kernelspec": {
   "display_name": "Python 3 (ipykernel)",
   "language": "python",
   "name": "python3"
  },
  "language_info": {
   "codemirror_mode": {
    "name": "ipython",
    "version": 3
   },
   "file_extension": ".py",
   "mimetype": "text/x-python",
   "name": "python",
   "nbconvert_exporter": "python",
   "pygments_lexer": "ipython3",
   "version": "3.10.7"
  }
 },
 "nbformat": 4,
 "nbformat_minor": 5
}
