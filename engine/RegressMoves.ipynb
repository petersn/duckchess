{
 "cells": [
  {
   "cell_type": "code",
   "execution_count": 1,
   "id": "c3d08942",
   "metadata": {},
   "outputs": [],
   "source": [
    "import sys\n",
    "sys.path.append(\"ml\")"
   ]
  },
  {
   "cell_type": "code",
   "execution_count": 2,
   "id": "dbf0b86e",
   "metadata": {},
   "outputs": [],
   "source": [
    "import time\n",
    "import json\n",
    "import glob\n",
    "import random\n",
    "import numpy as np\n",
    "import torch\n",
    "import make_dataset2 as make_dataset"
   ]
  },
  {
   "cell_type": "code",
   "execution_count": 3,
   "id": "a38019e1",
   "metadata": {},
   "outputs": [],
   "source": [
    "random.seed(1234)"
   ]
  },
  {
   "cell_type": "code",
   "execution_count": 4,
   "id": "ca716864",
   "metadata": {},
   "outputs": [],
   "source": [
    "device = \"cpu\""
   ]
  },
  {
   "cell_type": "code",
   "execution_count": 5,
   "id": "7e8e9d4c",
   "metadata": {},
   "outputs": [],
   "source": [
    "class EWMA:\n",
    "    def __init__(self, alpha=0.02):\n",
    "        self.alpha = alpha\n",
    "        self.value = None\n",
    "\n",
    "    def apply(self, x):\n",
    "        self.value = x if self.value is None else (1 - self.alpha) * self.value + self.alpha * x"
   ]
  },
  {
   "cell_type": "code",
   "execution_count": 6,
   "id": "a1e6204b",
   "metadata": {},
   "outputs": [
    {
     "name": "stderr",
     "output_type": "stream",
     "text": [
      "100%|█████████████████████████████████████████████████████████████████████████████████████████████████████████████████████████████████████████████████| 32/32 [00:02<00:00, 14.54it/s]\n"
     ]
    },
    {
     "name": "stdout",
     "output_type": "stream",
     "text": [
      "Total games: 21132\n",
      "Total moves: 2279876\n",
      "Total storage: 21855.65333557129 MiB\n"
     ]
    },
    {
     "name": "stderr",
     "output_type": "stream",
     "text": [
      "100%|██████████████████████████████████████████████████████████████████████████████████████████████████████████████████████████████████████████| 21132/21132 [01:30<00:00, 232.44it/s]\n",
      "100%|███████████████████████████████████████████████████████████████████████████████████████████████████████████████████████████████████████████████| 30/30 [00:00<00:00, 1239.88it/s]\n"
     ]
    },
    {
     "name": "stdout",
     "output_type": "stream",
     "text": [
      "Total games: 148\n",
      "Total moves: 21997\n",
      "Total storage: 210.8705940246582 MiB\n"
     ]
    },
    {
     "name": "stderr",
     "output_type": "stream",
     "text": [
      "100%|██████████████████████████████████████████████████████████████████████████████████████████████████████████████████████████████████████████████| 148/148 [00:00<00:00, 442.97it/s]\n"
     ]
    },
    {
     "name": "stdout",
     "output_type": "stream",
     "text": [
      "(2279876, 1472) (2279876,)\n",
      "torch.Size([21997, 1472]) torch.Size([21997])\n",
      "CPU times: user 1min 29s, sys: 6.95 s, total: 1min 36s\n",
      "Wall time: 2min 19s\n"
     ]
    }
   ],
   "source": [
    "%%time\n",
    "\n",
    "def load_games(games):\n",
    "    features, policy, value = make_dataset.process_game_paths(games)\n",
    "\n",
    "    # Project down to just the duck moves\n",
    "    #is_duck_move = features[:, 14, 0, 0] == 1\n",
    "    dm_features = features#[is_duck_move]\n",
    "    dm_policy = policy#[is_duck_move]\n",
    "\n",
    "    # Our features are, in order:\n",
    "    # A Six channels for our pieces: pawns, knights, bishops, rooks, queens, kings\n",
    "    # A Six channels for their pieces.\n",
    "    # A One channel for ducks.\n",
    "    # 1 One channel that's all ones if it's white to move, zeros otherwise.\n",
    "    # 0 One channel for if it's the duck subturn.\n",
    "    # 1 Two channels for our castling rights: king side, queen side\n",
    "    # 1 Two channels for their castling rights.\n",
    "    # A One channel for an en passant square.\n",
    "    # A Pairs of (from, to) channels for the history of moves.\n",
    "    # 0 One channel of all ones.\n",
    "\n",
    "    all_layer_indices = (\n",
    "        0, 1, 2, 3,  4,  5, # Our pieces\n",
    "        6, 7, 8, 9, 10, 11, # Their pieces\n",
    "        12, # Ducks\n",
    "        14, # Is duck subturn -- too many features\n",
    "        19, # En passant\n",
    "        20, 21, 22, 23, 24, 25, 26, 27, # Past moves\n",
    "    )\n",
    "    all_layers = dm_features[:, all_layer_indices, :, :]\n",
    "\n",
    "    # Flatten features.\n",
    "    dm_features = all_layers.reshape((-1, 23 * 8 * 8))\n",
    "    # Find the move indices.\n",
    "    dm_policy = dm_policy.reshape((-1, 64 * 64)).argmax(axis=-1)\n",
    "    # Get just the destination square by taking %64.\n",
    "    dm_policy = dm_policy % 64\n",
    "    return dm_features, dm_policy\n",
    "\n",
    "dm_features, dm_policy = load_games(random.sample(glob.glob(\"games/*.json\"), 32))\n",
    "dm_val_features, dm_val_policy = load_games(glob.glob(\"val-games/*.json\"))\n",
    "dm_val_features = torch.tensor(dm_val_features, dtype=torch.float32, device=device)\n",
    "dm_val_policy = torch.tensor(dm_val_policy, dtype=torch.int64, device=device)\n",
    "\n",
    "print(dm_features.shape, dm_policy.shape)\n",
    "print(dm_val_features.shape, dm_val_policy.shape)"
   ]
  },
  {
   "cell_type": "code",
   "execution_count": 23,
   "id": "68f8a1b3",
   "metadata": {},
   "outputs": [
    {
     "name": "stdout",
     "output_type": "stream",
     "text": [
      "Parameters: 49248\n"
     ]
    }
   ],
   "source": [
    "feature_count = dm_features.shape[1]\n",
    "model = torch.nn.Sequential(\n",
    "    torch.nn.Linear(feature_count, 32),\n",
    "    torch.nn.ReLU(),\n",
    "    torch.nn.Linear(32, 64),\n",
    ").to(device)\n",
    "print(\"Parameters:\", sum(np.product(t.shape) for t in model.parameters()))"
   ]
  },
  {
   "cell_type": "code",
   "execution_count": 24,
   "id": "c8c070db",
   "metadata": {},
   "outputs": [],
   "source": [
    "cross_en = torch.nn.CrossEntropyLoss()\n",
    "optimizer = torch.optim.AdamW(model.parameters(), lr=3e-4)\n",
    "loss_ewma = EWMA()"
   ]
  },
  {
   "cell_type": "code",
   "execution_count": 25,
   "id": "64ae5051",
   "metadata": {},
   "outputs": [
    {
     "name": "stdout",
     "output_type": "stream",
     "text": [
      "(    0.0) [      0] loss = 4.1414 (val acc:   1.2%)\n",
      "(    3.1) [   2500] loss = 3.3144 (val acc:  21.1%)\n",
      "(    6.1) [   5000] loss = 3.1596 (val acc:  23.7%)\n",
      "(    9.1) [   7500] loss = 3.1124 (val acc:  25.0%)\n",
      "(   12.1) [  10000] loss = 3.0769 (val acc:  25.5%)\n",
      "(   15.2) [  12500] loss = 3.0412 (val acc:  25.6%)\n",
      "(   18.3) [  15000] loss = 3.0404 (val acc:  25.8%)\n",
      "(   21.4) [  17500] loss = 3.0351 (val acc:  26.0%)\n",
      "(   24.4) [  20000] loss = 3.0309 (val acc:  25.9%)\n",
      "(   27.4) [  22500] loss = 3.0093 (val acc:  25.9%)\n",
      "(   30.4) [  25000] loss = 3.0130 (val acc:  26.1%)\n",
      "(   33.5) [  27500] loss = 3.0053 (val acc:  26.4%)\n",
      "(   36.6) [  30000] loss = 3.0053 (val acc:  26.6%)\n",
      "(   39.6) [  32500] loss = 3.0138 (val acc:  26.5%)\n",
      "(   42.6) [  35000] loss = 3.0075 (val acc:  26.6%)\n",
      "(   45.6) [  37500] loss = 2.9886 (val acc:  26.6%)\n",
      "(   48.6) [  40000] loss = 2.9923 (val acc:  26.7%)\n",
      "(   51.6) [  42500] loss = 2.9962 (val acc:  26.9%)\n",
      "(   54.7) [  45000] loss = 2.9992 (val acc:  26.8%)\n",
      "(   57.7) [  47500] loss = 2.9903 (val acc:  26.7%)\n",
      "(   60.8) [  50000] loss = 2.9839 (val acc:  26.7%)\n",
      "(   63.7) [  52500] loss = 2.9844 (val acc:  26.8%)\n",
      "(   66.8) [  55000] loss = 2.9826 (val acc:  26.8%)\n",
      "(   69.9) [  57500] loss = 2.9892 (val acc:  26.8%)\n",
      "(   73.0) [  60000] loss = 2.9790 (val acc:  26.8%)\n",
      "(   75.9) [  62500] loss = 2.9817 (val acc:  26.8%)\n",
      "(   79.1) [  65000] loss = 2.9812 (val acc:  26.9%)\n",
      "(   82.1) [  67500] loss = 2.9942 (val acc:  26.9%)\n",
      "(   85.2) [  70000] loss = 2.9805 (val acc:  26.9%)\n",
      "(   88.2) [  72500] loss = 2.9676 (val acc:  27.1%)\n",
      "(   91.2) [  75000] loss = 2.9732 (val acc:  26.8%)\n",
      "(   94.1) [  77500] loss = 2.9840 (val acc:  27.0%)\n",
      "(   97.2) [  80000] loss = 2.9702 (val acc:  27.1%)\n",
      "(  100.2) [  82500] loss = 2.9614 (val acc:  27.1%)\n",
      "(  103.2) [  85000] loss = 2.9738 (val acc:  26.9%)\n",
      "(  106.3) [  87500] loss = 2.9808 (val acc:  26.8%)\n",
      "(  109.5) [  90000] loss = 2.9807 (val acc:  26.8%)\n",
      "(  112.8) [  92500] loss = 2.9706 (val acc:  26.8%)\n",
      "(  116.0) [  95000] loss = 2.9707 (val acc:  26.7%)\n",
      "(  119.2) [  97500] loss = 2.9647 (val acc:  27.0%)\n",
      "(  122.4) [ 100000] loss = 2.9670 (val acc:  26.9%)\n",
      "(  125.5) [ 102500] loss = 2.9669 (val acc:  26.9%)\n",
      "(  128.5) [ 105000] loss = 2.9641 (val acc:  26.8%)\n",
      "(  131.6) [ 107500] loss = 2.9613 (val acc:  26.8%)\n",
      "(  134.6) [ 110000] loss = 2.9660 (val acc:  26.9%)\n",
      "(  137.6) [ 112500] loss = 2.9603 (val acc:  27.2%)\n",
      "(  140.7) [ 115000] loss = 2.9587 (val acc:  26.9%)\n",
      "(  143.8) [ 117500] loss = 2.9597 (val acc:  26.7%)\n",
      "(  146.9) [ 120000] loss = 2.9778 (val acc:  27.1%)\n",
      "(  149.9) [ 122500] loss = 2.9625 (val acc:  26.8%)\n",
      "(  153.0) [ 125000] loss = 2.9677 (val acc:  27.1%)\n"
     ]
    },
    {
     "ename": "KeyboardInterrupt",
     "evalue": "",
     "output_type": "error",
     "traceback": [
      "\u001b[0;31m---------------------------------------------------------------------------\u001b[0m",
      "\u001b[0;31mKeyboardInterrupt\u001b[0m                         Traceback (most recent call last)",
      "Cell \u001b[0;32mIn [25], line 10\u001b[0m\n\u001b[1;32m      8\u001b[0m \u001b[38;5;28;01mfor\u001b[39;00m i \u001b[38;5;129;01min\u001b[39;00m \u001b[38;5;28mrange\u001b[39m(\u001b[38;5;241m1_000_000\u001b[39m):\n\u001b[1;32m      9\u001b[0m     optimizer\u001b[38;5;241m.\u001b[39mzero_grad()\n\u001b[0;32m---> 10\u001b[0m     features, target_policy \u001b[38;5;241m=\u001b[39m \u001b[43mmake_batch\u001b[49m\u001b[43m(\u001b[49m\u001b[38;5;241;43m512\u001b[39;49m\u001b[43m)\u001b[49m\n\u001b[1;32m     11\u001b[0m     policy_output \u001b[38;5;241m=\u001b[39m model(features)\n\u001b[1;32m     12\u001b[0m     loss \u001b[38;5;241m=\u001b[39m cross_en(policy_output, target_policy)\n",
      "Cell \u001b[0;32mIn [25], line 3\u001b[0m, in \u001b[0;36mmake_batch\u001b[0;34m(batch_size)\u001b[0m\n\u001b[1;32m      1\u001b[0m \u001b[38;5;28;01mdef\u001b[39;00m \u001b[38;5;21mmake_batch\u001b[39m(batch_size):\n\u001b[1;32m      2\u001b[0m     indices \u001b[38;5;241m=\u001b[39m np\u001b[38;5;241m.\u001b[39mrandom\u001b[38;5;241m.\u001b[39mrandint(\u001b[38;5;241m0\u001b[39m, \u001b[38;5;28mlen\u001b[39m(dm_features), size\u001b[38;5;241m=\u001b[39mbatch_size)\n\u001b[0;32m----> 3\u001b[0m     features \u001b[38;5;241m=\u001b[39m \u001b[43mtorch\u001b[49m\u001b[38;5;241;43m.\u001b[39;49m\u001b[43mtensor\u001b[49m\u001b[43m(\u001b[49m\u001b[43mdm_features\u001b[49m\u001b[43m[\u001b[49m\u001b[43mindices\u001b[49m\u001b[43m]\u001b[49m\u001b[43m,\u001b[49m\u001b[43m \u001b[49m\u001b[43mdtype\u001b[49m\u001b[38;5;241;43m=\u001b[39;49m\u001b[43mtorch\u001b[49m\u001b[38;5;241;43m.\u001b[39;49m\u001b[43mfloat32\u001b[49m\u001b[43m,\u001b[49m\u001b[43m \u001b[49m\u001b[43mdevice\u001b[49m\u001b[38;5;241;43m=\u001b[39;49m\u001b[43mdevice\u001b[49m\u001b[43m)\u001b[49m\n\u001b[1;32m      4\u001b[0m     policy \u001b[38;5;241m=\u001b[39m torch\u001b[38;5;241m.\u001b[39mtensor(dm_policy[indices], dtype\u001b[38;5;241m=\u001b[39mtorch\u001b[38;5;241m.\u001b[39mint64, device\u001b[38;5;241m=\u001b[39mdevice)\n\u001b[1;32m      5\u001b[0m     \u001b[38;5;28;01mreturn\u001b[39;00m features, policy\n",
      "\u001b[0;31mKeyboardInterrupt\u001b[0m: "
     ]
    }
   ],
   "source": [
    "def make_batch(batch_size):\n",
    "    indices = np.random.randint(0, len(dm_features), size=batch_size)\n",
    "    features = torch.tensor(dm_features[indices], dtype=torch.float32, device=device)\n",
    "    policy = torch.tensor(dm_policy[indices], dtype=torch.int64, device=device)\n",
    "    return features, policy\n",
    "\n",
    "start_time = time.time()\n",
    "for i in range(1_000_000):\n",
    "    optimizer.zero_grad()\n",
    "    features, target_policy = make_batch(512)\n",
    "    policy_output = model(features)\n",
    "    loss = cross_en(policy_output, target_policy)\n",
    "    loss.backward()\n",
    "    optimizer.step()\n",
    "    loss_ewma.apply(loss.item())\n",
    "\n",
    "    if i % 2500 == 0:\n",
    "        # Compute the accuracy.\n",
    "        outputs = model(dm_val_features)\n",
    "        correct = outputs.argmax(axis=-1) == dm_val_policy\n",
    "        accuracy = correct.mean(dtype=torch.float32).item()\n",
    "        print(\"(%7.1f) [%7i] loss = %.4f (val acc: %5.1f%%)\" % (\n",
    "            time.time() - start_time, i, loss_ewma.value, 100 * accuracy,\n",
    "        ))"
   ]
  },
  {
   "cell_type": "code",
   "execution_count": 26,
   "id": "de50b3e3",
   "metadata": {},
   "outputs": [],
   "source": [
    "torch.save(model.state_dict(), \"move_model.pt\")"
   ]
  },
  {
   "cell_type": "code",
   "execution_count": 29,
   "id": "d584062d",
   "metadata": {},
   "outputs": [
    {
     "name": "stdout",
     "output_type": "stream",
     "text": [
      "0.weight torch.Size([32, 1472])\n",
      "0.bias torch.Size([32])\n",
      "2.weight torch.Size([64, 32])\n",
      "2.bias torch.Size([64])\n"
     ]
    }
   ],
   "source": [
    "for k, v in model.state_dict().items():\n",
    "    print(k, v.shape)"
   ]
  },
  {
   "cell_type": "code",
   "execution_count": 32,
   "id": "1b9062c3",
   "metadata": {},
   "outputs": [],
   "source": [
    "W = model.state_dict()[\"0.weight\"].detach().cpu().numpy()"
   ]
  },
  {
   "cell_type": "code",
   "execution_count": 38,
   "id": "94bc035f",
   "metadata": {},
   "outputs": [
    {
     "data": {
      "image/png": "[encoded data removed]",
      "text/plain": [
       "<Figure size 640x480 with 1 Axes>"
      ]
     },
     "metadata": {},
     "output_type": "display_data"
    }
   ],
   "source": [
    "_ = plt.hist(W.flatten(), bins=100)"
   ]
  },
  {
   "cell_type": "code",
   "execution_count": 40,
   "id": "4b845cc4",
   "metadata": {},
   "outputs": [
    {
     "data": {
      "text/plain": [
       "1.8015668"
      ]
     },
     "execution_count": 40,
     "metadata": {},
     "output_type": "execute_result"
    }
   ],
   "source": [
    "np.abs(W).max()"
   ]
  },
  {
   "cell_type": "code",
   "execution_count": 57,
   "id": "6e979387",
   "metadata": {},
   "outputs": [],
   "source": [
    "Wi = (W * 1000).astype(np.int32)"
   ]
  },
  {
   "cell_type": "code",
   "execution_count": 59,
   "id": "b901650b",
   "metadata": {},
   "outputs": [
    {
     "data": {
      "text/plain": [
       "array([[   2,    7,    0, ..., -625, -385, -311],\n",
       "       [ -14,   -7,  -13, ...,  326,   56, -207],\n",
       "       [  -5,   17,  -10, ..., -622, -306, -556],\n",
       "       ...,\n",
       "       [   6,    3,  -13, ...,  -70,  -71, -163],\n",
       "       [   6,  -10,    6, ..., -414, -375, -323],\n",
       "       [  13,  -17,  -16, ..., -288,   17,  -83]], dtype=int32)"
      ]
     },
     "execution_count": 59,
     "metadata": {},
     "output_type": "execute_result"
    }
   ],
   "source": [
    "Wi"
   ]
  },
  {
   "cell_type": "markdown",
   "id": "900d4e4e",
   "metadata": {},
   "source": [
    "Performance:\n",
    "\n",
    "features -> 64                   --  29.5%\n",
    "features -> 64 -> 64             --  32.1%\n",
    "features -> 128 -> 64            --  35.7%\n",
    "features -> 128 -> 128 -> 64     --  35.9%\n",
    "features -> 1024 -> 64           --  40.8%\n",
    "features -> 48 -> 96 -> 96 -> 64 -- 31.7%\n",
    "features -> 32 -> 64             --  27.1%\n",
    "features -> 32 -> 96 -> 64       --  29.0%\n"
   ]
  }
 ],
 "metadata": {
  "kernelspec": {
   "display_name": "Python 3 (ipykernel)",
   "language": "python",
   "name": "python3"
  },
  "language_info": {
   "codemirror_mode": {
    "name": "ipython",
    "version": 3
   },
   "file_extension": ".py",
   "mimetype": "text/x-python",
   "name": "python",
   "nbconvert_exporter": "python",
   "pygments_lexer": "ipython3",
   "version": "3.10.7"
  }
 },
 "nbformat": 4,
 "nbformat_minor": 5
}
